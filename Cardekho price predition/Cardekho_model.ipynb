{
  "nbformat": 4,
  "nbformat_minor": 0,
  "metadata": {
    "colab": {
      "provenance": []
    },
    "kernelspec": {
      "name": "python3",
      "display_name": "Python 3"
    },
    "language_info": {
      "name": "python"
    }
  },
  "cells": [
    {
      "cell_type": "markdown",
      "source": [
        "# Import Library"
      ],
      "metadata": {
        "id": "POcA1DfJJfQR"
      }
    },
    {
      "cell_type": "code",
      "source": [
        "import math\n",
        "import os\n",
        "import gc\n",
        "import random\n",
        "import pprint\n",
        "import numpy as np               # For linear algebra\n",
        "import pandas as pd              # For data manipulation\n",
        "import matplotlib.pyplot as plt  # For 2D visualization\n",
        "import seaborn as sns\n",
        "\n",
        "# Warning Libraries \n",
        "import warnings\n",
        "warnings.filterwarnings(\"ignore\")\n",
        "# warnings.simplefilter(action='ignore', category=FutureWarning)\n",
        "\n",
        "from collections import Counter\n",
        "from scipy import stats                         # For statistics\n",
        "from scipy.stats.contingency import association # upgrade scipy to use this to calculate Cramer's V\n",
        "\n",
        "\"\"\"Plotly visualization\"\"\"\n",
        "import plotly.graph_objs as go\n",
        "import plotly.express as px\n",
        "import plotly.io as pio\n",
        "from plotly.subplots import make_subplots\n",
        "from plotly.offline import init_notebook_mode, iplot\n",
        "  \n",
        "\n",
        "\n",
        "from sklearn.preprocessing import OrdinalEncoder, OneHotEncoder, LabelEncoder, StandardScaler, MinMaxScaler, RobustScaler, MaxAbsScaler\n",
        "from sklearn.preprocessing import PowerTransformer # convert to Gaussian-like data\n",
        "from sklearn.feature_selection import SelectKBest, f_classif, chi2\n",
        "\n",
        "from sklearn.model_selection import StratifiedShuffleSplit, StratifiedKFold, RepeatedStratifiedKFold, train_test_split, cross_val_score\n",
        "from sklearn.pipeline import Pipeline, make_pipeline\n",
        "\n",
        "from imblearn.over_sampling import SMOTE\n",
        "from imblearn.under_sampling import RandomUnderSampler\n",
        "\n",
        "# Algorithms\n",
        "from sklearn.ensemble import StackingClassifier, RandomForestClassifier, ExtraTreesClassifier\n",
        "from sklearn.linear_model import LogisticRegression\n",
        "from sklearn.neighbors import KNeighborsClassifier\n",
        "from sklearn.svm import SVC\n",
        "\n",
        "\n",
        "from xgboost  import XGBClassifier\n",
        "\n",
        "from lightgbm  import LGBMClassifier\n",
        "\n",
        "\n",
        "import multiprocessing\n",
        "import pickle, joblib\n",
        "from sklearn.metrics import matthews_corrcoef, roc_auc_score, precision_recall_curve, confusion_matrix, classification_report, roc_curve, auc\n",
        "\n",
        "from sklearn.utils import resample\n",
        "from IPython.display import Markdown, display\n",
        "\n",
        "# utility function to print markdown string\n",
        "def printmd(string):\n",
        "    display(Markdown(string))\n",
        "\n",
        "     "
      ],
      "metadata": {
        "id": "Bgb0b2FxCncN"
      },
      "execution_count": 149,
      "outputs": []
    },
    {
      "cell_type": "code",
      "source": [
        "pip install catboost"
      ],
      "metadata": {
        "colab": {
          "base_uri": "https://localhost:8080/"
        },
        "id": "0RrLygWbvDFW",
        "outputId": "32efa80d-6372-4fb0-88cb-07ab2a83813e"
      },
      "execution_count": 150,
      "outputs": [
        {
          "output_type": "stream",
          "name": "stdout",
          "text": [
            "Looking in indexes: https://pypi.org/simple, https://us-python.pkg.dev/colab-wheels/public/simple/\n",
            "Requirement already satisfied: catboost in /usr/local/lib/python3.8/dist-packages (1.1.1)\n",
            "Requirement already satisfied: pandas>=0.24.0 in /usr/local/lib/python3.8/dist-packages (from catboost) (1.3.5)\n",
            "Requirement already satisfied: matplotlib in /usr/local/lib/python3.8/dist-packages (from catboost) (3.2.2)\n",
            "Requirement already satisfied: scipy in /usr/local/lib/python3.8/dist-packages (from catboost) (1.7.3)\n",
            "Requirement already satisfied: graphviz in /usr/local/lib/python3.8/dist-packages (from catboost) (0.10.1)\n",
            "Requirement already satisfied: plotly in /usr/local/lib/python3.8/dist-packages (from catboost) (5.5.0)\n",
            "Requirement already satisfied: numpy>=1.16.0 in /usr/local/lib/python3.8/dist-packages (from catboost) (1.21.6)\n",
            "Requirement already satisfied: six in /usr/local/lib/python3.8/dist-packages (from catboost) (1.15.0)\n",
            "Requirement already satisfied: python-dateutil>=2.7.3 in /usr/local/lib/python3.8/dist-packages (from pandas>=0.24.0->catboost) (2.8.2)\n",
            "Requirement already satisfied: pytz>=2017.3 in /usr/local/lib/python3.8/dist-packages (from pandas>=0.24.0->catboost) (2022.7)\n",
            "Requirement already satisfied: pyparsing!=2.0.4,!=2.1.2,!=2.1.6,>=2.0.1 in /usr/local/lib/python3.8/dist-packages (from matplotlib->catboost) (3.0.9)\n",
            "Requirement already satisfied: cycler>=0.10 in /usr/local/lib/python3.8/dist-packages (from matplotlib->catboost) (0.11.0)\n",
            "Requirement already satisfied: kiwisolver>=1.0.1 in /usr/local/lib/python3.8/dist-packages (from matplotlib->catboost) (1.4.4)\n",
            "Requirement already satisfied: tenacity>=6.2.0 in /usr/local/lib/python3.8/dist-packages (from plotly->catboost) (8.1.0)\n"
          ]
        }
      ]
    },
    {
      "cell_type": "code",
      "source": [
        "import sklearn\n",
        "from sklearn.model_selection import train_test_split, GridSearchCV\n",
        "from sklearn.preprocessing import StandardScaler\n",
        "from sklearn.decomposition import PCA\n",
        "from sklearn.svm import SVC\n",
        "from sklearn.tree import DecisionTreeClassifier\n",
        "from sklearn.ensemble import RandomForestClassifier, BaggingClassifier, ExtraTreesClassifier,GradientBoostingClassifier\n",
        "from xgboost import XGBClassifier\n",
        "from sklearn.linear_model import LogisticRegression\n",
        "from sklearn.metrics import accuracy_score, precision_score, recall_score, roc_auc_score\n",
        "### To be able to see maximum columns on screen"
      ],
      "metadata": {
        "id": "jMwwKa5odm5J"
      },
      "execution_count": 151,
      "outputs": []
    },
    {
      "cell_type": "code",
      "source": [
        "from sklearn.model_selection import train_test_split\n",
        "from sklearn.compose import ColumnTransformer\n",
        "from sklearn.impute import SimpleImputer\n",
        "from sklearn.preprocessing import OneHotEncoder\n",
        "from sklearn.preprocessing import StandardScaler\n",
        "\n",
        "from sklearn.pipeline import Pipeline,make_pipeline\n",
        "from sklearn.feature_selection import SelectKBest,chi2\n",
        "from sklearn.tree import DecisionTreeClassifier\n",
        "from sklearn.ensemble import RandomForestClassifier\n",
        "from sklearn.naive_bayes import GaussianNB, BernoulliNB, MultinomialNB\n",
        "from sklearn.tree import DecisionTreeClassifier\n",
        "from sklearn.ensemble import AdaBoostClassifier\n",
        "from xgboost import XGBClassifier\n",
        "from sklearn.svm import SVC\n",
        "from sklearn.neighbors import KNeighborsClassifier\n",
        "\n",
        "\n",
        "from sklearn.impute import SimpleImputer\n",
        "from sklearn.preprocessing import OneHotEncoder\n",
        "from sklearn.preprocessing import OrdinalEncoder"
      ],
      "metadata": {
        "id": "N_H_pPuUdAwm"
      },
      "execution_count": 152,
      "outputs": []
    },
    {
      "cell_type": "code",
      "source": [
        "\n",
        "from sklearn.model_selection import train_test_split\n",
        "from sklearn.compose import ColumnTransformer\n",
        "from sklearn.impute import SimpleImputer\n",
        "from sklearn.preprocessing import OneHotEncoder\n",
        "from sklearn.preprocessing import StandardScaler\n",
        "\n",
        "from sklearn.pipeline import Pipeline,make_pipeline\n",
        "from sklearn.feature_selection import SelectKBest,chi2\n",
        "from sklearn.tree import DecisionTreeClassifier\n",
        "from sklearn.ensemble import RandomForestClassifier\n",
        "from sklearn.naive_bayes import GaussianNB, BernoulliNB, MultinomialNB\n",
        "from sklearn.tree import DecisionTreeClassifier\n",
        "from sklearn.ensemble import AdaBoostClassifier\n",
        "from xgboost import XGBClassifier\n",
        "from sklearn.svm import SVC\n",
        "from sklearn.neighbors import KNeighborsClassifier\n",
        "\n",
        "\n",
        "\n",
        "import numpy as np\n",
        "import pandas as pd\n",
        "from sklearn.impute import SimpleImputer\n",
        "from sklearn.preprocessing import OneHotEncoder\n",
        "from sklearn.preprocessing import OrdinalEncoder"
      ],
      "metadata": {
        "id": "Ymk76qZ1Dkee"
      },
      "execution_count": 153,
      "outputs": []
    },
    {
      "cell_type": "code",
      "source": [
        "# import train-test split \n",
        "from sklearn.model_selection import train_test_split\n",
        "\n",
        "# import various functions from statsmodel to perform linear regression\n",
        "import statsmodels\n",
        "import statsmodels.api as sm\n",
        "import statsmodels.stats.api as sms\n",
        "\n",
        "from statsmodels.compat import lzip\n",
        "from statsmodels.stats.outliers_influence import variance_inflation_factor\n",
        "from statsmodels.graphics.gofplots import qqplot\n",
        "from statsmodels.stats.anova import anova_lm\n",
        "from statsmodels.formula.api import ols\n",
        "from statsmodels.tools.eval_measures import rmse\n",
        "\n",
        "# import various functions from scipy\n",
        "from scipy import stats\n",
        "from scipy.stats import shapiro\n",
        "\n",
        "# 'metrics' from sklearn is used for evaluating the model performance\n",
        "from sklearn.metrics import mean_absolute_error\n",
        "from sklearn.metrics import mean_squared_error\n",
        "\n",
        "\n",
        "import math\n",
        "import os\n",
        "import gc\n",
        "import random\n",
        "import pprint\n",
        "import numpy as np               # For linear algebra\n",
        "import pandas as pd              # For data manipulation\n",
        "import matplotlib.pyplot as plt  # For 2D visualization\n",
        "import seaborn as sns\n",
        "\n",
        "# Warning Libraries \n",
        "import warnings\n",
        "warnings.filterwarnings(\"ignore\")\n",
        "# warnings.simplefilter(action='ignore', category=FutureWarning)\n",
        "\n",
        "from collections import Counter\n",
        "from scipy import stats                         # For statistics\n",
        "\n",
        "\n",
        "\"\"\"Plotly visualization\"\"\"\n",
        "import plotly.graph_objs as go\n",
        "import plotly.express as px\n",
        "import plotly.io as pio\n",
        "from plotly.subplots import make_subplots\n",
        "from plotly.offline import init_notebook_mode, iplot\n",
        "  \n",
        "\n",
        "\n",
        "from sklearn.preprocessing import OrdinalEncoder, OneHotEncoder, LabelEncoder, StandardScaler, MinMaxScaler, RobustScaler, MaxAbsScaler\n",
        "from sklearn.preprocessing import PowerTransformer \n",
        "from sklearn.feature_selection import SelectKBest, f_classif, chi2\n",
        "\n",
        "from sklearn.model_selection import StratifiedShuffleSplit, StratifiedKFold, RepeatedStratifiedKFold, train_test_split, cross_val_score\n",
        "from sklearn.pipeline import Pipeline, make_pipeline\n",
        "\n",
        "from imblearn.over_sampling import SMOTE\n",
        "from imblearn.under_sampling import RandomUnderSampler\n",
        "\n",
        "# Algorithms\n",
        "from sklearn.ensemble import StackingClassifier, RandomForestClassifier, ExtraTreesClassifier\n",
        "from sklearn.linear_model import LogisticRegression\n",
        "from sklearn.neighbors import KNeighborsClassifier\n",
        "from sklearn.svm import SVC\n",
        "\n",
        "\n",
        "from xgboost  import XGBClassifier\n",
        "\n",
        "from lightgbm  import LGBMClassifier\n",
        "\n",
        "\n",
        "import multiprocessing\n",
        "import pickle, joblib\n",
        "from sklearn.metrics import matthews_corrcoef, roc_auc_score, precision_recall_curve, confusion_matrix, classification_report, roc_curve, auc\n",
        "\n",
        "from sklearn.utils import resample\n",
        "from IPython.display import Markdown, display\n",
        "\n",
        "# utility function to print markdown string\n",
        "def printmd(string):\n",
        "    display(Markdown(string))\n",
        "\n",
        "     \n",
        "import sklearn\n",
        "from sklearn.model_selection import train_test_split, GridSearchCV\n",
        "from sklearn.preprocessing import StandardScaler\n",
        "from sklearn.decomposition import PCA\n",
        "from sklearn.svm import SVC\n",
        "from sklearn.tree import DecisionTreeClassifier\n",
        "from sklearn.ensemble import RandomForestClassifier, BaggingClassifier, ExtraTreesClassifier,GradientBoostingClassifier\n",
        "from xgboost import XGBClassifier\n",
        "from sklearn.linear_model import LogisticRegression\n",
        "from sklearn.metrics import accuracy_score, precision_score, recall_score, roc_auc_score\n",
        "### To be able to see maximum columns on screen\n",
        "from sklearn.model_selection import train_test_split\n",
        "from sklearn.compose import ColumnTransformer\n",
        "from sklearn.impute import SimpleImputer\n",
        "from sklearn.preprocessing import OneHotEncoder\n",
        "from sklearn.preprocessing import StandardScaler\n",
        "\n",
        "from sklearn.pipeline import Pipeline,make_pipeline\n",
        "from sklearn.feature_selection import SelectKBest,chi2\n",
        "from sklearn.tree import DecisionTreeClassifier\n",
        "from sklearn.ensemble import RandomForestClassifier\n",
        "from sklearn.naive_bayes import GaussianNB, BernoulliNB, MultinomialNB\n",
        "from sklearn.tree import DecisionTreeClassifier\n",
        "from sklearn.ensemble import AdaBoostClassifier\n",
        "from xgboost import XGBClassifier\n",
        "from sklearn.svm import SVC\n",
        "from sklearn.neighbors import KNeighborsClassifier\n",
        "\n",
        "\n",
        "from sklearn.impute import SimpleImputer\n",
        "from sklearn.preprocessing import OneHotEncoder\n",
        "from sklearn.preprocessing import OrdinalEncoder\n",
        "from sklearn.model_selection import train_test_split\n",
        "from sklearn.compose import ColumnTransformer\n",
        "from sklearn.impute import SimpleImputer\n",
        "from sklearn.preprocessing import OneHotEncoder\n",
        "from sklearn.preprocessing import StandardScaler\n",
        "\n",
        "from sklearn.pipeline import Pipeline,make_pipeline\n",
        "from sklearn.feature_selection import SelectKBest,chi2\n",
        "from sklearn.tree import DecisionTreeClassifier\n",
        "from sklearn.ensemble import RandomForestClassifier\n",
        "from sklearn.naive_bayes import GaussianNB, BernoulliNB, MultinomialNB\n",
        "from sklearn.tree import DecisionTreeClassifier\n",
        "from sklearn.ensemble import AdaBoostClassifier\n",
        "from xgboost import XGBClassifier\n",
        "from sklearn.svm import SVC\n",
        "from sklearn.neighbors import KNeighborsClassifier\n",
        "\n",
        "\n",
        "\n",
        "import numpy as np\n",
        "import pandas as pd\n",
        "from sklearn.impute import SimpleImputer\n",
        "from sklearn.preprocessing import OneHotEncoder\n",
        "from sklearn.preprocessing import OrdinalEncoder\n",
        "\n",
        "### Pandas and Numpy\n",
        "import pandas as pd\n",
        "import numpy as np\n",
        "\n",
        "### Visualisation libraries\n",
        "import seaborn as sns\n",
        "import matplotlib.pyplot as plt\n",
        "%matplotlib inline\n",
        "\n",
        "### For Q-Q Plot\n",
        "import scipy.stats as stats\n",
        "\n",
        "### To ignore warnings\n",
        "import warnings\n",
        "warnings.filterwarnings('ignore')\n",
        "\n",
        "### Machine Learning libraries\n",
        "import sklearn\n",
        "from sklearn.model_selection import train_test_split, GridSearchCV\n",
        "from sklearn.preprocessing import StandardScaler\n",
        "from sklearn.preprocessing import OneHotEncoder, StandardScaler\n",
        "\n",
        "from sklearn.compose import ColumnTransformer\n",
        "from sklearn.svm import SVR\n",
        "from sklearn.tree import DecisionTreeRegressor\n",
        "from sklearn.ensemble import RandomForestRegressor, BaggingRegressor, ExtraTreesRegressor, VotingRegressor, AdaBoostRegressor, GradientBoostingRegressor\n",
        "from xgboost import XGBRegressor\n",
        "from sklearn.linear_model import LinearRegression, Lasso, Ridge, ElasticNet\n",
        "from sklearn.metrics import r2_score, mean_absolute_error,mean_squared_error \n",
        "\n",
        "### To be able to see maximum columns on screen\n",
        "pd.set_option('display.max_columns', 500)"
      ],
      "metadata": {
        "id": "05P67bohW6of"
      },
      "execution_count": 154,
      "outputs": []
    },
    {
      "cell_type": "markdown",
      "source": [
        "# **Dataset import**"
      ],
      "metadata": {
        "id": "FxtbEmcTKDTm"
      }
    },
    {
      "cell_type": "code",
      "source": [
        "\n",
        "df = pd.read_csv('https://raw.githubusercontent.com/Shubham3023/Machine_Learning/main/Linear%20Reg%2C%20SVR%2C%20DTR%20and%20RFR%20for%20CarDekho%20dataset/cardekho_dataset.csv')\n",
        "df.head()"
      ],
      "metadata": {
        "colab": {
          "base_uri": "https://localhost:8080/",
          "height": 206
        },
        "id": "yASrKlwBDHfE",
        "outputId": "11469fe7-ec41-4953-9ffe-8084ff20e849"
      },
      "execution_count": 155,
      "outputs": [
        {
          "output_type": "execute_result",
          "data": {
            "text/plain": [
              "   Unnamed: 0       car_name    brand     model  vehicle_age  km_driven  \\\n",
              "0           0    Maruti Alto   Maruti      Alto            9     120000   \n",
              "1           1  Hyundai Grand  Hyundai     Grand            5      20000   \n",
              "2           2    Hyundai i20  Hyundai       i20           11      60000   \n",
              "3           3    Maruti Alto   Maruti      Alto            9      37000   \n",
              "4           4  Ford Ecosport     Ford  Ecosport            6      30000   \n",
              "\n",
              "  seller_type fuel_type transmission_type  mileage  engine  max_power  seats  \\\n",
              "0  Individual    Petrol            Manual    19.70     796      46.30      5   \n",
              "1  Individual    Petrol            Manual    18.90    1197      82.00      5   \n",
              "2  Individual    Petrol            Manual    17.00    1197      80.00      5   \n",
              "3  Individual    Petrol            Manual    20.92     998      67.10      5   \n",
              "4      Dealer    Diesel            Manual    22.77    1498      98.59      5   \n",
              "\n",
              "   selling_price  \n",
              "0         120000  \n",
              "1         550000  \n",
              "2         215000  \n",
              "3         226000  \n",
              "4         570000  "
            ],
            "text/html": [
              "\n",
              "  <div id=\"df-e69f78b6-a4a6-4f7f-988d-edef40bbfd00\">\n",
              "    <div class=\"colab-df-container\">\n",
              "      <div>\n",
              "<style scoped>\n",
              "    .dataframe tbody tr th:only-of-type {\n",
              "        vertical-align: middle;\n",
              "    }\n",
              "\n",
              "    .dataframe tbody tr th {\n",
              "        vertical-align: top;\n",
              "    }\n",
              "\n",
              "    .dataframe thead th {\n",
              "        text-align: right;\n",
              "    }\n",
              "</style>\n",
              "<table border=\"1\" class=\"dataframe\">\n",
              "  <thead>\n",
              "    <tr style=\"text-align: right;\">\n",
              "      <th></th>\n",
              "      <th>Unnamed: 0</th>\n",
              "      <th>car_name</th>\n",
              "      <th>brand</th>\n",
              "      <th>model</th>\n",
              "      <th>vehicle_age</th>\n",
              "      <th>km_driven</th>\n",
              "      <th>seller_type</th>\n",
              "      <th>fuel_type</th>\n",
              "      <th>transmission_type</th>\n",
              "      <th>mileage</th>\n",
              "      <th>engine</th>\n",
              "      <th>max_power</th>\n",
              "      <th>seats</th>\n",
              "      <th>selling_price</th>\n",
              "    </tr>\n",
              "  </thead>\n",
              "  <tbody>\n",
              "    <tr>\n",
              "      <th>0</th>\n",
              "      <td>0</td>\n",
              "      <td>Maruti Alto</td>\n",
              "      <td>Maruti</td>\n",
              "      <td>Alto</td>\n",
              "      <td>9</td>\n",
              "      <td>120000</td>\n",
              "      <td>Individual</td>\n",
              "      <td>Petrol</td>\n",
              "      <td>Manual</td>\n",
              "      <td>19.70</td>\n",
              "      <td>796</td>\n",
              "      <td>46.30</td>\n",
              "      <td>5</td>\n",
              "      <td>120000</td>\n",
              "    </tr>\n",
              "    <tr>\n",
              "      <th>1</th>\n",
              "      <td>1</td>\n",
              "      <td>Hyundai Grand</td>\n",
              "      <td>Hyundai</td>\n",
              "      <td>Grand</td>\n",
              "      <td>5</td>\n",
              "      <td>20000</td>\n",
              "      <td>Individual</td>\n",
              "      <td>Petrol</td>\n",
              "      <td>Manual</td>\n",
              "      <td>18.90</td>\n",
              "      <td>1197</td>\n",
              "      <td>82.00</td>\n",
              "      <td>5</td>\n",
              "      <td>550000</td>\n",
              "    </tr>\n",
              "    <tr>\n",
              "      <th>2</th>\n",
              "      <td>2</td>\n",
              "      <td>Hyundai i20</td>\n",
              "      <td>Hyundai</td>\n",
              "      <td>i20</td>\n",
              "      <td>11</td>\n",
              "      <td>60000</td>\n",
              "      <td>Individual</td>\n",
              "      <td>Petrol</td>\n",
              "      <td>Manual</td>\n",
              "      <td>17.00</td>\n",
              "      <td>1197</td>\n",
              "      <td>80.00</td>\n",
              "      <td>5</td>\n",
              "      <td>215000</td>\n",
              "    </tr>\n",
              "    <tr>\n",
              "      <th>3</th>\n",
              "      <td>3</td>\n",
              "      <td>Maruti Alto</td>\n",
              "      <td>Maruti</td>\n",
              "      <td>Alto</td>\n",
              "      <td>9</td>\n",
              "      <td>37000</td>\n",
              "      <td>Individual</td>\n",
              "      <td>Petrol</td>\n",
              "      <td>Manual</td>\n",
              "      <td>20.92</td>\n",
              "      <td>998</td>\n",
              "      <td>67.10</td>\n",
              "      <td>5</td>\n",
              "      <td>226000</td>\n",
              "    </tr>\n",
              "    <tr>\n",
              "      <th>4</th>\n",
              "      <td>4</td>\n",
              "      <td>Ford Ecosport</td>\n",
              "      <td>Ford</td>\n",
              "      <td>Ecosport</td>\n",
              "      <td>6</td>\n",
              "      <td>30000</td>\n",
              "      <td>Dealer</td>\n",
              "      <td>Diesel</td>\n",
              "      <td>Manual</td>\n",
              "      <td>22.77</td>\n",
              "      <td>1498</td>\n",
              "      <td>98.59</td>\n",
              "      <td>5</td>\n",
              "      <td>570000</td>\n",
              "    </tr>\n",
              "  </tbody>\n",
              "</table>\n",
              "</div>\n",
              "      <button class=\"colab-df-convert\" onclick=\"convertToInteractive('df-e69f78b6-a4a6-4f7f-988d-edef40bbfd00')\"\n",
              "              title=\"Convert this dataframe to an interactive table.\"\n",
              "              style=\"display:none;\">\n",
              "        \n",
              "  <svg xmlns=\"http://www.w3.org/2000/svg\" height=\"24px\"viewBox=\"0 0 24 24\"\n",
              "       width=\"24px\">\n",
              "    <path d=\"M0 0h24v24H0V0z\" fill=\"none\"/>\n",
              "    <path d=\"M18.56 5.44l.94 2.06.94-2.06 2.06-.94-2.06-.94-.94-2.06-.94 2.06-2.06.94zm-11 1L8.5 8.5l.94-2.06 2.06-.94-2.06-.94L8.5 2.5l-.94 2.06-2.06.94zm10 10l.94 2.06.94-2.06 2.06-.94-2.06-.94-.94-2.06-.94 2.06-2.06.94z\"/><path d=\"M17.41 7.96l-1.37-1.37c-.4-.4-.92-.59-1.43-.59-.52 0-1.04.2-1.43.59L10.3 9.45l-7.72 7.72c-.78.78-.78 2.05 0 2.83L4 21.41c.39.39.9.59 1.41.59.51 0 1.02-.2 1.41-.59l7.78-7.78 2.81-2.81c.8-.78.8-2.07 0-2.86zM5.41 20L4 18.59l7.72-7.72 1.47 1.35L5.41 20z\"/>\n",
              "  </svg>\n",
              "      </button>\n",
              "      \n",
              "  <style>\n",
              "    .colab-df-container {\n",
              "      display:flex;\n",
              "      flex-wrap:wrap;\n",
              "      gap: 12px;\n",
              "    }\n",
              "\n",
              "    .colab-df-convert {\n",
              "      background-color: #E8F0FE;\n",
              "      border: none;\n",
              "      border-radius: 50%;\n",
              "      cursor: pointer;\n",
              "      display: none;\n",
              "      fill: #1967D2;\n",
              "      height: 32px;\n",
              "      padding: 0 0 0 0;\n",
              "      width: 32px;\n",
              "    }\n",
              "\n",
              "    .colab-df-convert:hover {\n",
              "      background-color: #E2EBFA;\n",
              "      box-shadow: 0px 1px 2px rgba(60, 64, 67, 0.3), 0px 1px 3px 1px rgba(60, 64, 67, 0.15);\n",
              "      fill: #174EA6;\n",
              "    }\n",
              "\n",
              "    [theme=dark] .colab-df-convert {\n",
              "      background-color: #3B4455;\n",
              "      fill: #D2E3FC;\n",
              "    }\n",
              "\n",
              "    [theme=dark] .colab-df-convert:hover {\n",
              "      background-color: #434B5C;\n",
              "      box-shadow: 0px 1px 3px 1px rgba(0, 0, 0, 0.15);\n",
              "      filter: drop-shadow(0px 1px 2px rgba(0, 0, 0, 0.3));\n",
              "      fill: #FFFFFF;\n",
              "    }\n",
              "  </style>\n",
              "\n",
              "      <script>\n",
              "        const buttonEl =\n",
              "          document.querySelector('#df-e69f78b6-a4a6-4f7f-988d-edef40bbfd00 button.colab-df-convert');\n",
              "        buttonEl.style.display =\n",
              "          google.colab.kernel.accessAllowed ? 'block' : 'none';\n",
              "\n",
              "        async function convertToInteractive(key) {\n",
              "          const element = document.querySelector('#df-e69f78b6-a4a6-4f7f-988d-edef40bbfd00');\n",
              "          const dataTable =\n",
              "            await google.colab.kernel.invokeFunction('convertToInteractive',\n",
              "                                                     [key], {});\n",
              "          if (!dataTable) return;\n",
              "\n",
              "          const docLinkHtml = 'Like what you see? Visit the ' +\n",
              "            '<a target=\"_blank\" href=https://colab.research.google.com/notebooks/data_table.ipynb>data table notebook</a>'\n",
              "            + ' to learn more about interactive tables.';\n",
              "          element.innerHTML = '';\n",
              "          dataTable['output_type'] = 'display_data';\n",
              "          await google.colab.output.renderOutput(dataTable, element);\n",
              "          const docLink = document.createElement('div');\n",
              "          docLink.innerHTML = docLinkHtml;\n",
              "          element.appendChild(docLink);\n",
              "        }\n",
              "      </script>\n",
              "    </div>\n",
              "  </div>\n",
              "  "
            ]
          },
          "metadata": {},
          "execution_count": 155
        }
      ]
    },
    {
      "cell_type": "markdown",
      "source": [
        "# Data understanding"
      ],
      "metadata": {
        "id": "1YOefIZ9LG-_"
      }
    },
    {
      "cell_type": "markdown",
      "source": [
        "### Head"
      ],
      "metadata": {
        "id": "Zgxpz-9rLMKR"
      }
    },
    {
      "cell_type": "code",
      "source": [
        "df.head()"
      ],
      "metadata": {
        "colab": {
          "base_uri": "https://localhost:8080/",
          "height": 206
        },
        "id": "1hIulBFRDKu-",
        "outputId": "02c5eb01-b6e9-4b1b-d7c7-1b68d2b0a696"
      },
      "execution_count": 156,
      "outputs": [
        {
          "output_type": "execute_result",
          "data": {
            "text/plain": [
              "   Unnamed: 0       car_name    brand     model  vehicle_age  km_driven  \\\n",
              "0           0    Maruti Alto   Maruti      Alto            9     120000   \n",
              "1           1  Hyundai Grand  Hyundai     Grand            5      20000   \n",
              "2           2    Hyundai i20  Hyundai       i20           11      60000   \n",
              "3           3    Maruti Alto   Maruti      Alto            9      37000   \n",
              "4           4  Ford Ecosport     Ford  Ecosport            6      30000   \n",
              "\n",
              "  seller_type fuel_type transmission_type  mileage  engine  max_power  seats  \\\n",
              "0  Individual    Petrol            Manual    19.70     796      46.30      5   \n",
              "1  Individual    Petrol            Manual    18.90    1197      82.00      5   \n",
              "2  Individual    Petrol            Manual    17.00    1197      80.00      5   \n",
              "3  Individual    Petrol            Manual    20.92     998      67.10      5   \n",
              "4      Dealer    Diesel            Manual    22.77    1498      98.59      5   \n",
              "\n",
              "   selling_price  \n",
              "0         120000  \n",
              "1         550000  \n",
              "2         215000  \n",
              "3         226000  \n",
              "4         570000  "
            ],
            "text/html": [
              "\n",
              "  <div id=\"df-9e667261-cd42-4c91-ab88-f4c461e77b4f\">\n",
              "    <div class=\"colab-df-container\">\n",
              "      <div>\n",
              "<style scoped>\n",
              "    .dataframe tbody tr th:only-of-type {\n",
              "        vertical-align: middle;\n",
              "    }\n",
              "\n",
              "    .dataframe tbody tr th {\n",
              "        vertical-align: top;\n",
              "    }\n",
              "\n",
              "    .dataframe thead th {\n",
              "        text-align: right;\n",
              "    }\n",
              "</style>\n",
              "<table border=\"1\" class=\"dataframe\">\n",
              "  <thead>\n",
              "    <tr style=\"text-align: right;\">\n",
              "      <th></th>\n",
              "      <th>Unnamed: 0</th>\n",
              "      <th>car_name</th>\n",
              "      <th>brand</th>\n",
              "      <th>model</th>\n",
              "      <th>vehicle_age</th>\n",
              "      <th>km_driven</th>\n",
              "      <th>seller_type</th>\n",
              "      <th>fuel_type</th>\n",
              "      <th>transmission_type</th>\n",
              "      <th>mileage</th>\n",
              "      <th>engine</th>\n",
              "      <th>max_power</th>\n",
              "      <th>seats</th>\n",
              "      <th>selling_price</th>\n",
              "    </tr>\n",
              "  </thead>\n",
              "  <tbody>\n",
              "    <tr>\n",
              "      <th>0</th>\n",
              "      <td>0</td>\n",
              "      <td>Maruti Alto</td>\n",
              "      <td>Maruti</td>\n",
              "      <td>Alto</td>\n",
              "      <td>9</td>\n",
              "      <td>120000</td>\n",
              "      <td>Individual</td>\n",
              "      <td>Petrol</td>\n",
              "      <td>Manual</td>\n",
              "      <td>19.70</td>\n",
              "      <td>796</td>\n",
              "      <td>46.30</td>\n",
              "      <td>5</td>\n",
              "      <td>120000</td>\n",
              "    </tr>\n",
              "    <tr>\n",
              "      <th>1</th>\n",
              "      <td>1</td>\n",
              "      <td>Hyundai Grand</td>\n",
              "      <td>Hyundai</td>\n",
              "      <td>Grand</td>\n",
              "      <td>5</td>\n",
              "      <td>20000</td>\n",
              "      <td>Individual</td>\n",
              "      <td>Petrol</td>\n",
              "      <td>Manual</td>\n",
              "      <td>18.90</td>\n",
              "      <td>1197</td>\n",
              "      <td>82.00</td>\n",
              "      <td>5</td>\n",
              "      <td>550000</td>\n",
              "    </tr>\n",
              "    <tr>\n",
              "      <th>2</th>\n",
              "      <td>2</td>\n",
              "      <td>Hyundai i20</td>\n",
              "      <td>Hyundai</td>\n",
              "      <td>i20</td>\n",
              "      <td>11</td>\n",
              "      <td>60000</td>\n",
              "      <td>Individual</td>\n",
              "      <td>Petrol</td>\n",
              "      <td>Manual</td>\n",
              "      <td>17.00</td>\n",
              "      <td>1197</td>\n",
              "      <td>80.00</td>\n",
              "      <td>5</td>\n",
              "      <td>215000</td>\n",
              "    </tr>\n",
              "    <tr>\n",
              "      <th>3</th>\n",
              "      <td>3</td>\n",
              "      <td>Maruti Alto</td>\n",
              "      <td>Maruti</td>\n",
              "      <td>Alto</td>\n",
              "      <td>9</td>\n",
              "      <td>37000</td>\n",
              "      <td>Individual</td>\n",
              "      <td>Petrol</td>\n",
              "      <td>Manual</td>\n",
              "      <td>20.92</td>\n",
              "      <td>998</td>\n",
              "      <td>67.10</td>\n",
              "      <td>5</td>\n",
              "      <td>226000</td>\n",
              "    </tr>\n",
              "    <tr>\n",
              "      <th>4</th>\n",
              "      <td>4</td>\n",
              "      <td>Ford Ecosport</td>\n",
              "      <td>Ford</td>\n",
              "      <td>Ecosport</td>\n",
              "      <td>6</td>\n",
              "      <td>30000</td>\n",
              "      <td>Dealer</td>\n",
              "      <td>Diesel</td>\n",
              "      <td>Manual</td>\n",
              "      <td>22.77</td>\n",
              "      <td>1498</td>\n",
              "      <td>98.59</td>\n",
              "      <td>5</td>\n",
              "      <td>570000</td>\n",
              "    </tr>\n",
              "  </tbody>\n",
              "</table>\n",
              "</div>\n",
              "      <button class=\"colab-df-convert\" onclick=\"convertToInteractive('df-9e667261-cd42-4c91-ab88-f4c461e77b4f')\"\n",
              "              title=\"Convert this dataframe to an interactive table.\"\n",
              "              style=\"display:none;\">\n",
              "        \n",
              "  <svg xmlns=\"http://www.w3.org/2000/svg\" height=\"24px\"viewBox=\"0 0 24 24\"\n",
              "       width=\"24px\">\n",
              "    <path d=\"M0 0h24v24H0V0z\" fill=\"none\"/>\n",
              "    <path d=\"M18.56 5.44l.94 2.06.94-2.06 2.06-.94-2.06-.94-.94-2.06-.94 2.06-2.06.94zm-11 1L8.5 8.5l.94-2.06 2.06-.94-2.06-.94L8.5 2.5l-.94 2.06-2.06.94zm10 10l.94 2.06.94-2.06 2.06-.94-2.06-.94-.94-2.06-.94 2.06-2.06.94z\"/><path d=\"M17.41 7.96l-1.37-1.37c-.4-.4-.92-.59-1.43-.59-.52 0-1.04.2-1.43.59L10.3 9.45l-7.72 7.72c-.78.78-.78 2.05 0 2.83L4 21.41c.39.39.9.59 1.41.59.51 0 1.02-.2 1.41-.59l7.78-7.78 2.81-2.81c.8-.78.8-2.07 0-2.86zM5.41 20L4 18.59l7.72-7.72 1.47 1.35L5.41 20z\"/>\n",
              "  </svg>\n",
              "      </button>\n",
              "      \n",
              "  <style>\n",
              "    .colab-df-container {\n",
              "      display:flex;\n",
              "      flex-wrap:wrap;\n",
              "      gap: 12px;\n",
              "    }\n",
              "\n",
              "    .colab-df-convert {\n",
              "      background-color: #E8F0FE;\n",
              "      border: none;\n",
              "      border-radius: 50%;\n",
              "      cursor: pointer;\n",
              "      display: none;\n",
              "      fill: #1967D2;\n",
              "      height: 32px;\n",
              "      padding: 0 0 0 0;\n",
              "      width: 32px;\n",
              "    }\n",
              "\n",
              "    .colab-df-convert:hover {\n",
              "      background-color: #E2EBFA;\n",
              "      box-shadow: 0px 1px 2px rgba(60, 64, 67, 0.3), 0px 1px 3px 1px rgba(60, 64, 67, 0.15);\n",
              "      fill: #174EA6;\n",
              "    }\n",
              "\n",
              "    [theme=dark] .colab-df-convert {\n",
              "      background-color: #3B4455;\n",
              "      fill: #D2E3FC;\n",
              "    }\n",
              "\n",
              "    [theme=dark] .colab-df-convert:hover {\n",
              "      background-color: #434B5C;\n",
              "      box-shadow: 0px 1px 3px 1px rgba(0, 0, 0, 0.15);\n",
              "      filter: drop-shadow(0px 1px 2px rgba(0, 0, 0, 0.3));\n",
              "      fill: #FFFFFF;\n",
              "    }\n",
              "  </style>\n",
              "\n",
              "      <script>\n",
              "        const buttonEl =\n",
              "          document.querySelector('#df-9e667261-cd42-4c91-ab88-f4c461e77b4f button.colab-df-convert');\n",
              "        buttonEl.style.display =\n",
              "          google.colab.kernel.accessAllowed ? 'block' : 'none';\n",
              "\n",
              "        async function convertToInteractive(key) {\n",
              "          const element = document.querySelector('#df-9e667261-cd42-4c91-ab88-f4c461e77b4f');\n",
              "          const dataTable =\n",
              "            await google.colab.kernel.invokeFunction('convertToInteractive',\n",
              "                                                     [key], {});\n",
              "          if (!dataTable) return;\n",
              "\n",
              "          const docLinkHtml = 'Like what you see? Visit the ' +\n",
              "            '<a target=\"_blank\" href=https://colab.research.google.com/notebooks/data_table.ipynb>data table notebook</a>'\n",
              "            + ' to learn more about interactive tables.';\n",
              "          element.innerHTML = '';\n",
              "          dataTable['output_type'] = 'display_data';\n",
              "          await google.colab.output.renderOutput(dataTable, element);\n",
              "          const docLink = document.createElement('div');\n",
              "          docLink.innerHTML = docLinkHtml;\n",
              "          element.appendChild(docLink);\n",
              "        }\n",
              "      </script>\n",
              "    </div>\n",
              "  </div>\n",
              "  "
            ]
          },
          "metadata": {},
          "execution_count": 156
        }
      ]
    },
    {
      "cell_type": "markdown",
      "source": [
        "### Tail"
      ],
      "metadata": {
        "id": "5f5RRDiRLQJ9"
      }
    },
    {
      "cell_type": "code",
      "source": [
        "df.tail()"
      ],
      "metadata": {
        "colab": {
          "base_uri": "https://localhost:8080/",
          "height": 206
        },
        "id": "HJ8Bgh2zDQ0i",
        "outputId": "6d6946f0-048e-441c-8964-851865c1c7f8"
      },
      "execution_count": 157,
      "outputs": [
        {
          "output_type": "execute_result",
          "data": {
            "text/plain": [
              "       Unnamed: 0         car_name     brand   model  vehicle_age  km_driven  \\\n",
              "15406       19537      Hyundai i10   Hyundai     i10            9      10723   \n",
              "15407       19540    Maruti Ertiga    Maruti  Ertiga            2      18000   \n",
              "15408       19541      Skoda Rapid     Skoda   Rapid            6      67000   \n",
              "15409       19542  Mahindra XUV500  Mahindra  XUV500            5    3800000   \n",
              "15410       19543       Honda City     Honda    City            2      13000   \n",
              "\n",
              "      seller_type fuel_type transmission_type  mileage  engine  max_power  \\\n",
              "15406      Dealer    Petrol            Manual    19.81    1086      68.05   \n",
              "15407      Dealer    Petrol            Manual    17.50    1373      91.10   \n",
              "15408      Dealer    Diesel            Manual    21.14    1498     103.52   \n",
              "15409      Dealer    Diesel            Manual    16.00    2179     140.00   \n",
              "15410      Dealer    Petrol         Automatic    18.00    1497     117.60   \n",
              "\n",
              "       seats  selling_price  \n",
              "15406      5         250000  \n",
              "15407      7         925000  \n",
              "15408      5         425000  \n",
              "15409      7        1225000  \n",
              "15410      5        1200000  "
            ],
            "text/html": [
              "\n",
              "  <div id=\"df-d9b64df6-a603-4e05-a51b-1142890f5a1f\">\n",
              "    <div class=\"colab-df-container\">\n",
              "      <div>\n",
              "<style scoped>\n",
              "    .dataframe tbody tr th:only-of-type {\n",
              "        vertical-align: middle;\n",
              "    }\n",
              "\n",
              "    .dataframe tbody tr th {\n",
              "        vertical-align: top;\n",
              "    }\n",
              "\n",
              "    .dataframe thead th {\n",
              "        text-align: right;\n",
              "    }\n",
              "</style>\n",
              "<table border=\"1\" class=\"dataframe\">\n",
              "  <thead>\n",
              "    <tr style=\"text-align: right;\">\n",
              "      <th></th>\n",
              "      <th>Unnamed: 0</th>\n",
              "      <th>car_name</th>\n",
              "      <th>brand</th>\n",
              "      <th>model</th>\n",
              "      <th>vehicle_age</th>\n",
              "      <th>km_driven</th>\n",
              "      <th>seller_type</th>\n",
              "      <th>fuel_type</th>\n",
              "      <th>transmission_type</th>\n",
              "      <th>mileage</th>\n",
              "      <th>engine</th>\n",
              "      <th>max_power</th>\n",
              "      <th>seats</th>\n",
              "      <th>selling_price</th>\n",
              "    </tr>\n",
              "  </thead>\n",
              "  <tbody>\n",
              "    <tr>\n",
              "      <th>15406</th>\n",
              "      <td>19537</td>\n",
              "      <td>Hyundai i10</td>\n",
              "      <td>Hyundai</td>\n",
              "      <td>i10</td>\n",
              "      <td>9</td>\n",
              "      <td>10723</td>\n",
              "      <td>Dealer</td>\n",
              "      <td>Petrol</td>\n",
              "      <td>Manual</td>\n",
              "      <td>19.81</td>\n",
              "      <td>1086</td>\n",
              "      <td>68.05</td>\n",
              "      <td>5</td>\n",
              "      <td>250000</td>\n",
              "    </tr>\n",
              "    <tr>\n",
              "      <th>15407</th>\n",
              "      <td>19540</td>\n",
              "      <td>Maruti Ertiga</td>\n",
              "      <td>Maruti</td>\n",
              "      <td>Ertiga</td>\n",
              "      <td>2</td>\n",
              "      <td>18000</td>\n",
              "      <td>Dealer</td>\n",
              "      <td>Petrol</td>\n",
              "      <td>Manual</td>\n",
              "      <td>17.50</td>\n",
              "      <td>1373</td>\n",
              "      <td>91.10</td>\n",
              "      <td>7</td>\n",
              "      <td>925000</td>\n",
              "    </tr>\n",
              "    <tr>\n",
              "      <th>15408</th>\n",
              "      <td>19541</td>\n",
              "      <td>Skoda Rapid</td>\n",
              "      <td>Skoda</td>\n",
              "      <td>Rapid</td>\n",
              "      <td>6</td>\n",
              "      <td>67000</td>\n",
              "      <td>Dealer</td>\n",
              "      <td>Diesel</td>\n",
              "      <td>Manual</td>\n",
              "      <td>21.14</td>\n",
              "      <td>1498</td>\n",
              "      <td>103.52</td>\n",
              "      <td>5</td>\n",
              "      <td>425000</td>\n",
              "    </tr>\n",
              "    <tr>\n",
              "      <th>15409</th>\n",
              "      <td>19542</td>\n",
              "      <td>Mahindra XUV500</td>\n",
              "      <td>Mahindra</td>\n",
              "      <td>XUV500</td>\n",
              "      <td>5</td>\n",
              "      <td>3800000</td>\n",
              "      <td>Dealer</td>\n",
              "      <td>Diesel</td>\n",
              "      <td>Manual</td>\n",
              "      <td>16.00</td>\n",
              "      <td>2179</td>\n",
              "      <td>140.00</td>\n",
              "      <td>7</td>\n",
              "      <td>1225000</td>\n",
              "    </tr>\n",
              "    <tr>\n",
              "      <th>15410</th>\n",
              "      <td>19543</td>\n",
              "      <td>Honda City</td>\n",
              "      <td>Honda</td>\n",
              "      <td>City</td>\n",
              "      <td>2</td>\n",
              "      <td>13000</td>\n",
              "      <td>Dealer</td>\n",
              "      <td>Petrol</td>\n",
              "      <td>Automatic</td>\n",
              "      <td>18.00</td>\n",
              "      <td>1497</td>\n",
              "      <td>117.60</td>\n",
              "      <td>5</td>\n",
              "      <td>1200000</td>\n",
              "    </tr>\n",
              "  </tbody>\n",
              "</table>\n",
              "</div>\n",
              "      <button class=\"colab-df-convert\" onclick=\"convertToInteractive('df-d9b64df6-a603-4e05-a51b-1142890f5a1f')\"\n",
              "              title=\"Convert this dataframe to an interactive table.\"\n",
              "              style=\"display:none;\">\n",
              "        \n",
              "  <svg xmlns=\"http://www.w3.org/2000/svg\" height=\"24px\"viewBox=\"0 0 24 24\"\n",
              "       width=\"24px\">\n",
              "    <path d=\"M0 0h24v24H0V0z\" fill=\"none\"/>\n",
              "    <path d=\"M18.56 5.44l.94 2.06.94-2.06 2.06-.94-2.06-.94-.94-2.06-.94 2.06-2.06.94zm-11 1L8.5 8.5l.94-2.06 2.06-.94-2.06-.94L8.5 2.5l-.94 2.06-2.06.94zm10 10l.94 2.06.94-2.06 2.06-.94-2.06-.94-.94-2.06-.94 2.06-2.06.94z\"/><path d=\"M17.41 7.96l-1.37-1.37c-.4-.4-.92-.59-1.43-.59-.52 0-1.04.2-1.43.59L10.3 9.45l-7.72 7.72c-.78.78-.78 2.05 0 2.83L4 21.41c.39.39.9.59 1.41.59.51 0 1.02-.2 1.41-.59l7.78-7.78 2.81-2.81c.8-.78.8-2.07 0-2.86zM5.41 20L4 18.59l7.72-7.72 1.47 1.35L5.41 20z\"/>\n",
              "  </svg>\n",
              "      </button>\n",
              "      \n",
              "  <style>\n",
              "    .colab-df-container {\n",
              "      display:flex;\n",
              "      flex-wrap:wrap;\n",
              "      gap: 12px;\n",
              "    }\n",
              "\n",
              "    .colab-df-convert {\n",
              "      background-color: #E8F0FE;\n",
              "      border: none;\n",
              "      border-radius: 50%;\n",
              "      cursor: pointer;\n",
              "      display: none;\n",
              "      fill: #1967D2;\n",
              "      height: 32px;\n",
              "      padding: 0 0 0 0;\n",
              "      width: 32px;\n",
              "    }\n",
              "\n",
              "    .colab-df-convert:hover {\n",
              "      background-color: #E2EBFA;\n",
              "      box-shadow: 0px 1px 2px rgba(60, 64, 67, 0.3), 0px 1px 3px 1px rgba(60, 64, 67, 0.15);\n",
              "      fill: #174EA6;\n",
              "    }\n",
              "\n",
              "    [theme=dark] .colab-df-convert {\n",
              "      background-color: #3B4455;\n",
              "      fill: #D2E3FC;\n",
              "    }\n",
              "\n",
              "    [theme=dark] .colab-df-convert:hover {\n",
              "      background-color: #434B5C;\n",
              "      box-shadow: 0px 1px 3px 1px rgba(0, 0, 0, 0.15);\n",
              "      filter: drop-shadow(0px 1px 2px rgba(0, 0, 0, 0.3));\n",
              "      fill: #FFFFFF;\n",
              "    }\n",
              "  </style>\n",
              "\n",
              "      <script>\n",
              "        const buttonEl =\n",
              "          document.querySelector('#df-d9b64df6-a603-4e05-a51b-1142890f5a1f button.colab-df-convert');\n",
              "        buttonEl.style.display =\n",
              "          google.colab.kernel.accessAllowed ? 'block' : 'none';\n",
              "\n",
              "        async function convertToInteractive(key) {\n",
              "          const element = document.querySelector('#df-d9b64df6-a603-4e05-a51b-1142890f5a1f');\n",
              "          const dataTable =\n",
              "            await google.colab.kernel.invokeFunction('convertToInteractive',\n",
              "                                                     [key], {});\n",
              "          if (!dataTable) return;\n",
              "\n",
              "          const docLinkHtml = 'Like what you see? Visit the ' +\n",
              "            '<a target=\"_blank\" href=https://colab.research.google.com/notebooks/data_table.ipynb>data table notebook</a>'\n",
              "            + ' to learn more about interactive tables.';\n",
              "          element.innerHTML = '';\n",
              "          dataTable['output_type'] = 'display_data';\n",
              "          await google.colab.output.renderOutput(dataTable, element);\n",
              "          const docLink = document.createElement('div');\n",
              "          docLink.innerHTML = docLinkHtml;\n",
              "          element.appendChild(docLink);\n",
              "        }\n",
              "      </script>\n",
              "    </div>\n",
              "  </div>\n",
              "  "
            ]
          },
          "metadata": {},
          "execution_count": 157
        }
      ]
    },
    {
      "cell_type": "markdown",
      "source": [
        "### **Shape**"
      ],
      "metadata": {
        "id": "XSVqwGFtLUWh"
      }
    },
    {
      "cell_type": "code",
      "source": [
        "df.shape"
      ],
      "metadata": {
        "colab": {
          "base_uri": "https://localhost:8080/"
        },
        "id": "uDbO-oE2DRpE",
        "outputId": "b222c664-d4da-42a3-f580-b89129b9f8af"
      },
      "execution_count": 158,
      "outputs": [
        {
          "output_type": "execute_result",
          "data": {
            "text/plain": [
              "(15411, 14)"
            ]
          },
          "metadata": {},
          "execution_count": 158
        }
      ]
    },
    {
      "cell_type": "markdown",
      "source": [
        "### Info"
      ],
      "metadata": {
        "id": "n51sEY-_LTjW"
      }
    },
    {
      "cell_type": "code",
      "source": [
        "df.info()"
      ],
      "metadata": {
        "colab": {
          "base_uri": "https://localhost:8080/"
        },
        "id": "gU6rEu4IDSir",
        "outputId": "efa91bf6-c97c-453e-9e89-e5cad315c1ca"
      },
      "execution_count": 159,
      "outputs": [
        {
          "output_type": "stream",
          "name": "stdout",
          "text": [
            "<class 'pandas.core.frame.DataFrame'>\n",
            "RangeIndex: 15411 entries, 0 to 15410\n",
            "Data columns (total 14 columns):\n",
            " #   Column             Non-Null Count  Dtype  \n",
            "---  ------             --------------  -----  \n",
            " 0   Unnamed: 0         15411 non-null  int64  \n",
            " 1   car_name           15411 non-null  object \n",
            " 2   brand              15411 non-null  object \n",
            " 3   model              15411 non-null  object \n",
            " 4   vehicle_age        15411 non-null  int64  \n",
            " 5   km_driven          15411 non-null  int64  \n",
            " 6   seller_type        15411 non-null  object \n",
            " 7   fuel_type          15411 non-null  object \n",
            " 8   transmission_type  15411 non-null  object \n",
            " 9   mileage            15411 non-null  float64\n",
            " 10  engine             15411 non-null  int64  \n",
            " 11  max_power          15411 non-null  float64\n",
            " 12  seats              15411 non-null  int64  \n",
            " 13  selling_price      15411 non-null  int64  \n",
            "dtypes: float64(2), int64(6), object(6)\n",
            "memory usage: 1.6+ MB\n"
          ]
        }
      ]
    },
    {
      "cell_type": "markdown",
      "source": [
        "### Describe"
      ],
      "metadata": {
        "id": "L-_e290ZLYn6"
      }
    },
    {
      "cell_type": "code",
      "source": [
        "df.describe()"
      ],
      "metadata": {
        "colab": {
          "base_uri": "https://localhost:8080/",
          "height": 300
        },
        "id": "cXgYHa9mDTPu",
        "outputId": "fd45f788-ba70-4f33-df81-37198f7b0471"
      },
      "execution_count": 160,
      "outputs": [
        {
          "output_type": "execute_result",
          "data": {
            "text/plain": [
              "         Unnamed: 0   vehicle_age     km_driven       mileage        engine  \\\n",
              "count  15411.000000  15411.000000  1.541100e+04  15411.000000  15411.000000   \n",
              "mean    9811.857699      6.036338  5.561648e+04     19.701151   1486.057751   \n",
              "std     5643.418542      3.013291  5.161855e+04      4.171265    521.106696   \n",
              "min        0.000000      0.000000  1.000000e+02      4.000000    793.000000   \n",
              "25%     4906.500000      4.000000  3.000000e+04     17.000000   1197.000000   \n",
              "50%     9872.000000      6.000000  5.000000e+04     19.670000   1248.000000   \n",
              "75%    14668.500000      8.000000  7.000000e+04     22.700000   1582.000000   \n",
              "max    19543.000000     29.000000  3.800000e+06     33.540000   6592.000000   \n",
              "\n",
              "          max_power         seats  selling_price  \n",
              "count  15411.000000  15411.000000   1.541100e+04  \n",
              "mean     100.588254      5.325482   7.749711e+05  \n",
              "std       42.972979      0.807628   8.941284e+05  \n",
              "min       38.400000      0.000000   4.000000e+04  \n",
              "25%       74.000000      5.000000   3.850000e+05  \n",
              "50%       88.500000      5.000000   5.560000e+05  \n",
              "75%      117.300000      5.000000   8.250000e+05  \n",
              "max      626.000000      9.000000   3.950000e+07  "
            ],
            "text/html": [
              "\n",
              "  <div id=\"df-3b15604a-b279-476d-a365-ce6486bf7bb7\">\n",
              "    <div class=\"colab-df-container\">\n",
              "      <div>\n",
              "<style scoped>\n",
              "    .dataframe tbody tr th:only-of-type {\n",
              "        vertical-align: middle;\n",
              "    }\n",
              "\n",
              "    .dataframe tbody tr th {\n",
              "        vertical-align: top;\n",
              "    }\n",
              "\n",
              "    .dataframe thead th {\n",
              "        text-align: right;\n",
              "    }\n",
              "</style>\n",
              "<table border=\"1\" class=\"dataframe\">\n",
              "  <thead>\n",
              "    <tr style=\"text-align: right;\">\n",
              "      <th></th>\n",
              "      <th>Unnamed: 0</th>\n",
              "      <th>vehicle_age</th>\n",
              "      <th>km_driven</th>\n",
              "      <th>mileage</th>\n",
              "      <th>engine</th>\n",
              "      <th>max_power</th>\n",
              "      <th>seats</th>\n",
              "      <th>selling_price</th>\n",
              "    </tr>\n",
              "  </thead>\n",
              "  <tbody>\n",
              "    <tr>\n",
              "      <th>count</th>\n",
              "      <td>15411.000000</td>\n",
              "      <td>15411.000000</td>\n",
              "      <td>1.541100e+04</td>\n",
              "      <td>15411.000000</td>\n",
              "      <td>15411.000000</td>\n",
              "      <td>15411.000000</td>\n",
              "      <td>15411.000000</td>\n",
              "      <td>1.541100e+04</td>\n",
              "    </tr>\n",
              "    <tr>\n",
              "      <th>mean</th>\n",
              "      <td>9811.857699</td>\n",
              "      <td>6.036338</td>\n",
              "      <td>5.561648e+04</td>\n",
              "      <td>19.701151</td>\n",
              "      <td>1486.057751</td>\n",
              "      <td>100.588254</td>\n",
              "      <td>5.325482</td>\n",
              "      <td>7.749711e+05</td>\n",
              "    </tr>\n",
              "    <tr>\n",
              "      <th>std</th>\n",
              "      <td>5643.418542</td>\n",
              "      <td>3.013291</td>\n",
              "      <td>5.161855e+04</td>\n",
              "      <td>4.171265</td>\n",
              "      <td>521.106696</td>\n",
              "      <td>42.972979</td>\n",
              "      <td>0.807628</td>\n",
              "      <td>8.941284e+05</td>\n",
              "    </tr>\n",
              "    <tr>\n",
              "      <th>min</th>\n",
              "      <td>0.000000</td>\n",
              "      <td>0.000000</td>\n",
              "      <td>1.000000e+02</td>\n",
              "      <td>4.000000</td>\n",
              "      <td>793.000000</td>\n",
              "      <td>38.400000</td>\n",
              "      <td>0.000000</td>\n",
              "      <td>4.000000e+04</td>\n",
              "    </tr>\n",
              "    <tr>\n",
              "      <th>25%</th>\n",
              "      <td>4906.500000</td>\n",
              "      <td>4.000000</td>\n",
              "      <td>3.000000e+04</td>\n",
              "      <td>17.000000</td>\n",
              "      <td>1197.000000</td>\n",
              "      <td>74.000000</td>\n",
              "      <td>5.000000</td>\n",
              "      <td>3.850000e+05</td>\n",
              "    </tr>\n",
              "    <tr>\n",
              "      <th>50%</th>\n",
              "      <td>9872.000000</td>\n",
              "      <td>6.000000</td>\n",
              "      <td>5.000000e+04</td>\n",
              "      <td>19.670000</td>\n",
              "      <td>1248.000000</td>\n",
              "      <td>88.500000</td>\n",
              "      <td>5.000000</td>\n",
              "      <td>5.560000e+05</td>\n",
              "    </tr>\n",
              "    <tr>\n",
              "      <th>75%</th>\n",
              "      <td>14668.500000</td>\n",
              "      <td>8.000000</td>\n",
              "      <td>7.000000e+04</td>\n",
              "      <td>22.700000</td>\n",
              "      <td>1582.000000</td>\n",
              "      <td>117.300000</td>\n",
              "      <td>5.000000</td>\n",
              "      <td>8.250000e+05</td>\n",
              "    </tr>\n",
              "    <tr>\n",
              "      <th>max</th>\n",
              "      <td>19543.000000</td>\n",
              "      <td>29.000000</td>\n",
              "      <td>3.800000e+06</td>\n",
              "      <td>33.540000</td>\n",
              "      <td>6592.000000</td>\n",
              "      <td>626.000000</td>\n",
              "      <td>9.000000</td>\n",
              "      <td>3.950000e+07</td>\n",
              "    </tr>\n",
              "  </tbody>\n",
              "</table>\n",
              "</div>\n",
              "      <button class=\"colab-df-convert\" onclick=\"convertToInteractive('df-3b15604a-b279-476d-a365-ce6486bf7bb7')\"\n",
              "              title=\"Convert this dataframe to an interactive table.\"\n",
              "              style=\"display:none;\">\n",
              "        \n",
              "  <svg xmlns=\"http://www.w3.org/2000/svg\" height=\"24px\"viewBox=\"0 0 24 24\"\n",
              "       width=\"24px\">\n",
              "    <path d=\"M0 0h24v24H0V0z\" fill=\"none\"/>\n",
              "    <path d=\"M18.56 5.44l.94 2.06.94-2.06 2.06-.94-2.06-.94-.94-2.06-.94 2.06-2.06.94zm-11 1L8.5 8.5l.94-2.06 2.06-.94-2.06-.94L8.5 2.5l-.94 2.06-2.06.94zm10 10l.94 2.06.94-2.06 2.06-.94-2.06-.94-.94-2.06-.94 2.06-2.06.94z\"/><path d=\"M17.41 7.96l-1.37-1.37c-.4-.4-.92-.59-1.43-.59-.52 0-1.04.2-1.43.59L10.3 9.45l-7.72 7.72c-.78.78-.78 2.05 0 2.83L4 21.41c.39.39.9.59 1.41.59.51 0 1.02-.2 1.41-.59l7.78-7.78 2.81-2.81c.8-.78.8-2.07 0-2.86zM5.41 20L4 18.59l7.72-7.72 1.47 1.35L5.41 20z\"/>\n",
              "  </svg>\n",
              "      </button>\n",
              "      \n",
              "  <style>\n",
              "    .colab-df-container {\n",
              "      display:flex;\n",
              "      flex-wrap:wrap;\n",
              "      gap: 12px;\n",
              "    }\n",
              "\n",
              "    .colab-df-convert {\n",
              "      background-color: #E8F0FE;\n",
              "      border: none;\n",
              "      border-radius: 50%;\n",
              "      cursor: pointer;\n",
              "      display: none;\n",
              "      fill: #1967D2;\n",
              "      height: 32px;\n",
              "      padding: 0 0 0 0;\n",
              "      width: 32px;\n",
              "    }\n",
              "\n",
              "    .colab-df-convert:hover {\n",
              "      background-color: #E2EBFA;\n",
              "      box-shadow: 0px 1px 2px rgba(60, 64, 67, 0.3), 0px 1px 3px 1px rgba(60, 64, 67, 0.15);\n",
              "      fill: #174EA6;\n",
              "    }\n",
              "\n",
              "    [theme=dark] .colab-df-convert {\n",
              "      background-color: #3B4455;\n",
              "      fill: #D2E3FC;\n",
              "    }\n",
              "\n",
              "    [theme=dark] .colab-df-convert:hover {\n",
              "      background-color: #434B5C;\n",
              "      box-shadow: 0px 1px 3px 1px rgba(0, 0, 0, 0.15);\n",
              "      filter: drop-shadow(0px 1px 2px rgba(0, 0, 0, 0.3));\n",
              "      fill: #FFFFFF;\n",
              "    }\n",
              "  </style>\n",
              "\n",
              "      <script>\n",
              "        const buttonEl =\n",
              "          document.querySelector('#df-3b15604a-b279-476d-a365-ce6486bf7bb7 button.colab-df-convert');\n",
              "        buttonEl.style.display =\n",
              "          google.colab.kernel.accessAllowed ? 'block' : 'none';\n",
              "\n",
              "        async function convertToInteractive(key) {\n",
              "          const element = document.querySelector('#df-3b15604a-b279-476d-a365-ce6486bf7bb7');\n",
              "          const dataTable =\n",
              "            await google.colab.kernel.invokeFunction('convertToInteractive',\n",
              "                                                     [key], {});\n",
              "          if (!dataTable) return;\n",
              "\n",
              "          const docLinkHtml = 'Like what you see? Visit the ' +\n",
              "            '<a target=\"_blank\" href=https://colab.research.google.com/notebooks/data_table.ipynb>data table notebook</a>'\n",
              "            + ' to learn more about interactive tables.';\n",
              "          element.innerHTML = '';\n",
              "          dataTable['output_type'] = 'display_data';\n",
              "          await google.colab.output.renderOutput(dataTable, element);\n",
              "          const docLink = document.createElement('div');\n",
              "          docLink.innerHTML = docLinkHtml;\n",
              "          element.appendChild(docLink);\n",
              "        }\n",
              "      </script>\n",
              "    </div>\n",
              "  </div>\n",
              "  "
            ]
          },
          "metadata": {},
          "execution_count": 160
        }
      ]
    },
    {
      "cell_type": "markdown",
      "source": [
        "### Dtypes"
      ],
      "metadata": {
        "id": "g7CfEdBoLd8p"
      }
    },
    {
      "cell_type": "code",
      "source": [
        "df.dtypes"
      ],
      "metadata": {
        "colab": {
          "base_uri": "https://localhost:8080/"
        },
        "id": "ELe8hs8KDUto",
        "outputId": "030d9743-6cb4-41cc-d5ad-c4b9c6125c2d"
      },
      "execution_count": 161,
      "outputs": [
        {
          "output_type": "execute_result",
          "data": {
            "text/plain": [
              "Unnamed: 0             int64\n",
              "car_name              object\n",
              "brand                 object\n",
              "model                 object\n",
              "vehicle_age            int64\n",
              "km_driven              int64\n",
              "seller_type           object\n",
              "fuel_type             object\n",
              "transmission_type     object\n",
              "mileage              float64\n",
              "engine                 int64\n",
              "max_power            float64\n",
              "seats                  int64\n",
              "selling_price          int64\n",
              "dtype: object"
            ]
          },
          "metadata": {},
          "execution_count": 161
        }
      ]
    },
    {
      "cell_type": "markdown",
      "source": [
        "### Columns"
      ],
      "metadata": {
        "id": "LpSZVtSiLgnf"
      }
    },
    {
      "cell_type": "code",
      "source": [
        "df.columns"
      ],
      "metadata": {
        "colab": {
          "base_uri": "https://localhost:8080/"
        },
        "id": "jiqdUhWvDVTy",
        "outputId": "cb17ebf1-69ed-4e0c-d5f8-da2486bffa5a"
      },
      "execution_count": 162,
      "outputs": [
        {
          "output_type": "execute_result",
          "data": {
            "text/plain": [
              "Index(['Unnamed: 0', 'car_name', 'brand', 'model', 'vehicle_age', 'km_driven',\n",
              "       'seller_type', 'fuel_type', 'transmission_type', 'mileage', 'engine',\n",
              "       'max_power', 'seats', 'selling_price'],\n",
              "      dtype='object')"
            ]
          },
          "metadata": {},
          "execution_count": 162
        }
      ]
    },
    {
      "cell_type": "markdown",
      "source": [
        "### Droping unwanted column"
      ],
      "metadata": {
        "id": "SAs0r17_Likn"
      }
    },
    {
      "cell_type": "code",
      "source": [
        "df.drop('Unnamed: 0',axis =1,inplace =True)"
      ],
      "metadata": {
        "id": "lsw7cCHwLTPC"
      },
      "execution_count": 163,
      "outputs": []
    },
    {
      "cell_type": "markdown",
      "source": [
        "### Missing values"
      ],
      "metadata": {
        "id": "y20uSdgtLntX"
      }
    },
    {
      "cell_type": "code",
      "source": [
        "# Missing values\n",
        "total = df.isnull().sum().sort_values(ascending=False)\n",
        "percent = ((df.isnull().sum()/df.isnull().count())*100).sort_values(ascending=False)\n",
        "missing_data = pd.concat([total, percent], axis=1, keys=['Total', 'Percent'])\n",
        "missing_data.head()"
      ],
      "metadata": {
        "colab": {
          "base_uri": "https://localhost:8080/",
          "height": 206
        },
        "id": "EzCL8XXpDpSx",
        "outputId": "ee91a9c3-28c0-48fc-d8c6-eb39622789a6"
      },
      "execution_count": 164,
      "outputs": [
        {
          "output_type": "execute_result",
          "data": {
            "text/plain": [
              "             Total  Percent\n",
              "car_name         0      0.0\n",
              "brand            0      0.0\n",
              "model            0      0.0\n",
              "vehicle_age      0      0.0\n",
              "km_driven        0      0.0"
            ],
            "text/html": [
              "\n",
              "  <div id=\"df-29ed0ca2-d57b-4b1c-a948-e118f3b0208e\">\n",
              "    <div class=\"colab-df-container\">\n",
              "      <div>\n",
              "<style scoped>\n",
              "    .dataframe tbody tr th:only-of-type {\n",
              "        vertical-align: middle;\n",
              "    }\n",
              "\n",
              "    .dataframe tbody tr th {\n",
              "        vertical-align: top;\n",
              "    }\n",
              "\n",
              "    .dataframe thead th {\n",
              "        text-align: right;\n",
              "    }\n",
              "</style>\n",
              "<table border=\"1\" class=\"dataframe\">\n",
              "  <thead>\n",
              "    <tr style=\"text-align: right;\">\n",
              "      <th></th>\n",
              "      <th>Total</th>\n",
              "      <th>Percent</th>\n",
              "    </tr>\n",
              "  </thead>\n",
              "  <tbody>\n",
              "    <tr>\n",
              "      <th>car_name</th>\n",
              "      <td>0</td>\n",
              "      <td>0.0</td>\n",
              "    </tr>\n",
              "    <tr>\n",
              "      <th>brand</th>\n",
              "      <td>0</td>\n",
              "      <td>0.0</td>\n",
              "    </tr>\n",
              "    <tr>\n",
              "      <th>model</th>\n",
              "      <td>0</td>\n",
              "      <td>0.0</td>\n",
              "    </tr>\n",
              "    <tr>\n",
              "      <th>vehicle_age</th>\n",
              "      <td>0</td>\n",
              "      <td>0.0</td>\n",
              "    </tr>\n",
              "    <tr>\n",
              "      <th>km_driven</th>\n",
              "      <td>0</td>\n",
              "      <td>0.0</td>\n",
              "    </tr>\n",
              "  </tbody>\n",
              "</table>\n",
              "</div>\n",
              "      <button class=\"colab-df-convert\" onclick=\"convertToInteractive('df-29ed0ca2-d57b-4b1c-a948-e118f3b0208e')\"\n",
              "              title=\"Convert this dataframe to an interactive table.\"\n",
              "              style=\"display:none;\">\n",
              "        \n",
              "  <svg xmlns=\"http://www.w3.org/2000/svg\" height=\"24px\"viewBox=\"0 0 24 24\"\n",
              "       width=\"24px\">\n",
              "    <path d=\"M0 0h24v24H0V0z\" fill=\"none\"/>\n",
              "    <path d=\"M18.56 5.44l.94 2.06.94-2.06 2.06-.94-2.06-.94-.94-2.06-.94 2.06-2.06.94zm-11 1L8.5 8.5l.94-2.06 2.06-.94-2.06-.94L8.5 2.5l-.94 2.06-2.06.94zm10 10l.94 2.06.94-2.06 2.06-.94-2.06-.94-.94-2.06-.94 2.06-2.06.94z\"/><path d=\"M17.41 7.96l-1.37-1.37c-.4-.4-.92-.59-1.43-.59-.52 0-1.04.2-1.43.59L10.3 9.45l-7.72 7.72c-.78.78-.78 2.05 0 2.83L4 21.41c.39.39.9.59 1.41.59.51 0 1.02-.2 1.41-.59l7.78-7.78 2.81-2.81c.8-.78.8-2.07 0-2.86zM5.41 20L4 18.59l7.72-7.72 1.47 1.35L5.41 20z\"/>\n",
              "  </svg>\n",
              "      </button>\n",
              "      \n",
              "  <style>\n",
              "    .colab-df-container {\n",
              "      display:flex;\n",
              "      flex-wrap:wrap;\n",
              "      gap: 12px;\n",
              "    }\n",
              "\n",
              "    .colab-df-convert {\n",
              "      background-color: #E8F0FE;\n",
              "      border: none;\n",
              "      border-radius: 50%;\n",
              "      cursor: pointer;\n",
              "      display: none;\n",
              "      fill: #1967D2;\n",
              "      height: 32px;\n",
              "      padding: 0 0 0 0;\n",
              "      width: 32px;\n",
              "    }\n",
              "\n",
              "    .colab-df-convert:hover {\n",
              "      background-color: #E2EBFA;\n",
              "      box-shadow: 0px 1px 2px rgba(60, 64, 67, 0.3), 0px 1px 3px 1px rgba(60, 64, 67, 0.15);\n",
              "      fill: #174EA6;\n",
              "    }\n",
              "\n",
              "    [theme=dark] .colab-df-convert {\n",
              "      background-color: #3B4455;\n",
              "      fill: #D2E3FC;\n",
              "    }\n",
              "\n",
              "    [theme=dark] .colab-df-convert:hover {\n",
              "      background-color: #434B5C;\n",
              "      box-shadow: 0px 1px 3px 1px rgba(0, 0, 0, 0.15);\n",
              "      filter: drop-shadow(0px 1px 2px rgba(0, 0, 0, 0.3));\n",
              "      fill: #FFFFFF;\n",
              "    }\n",
              "  </style>\n",
              "\n",
              "      <script>\n",
              "        const buttonEl =\n",
              "          document.querySelector('#df-29ed0ca2-d57b-4b1c-a948-e118f3b0208e button.colab-df-convert');\n",
              "        buttonEl.style.display =\n",
              "          google.colab.kernel.accessAllowed ? 'block' : 'none';\n",
              "\n",
              "        async function convertToInteractive(key) {\n",
              "          const element = document.querySelector('#df-29ed0ca2-d57b-4b1c-a948-e118f3b0208e');\n",
              "          const dataTable =\n",
              "            await google.colab.kernel.invokeFunction('convertToInteractive',\n",
              "                                                     [key], {});\n",
              "          if (!dataTable) return;\n",
              "\n",
              "          const docLinkHtml = 'Like what you see? Visit the ' +\n",
              "            '<a target=\"_blank\" href=https://colab.research.google.com/notebooks/data_table.ipynb>data table notebook</a>'\n",
              "            + ' to learn more about interactive tables.';\n",
              "          element.innerHTML = '';\n",
              "          dataTable['output_type'] = 'display_data';\n",
              "          await google.colab.output.renderOutput(dataTable, element);\n",
              "          const docLink = document.createElement('div');\n",
              "          docLink.innerHTML = docLinkHtml;\n",
              "          element.appendChild(docLink);\n",
              "        }\n",
              "      </script>\n",
              "    </div>\n",
              "  </div>\n",
              "  "
            ]
          },
          "metadata": {},
          "execution_count": 164
        }
      ]
    },
    {
      "cell_type": "markdown",
      "source": [
        "### Missing values categorical"
      ],
      "metadata": {
        "id": "mldRxV_RLuOi"
      }
    },
    {
      "cell_type": "code",
      "source": [
        "# categorical null values\n",
        "\n",
        "cat_cols = set(df.columns) - set(df._get_numeric_data().columns)\n",
        "\n",
        "for cat in cat_cols:\n",
        "  print(cat,\" : \",df[cat].apply(lambda x:len(x.strip()) == 0 or x.strip().lower() == 'nan').sum())\n",
        "\n"
      ],
      "metadata": {
        "colab": {
          "base_uri": "https://localhost:8080/"
        },
        "id": "e-gl_hBND-lJ",
        "outputId": "d9bec48d-6f45-4ebd-d89f-514368bbee9a"
      },
      "execution_count": 165,
      "outputs": [
        {
          "output_type": "stream",
          "name": "stdout",
          "text": [
            "seller_type  :  0\n",
            "brand  :  0\n",
            "model  :  0\n",
            "transmission_type  :  0\n",
            "fuel_type  :  0\n",
            "car_name  :  0\n"
          ]
        }
      ]
    },
    {
      "cell_type": "markdown",
      "source": [
        "### Change data types"
      ],
      "metadata": {
        "id": "EGGJe2MTLxwH"
      }
    },
    {
      "cell_type": "code",
      "source": [],
      "metadata": {
        "id": "aLVumYerEjRu"
      },
      "execution_count": 165,
      "outputs": []
    },
    {
      "cell_type": "markdown",
      "source": [
        "### Numerical columns"
      ],
      "metadata": {
        "id": "P_k6YQPRL3zG"
      }
    },
    {
      "cell_type": "code",
      "source": [
        "# Numerical Features\n",
        "\n",
        "\n",
        "#numerical columnns\n",
        "\n",
        "numerical_features = df.select_dtypes(include = np.number)\n",
        "numerical_features.head()"
      ],
      "metadata": {
        "colab": {
          "base_uri": "https://localhost:8080/",
          "height": 206
        },
        "id": "ST_Xxom_D0PA",
        "outputId": "9c294cd0-559b-491b-a943-ff7a7ae9f0b6"
      },
      "execution_count": 166,
      "outputs": [
        {
          "output_type": "execute_result",
          "data": {
            "text/plain": [
              "   vehicle_age  km_driven  mileage  engine  max_power  seats  selling_price\n",
              "0            9     120000    19.70     796      46.30      5         120000\n",
              "1            5      20000    18.90    1197      82.00      5         550000\n",
              "2           11      60000    17.00    1197      80.00      5         215000\n",
              "3            9      37000    20.92     998      67.10      5         226000\n",
              "4            6      30000    22.77    1498      98.59      5         570000"
            ],
            "text/html": [
              "\n",
              "  <div id=\"df-a4fbfa58-27de-4482-bf88-196e419db31e\">\n",
              "    <div class=\"colab-df-container\">\n",
              "      <div>\n",
              "<style scoped>\n",
              "    .dataframe tbody tr th:only-of-type {\n",
              "        vertical-align: middle;\n",
              "    }\n",
              "\n",
              "    .dataframe tbody tr th {\n",
              "        vertical-align: top;\n",
              "    }\n",
              "\n",
              "    .dataframe thead th {\n",
              "        text-align: right;\n",
              "    }\n",
              "</style>\n",
              "<table border=\"1\" class=\"dataframe\">\n",
              "  <thead>\n",
              "    <tr style=\"text-align: right;\">\n",
              "      <th></th>\n",
              "      <th>vehicle_age</th>\n",
              "      <th>km_driven</th>\n",
              "      <th>mileage</th>\n",
              "      <th>engine</th>\n",
              "      <th>max_power</th>\n",
              "      <th>seats</th>\n",
              "      <th>selling_price</th>\n",
              "    </tr>\n",
              "  </thead>\n",
              "  <tbody>\n",
              "    <tr>\n",
              "      <th>0</th>\n",
              "      <td>9</td>\n",
              "      <td>120000</td>\n",
              "      <td>19.70</td>\n",
              "      <td>796</td>\n",
              "      <td>46.30</td>\n",
              "      <td>5</td>\n",
              "      <td>120000</td>\n",
              "    </tr>\n",
              "    <tr>\n",
              "      <th>1</th>\n",
              "      <td>5</td>\n",
              "      <td>20000</td>\n",
              "      <td>18.90</td>\n",
              "      <td>1197</td>\n",
              "      <td>82.00</td>\n",
              "      <td>5</td>\n",
              "      <td>550000</td>\n",
              "    </tr>\n",
              "    <tr>\n",
              "      <th>2</th>\n",
              "      <td>11</td>\n",
              "      <td>60000</td>\n",
              "      <td>17.00</td>\n",
              "      <td>1197</td>\n",
              "      <td>80.00</td>\n",
              "      <td>5</td>\n",
              "      <td>215000</td>\n",
              "    </tr>\n",
              "    <tr>\n",
              "      <th>3</th>\n",
              "      <td>9</td>\n",
              "      <td>37000</td>\n",
              "      <td>20.92</td>\n",
              "      <td>998</td>\n",
              "      <td>67.10</td>\n",
              "      <td>5</td>\n",
              "      <td>226000</td>\n",
              "    </tr>\n",
              "    <tr>\n",
              "      <th>4</th>\n",
              "      <td>6</td>\n",
              "      <td>30000</td>\n",
              "      <td>22.77</td>\n",
              "      <td>1498</td>\n",
              "      <td>98.59</td>\n",
              "      <td>5</td>\n",
              "      <td>570000</td>\n",
              "    </tr>\n",
              "  </tbody>\n",
              "</table>\n",
              "</div>\n",
              "      <button class=\"colab-df-convert\" onclick=\"convertToInteractive('df-a4fbfa58-27de-4482-bf88-196e419db31e')\"\n",
              "              title=\"Convert this dataframe to an interactive table.\"\n",
              "              style=\"display:none;\">\n",
              "        \n",
              "  <svg xmlns=\"http://www.w3.org/2000/svg\" height=\"24px\"viewBox=\"0 0 24 24\"\n",
              "       width=\"24px\">\n",
              "    <path d=\"M0 0h24v24H0V0z\" fill=\"none\"/>\n",
              "    <path d=\"M18.56 5.44l.94 2.06.94-2.06 2.06-.94-2.06-.94-.94-2.06-.94 2.06-2.06.94zm-11 1L8.5 8.5l.94-2.06 2.06-.94-2.06-.94L8.5 2.5l-.94 2.06-2.06.94zm10 10l.94 2.06.94-2.06 2.06-.94-2.06-.94-.94-2.06-.94 2.06-2.06.94z\"/><path d=\"M17.41 7.96l-1.37-1.37c-.4-.4-.92-.59-1.43-.59-.52 0-1.04.2-1.43.59L10.3 9.45l-7.72 7.72c-.78.78-.78 2.05 0 2.83L4 21.41c.39.39.9.59 1.41.59.51 0 1.02-.2 1.41-.59l7.78-7.78 2.81-2.81c.8-.78.8-2.07 0-2.86zM5.41 20L4 18.59l7.72-7.72 1.47 1.35L5.41 20z\"/>\n",
              "  </svg>\n",
              "      </button>\n",
              "      \n",
              "  <style>\n",
              "    .colab-df-container {\n",
              "      display:flex;\n",
              "      flex-wrap:wrap;\n",
              "      gap: 12px;\n",
              "    }\n",
              "\n",
              "    .colab-df-convert {\n",
              "      background-color: #E8F0FE;\n",
              "      border: none;\n",
              "      border-radius: 50%;\n",
              "      cursor: pointer;\n",
              "      display: none;\n",
              "      fill: #1967D2;\n",
              "      height: 32px;\n",
              "      padding: 0 0 0 0;\n",
              "      width: 32px;\n",
              "    }\n",
              "\n",
              "    .colab-df-convert:hover {\n",
              "      background-color: #E2EBFA;\n",
              "      box-shadow: 0px 1px 2px rgba(60, 64, 67, 0.3), 0px 1px 3px 1px rgba(60, 64, 67, 0.15);\n",
              "      fill: #174EA6;\n",
              "    }\n",
              "\n",
              "    [theme=dark] .colab-df-convert {\n",
              "      background-color: #3B4455;\n",
              "      fill: #D2E3FC;\n",
              "    }\n",
              "\n",
              "    [theme=dark] .colab-df-convert:hover {\n",
              "      background-color: #434B5C;\n",
              "      box-shadow: 0px 1px 3px 1px rgba(0, 0, 0, 0.15);\n",
              "      filter: drop-shadow(0px 1px 2px rgba(0, 0, 0, 0.3));\n",
              "      fill: #FFFFFF;\n",
              "    }\n",
              "  </style>\n",
              "\n",
              "      <script>\n",
              "        const buttonEl =\n",
              "          document.querySelector('#df-a4fbfa58-27de-4482-bf88-196e419db31e button.colab-df-convert');\n",
              "        buttonEl.style.display =\n",
              "          google.colab.kernel.accessAllowed ? 'block' : 'none';\n",
              "\n",
              "        async function convertToInteractive(key) {\n",
              "          const element = document.querySelector('#df-a4fbfa58-27de-4482-bf88-196e419db31e');\n",
              "          const dataTable =\n",
              "            await google.colab.kernel.invokeFunction('convertToInteractive',\n",
              "                                                     [key], {});\n",
              "          if (!dataTable) return;\n",
              "\n",
              "          const docLinkHtml = 'Like what you see? Visit the ' +\n",
              "            '<a target=\"_blank\" href=https://colab.research.google.com/notebooks/data_table.ipynb>data table notebook</a>'\n",
              "            + ' to learn more about interactive tables.';\n",
              "          element.innerHTML = '';\n",
              "          dataTable['output_type'] = 'display_data';\n",
              "          await google.colab.output.renderOutput(dataTable, element);\n",
              "          const docLink = document.createElement('div');\n",
              "          docLink.innerHTML = docLinkHtml;\n",
              "          element.appendChild(docLink);\n",
              "        }\n",
              "      </script>\n",
              "    </div>\n",
              "  </div>\n",
              "  "
            ]
          },
          "metadata": {},
          "execution_count": 166
        }
      ]
    },
    {
      "cell_type": "code",
      "source": [
        "len(numerical_features.columns)"
      ],
      "metadata": {
        "colab": {
          "base_uri": "https://localhost:8080/"
        },
        "id": "liWRLCw3D4rl",
        "outputId": "9a7183b8-4804-42d1-f825-275052635c3c"
      },
      "execution_count": 167,
      "outputs": [
        {
          "output_type": "execute_result",
          "data": {
            "text/plain": [
              "7"
            ]
          },
          "metadata": {},
          "execution_count": 167
        }
      ]
    },
    {
      "cell_type": "markdown",
      "source": [
        "### Categorical Columns"
      ],
      "metadata": {
        "id": "zJDcJSY1L7Rm"
      }
    },
    {
      "cell_type": "code",
      "source": [
        "# caterigorical columns\n",
        "\n",
        "categorical_features = df.select_dtypes(exclude =np.number)\n",
        "categorical_features.head()"
      ],
      "metadata": {
        "colab": {
          "base_uri": "https://localhost:8080/",
          "height": 206
        },
        "id": "HQh-amuID8XY",
        "outputId": "b658290f-1b0c-43c0-e4fc-46c48f488b17"
      },
      "execution_count": 168,
      "outputs": [
        {
          "output_type": "execute_result",
          "data": {
            "text/plain": [
              "        car_name    brand     model seller_type fuel_type transmission_type\n",
              "0    Maruti Alto   Maruti      Alto  Individual    Petrol            Manual\n",
              "1  Hyundai Grand  Hyundai     Grand  Individual    Petrol            Manual\n",
              "2    Hyundai i20  Hyundai       i20  Individual    Petrol            Manual\n",
              "3    Maruti Alto   Maruti      Alto  Individual    Petrol            Manual\n",
              "4  Ford Ecosport     Ford  Ecosport      Dealer    Diesel            Manual"
            ],
            "text/html": [
              "\n",
              "  <div id=\"df-bae74d2f-cc85-4737-9ac0-90815310584e\">\n",
              "    <div class=\"colab-df-container\">\n",
              "      <div>\n",
              "<style scoped>\n",
              "    .dataframe tbody tr th:only-of-type {\n",
              "        vertical-align: middle;\n",
              "    }\n",
              "\n",
              "    .dataframe tbody tr th {\n",
              "        vertical-align: top;\n",
              "    }\n",
              "\n",
              "    .dataframe thead th {\n",
              "        text-align: right;\n",
              "    }\n",
              "</style>\n",
              "<table border=\"1\" class=\"dataframe\">\n",
              "  <thead>\n",
              "    <tr style=\"text-align: right;\">\n",
              "      <th></th>\n",
              "      <th>car_name</th>\n",
              "      <th>brand</th>\n",
              "      <th>model</th>\n",
              "      <th>seller_type</th>\n",
              "      <th>fuel_type</th>\n",
              "      <th>transmission_type</th>\n",
              "    </tr>\n",
              "  </thead>\n",
              "  <tbody>\n",
              "    <tr>\n",
              "      <th>0</th>\n",
              "      <td>Maruti Alto</td>\n",
              "      <td>Maruti</td>\n",
              "      <td>Alto</td>\n",
              "      <td>Individual</td>\n",
              "      <td>Petrol</td>\n",
              "      <td>Manual</td>\n",
              "    </tr>\n",
              "    <tr>\n",
              "      <th>1</th>\n",
              "      <td>Hyundai Grand</td>\n",
              "      <td>Hyundai</td>\n",
              "      <td>Grand</td>\n",
              "      <td>Individual</td>\n",
              "      <td>Petrol</td>\n",
              "      <td>Manual</td>\n",
              "    </tr>\n",
              "    <tr>\n",
              "      <th>2</th>\n",
              "      <td>Hyundai i20</td>\n",
              "      <td>Hyundai</td>\n",
              "      <td>i20</td>\n",
              "      <td>Individual</td>\n",
              "      <td>Petrol</td>\n",
              "      <td>Manual</td>\n",
              "    </tr>\n",
              "    <tr>\n",
              "      <th>3</th>\n",
              "      <td>Maruti Alto</td>\n",
              "      <td>Maruti</td>\n",
              "      <td>Alto</td>\n",
              "      <td>Individual</td>\n",
              "      <td>Petrol</td>\n",
              "      <td>Manual</td>\n",
              "    </tr>\n",
              "    <tr>\n",
              "      <th>4</th>\n",
              "      <td>Ford Ecosport</td>\n",
              "      <td>Ford</td>\n",
              "      <td>Ecosport</td>\n",
              "      <td>Dealer</td>\n",
              "      <td>Diesel</td>\n",
              "      <td>Manual</td>\n",
              "    </tr>\n",
              "  </tbody>\n",
              "</table>\n",
              "</div>\n",
              "      <button class=\"colab-df-convert\" onclick=\"convertToInteractive('df-bae74d2f-cc85-4737-9ac0-90815310584e')\"\n",
              "              title=\"Convert this dataframe to an interactive table.\"\n",
              "              style=\"display:none;\">\n",
              "        \n",
              "  <svg xmlns=\"http://www.w3.org/2000/svg\" height=\"24px\"viewBox=\"0 0 24 24\"\n",
              "       width=\"24px\">\n",
              "    <path d=\"M0 0h24v24H0V0z\" fill=\"none\"/>\n",
              "    <path d=\"M18.56 5.44l.94 2.06.94-2.06 2.06-.94-2.06-.94-.94-2.06-.94 2.06-2.06.94zm-11 1L8.5 8.5l.94-2.06 2.06-.94-2.06-.94L8.5 2.5l-.94 2.06-2.06.94zm10 10l.94 2.06.94-2.06 2.06-.94-2.06-.94-.94-2.06-.94 2.06-2.06.94z\"/><path d=\"M17.41 7.96l-1.37-1.37c-.4-.4-.92-.59-1.43-.59-.52 0-1.04.2-1.43.59L10.3 9.45l-7.72 7.72c-.78.78-.78 2.05 0 2.83L4 21.41c.39.39.9.59 1.41.59.51 0 1.02-.2 1.41-.59l7.78-7.78 2.81-2.81c.8-.78.8-2.07 0-2.86zM5.41 20L4 18.59l7.72-7.72 1.47 1.35L5.41 20z\"/>\n",
              "  </svg>\n",
              "      </button>\n",
              "      \n",
              "  <style>\n",
              "    .colab-df-container {\n",
              "      display:flex;\n",
              "      flex-wrap:wrap;\n",
              "      gap: 12px;\n",
              "    }\n",
              "\n",
              "    .colab-df-convert {\n",
              "      background-color: #E8F0FE;\n",
              "      border: none;\n",
              "      border-radius: 50%;\n",
              "      cursor: pointer;\n",
              "      display: none;\n",
              "      fill: #1967D2;\n",
              "      height: 32px;\n",
              "      padding: 0 0 0 0;\n",
              "      width: 32px;\n",
              "    }\n",
              "\n",
              "    .colab-df-convert:hover {\n",
              "      background-color: #E2EBFA;\n",
              "      box-shadow: 0px 1px 2px rgba(60, 64, 67, 0.3), 0px 1px 3px 1px rgba(60, 64, 67, 0.15);\n",
              "      fill: #174EA6;\n",
              "    }\n",
              "\n",
              "    [theme=dark] .colab-df-convert {\n",
              "      background-color: #3B4455;\n",
              "      fill: #D2E3FC;\n",
              "    }\n",
              "\n",
              "    [theme=dark] .colab-df-convert:hover {\n",
              "      background-color: #434B5C;\n",
              "      box-shadow: 0px 1px 3px 1px rgba(0, 0, 0, 0.15);\n",
              "      filter: drop-shadow(0px 1px 2px rgba(0, 0, 0, 0.3));\n",
              "      fill: #FFFFFF;\n",
              "    }\n",
              "  </style>\n",
              "\n",
              "      <script>\n",
              "        const buttonEl =\n",
              "          document.querySelector('#df-bae74d2f-cc85-4737-9ac0-90815310584e button.colab-df-convert');\n",
              "        buttonEl.style.display =\n",
              "          google.colab.kernel.accessAllowed ? 'block' : 'none';\n",
              "\n",
              "        async function convertToInteractive(key) {\n",
              "          const element = document.querySelector('#df-bae74d2f-cc85-4737-9ac0-90815310584e');\n",
              "          const dataTable =\n",
              "            await google.colab.kernel.invokeFunction('convertToInteractive',\n",
              "                                                     [key], {});\n",
              "          if (!dataTable) return;\n",
              "\n",
              "          const docLinkHtml = 'Like what you see? Visit the ' +\n",
              "            '<a target=\"_blank\" href=https://colab.research.google.com/notebooks/data_table.ipynb>data table notebook</a>'\n",
              "            + ' to learn more about interactive tables.';\n",
              "          element.innerHTML = '';\n",
              "          dataTable['output_type'] = 'display_data';\n",
              "          await google.colab.output.renderOutput(dataTable, element);\n",
              "          const docLink = document.createElement('div');\n",
              "          docLink.innerHTML = docLinkHtml;\n",
              "          element.appendChild(docLink);\n",
              "        }\n",
              "      </script>\n",
              "    </div>\n",
              "  </div>\n",
              "  "
            ]
          },
          "metadata": {},
          "execution_count": 168
        }
      ]
    },
    {
      "cell_type": "code",
      "source": [
        "df.dtypes[df.dtypes == 'category'].index"
      ],
      "metadata": {
        "colab": {
          "base_uri": "https://localhost:8080/"
        },
        "id": "63Ijya3XfHJl",
        "outputId": "8c2b4c87-c4a5-4464-d6ec-c0395d3389d9"
      },
      "execution_count": 169,
      "outputs": [
        {
          "output_type": "execute_result",
          "data": {
            "text/plain": [
              "Index([], dtype='object')"
            ]
          },
          "metadata": {},
          "execution_count": 169
        }
      ]
    },
    {
      "cell_type": "markdown",
      "source": [
        "### Unique values in columns\n"
      ],
      "metadata": {
        "id": "VW3aoou5L_an"
      }
    },
    {
      "cell_type": "code",
      "source": [
        "### Count of unique values in  features\n",
        "for feature in [feature for feature in df.columns if feature not in ['selling_price']]:\n",
        "  print(\"Feature {} has No. of unique values are : {}\".format(feature,df[feature].nunique()))"
      ],
      "metadata": {
        "colab": {
          "base_uri": "https://localhost:8080/"
        },
        "id": "qyw4rcKeD62H",
        "outputId": "7973761c-f948-438d-fc85-893ea7fb0673"
      },
      "execution_count": 170,
      "outputs": [
        {
          "output_type": "stream",
          "name": "stdout",
          "text": [
            "Feature car_name has No. of unique values are : 121\n",
            "Feature brand has No. of unique values are : 32\n",
            "Feature model has No. of unique values are : 120\n",
            "Feature vehicle_age has No. of unique values are : 24\n",
            "Feature km_driven has No. of unique values are : 3688\n",
            "Feature seller_type has No. of unique values are : 3\n",
            "Feature fuel_type has No. of unique values are : 5\n",
            "Feature transmission_type has No. of unique values are : 2\n",
            "Feature mileage has No. of unique values are : 411\n",
            "Feature engine has No. of unique values are : 110\n",
            "Feature max_power has No. of unique values are : 342\n",
            "Feature seats has No. of unique values are : 8\n"
          ]
        }
      ]
    },
    {
      "cell_type": "markdown",
      "source": [
        "### Binning Numerical Columns"
      ],
      "metadata": {
        "id": "8kmORI4iMF7y"
      }
    },
    {
      "cell_type": "code",
      "source": [
        "#Binning\n",
        "\n",
        "\n",
        "\n",
        "def binning_feature(feature):\n",
        "  plt.hist(df[feature])\n",
        "\n",
        "  # set x/y labels and plot title\n",
        "  plt.xlabel(f\"{feature.title()}\")\n",
        "  plt.ylabel(\"Count\")\n",
        "  plt.title(f\"{feature.title()} Bins\")\n",
        "  plt.show()\n",
        "\n",
        "  bins = np.linspace(min(df[feature]), max(df[feature]), 4)\n",
        "  printmd(\"**Value Range**\")\n",
        "\n",
        "  printmd(f\"Low ({bins[0] : .2f} - {bins[1]: .2f})\")\n",
        "  printmd(f\"Medium ({bins[1]: .2f} - {bins[2]: .2f})\")\n",
        "  printmd(f\"High ({bins[2]: .2f} - {bins[3]: .2f})\")\n",
        "  group_names = ['Low', 'Medium', 'High']\n",
        "  \n",
        "  df.insert(df.shape[1]-1,f'{feature}-binned', pd.cut(df[feature], bins, labels=group_names, include_lowest=True))\n",
        "  display(df[[feature, f'{feature}-binned']].head(10))\n",
        "\n",
        "\n",
        "  # count values\n",
        "  printmd(\"**Binning Distribution**\")\n",
        "  display(df[f'{feature}-binned'].value_counts())\n",
        "\n",
        "\n",
        "  # plot the distribution of each bin\n",
        "  plt.bar(group_names, df[f'{feature}-binned'].value_counts())\n",
        "\n",
        "\n",
        "  plt.xlabel(f\"{feature.title()}\")\n",
        "  plt.ylabel(\"Count\")\n",
        "  plt.title(f\"{feature.title()} Bins\")\n",
        "  plt.show()"
      ],
      "metadata": {
        "id": "00TctqcNELnk"
      },
      "execution_count": 171,
      "outputs": []
    },
    {
      "cell_type": "markdown",
      "source": [
        "# Uni-Variate analysis"
      ],
      "metadata": {
        "id": "vmQ6q91uMTop"
      }
    },
    {
      "cell_type": "code",
      "source": [
        "# univariate analysis"
      ],
      "metadata": {
        "id": "qzQql6PKF6xI"
      },
      "execution_count": 172,
      "outputs": []
    },
    {
      "cell_type": "markdown",
      "source": [
        "## Graphical analysis"
      ],
      "metadata": {
        "id": "HiAG-fe5MXMt"
      }
    },
    {
      "cell_type": "code",
      "source": [
        "# graphical analysis"
      ],
      "metadata": {
        "id": "A3C5zyTuMqQk"
      },
      "execution_count": 173,
      "outputs": []
    },
    {
      "cell_type": "markdown",
      "source": [
        "### distribution of numerical columns"
      ],
      "metadata": {
        "id": "-odH_ebBMc0W"
      }
    },
    {
      "cell_type": "code",
      "source": [
        "#unvariate analysis\n",
        "\n",
        "# distribution of Numerical variables\n",
        "\n",
        "### Checking outliers in numerical features\n",
        "\n",
        "plt.figure(figsize=(15,10))\n",
        "for i in enumerate(numerical_features):\n",
        "    plt.subplot(5, 4, i[0]+1)\n",
        "    sns.set(rc={'figure.figsize':(10,6)})\n",
        "    sns.histplot(data=df, x=i[1], palette ='rainbow')\n",
        "    plt.title(\"{}\".format(i[1]), fontweight=\"bold\")\n",
        "    plt.tight_layout()\n",
        "    plt.show"
      ],
      "metadata": {
        "colab": {
          "base_uri": "https://localhost:8080/",
          "height": 315
        },
        "id": "rblazoYfF_Jo",
        "outputId": "789ad2b2-3c3e-4304-bebf-9ce3318f9c8a"
      },
      "execution_count": 174,
      "outputs": [
        {
          "output_type": "display_data",
          "data": {
            "text/plain": [
              "<Figure size 1080x720 with 7 Axes>"
            ],
            "image/png": "[encoded data removed]"
          },
          "metadata": {
            "needs_background": "light"
          }
        }
      ]
    },
    {
      "cell_type": "markdown",
      "source": [
        "### spread of data(outlier detection)"
      ],
      "metadata": {
        "id": "a7gAA1tJMg3h"
      }
    },
    {
      "cell_type": "code",
      "source": [
        "\n",
        "# #outliers\n",
        "\n",
        "### Checking outliers in numerical features\n",
        "\n",
        "plt.figure(figsize=(20,30))\n",
        "for feature in enumerate(numerical_features):\n",
        "    plt.subplot(10, 5, feature[0]+1)\n",
        "    sns.set(rc={'figure.figsize':(10,6)})\n",
        "    sns.boxplot(data=df, x=feature[1], palette = 'rainbow')\n",
        "    plt.title(\"{}\".format(feature[1]), fontweight=\"bold\", fontsize=15)\n",
        "    plt.tight_layout()"
      ],
      "metadata": {
        "colab": {
          "base_uri": "https://localhost:8080/",
          "height": 451
        },
        "id": "dd5OI_K8GDC-",
        "outputId": "65065f04-3dda-489f-b3d4-95ebc580885b"
      },
      "execution_count": 175,
      "outputs": [
        {
          "output_type": "display_data",
          "data": {
            "text/plain": [
              "<Figure size 1440x2160 with 7 Axes>"
            ],
            "image/png": "[encoded data removed]"
          },
          "metadata": {}
        }
      ]
    },
    {
      "cell_type": "code",
      "source": [],
      "metadata": {
        "id": "l3iOMcspMgWP"
      },
      "execution_count": 175,
      "outputs": []
    },
    {
      "cell_type": "markdown",
      "source": [
        "### Distribution of Target variable"
      ],
      "metadata": {
        "id": "LtG0Sz0uMl5W"
      }
    },
    {
      "cell_type": "code",
      "source": [
        "# distribution of target variable\n",
        "\n",
        "sns.histplot(df['selling_price'],palette = 'rainbow')\n",
        "plt.show()"
      ],
      "metadata": {
        "colab": {
          "base_uri": "https://localhost:8080/",
          "height": 394
        },
        "id": "y8kLKQTXGgP4",
        "outputId": "03e1bba0-f696-489a-e85a-40abeefb12fb"
      },
      "execution_count": 176,
      "outputs": [
        {
          "output_type": "display_data",
          "data": {
            "text/plain": [
              "<Figure size 720x432 with 1 Axes>"
            ],
            "image/png": "[encoded data removed]"
          },
          "metadata": {}
        }
      ]
    },
    {
      "cell_type": "markdown",
      "source": [
        "### Distribution of Categorical columns"
      ],
      "metadata": {
        "id": "0nDPUjUpMqpx"
      }
    },
    {
      "cell_type": "code",
      "source": [
        "# distribution of categorical variables\n",
        "\n",
        "categorical_features.columns"
      ],
      "metadata": {
        "colab": {
          "base_uri": "https://localhost:8080/"
        },
        "id": "08wyjmFTNFQh",
        "outputId": "0d3e7bf7-cfe7-40a3-d853-3b49896e8414"
      },
      "execution_count": 177,
      "outputs": [
        {
          "output_type": "execute_result",
          "data": {
            "text/plain": [
              "Index(['car_name', 'brand', 'model', 'seller_type', 'fuel_type',\n",
              "       'transmission_type'],\n",
              "      dtype='object')"
            ]
          },
          "metadata": {},
          "execution_count": 177
        }
      ]
    },
    {
      "cell_type": "code",
      "source": [
        "### Checking outliers in numerical features\n",
        "\n",
        "plt.figure(figsize=(20,30))\n",
        "for feature in enumerate(categorical_features):\n",
        "    plt.subplot(10, 5, feature[0]+1)\n",
        "    sns.set(rc={'figure.figsize':(15,8)})\n",
        "    sns.countplot(data=df, x=feature[1], palette = 'rainbow')\n",
        "    plt.title(\"{}\".format(feature[1]), fontweight=\"bold\", fontsize=15)\n",
        "    plt.tight_layout()"
      ],
      "metadata": {
        "colab": {
          "base_uri": "https://localhost:8080/",
          "height": 451
        },
        "id": "rkRCZisoC1BE",
        "outputId": "5ee2c50f-f65d-4781-ea78-aea0e12bba28"
      },
      "execution_count": 178,
      "outputs": [
        {
          "output_type": "display_data",
          "data": {
            "text/plain": [
              "<Figure size 1440x2160 with 6 Axes>"
            ],
            "image/png": "[encoded data removed]"
          },
          "metadata": {}
        }
      ]
    },
    {
      "cell_type": "markdown",
      "source": [
        "##Statistical analysis"
      ],
      "metadata": {
        "id": "FoEeiCIQMvX8"
      }
    },
    {
      "cell_type": "code",
      "source": [
        "#statistical analysis"
      ],
      "metadata": {
        "id": "3N2NGiqFMuv4"
      },
      "execution_count": 179,
      "outputs": []
    },
    {
      "cell_type": "markdown",
      "source": [
        "\n",
        "\n",
        "Statistical Normality Tests\n",
        "\n",
        "\n",
        "Popular normality tests - D’Agostino’s K^2, Shapiro-Wilk, Anderson-Darling .\n",
        "\n",
        "There are three numerical features in this dataset - MonthlyCharges, Tenure, and TotalCharges.\n",
        "\n",
        "Hypotheses -\n",
        "\n",
        "H0: the sample has a Gaussian distribution.\n",
        "\n",
        "H1: the sample does not have a Gaussian distribution."
      ],
      "metadata": {
        "id": "2i0QfIKrGTtm"
      }
    },
    {
      "cell_type": "markdown",
      "source": [
        "### Normality test"
      ],
      "metadata": {
        "id": "M0M2f5k0NCEd"
      }
    },
    {
      "cell_type": "code",
      "source": [
        "#vehicle_age\n",
        "\n",
        "stat, p = stats.normaltest(df['vehicle_age'])\n",
        "\n",
        "print('Statistics=%.5f, p=%.3f' % (stat, p))\n",
        "\n",
        "# interpret\n",
        "alpha = 0.05\n",
        "if p > alpha:\n",
        "\tprint('Sample looks Gaussian (fail to reject H0)')\n",
        "else:\n",
        "\tprint('Sample does not look Gaussian (reject H0)')"
      ],
      "metadata": {
        "colab": {
          "base_uri": "https://localhost:8080/"
        },
        "id": "qmmm_4JYGYp4",
        "outputId": "caf3a625-fbe5-442d-c09b-3fd951eed5da"
      },
      "execution_count": 180,
      "outputs": [
        {
          "output_type": "stream",
          "name": "stdout",
          "text": [
            "Statistics=1578.12106, p=0.000\n",
            "Sample does not look Gaussian (reject H0)\n"
          ]
        }
      ]
    },
    {
      "cell_type": "code",
      "source": [
        "#km_driven\n",
        "\n",
        "stat, p = stats.normaltest(df['km_driven'])\n",
        "\n",
        "print('Statistics=%.5f, p=%.3f' % (stat, p))\n",
        "\n",
        "# interpret\n",
        "alpha = 0.05\n",
        "if p > alpha:\n",
        "\tprint('Sample looks Gaussian (fail to reject H0)')\n",
        "else:\n",
        "\tprint('Sample does not look Gaussian (reject H0)')"
      ],
      "metadata": {
        "colab": {
          "base_uri": "https://localhost:8080/"
        },
        "id": "v3me5Tr6GbJp",
        "outputId": "1a8e5cd6-9212-4546-dc3f-ba51e0037354"
      },
      "execution_count": 181,
      "outputs": [
        {
          "output_type": "stream",
          "name": "stdout",
          "text": [
            "Statistics=39322.98051, p=0.000\n",
            "Sample does not look Gaussian (reject H0)\n"
          ]
        }
      ]
    },
    {
      "cell_type": "code",
      "source": [
        "#mileage\n",
        "\n",
        "stat, p = stats.normaltest(df['mileage'])\n",
        "\n",
        "print('Statistics=%.5f, p=%.3f' % (stat, p))\n",
        "\n",
        "# interpret\n",
        "alpha = 0.05\n",
        "if p > alpha:\n",
        "\tprint('Sample looks Gaussian (fail to reject H0)')\n",
        "else:\n",
        "\tprint('Sample does not look Gaussian (reject H0)')"
      ],
      "metadata": {
        "colab": {
          "base_uri": "https://localhost:8080/"
        },
        "id": "VsLC0Wr4SUHa",
        "outputId": "0753005f-bd9f-4c93-c82d-64b1bf71e07b"
      },
      "execution_count": 182,
      "outputs": [
        {
          "output_type": "stream",
          "name": "stdout",
          "text": [
            "Statistics=49.53249, p=0.000\n",
            "Sample does not look Gaussian (reject H0)\n"
          ]
        }
      ]
    },
    {
      "cell_type": "code",
      "source": [
        "#max_power\n",
        "\n",
        "stat, p = stats.normaltest(df['max_power'])\n",
        "\n",
        "print('Statistics=%.5f, p=%.3f' % (stat, p))\n",
        "\n",
        "# interpret\n",
        "alpha = 0.05\n",
        "if p > alpha:\n",
        "\tprint('Sample looks Gaussian (fail to reject H0)')\n",
        "else:\n",
        "\tprint('Sample does not look Gaussian (reject H0)')"
      ],
      "metadata": {
        "colab": {
          "base_uri": "https://localhost:8080/"
        },
        "id": "RJ5sCPfqSUJ0",
        "outputId": "27cc4ec0-cc49-459d-8aac-76387fc07455"
      },
      "execution_count": 183,
      "outputs": [
        {
          "output_type": "stream",
          "name": "stdout",
          "text": [
            "Statistics=8705.48094, p=0.000\n",
            "Sample does not look Gaussian (reject H0)\n"
          ]
        }
      ]
    },
    {
      "cell_type": "code",
      "source": [],
      "metadata": {
        "id": "t20WTNehShet"
      },
      "execution_count": 183,
      "outputs": []
    },
    {
      "cell_type": "markdown",
      "source": [
        "#Bi-Variate analysis"
      ],
      "metadata": {
        "id": "Z4BfVKXINUWs"
      }
    },
    {
      "cell_type": "markdown",
      "source": [
        "\n",
        "In this section, I did an extensive statistical analysis with various\n",
        "\n",
        "hypotheses testing based on paired data types like -\n",
        "\n",
        "1.numerical and numerical data\n",
        "\n",
        "2.numerical and ordinal data\n",
        "\n",
        "3.ordinal and ordinal data\n",
        "\n",
        "4.categorical and categorical data"
      ],
      "metadata": {
        "id": "C_vFs0MiPR4t"
      }
    },
    {
      "cell_type": "code",
      "source": [
        "\n",
        "# Check cardinality of categorical variables \n",
        "target_col_filter = df.loc[:, df.columns != 'selling_price']\n",
        "\n",
        "\n",
        "cat_cols = list(set(target_col_filter.columns) - set(target_col_filter._get_numeric_data().columns))\n",
        "\n",
        "num_cols = list(set(target_col_filter._get_numeric_data().columns)) # already converted to integer\n",
        "\n",
        "\n",
        "# Get number of unique entries in each column with categorical data\n",
        "object_nunique = list(map(lambda col: target_col_filter[col].nunique(), cat_cols))\n",
        "dict_features_by_col = dict(zip(cat_cols, object_nunique))\n",
        "\n",
        "\n",
        "# Print number of unique entries by column, in ascending order\n",
        "print(sorted(dict_features_by_col.items(), key=lambda x: x[1]))\n",
        "\n",
        "\n",
        "#ordinal_cols = ['tenure-binned', 'MonthlyCharges-binned', 'TotalCharges-binned']\n",
        "#dichotomous_cols = [cat for cat in cat_cols if df[cat].value_counts().count() == 2]\n",
        "#polytomous_cols = list(set(cat_cols) - set(dichotomous_cols) - set(ordinal_cols))\n",
        "\n",
        "\n",
        "print(\"Categorical Columns\", cat_cols)\n",
        "print('----------------------------------------')\n",
        "print(\"Numerical Columns\", num_cols)\n",
        "print('----------------------------------------')\n",
        "#print(\"Ordinal Columns\", ordinal_cols)\n",
        "print('----------------------------------------')\n",
        "print(\"Dichotomous Columns\", dichotomous_cols)\n",
        "print('----------------------------------------')\n",
        "print(\"Polytomous Columns\", polytomous_cols)"
      ],
      "metadata": {
        "colab": {
          "base_uri": "https://localhost:8080/",
          "height": 339
        },
        "id": "N3lj5abNPlSR",
        "outputId": "c07fe80d-f3bb-485d-c6a8-fe4322a607d1"
      },
      "execution_count": 184,
      "outputs": [
        {
          "output_type": "stream",
          "name": "stdout",
          "text": [
            "[('transmission_type', 2), ('seller_type', 3), ('fuel_type', 5), ('brand', 32), ('model', 120), ('car_name', 121)]\n",
            "Categorical Columns ['seller_type', 'brand', 'model', 'transmission_type', 'fuel_type', 'car_name']\n",
            "----------------------------------------\n",
            "Numerical Columns ['mileage', 'max_power', 'km_driven', 'seats', 'vehicle_age', 'engine']\n",
            "----------------------------------------\n",
            "----------------------------------------\n",
            "Dichotomous Columns ['transmission_type']\n",
            "----------------------------------------\n"
          ]
        },
        {
          "output_type": "error",
          "ename": "NameError",
          "evalue": "ignored",
          "traceback": [
            "\u001b[0;31m---------------------------------------------------------------------------\u001b[0m",
            "\u001b[0;31mNameError\u001b[0m                                 Traceback (most recent call last)",
            "\u001b[0;32m<ipython-input-184-e49c72374d90>\u001b[0m in \u001b[0;36m<module>\u001b[0;34m\u001b[0m\n\u001b[1;32m     30\u001b[0m \u001b[0mprint\u001b[0m\u001b[0;34m(\u001b[0m\u001b[0;34m\"Dichotomous Columns\"\u001b[0m\u001b[0;34m,\u001b[0m \u001b[0mdichotomous_cols\u001b[0m\u001b[0;34m)\u001b[0m\u001b[0;34m\u001b[0m\u001b[0;34m\u001b[0m\u001b[0m\n\u001b[1;32m     31\u001b[0m \u001b[0mprint\u001b[0m\u001b[0;34m(\u001b[0m\u001b[0;34m'----------------------------------------'\u001b[0m\u001b[0;34m)\u001b[0m\u001b[0;34m\u001b[0m\u001b[0;34m\u001b[0m\u001b[0m\n\u001b[0;32m---> 32\u001b[0;31m \u001b[0mprint\u001b[0m\u001b[0;34m(\u001b[0m\u001b[0;34m\"Polytomous Columns\"\u001b[0m\u001b[0;34m,\u001b[0m \u001b[0mpolytomous_cols\u001b[0m\u001b[0;34m)\u001b[0m\u001b[0;34m\u001b[0m\u001b[0;34m\u001b[0m\u001b[0m\n\u001b[0m",
            "\u001b[0;31mNameError\u001b[0m: name 'polytomous_cols' is not defined"
          ]
        }
      ]
    },
    {
      "cell_type": "markdown",
      "source": [
        "## Statisical analysis"
      ],
      "metadata": {
        "id": "rIiRa1PdNhDt"
      }
    },
    {
      "cell_type": "markdown",
      "source": [
        "### Numerical -Numerical"
      ],
      "metadata": {
        "id": "QxhjOLRmNkcq"
      }
    },
    {
      "cell_type": "code",
      "source": [
        "#Spearman rank-order correlation"
      ],
      "metadata": {
        "id": "n6scc5FqQiZ_"
      },
      "execution_count": null,
      "outputs": []
    },
    {
      "cell_type": "code",
      "source": [],
      "metadata": {
        "id": "mvDsgEdseR0h"
      },
      "execution_count": null,
      "outputs": []
    },
    {
      "cell_type": "code",
      "source": [
        "def cal_spearmanr(c1, c2):\n",
        "\n",
        "  alpha = 0.05\n",
        "\n",
        "  correlation, p_value = stats.spearmanr(df[c1], df[c2])\n",
        "\n",
        "  print(f'{c1}, {c2} correlation : {correlation}, p : {p_value}')\n",
        "\n",
        "  if p_value > alpha:\n",
        "    print('Probably do not have monotonic relationship (fail to reject H0)')\n",
        "  else:\n",
        "    print('Probably have monotonic relationship (reject H0)')\n",
        "     "
      ],
      "metadata": {
        "id": "AoepnOb1QkjZ"
      },
      "execution_count": 185,
      "outputs": []
    },
    {
      "cell_type": "code",
      "source": [
        "\n",
        "cal_spearmanr('km_driven','mileage')"
      ],
      "metadata": {
        "colab": {
          "base_uri": "https://localhost:8080/"
        },
        "id": "BWCvnEE_QsIP",
        "outputId": "c19a81c9-6b35-4b22-ed05-f554f5d3f0a4"
      },
      "execution_count": 186,
      "outputs": [
        {
          "output_type": "stream",
          "name": "stdout",
          "text": [
            "km_driven, mileage correlation : -0.0971520165477612, p : 1.2196199946650203e-33\n",
            "Probably have monotonic relationship (reject H0)\n"
          ]
        }
      ]
    },
    {
      "cell_type": "code",
      "source": [
        "cal_spearmanr('km_driven','max_power')"
      ],
      "metadata": {
        "colab": {
          "base_uri": "https://localhost:8080/"
        },
        "id": "8nRZss7KQsks",
        "outputId": "990562cc-a64a-423f-a468-8930f2522c74"
      },
      "execution_count": 187,
      "outputs": [
        {
          "output_type": "stream",
          "name": "stdout",
          "text": [
            "km_driven, max_power correlation : 0.09623764516749876, p : 4.870097210706374e-33\n",
            "Probably have monotonic relationship (reject H0)\n"
          ]
        }
      ]
    },
    {
      "cell_type": "code",
      "source": [
        "\n",
        "cal_spearmanr('vehicle_age','km_driven')"
      ],
      "metadata": {
        "colab": {
          "base_uri": "https://localhost:8080/"
        },
        "id": "BeYRxik7Qu_q",
        "outputId": "ef32dabd-f1dc-48c5-c1e4-6f9b0cc40ecc"
      },
      "execution_count": 188,
      "outputs": [
        {
          "output_type": "stream",
          "name": "stdout",
          "text": [
            "vehicle_age, km_driven correlation : 0.5760053446328515, p : 0.0\n",
            "Probably have monotonic relationship (reject H0)\n"
          ]
        }
      ]
    },
    {
      "cell_type": "code",
      "source": [
        "cal_spearmanr('engine','km_driven')"
      ],
      "metadata": {
        "colab": {
          "base_uri": "https://localhost:8080/"
        },
        "id": "cI1w9jjMTsIu",
        "outputId": "dcae860d-5a56-43b0-f7ef-2a5867e2f23a"
      },
      "execution_count": 189,
      "outputs": [
        {
          "output_type": "stream",
          "name": "stdout",
          "text": [
            "engine, km_driven correlation : 0.2730597666167971, p : 1.2466542088084069e-261\n",
            "Probably have monotonic relationship (reject H0)\n"
          ]
        }
      ]
    },
    {
      "cell_type": "markdown",
      "source": [
        "### Numerical - Categorical"
      ],
      "metadata": {
        "id": "edjXuwmXNrdd"
      }
    },
    {
      "cell_type": "code",
      "source": [
        "#Numerical & Categorical"
      ],
      "metadata": {
        "id": "_2LfmaXuQwaN"
      },
      "execution_count": 190,
      "outputs": []
    },
    {
      "cell_type": "code",
      "source": [
        "def kendall_rank_correlation(feature1, feature2):\n",
        "\n",
        "  coef, p_value = stats.kendalltau(df[feature1], df[feature2])\n",
        "  print(f\"Correlation between {feature1} and {feature2} \")\n",
        "  print('Kendall correlation coefficient = %.5f, p = %.5f' % (coef, p_value))\n",
        "\n",
        "  # interpret the significance\n",
        "  alpha = 0.05\n",
        "  if p_value > alpha:\n",
        "    print('Samples are uncorrelated (fail to reject H0) p=%.3f' % p_value)\n",
        "  else:\n",
        "    print('Samples are correlated (reject H0) p=%.3f' % p_value)\n",
        "  print('---------------------------------------------\\n')"
      ],
      "metadata": {
        "id": "LonPQjsaQzPf"
      },
      "execution_count": 191,
      "outputs": []
    },
    {
      "cell_type": "code",
      "source": [],
      "metadata": {
        "id": "67-KF0wMQ76x"
      },
      "execution_count": 191,
      "outputs": []
    },
    {
      "cell_type": "code",
      "source": [],
      "metadata": {
        "id": "w89Tdl1YQ8Ur"
      },
      "execution_count": 191,
      "outputs": []
    },
    {
      "cell_type": "code",
      "source": [],
      "metadata": {
        "id": "60f406g9RaTa"
      },
      "execution_count": 191,
      "outputs": []
    },
    {
      "cell_type": "markdown",
      "source": [
        "### Categorial -Categorical"
      ],
      "metadata": {
        "id": "7JpIT3JyNxQw"
      }
    },
    {
      "cell_type": "code",
      "source": [
        "#Categorical & categorical\n",
        "\n",
        "def calculate_chi_square(feature1, feature2='fuel_type'):\n",
        "  printmd(f\"Correlation between **{feature1}** and **{feature2}**\")\n",
        "  crosstab = pd.crosstab(df[feature1], df[feature2])\n",
        "  # display(crosstab)\n",
        "  stat, p, dof, expected = stats.chi2_contingency(crosstab,correction=True)\n",
        "\n",
        "\n",
        "  print(f'p-value : {p}, degree of freedom: {dof}')\n",
        "  # print(\"expected frequencies :\\n\", expected)\n",
        "\n",
        "  # interpret test-statistic\n",
        "  prob = 0.95\n",
        "  critical = stats.chi2.ppf(prob, dof)\n",
        "  print('probability=%.3f, critical=%.3f, stat=%.3f' % (prob, critical, stat))\n",
        "\n",
        "  if abs(stat) >= critical:\n",
        "    print('Dependent (reject H0)')\n",
        "  else:\n",
        "    print('Independent (fail to reject H0)')\n",
        "  \n",
        "  # interpret p-value\n",
        "  alpha = 1.0 - prob\n",
        "  \n",
        "  print('significance=%.3f, p=%.3f' % (alpha, p))\n",
        "  if p <= alpha:\n",
        "    print('Dependent (reject H0)')\n",
        "  else:\n",
        "    print('Independent (fail to reject H0)')\n",
        "  print('-----------------------------------\\n')\n"
      ],
      "metadata": {
        "id": "QCmE5yTIRhOI"
      },
      "execution_count": 192,
      "outputs": []
    },
    {
      "cell_type": "code",
      "source": [
        "\n",
        "printmd(\"**Chi-Squre Correlation Between Dichotomous Features with Target : fuel_type**\")\n",
        "\n",
        "for col in dichotomous_cols:\n",
        "  calculate_chi_square(col)"
      ],
      "metadata": {
        "colab": {
          "base_uri": "https://localhost:8080/",
          "height": 191
        },
        "id": "mjVie_kqR85H",
        "outputId": "a3dfc583-c60b-46c9-d5be-5b902395506c"
      },
      "execution_count": 193,
      "outputs": [
        {
          "output_type": "display_data",
          "data": {
            "text/plain": [
              "<IPython.core.display.Markdown object>"
            ],
            "text/markdown": "**Chi-Squre Correlation Between Dichotomous Features with Target : fuel_type**"
          },
          "metadata": {}
        },
        {
          "output_type": "display_data",
          "data": {
            "text/plain": [
              "<IPython.core.display.Markdown object>"
            ],
            "text/markdown": "Correlation between **transmission_type** and **fuel_type**"
          },
          "metadata": {}
        },
        {
          "output_type": "stream",
          "name": "stdout",
          "text": [
            "p-value : 8.640300591160017e-24, degree of freedom: 4\n",
            "probability=0.950, critical=9.488, stat=114.338\n",
            "Dependent (reject H0)\n",
            "significance=0.050, p=0.000\n",
            "Dependent (reject H0)\n",
            "-----------------------------------\n",
            "\n"
          ]
        }
      ]
    },
    {
      "cell_type": "code",
      "source": [
        "\n",
        "printmd(\"**Chi-Squre Correlation Between Polytomous Features with Target : fuel_type**\")\n",
        "\n",
        "for col in polytomous_cols:\n",
        "  calculate_chi_square(col)"
      ],
      "metadata": {
        "colab": {
          "base_uri": "https://localhost:8080/",
          "height": 247
        },
        "id": "jNBMNBLLR_XL",
        "outputId": "cdd737f4-e294-4feb-d541-3ebc50a552bb"
      },
      "execution_count": 194,
      "outputs": [
        {
          "output_type": "display_data",
          "data": {
            "text/plain": [
              "<IPython.core.display.Markdown object>"
            ],
            "text/markdown": "**Chi-Squre Correlation Between Polytomous Features with Target : fuel_type**"
          },
          "metadata": {}
        },
        {
          "output_type": "error",
          "ename": "NameError",
          "evalue": "ignored",
          "traceback": [
            "\u001b[0;31m---------------------------------------------------------------------------\u001b[0m",
            "\u001b[0;31mNameError\u001b[0m                                 Traceback (most recent call last)",
            "\u001b[0;32m<ipython-input-194-45f85514bbb9>\u001b[0m in \u001b[0;36m<module>\u001b[0;34m\u001b[0m\n\u001b[1;32m      1\u001b[0m \u001b[0mprintmd\u001b[0m\u001b[0;34m(\u001b[0m\u001b[0;34m\"**Chi-Squre Correlation Between Polytomous Features with Target : fuel_type**\"\u001b[0m\u001b[0;34m)\u001b[0m\u001b[0;34m\u001b[0m\u001b[0;34m\u001b[0m\u001b[0m\n\u001b[1;32m      2\u001b[0m \u001b[0;34m\u001b[0m\u001b[0m\n\u001b[0;32m----> 3\u001b[0;31m \u001b[0;32mfor\u001b[0m \u001b[0mcol\u001b[0m \u001b[0;32min\u001b[0m \u001b[0mpolytomous_cols\u001b[0m\u001b[0;34m:\u001b[0m\u001b[0;34m\u001b[0m\u001b[0;34m\u001b[0m\u001b[0m\n\u001b[0m\u001b[1;32m      4\u001b[0m   \u001b[0mcalculate_chi_square\u001b[0m\u001b[0;34m(\u001b[0m\u001b[0mcol\u001b[0m\u001b[0;34m)\u001b[0m\u001b[0;34m\u001b[0m\u001b[0;34m\u001b[0m\u001b[0m\n",
            "\u001b[0;31mNameError\u001b[0m: name 'polytomous_cols' is not defined"
          ]
        }
      ]
    },
    {
      "cell_type": "code",
      "source": [
        "\n",
        "calculate_chi_square('fuel_type','transmission_type')"
      ],
      "metadata": {
        "id": "x2NcAj8WSIm_"
      },
      "execution_count": null,
      "outputs": []
    },
    {
      "cell_type": "code",
      "source": [
        "calculate_chi_square('seller_type','fuel_type')"
      ],
      "metadata": {
        "id": "NeB2MFoxSNee"
      },
      "execution_count": null,
      "outputs": []
    },
    {
      "cell_type": "code",
      "source": [
        "\n",
        "calculate_chi_square('transmission_type','seller_type')"
      ],
      "metadata": {
        "id": "jW5dQ6pESPvD"
      },
      "execution_count": null,
      "outputs": []
    },
    {
      "cell_type": "markdown",
      "source": [
        "## Graphical Analysis"
      ],
      "metadata": {
        "id": "NP-vbOyuN42T"
      }
    },
    {
      "cell_type": "markdown",
      "source": [
        "### Numerical - Numerical"
      ],
      "metadata": {
        "id": "FReCap1kR73I"
      }
    },
    {
      "cell_type": "code",
      "source": [
        "### Top 10 brands wrt sales\n",
        "plt.figure(figsize=(10,6))\n",
        "sns.barplot(y=df['brand'].value_counts()[:10], x=df['brand'].value_counts().index[:10])\n",
        "plt.ylabel('Count of Sales', fontsize=15, fontweight='bold')\n",
        "plt.xlabel(\"Brand\",fontsize=15, fontweight='bold')\n",
        "plt.xticks(rotation=90)\n",
        "plt.title(\"Top 10 brands with respect to sales Sales\",fontsize=15, fontweight='bold')\n",
        "plt.show();"
      ],
      "metadata": {
        "colab": {
          "base_uri": "https://localhost:8080/",
          "height": 469
        },
        "id": "0TXB6fU8feZZ",
        "outputId": "322928d7-0233-42c3-ab7d-65c883a2b709"
      },
      "execution_count": 195,
      "outputs": [
        {
          "output_type": "display_data",
          "data": {
            "text/plain": [
              "<Figure size 720x432 with 1 Axes>"
            ],
            "image/png": "[encoded data removed]"
          },
          "metadata": {}
        }
      ]
    },
    {
      "cell_type": "markdown",
      "source": [
        "### Numerical - Categorical"
      ],
      "metadata": {
        "id": "KRfKgMyESZA0"
      }
    },
    {
      "cell_type": "code",
      "source": [
        "\n",
        "### Bottom 10 brands wrt sales\n",
        "plt.figure(figsize=(10,6))\n",
        "sns.barplot(y=dataset['brand'].value_counts()[-10:], x=dataset['brand'].value_counts().index[-10:])\n",
        "plt.ylabel('Count of Sales', fontsize=15, fontweight='bold')\n",
        "plt.xlabel(\"Brand\",fontsize=15, fontweight='bold')\n",
        "plt.xticks(rotation=35)\n",
        "plt.title(\"Bottom 10 brands with respect to Sales\",fontsize=15, fontweight='bold')\n",
        "plt.show();"
      ],
      "metadata": {
        "colab": {
          "base_uri": "https://localhost:8080/",
          "height": 519
        },
        "id": "Zhz-jBq4fvGv",
        "outputId": "32efa95a-03eb-4973-e950-5cab04440870"
      },
      "execution_count": 196,
      "outputs": [
        {
          "output_type": "error",
          "ename": "KeyError",
          "evalue": "ignored",
          "traceback": [
            "\u001b[0;31m---------------------------------------------------------------------------\u001b[0m",
            "\u001b[0;31mKeyError\u001b[0m                                  Traceback (most recent call last)",
            "\u001b[0;32m/usr/local/lib/python3.8/dist-packages/pandas/core/indexes/base.py\u001b[0m in \u001b[0;36mget_loc\u001b[0;34m(self, key, method, tolerance)\u001b[0m\n\u001b[1;32m   3360\u001b[0m             \u001b[0;32mtry\u001b[0m\u001b[0;34m:\u001b[0m\u001b[0;34m\u001b[0m\u001b[0;34m\u001b[0m\u001b[0m\n\u001b[0;32m-> 3361\u001b[0;31m                 \u001b[0;32mreturn\u001b[0m \u001b[0mself\u001b[0m\u001b[0;34m.\u001b[0m\u001b[0m_engine\u001b[0m\u001b[0;34m.\u001b[0m\u001b[0mget_loc\u001b[0m\u001b[0;34m(\u001b[0m\u001b[0mcasted_key\u001b[0m\u001b[0;34m)\u001b[0m\u001b[0;34m\u001b[0m\u001b[0;34m\u001b[0m\u001b[0m\n\u001b[0m\u001b[1;32m   3362\u001b[0m             \u001b[0;32mexcept\u001b[0m \u001b[0mKeyError\u001b[0m \u001b[0;32mas\u001b[0m \u001b[0merr\u001b[0m\u001b[0;34m:\u001b[0m\u001b[0;34m\u001b[0m\u001b[0;34m\u001b[0m\u001b[0m\n",
            "\u001b[0;32m/usr/local/lib/python3.8/dist-packages/pandas/_libs/index.pyx\u001b[0m in \u001b[0;36mpandas._libs.index.IndexEngine.get_loc\u001b[0;34m()\u001b[0m\n",
            "\u001b[0;32m/usr/local/lib/python3.8/dist-packages/pandas/_libs/index.pyx\u001b[0m in \u001b[0;36mpandas._libs.index.IndexEngine.get_loc\u001b[0;34m()\u001b[0m\n",
            "\u001b[0;32mpandas/_libs/hashtable_class_helper.pxi\u001b[0m in \u001b[0;36mpandas._libs.hashtable.PyObjectHashTable.get_item\u001b[0;34m()\u001b[0m\n",
            "\u001b[0;32mpandas/_libs/hashtable_class_helper.pxi\u001b[0m in \u001b[0;36mpandas._libs.hashtable.PyObjectHashTable.get_item\u001b[0;34m()\u001b[0m\n",
            "\u001b[0;31mKeyError\u001b[0m: 'brand'",
            "\nThe above exception was the direct cause of the following exception:\n",
            "\u001b[0;31mKeyError\u001b[0m                                  Traceback (most recent call last)",
            "\u001b[0;32m<ipython-input-196-65497fd8bdf7>\u001b[0m in \u001b[0;36m<module>\u001b[0;34m\u001b[0m\n\u001b[1;32m      1\u001b[0m \u001b[0;31m### Bottom 10 brands wrt sales\u001b[0m\u001b[0;34m\u001b[0m\u001b[0;34m\u001b[0m\u001b[0;34m\u001b[0m\u001b[0m\n\u001b[1;32m      2\u001b[0m \u001b[0mplt\u001b[0m\u001b[0;34m.\u001b[0m\u001b[0mfigure\u001b[0m\u001b[0;34m(\u001b[0m\u001b[0mfigsize\u001b[0m\u001b[0;34m=\u001b[0m\u001b[0;34m(\u001b[0m\u001b[0;36m10\u001b[0m\u001b[0;34m,\u001b[0m\u001b[0;36m6\u001b[0m\u001b[0;34m)\u001b[0m\u001b[0;34m)\u001b[0m\u001b[0;34m\u001b[0m\u001b[0;34m\u001b[0m\u001b[0m\n\u001b[0;32m----> 3\u001b[0;31m \u001b[0msns\u001b[0m\u001b[0;34m.\u001b[0m\u001b[0mbarplot\u001b[0m\u001b[0;34m(\u001b[0m\u001b[0my\u001b[0m\u001b[0;34m=\u001b[0m\u001b[0mdataset\u001b[0m\u001b[0;34m[\u001b[0m\u001b[0;34m'brand'\u001b[0m\u001b[0;34m]\u001b[0m\u001b[0;34m.\u001b[0m\u001b[0mvalue_counts\u001b[0m\u001b[0;34m(\u001b[0m\u001b[0;34m)\u001b[0m\u001b[0;34m[\u001b[0m\u001b[0;34m-\u001b[0m\u001b[0;36m10\u001b[0m\u001b[0;34m:\u001b[0m\u001b[0;34m]\u001b[0m\u001b[0;34m,\u001b[0m \u001b[0mx\u001b[0m\u001b[0;34m=\u001b[0m\u001b[0mdataset\u001b[0m\u001b[0;34m[\u001b[0m\u001b[0;34m'brand'\u001b[0m\u001b[0;34m]\u001b[0m\u001b[0;34m.\u001b[0m\u001b[0mvalue_counts\u001b[0m\u001b[0;34m(\u001b[0m\u001b[0;34m)\u001b[0m\u001b[0;34m.\u001b[0m\u001b[0mindex\u001b[0m\u001b[0;34m[\u001b[0m\u001b[0;34m-\u001b[0m\u001b[0;36m10\u001b[0m\u001b[0;34m:\u001b[0m\u001b[0;34m]\u001b[0m\u001b[0;34m)\u001b[0m\u001b[0;34m\u001b[0m\u001b[0;34m\u001b[0m\u001b[0m\n\u001b[0m\u001b[1;32m      4\u001b[0m \u001b[0mplt\u001b[0m\u001b[0;34m.\u001b[0m\u001b[0mylabel\u001b[0m\u001b[0;34m(\u001b[0m\u001b[0;34m'Count of Sales'\u001b[0m\u001b[0;34m,\u001b[0m \u001b[0mfontsize\u001b[0m\u001b[0;34m=\u001b[0m\u001b[0;36m15\u001b[0m\u001b[0;34m,\u001b[0m \u001b[0mfontweight\u001b[0m\u001b[0;34m=\u001b[0m\u001b[0;34m'bold'\u001b[0m\u001b[0;34m)\u001b[0m\u001b[0;34m\u001b[0m\u001b[0;34m\u001b[0m\u001b[0m\n\u001b[1;32m      5\u001b[0m \u001b[0mplt\u001b[0m\u001b[0;34m.\u001b[0m\u001b[0mxlabel\u001b[0m\u001b[0;34m(\u001b[0m\u001b[0;34m\"Brand\"\u001b[0m\u001b[0;34m,\u001b[0m\u001b[0mfontsize\u001b[0m\u001b[0;34m=\u001b[0m\u001b[0;36m15\u001b[0m\u001b[0;34m,\u001b[0m \u001b[0mfontweight\u001b[0m\u001b[0;34m=\u001b[0m\u001b[0;34m'bold'\u001b[0m\u001b[0;34m)\u001b[0m\u001b[0;34m\u001b[0m\u001b[0;34m\u001b[0m\u001b[0m\n",
            "\u001b[0;32m/usr/local/lib/python3.8/dist-packages/pandas/core/frame.py\u001b[0m in \u001b[0;36m__getitem__\u001b[0;34m(self, key)\u001b[0m\n\u001b[1;32m   3456\u001b[0m             \u001b[0;32mif\u001b[0m \u001b[0mself\u001b[0m\u001b[0;34m.\u001b[0m\u001b[0mcolumns\u001b[0m\u001b[0;34m.\u001b[0m\u001b[0mnlevels\u001b[0m \u001b[0;34m>\u001b[0m \u001b[0;36m1\u001b[0m\u001b[0;34m:\u001b[0m\u001b[0;34m\u001b[0m\u001b[0;34m\u001b[0m\u001b[0m\n\u001b[1;32m   3457\u001b[0m                 \u001b[0;32mreturn\u001b[0m \u001b[0mself\u001b[0m\u001b[0;34m.\u001b[0m\u001b[0m_getitem_multilevel\u001b[0m\u001b[0;34m(\u001b[0m\u001b[0mkey\u001b[0m\u001b[0;34m)\u001b[0m\u001b[0;34m\u001b[0m\u001b[0;34m\u001b[0m\u001b[0m\n\u001b[0;32m-> 3458\u001b[0;31m             \u001b[0mindexer\u001b[0m \u001b[0;34m=\u001b[0m \u001b[0mself\u001b[0m\u001b[0;34m.\u001b[0m\u001b[0mcolumns\u001b[0m\u001b[0;34m.\u001b[0m\u001b[0mget_loc\u001b[0m\u001b[0;34m(\u001b[0m\u001b[0mkey\u001b[0m\u001b[0;34m)\u001b[0m\u001b[0;34m\u001b[0m\u001b[0;34m\u001b[0m\u001b[0m\n\u001b[0m\u001b[1;32m   3459\u001b[0m             \u001b[0;32mif\u001b[0m \u001b[0mis_integer\u001b[0m\u001b[0;34m(\u001b[0m\u001b[0mindexer\u001b[0m\u001b[0;34m)\u001b[0m\u001b[0;34m:\u001b[0m\u001b[0;34m\u001b[0m\u001b[0;34m\u001b[0m\u001b[0m\n\u001b[1;32m   3460\u001b[0m                 \u001b[0mindexer\u001b[0m \u001b[0;34m=\u001b[0m \u001b[0;34m[\u001b[0m\u001b[0mindexer\u001b[0m\u001b[0;34m]\u001b[0m\u001b[0;34m\u001b[0m\u001b[0;34m\u001b[0m\u001b[0m\n",
            "\u001b[0;32m/usr/local/lib/python3.8/dist-packages/pandas/core/indexes/base.py\u001b[0m in \u001b[0;36mget_loc\u001b[0;34m(self, key, method, tolerance)\u001b[0m\n\u001b[1;32m   3361\u001b[0m                 \u001b[0;32mreturn\u001b[0m \u001b[0mself\u001b[0m\u001b[0;34m.\u001b[0m\u001b[0m_engine\u001b[0m\u001b[0;34m.\u001b[0m\u001b[0mget_loc\u001b[0m\u001b[0;34m(\u001b[0m\u001b[0mcasted_key\u001b[0m\u001b[0;34m)\u001b[0m\u001b[0;34m\u001b[0m\u001b[0;34m\u001b[0m\u001b[0m\n\u001b[1;32m   3362\u001b[0m             \u001b[0;32mexcept\u001b[0m \u001b[0mKeyError\u001b[0m \u001b[0;32mas\u001b[0m \u001b[0merr\u001b[0m\u001b[0;34m:\u001b[0m\u001b[0;34m\u001b[0m\u001b[0;34m\u001b[0m\u001b[0m\n\u001b[0;32m-> 3363\u001b[0;31m                 \u001b[0;32mraise\u001b[0m \u001b[0mKeyError\u001b[0m\u001b[0;34m(\u001b[0m\u001b[0mkey\u001b[0m\u001b[0;34m)\u001b[0m \u001b[0;32mfrom\u001b[0m \u001b[0merr\u001b[0m\u001b[0;34m\u001b[0m\u001b[0;34m\u001b[0m\u001b[0m\n\u001b[0m\u001b[1;32m   3364\u001b[0m \u001b[0;34m\u001b[0m\u001b[0m\n\u001b[1;32m   3365\u001b[0m         \u001b[0;32mif\u001b[0m \u001b[0mis_scalar\u001b[0m\u001b[0;34m(\u001b[0m\u001b[0mkey\u001b[0m\u001b[0;34m)\u001b[0m \u001b[0;32mand\u001b[0m \u001b[0misna\u001b[0m\u001b[0;34m(\u001b[0m\u001b[0mkey\u001b[0m\u001b[0;34m)\u001b[0m \u001b[0;32mand\u001b[0m \u001b[0;32mnot\u001b[0m \u001b[0mself\u001b[0m\u001b[0;34m.\u001b[0m\u001b[0mhasnans\u001b[0m\u001b[0;34m:\u001b[0m\u001b[0;34m\u001b[0m\u001b[0;34m\u001b[0m\u001b[0m\n",
            "\u001b[0;31mKeyError\u001b[0m: 'brand'"
          ]
        },
        {
          "output_type": "display_data",
          "data": {
            "text/plain": [
              "<Figure size 720x432 with 0 Axes>"
            ]
          },
          "metadata": {}
        }
      ]
    },
    {
      "cell_type": "markdown",
      "source": [
        "### Categorical - Categorical"
      ],
      "metadata": {
        "id": "rKSh_OMjSGYh"
      }
    },
    {
      "cell_type": "code",
      "source": [
        "### Top 10 Cars\n",
        "df.groupby('car_name')['car_name'].count().sort_values(ascending=False)[:10]).plot(kind = 'bar')"
      ],
      "metadata": {
        "id": "aQm_XWDoSJ2_"
      },
      "execution_count": null,
      "outputs": []
    },
    {
      "cell_type": "code",
      "source": [],
      "metadata": {
        "id": "ov1xpEULf950"
      },
      "execution_count": 196,
      "outputs": []
    },
    {
      "cell_type": "markdown",
      "source": [
        "# Multi -variate analysis"
      ],
      "metadata": {
        "id": "b9rc49dJOCKi"
      }
    },
    {
      "cell_type": "markdown",
      "source": [
        "### Heatmap"
      ],
      "metadata": {
        "id": "1IANUkuHQ_GK"
      }
    },
    {
      "cell_type": "code",
      "source": [
        "\n",
        "# correlation\n",
        "\n",
        "\n",
        "### Plotting heatmap for visualising the correlation between features\n",
        "sns.set(rc={'figure.figsize':(20,15)})\n",
        "sns.heatmap(df.corr(), annot=True,  vmin=-1, vmax=1, cmap=\"YlGnBu\")\n",
        "plt.show()"
      ],
      "metadata": {
        "colab": {
          "base_uri": "https://localhost:8080/",
          "height": 871
        },
        "id": "3-4IsYgUOG3N",
        "outputId": "1f3bcdde-0314-48f6-c784-010ecb666745"
      },
      "execution_count": 197,
      "outputs": [
        {
          "output_type": "display_data",
          "data": {
            "text/plain": [
              "<Figure size 1440x1080 with 2 Axes>"
            ],
            "image/png": "[encoded data removed]"
          },
          "metadata": {}
        }
      ]
    },
    {
      "cell_type": "markdown",
      "source": [
        "### Pairplot"
      ],
      "metadata": {
        "id": "SLbqOVl3RBKv"
      }
    },
    {
      "cell_type": "code",
      "source": [
        "sns.pairplot(\n",
        "    df,\n",
        "    plot_kws=dict(marker=\"+\", linewidth=1),\n",
        "    diag_kws=dict(fill=False),\n",
        ")\n",
        "plt.title('pairplot of variables')\n",
        "plt.tight_layout()\n",
        "plt.show()"
      ],
      "metadata": {
        "colab": {
          "base_uri": "https://localhost:8080/",
          "height": 1000
        },
        "id": "fthcZOL2OWlo",
        "outputId": "2475bcc3-3fb1-4db9-b28d-9577ab5482e3"
      },
      "execution_count": 198,
      "outputs": [
        {
          "output_type": "display_data",
          "data": {
            "text/plain": [
              "<Figure size 1260x1260 with 56 Axes>"
            ],
            "image/png": "[encoded data removed]"
          },
          "metadata": {}
        }
      ]
    },
    {
      "cell_type": "markdown",
      "source": [
        "# Data wrangling or Feature engineering"
      ],
      "metadata": {
        "id": "lTvSdun2PLxb"
      }
    },
    {
      "cell_type": "markdown",
      "source": [
        "### Correleation removal"
      ],
      "metadata": {
        "id": "Ji2ayj8-RE7s"
      }
    },
    {
      "cell_type": "code",
      "source": [
        "# correlation features\n",
        "\n",
        "\n",
        "\n",
        "def correlation(dataset, threshold):\n",
        "    col_corr = set()  # Set of all the names of correlated columns\n",
        "    corr_matrix = dataset.corr()\n",
        "    for i in range(len(corr_matrix.columns)):\n",
        "        for j in range(i):\n",
        "            if abs(corr_matrix.iloc[i, j]) > threshold: # we are interested in absolute coeff value\n",
        "                colname = corr_matrix.columns[i]  # getting the name of column\n",
        "                col_corr.add(colname)\n",
        "    return col_corr"
      ],
      "metadata": {
        "id": "dKoUAXMDREP3"
      },
      "execution_count": 199,
      "outputs": []
    },
    {
      "cell_type": "code",
      "source": [
        "corr_features = correlation(df, 0.75)\n",
        "len(set(corr_features))\n",
        "     "
      ],
      "metadata": {
        "colab": {
          "base_uri": "https://localhost:8080/"
        },
        "id": "9Qv-5kGVRLoi",
        "outputId": "152ddddf-ded3-4483-bf40-f00cb1ebe645"
      },
      "execution_count": 200,
      "outputs": [
        {
          "output_type": "execute_result",
          "data": {
            "text/plain": [
              "2"
            ]
          },
          "metadata": {},
          "execution_count": 200
        }
      ]
    },
    {
      "cell_type": "markdown",
      "source": [
        "### outlier removal\n",
        "\n"
      ],
      "metadata": {
        "id": "bEPzDogTRXy2"
      }
    },
    {
      "cell_type": "code",
      "source": [
        "for feature in enumerate(numerical_features):\n",
        "  print(feature)"
      ],
      "metadata": {
        "colab": {
          "base_uri": "https://localhost:8080/"
        },
        "id": "HIfUXK6pzCGQ",
        "outputId": "45d9f63f-0a7c-4dc6-d20e-fef8a1e36ba5"
      },
      "execution_count": 201,
      "outputs": [
        {
          "output_type": "stream",
          "name": "stdout",
          "text": [
            "(0, 'vehicle_age')\n",
            "(1, 'km_driven')\n",
            "(2, 'mileage')\n",
            "(3, 'engine')\n",
            "(4, 'max_power')\n",
            "(5, 'seats')\n",
            "(6, 'selling_price')\n"
          ]
        }
      ]
    },
    {
      "cell_type": "code",
      "source": [],
      "metadata": {
        "id": "w-38KIE8zTnO"
      },
      "execution_count": 201,
      "outputs": []
    },
    {
      "cell_type": "code",
      "source": [
        "# #outliers\n",
        "\n",
        "### Checking outliers in numerical features\n",
        "\n",
        "plt.figure(figsize=(20,30))\n",
        "for feature in enumerate(numerical_features):\n",
        "    plt.subplot(10, 5, feature[0]+1)\n",
        "    sns.set(rc={'figure.figsize':(10,6)})\n",
        "    sns.boxplot(data=df, x=feature[1], palette = 'rainbow')\n",
        "    plt.title(\"{}\".format(feature[1]), fontweight=\"bold\", fontsize=15)"
      ],
      "metadata": {
        "colab": {
          "base_uri": "https://localhost:8080/",
          "height": 389
        },
        "id": "qTueZ4f5RhP3",
        "outputId": "9a5d78d1-d992-442d-d97b-d9df4133bcc1"
      },
      "execution_count": 202,
      "outputs": [
        {
          "output_type": "display_data",
          "data": {
            "text/plain": [
              "<Figure size 1440x2160 with 7 Axes>"
            ],
            "image/png": "[encoded data removed]"
          },
          "metadata": {}
        }
      ]
    },
    {
      "cell_type": "code",
      "source": [
        "### Function to Cap Outlier\n",
        "def remove_outliers(in_data, in_col):\n",
        "    # Finding the IQR\n",
        "    first_quartile = in_data[in_col].quantile(0.25)\n",
        "    third_quartile = in_data[in_col].quantile(0.75)\n",
        "    iqr = third_quartile - first_quartile\n",
        "    upper_limit = third_quartile + 1.5 * iqr\n",
        "    lower_limit = first_quartile - 1.5 * iqr\n",
        "    in_data.loc[(in_data[in_col]>upper_limit), in_col]= upper_limit\n",
        "    in_data.loc[(in_data[in_col]<lower_limit), in_col]= lower_limit    \n",
        "    return in_data"
      ],
      "metadata": {
        "id": "EVcPDo8yRj9V"
      },
      "execution_count": 203,
      "outputs": []
    },
    {
      "cell_type": "code",
      "source": [
        "### Capping outliers from numerical features\n",
        "for feature in numerical_features:\n",
        "    \n",
        "    dataset=remove_outliers(df, feature)"
      ],
      "metadata": {
        "id": "VeRj76hhRnGu"
      },
      "execution_count": 204,
      "outputs": []
    },
    {
      "cell_type": "code",
      "source": [
        "### Checking outliers in numerical features after capping\n",
        "\n",
        "plt.figure(figsize=(20,20))\n",
        "for feature in enumerate(numerical_features):\n",
        "    plt.subplot(10, 4, feature[0]+1)\n",
        "    sns.set(rc={'figure.figsize':(10,6)})\n",
        "    sns.boxplot(data=df, x=feature[1], color='r')\n",
        "    plt.title(\"{}\".format(feature[1]), fontweight=\"bold\", fontsize=15)\n",
        "    plt.tight_layout()"
      ],
      "metadata": {
        "id": "Uw7spgrtRouX",
        "colab": {
          "base_uri": "https://localhost:8080/",
          "height": 308
        },
        "outputId": "1775f94a-503a-49f9-8ee1-48423461e570"
      },
      "execution_count": 205,
      "outputs": [
        {
          "output_type": "display_data",
          "data": {
            "text/plain": [
              "<Figure size 1440x1440 with 7 Axes>"
            ],
            "image/png": "[encoded data removed]"
          },
          "metadata": {}
        }
      ]
    },
    {
      "cell_type": "code",
      "source": [
        "\n",
        "# Encoding Categorical variables\n",
        "categorical_features.columns"
      ],
      "metadata": {
        "id": "j1avA9MVRr3R",
        "colab": {
          "base_uri": "https://localhost:8080/"
        },
        "outputId": "f221dd2e-8239-4c4d-f80f-5c53de97877e"
      },
      "execution_count": 206,
      "outputs": [
        {
          "output_type": "execute_result",
          "data": {
            "text/plain": [
              "Index(['car_name', 'brand', 'model', 'seller_type', 'fuel_type',\n",
              "       'transmission_type'],\n",
              "      dtype='object')"
            ]
          },
          "metadata": {},
          "execution_count": 206
        }
      ]
    },
    {
      "cell_type": "code",
      "source": [
        "df.drop(['car_name','brand','model'],1,inplace = True)"
      ],
      "metadata": {
        "id": "QAWDqcpHhdNI"
      },
      "execution_count": 207,
      "outputs": []
    },
    {
      "cell_type": "code",
      "source": [
        "X = df.drop('selling_price',axis =1)\n",
        "y = df['selling_price']"
      ],
      "metadata": {
        "id": "lSm5IyVPUYsh"
      },
      "execution_count": 208,
      "outputs": []
    },
    {
      "cell_type": "markdown",
      "source": [
        "### Spliting the dataset"
      ],
      "metadata": {
        "id": "uZ4tmk-zPbZO"
      }
    },
    {
      "cell_type": "code",
      "source": [
        "X_train,X_test,y_train,y_test = train_test_split(df.drop(columns=['selling_price']),\n",
        "                                                 df['selling_price'],\n",
        "                                                 test_size=0.2,\n",
        "                                                random_state=23)"
      ],
      "metadata": {
        "id": "0yfXq60AsWgA"
      },
      "execution_count": 209,
      "outputs": []
    },
    {
      "cell_type": "code",
      "source": [
        "from sklearn.compose import ColumnTransformer\n",
        "from sklearn.pipeline import Pipeline, make_pipeline"
      ],
      "metadata": {
        "id": "oUFU6ETneDWj"
      },
      "execution_count": 210,
      "outputs": []
    },
    {
      "cell_type": "code",
      "source": [
        "X_train"
      ],
      "metadata": {
        "colab": {
          "base_uri": "https://localhost:8080/",
          "height": 424
        },
        "id": "7zf3WgE9Vzfn",
        "outputId": "23b221c3-d721-4183-8bf8-d5575b72caeb"
      },
      "execution_count": 211,
      "outputs": [
        {
          "output_type": "execute_result",
          "data": {
            "text/plain": [
              "       vehicle_age  km_driven seller_type fuel_type transmission_type  \\\n",
              "12341            8      41000      Dealer    Diesel         Automatic   \n",
              "7484             3      11000      Dealer    Petrol         Automatic   \n",
              "9615             3      45178      Dealer    Petrol            Manual   \n",
              "779              5     100000  Individual    Diesel            Manual   \n",
              "3679             7      89000      Dealer    Diesel            Manual   \n",
              "...            ...        ...         ...       ...               ...   \n",
              "11190           14      60500      Dealer    Petrol            Manual   \n",
              "10185            7      60000      Dealer    Petrol            Manual   \n",
              "9256             8      66000      Dealer    Diesel            Manual   \n",
              "13030            8      55000      Dealer    Diesel            Manual   \n",
              "8787             2      40000  Individual    Diesel            Manual   \n",
              "\n",
              "       mileage  engine  max_power  seats  \n",
              "12341    10.00  2143.0     170.00      5  \n",
              "7484     20.89  1197.0      81.80      5  \n",
              "9615     18.70  1199.0      88.70      5  \n",
              "779      25.80  1498.0      98.60      5  \n",
              "3679     19.30  1248.0      73.90      5  \n",
              "...        ...     ...        ...    ...  \n",
              "11190    15.40  1590.0      94.00      5  \n",
              "10185    19.81  1086.0      68.05      5  \n",
              "9256     12.05  2159.5     120.00      5  \n",
              "13030    24.20  1498.0      93.87      5  \n",
              "8787     17.60  2159.5     153.86      5  \n",
              "\n",
              "[12328 rows x 9 columns]"
            ],
            "text/html": [
              "\n",
              "  <div id=\"df-821b9b9c-e677-4ffa-a46d-f859efe2e68b\">\n",
              "    <div class=\"colab-df-container\">\n",
              "      <div>\n",
              "<style scoped>\n",
              "    .dataframe tbody tr th:only-of-type {\n",
              "        vertical-align: middle;\n",
              "    }\n",
              "\n",
              "    .dataframe tbody tr th {\n",
              "        vertical-align: top;\n",
              "    }\n",
              "\n",
              "    .dataframe thead th {\n",
              "        text-align: right;\n",
              "    }\n",
              "</style>\n",
              "<table border=\"1\" class=\"dataframe\">\n",
              "  <thead>\n",
              "    <tr style=\"text-align: right;\">\n",
              "      <th></th>\n",
              "      <th>vehicle_age</th>\n",
              "      <th>km_driven</th>\n",
              "      <th>seller_type</th>\n",
              "      <th>fuel_type</th>\n",
              "      <th>transmission_type</th>\n",
              "      <th>mileage</th>\n",
              "      <th>engine</th>\n",
              "      <th>max_power</th>\n",
              "      <th>seats</th>\n",
              "    </tr>\n",
              "  </thead>\n",
              "  <tbody>\n",
              "    <tr>\n",
              "      <th>12341</th>\n",
              "      <td>8</td>\n",
              "      <td>41000</td>\n",
              "      <td>Dealer</td>\n",
              "      <td>Diesel</td>\n",
              "      <td>Automatic</td>\n",
              "      <td>10.00</td>\n",
              "      <td>2143.0</td>\n",
              "      <td>170.00</td>\n",
              "      <td>5</td>\n",
              "    </tr>\n",
              "    <tr>\n",
              "      <th>7484</th>\n",
              "      <td>3</td>\n",
              "      <td>11000</td>\n",
              "      <td>Dealer</td>\n",
              "      <td>Petrol</td>\n",
              "      <td>Automatic</td>\n",
              "      <td>20.89</td>\n",
              "      <td>1197.0</td>\n",
              "      <td>81.80</td>\n",
              "      <td>5</td>\n",
              "    </tr>\n",
              "    <tr>\n",
              "      <th>9615</th>\n",
              "      <td>3</td>\n",
              "      <td>45178</td>\n",
              "      <td>Dealer</td>\n",
              "      <td>Petrol</td>\n",
              "      <td>Manual</td>\n",
              "      <td>18.70</td>\n",
              "      <td>1199.0</td>\n",
              "      <td>88.70</td>\n",
              "      <td>5</td>\n",
              "    </tr>\n",
              "    <tr>\n",
              "      <th>779</th>\n",
              "      <td>5</td>\n",
              "      <td>100000</td>\n",
              "      <td>Individual</td>\n",
              "      <td>Diesel</td>\n",
              "      <td>Manual</td>\n",
              "      <td>25.80</td>\n",
              "      <td>1498.0</td>\n",
              "      <td>98.60</td>\n",
              "      <td>5</td>\n",
              "    </tr>\n",
              "    <tr>\n",
              "      <th>3679</th>\n",
              "      <td>7</td>\n",
              "      <td>89000</td>\n",
              "      <td>Dealer</td>\n",
              "      <td>Diesel</td>\n",
              "      <td>Manual</td>\n",
              "      <td>19.30</td>\n",
              "      <td>1248.0</td>\n",
              "      <td>73.90</td>\n",
              "      <td>5</td>\n",
              "    </tr>\n",
              "    <tr>\n",
              "      <th>...</th>\n",
              "      <td>...</td>\n",
              "      <td>...</td>\n",
              "      <td>...</td>\n",
              "      <td>...</td>\n",
              "      <td>...</td>\n",
              "      <td>...</td>\n",
              "      <td>...</td>\n",
              "      <td>...</td>\n",
              "      <td>...</td>\n",
              "    </tr>\n",
              "    <tr>\n",
              "      <th>11190</th>\n",
              "      <td>14</td>\n",
              "      <td>60500</td>\n",
              "      <td>Dealer</td>\n",
              "      <td>Petrol</td>\n",
              "      <td>Manual</td>\n",
              "      <td>15.40</td>\n",
              "      <td>1590.0</td>\n",
              "      <td>94.00</td>\n",
              "      <td>5</td>\n",
              "    </tr>\n",
              "    <tr>\n",
              "      <th>10185</th>\n",
              "      <td>7</td>\n",
              "      <td>60000</td>\n",
              "      <td>Dealer</td>\n",
              "      <td>Petrol</td>\n",
              "      <td>Manual</td>\n",
              "      <td>19.81</td>\n",
              "      <td>1086.0</td>\n",
              "      <td>68.05</td>\n",
              "      <td>5</td>\n",
              "    </tr>\n",
              "    <tr>\n",
              "      <th>9256</th>\n",
              "      <td>8</td>\n",
              "      <td>66000</td>\n",
              "      <td>Dealer</td>\n",
              "      <td>Diesel</td>\n",
              "      <td>Manual</td>\n",
              "      <td>12.05</td>\n",
              "      <td>2159.5</td>\n",
              "      <td>120.00</td>\n",
              "      <td>5</td>\n",
              "    </tr>\n",
              "    <tr>\n",
              "      <th>13030</th>\n",
              "      <td>8</td>\n",
              "      <td>55000</td>\n",
              "      <td>Dealer</td>\n",
              "      <td>Diesel</td>\n",
              "      <td>Manual</td>\n",
              "      <td>24.20</td>\n",
              "      <td>1498.0</td>\n",
              "      <td>93.87</td>\n",
              "      <td>5</td>\n",
              "    </tr>\n",
              "    <tr>\n",
              "      <th>8787</th>\n",
              "      <td>2</td>\n",
              "      <td>40000</td>\n",
              "      <td>Individual</td>\n",
              "      <td>Diesel</td>\n",
              "      <td>Manual</td>\n",
              "      <td>17.60</td>\n",
              "      <td>2159.5</td>\n",
              "      <td>153.86</td>\n",
              "      <td>5</td>\n",
              "    </tr>\n",
              "  </tbody>\n",
              "</table>\n",
              "<p>12328 rows × 9 columns</p>\n",
              "</div>\n",
              "      <button class=\"colab-df-convert\" onclick=\"convertToInteractive('df-821b9b9c-e677-4ffa-a46d-f859efe2e68b')\"\n",
              "              title=\"Convert this dataframe to an interactive table.\"\n",
              "              style=\"display:none;\">\n",
              "        \n",
              "  <svg xmlns=\"http://www.w3.org/2000/svg\" height=\"24px\"viewBox=\"0 0 24 24\"\n",
              "       width=\"24px\">\n",
              "    <path d=\"M0 0h24v24H0V0z\" fill=\"none\"/>\n",
              "    <path d=\"M18.56 5.44l.94 2.06.94-2.06 2.06-.94-2.06-.94-.94-2.06-.94 2.06-2.06.94zm-11 1L8.5 8.5l.94-2.06 2.06-.94-2.06-.94L8.5 2.5l-.94 2.06-2.06.94zm10 10l.94 2.06.94-2.06 2.06-.94-2.06-.94-.94-2.06-.94 2.06-2.06.94z\"/><path d=\"M17.41 7.96l-1.37-1.37c-.4-.4-.92-.59-1.43-.59-.52 0-1.04.2-1.43.59L10.3 9.45l-7.72 7.72c-.78.78-.78 2.05 0 2.83L4 21.41c.39.39.9.59 1.41.59.51 0 1.02-.2 1.41-.59l7.78-7.78 2.81-2.81c.8-.78.8-2.07 0-2.86zM5.41 20L4 18.59l7.72-7.72 1.47 1.35L5.41 20z\"/>\n",
              "  </svg>\n",
              "      </button>\n",
              "      \n",
              "  <style>\n",
              "    .colab-df-container {\n",
              "      display:flex;\n",
              "      flex-wrap:wrap;\n",
              "      gap: 12px;\n",
              "    }\n",
              "\n",
              "    .colab-df-convert {\n",
              "      background-color: #E8F0FE;\n",
              "      border: none;\n",
              "      border-radius: 50%;\n",
              "      cursor: pointer;\n",
              "      display: none;\n",
              "      fill: #1967D2;\n",
              "      height: 32px;\n",
              "      padding: 0 0 0 0;\n",
              "      width: 32px;\n",
              "    }\n",
              "\n",
              "    .colab-df-convert:hover {\n",
              "      background-color: #E2EBFA;\n",
              "      box-shadow: 0px 1px 2px rgba(60, 64, 67, 0.3), 0px 1px 3px 1px rgba(60, 64, 67, 0.15);\n",
              "      fill: #174EA6;\n",
              "    }\n",
              "\n",
              "    [theme=dark] .colab-df-convert {\n",
              "      background-color: #3B4455;\n",
              "      fill: #D2E3FC;\n",
              "    }\n",
              "\n",
              "    [theme=dark] .colab-df-convert:hover {\n",
              "      background-color: #434B5C;\n",
              "      box-shadow: 0px 1px 3px 1px rgba(0, 0, 0, 0.15);\n",
              "      filter: drop-shadow(0px 1px 2px rgba(0, 0, 0, 0.3));\n",
              "      fill: #FFFFFF;\n",
              "    }\n",
              "  </style>\n",
              "\n",
              "      <script>\n",
              "        const buttonEl =\n",
              "          document.querySelector('#df-821b9b9c-e677-4ffa-a46d-f859efe2e68b button.colab-df-convert');\n",
              "        buttonEl.style.display =\n",
              "          google.colab.kernel.accessAllowed ? 'block' : 'none';\n",
              "\n",
              "        async function convertToInteractive(key) {\n",
              "          const element = document.querySelector('#df-821b9b9c-e677-4ffa-a46d-f859efe2e68b');\n",
              "          const dataTable =\n",
              "            await google.colab.kernel.invokeFunction('convertToInteractive',\n",
              "                                                     [key], {});\n",
              "          if (!dataTable) return;\n",
              "\n",
              "          const docLinkHtml = 'Like what you see? Visit the ' +\n",
              "            '<a target=\"_blank\" href=https://colab.research.google.com/notebooks/data_table.ipynb>data table notebook</a>'\n",
              "            + ' to learn more about interactive tables.';\n",
              "          element.innerHTML = '';\n",
              "          dataTable['output_type'] = 'display_data';\n",
              "          await google.colab.output.renderOutput(dataTable, element);\n",
              "          const docLink = document.createElement('div');\n",
              "          docLink.innerHTML = docLinkHtml;\n",
              "          element.appendChild(docLink);\n",
              "        }\n",
              "      </script>\n",
              "    </div>\n",
              "  </div>\n",
              "  "
            ]
          },
          "metadata": {},
          "execution_count": 211
        }
      ]
    },
    {
      "cell_type": "markdown",
      "source": [
        "###Encoding the categorical variables"
      ],
      "metadata": {
        "id": "QdvPMH08Pkvt"
      }
    },
    {
      "cell_type": "code",
      "source": [
        "t1 = ColumnTransformer([\n",
        "    ('onehot',OneHotEncoder(sparse = False,handle_unknown='ignore'),[2,3,4])\n",
        "],remainder='passthrough')\n",
        "\n",
        "t2 = ColumnTransformer([\n",
        "    ('scale',StandardScaler(),slice(1,20))\n",
        "    \n",
        "])"
      ],
      "metadata": {
        "id": "xjxU1OTVeHm3"
      },
      "execution_count": 212,
      "outputs": []
    },
    {
      "cell_type": "code",
      "source": [
        "pipe = make_pipeline(t1,t2)"
      ],
      "metadata": {
        "id": "I6UcQOl5eMR9"
      },
      "execution_count": 213,
      "outputs": []
    },
    {
      "cell_type": "code",
      "source": [
        "X_train=pipe.fit_transform(X_train)"
      ],
      "metadata": {
        "id": "YDQCDijyeNsX"
      },
      "execution_count": 214,
      "outputs": []
    },
    {
      "cell_type": "code",
      "source": [
        "X_test = pipe.transform(X_test)"
      ],
      "metadata": {
        "id": "bgSvLX_ieQvS"
      },
      "execution_count": 215,
      "outputs": []
    },
    {
      "cell_type": "code",
      "source": [
        "X_train.shape, y_train.shape"
      ],
      "metadata": {
        "id": "wiPlhzi3hFJW",
        "colab": {
          "base_uri": "https://localhost:8080/"
        },
        "outputId": "a936701d-a12c-447f-b003-2effd287dd95"
      },
      "execution_count": 216,
      "outputs": [
        {
          "output_type": "execute_result",
          "data": {
            "text/plain": [
              "((12328, 15), (12328,))"
            ]
          },
          "metadata": {},
          "execution_count": 216
        }
      ]
    },
    {
      "cell_type": "code",
      "source": [
        "X_test.shape, y_test.shape"
      ],
      "metadata": {
        "id": "1vBiW3s4hH3M",
        "colab": {
          "base_uri": "https://localhost:8080/"
        },
        "outputId": "e917ec57-974d-467b-d1c0-031c1f96c44f"
      },
      "execution_count": 217,
      "outputs": [
        {
          "output_type": "execute_result",
          "data": {
            "text/plain": [
              "((3083, 15), (3083,))"
            ]
          },
          "metadata": {},
          "execution_count": 217
        }
      ]
    },
    {
      "cell_type": "code",
      "source": [
        "models={\n",
        "    \"Linear Regression\":LinearRegression(),\n",
        "    \"Ridge Regression\":Ridge(),\n",
        "    \"Lasso Regresion\":Lasso(),\n",
        "    \"Elastic-Net Regression\":ElasticNet(),\n",
        "    \"Support Vector Regressor\":SVR(),\n",
        "    \"Decision Tree Regressor\":DecisionTreeRegressor(),\n",
        "    \"Random Forest Regressor\":RandomForestRegressor(),\n",
        "    \"Bagging Regressor\": BaggingRegressor(base_estimator=LinearRegression()),\n",
        "    \"Extra Tree Regressor\": ExtraTreesRegressor(), \n",
        "    \"AdaBoost Regressor\": AdaBoostRegressor(),\n",
        "    \"GradientBoost Regressor\": GradientBoostingRegressor(),\n",
        "    \"XGBoost Regressor\": XGBRegressor()\n",
        "    \n",
        "}"
      ],
      "metadata": {
        "id": "2Rm3-5rPmxc5"
      },
      "execution_count": 218,
      "outputs": []
    },
    {
      "cell_type": "code",
      "source": [
        "#1 . OLS method\n",
        "\n",
        "X = df[['total_bill','size']]\n",
        "y = df[['tip']]\n",
        "\n",
        "X_full = sm.add_constant(X)\n",
        "\n",
        "### random state train test split will be same with all people using random_state=42\n",
        "X_train, X_test, y_train, y_test = train_test_split( X_full, y, test_size=0.2, random_state=42)\n",
        "X_train.head(3)"
      ],
      "metadata": {
        "id": "6BjI1bnHjfGA"
      },
      "execution_count": null,
      "outputs": []
    },
    {
      "cell_type": "code",
      "source": [
        "#Assumptions Before MLR Model\n",
        "# There are several assumptions of linear regression. We can check two of them before building the regression model. Let us check the following assumptions in this section:\n",
        "\n",
        "# 1.Assumption on Dependent Variable\n",
        "#2. No or little multicollinearity"
      ],
      "metadata": {
        "id": "y3odgcNJw1vS"
      },
      "execution_count": null,
      "outputs": []
    },
    {
      "cell_type": "code",
      "source": [
        "df['tip'].dtype"
      ],
      "metadata": {
        "id": "OSxF7k1xw9oL"
      },
      "execution_count": null,
      "outputs": []
    },
    {
      "cell_type": "code",
      "source": [
        "plt.figure(figsize = (20,10))\n",
        "\n",
        "# plot the heat map\n",
        "# corr(): give the correlation matrix\n",
        "# annot: prints the correlation values in the chart\n",
        "# annot_kws: sets the font size of the annotation\n",
        "sns.heatmap(df.corr()[np.abs(df.corr()) < 0.75], annot = True, annot_kws = {\"size\": 11})\n",
        "\n",
        "# rotate the y-axis labels\n",
        "# set text size using 'fontsize'\n",
        "plt.yticks(rotation = 'horizontal', fontsize = 15)\n",
        "plt.xticks(fontsize = 15)\n",
        "\n",
        "# display the plot\n",
        "plt.show()"
      ],
      "metadata": {
        "id": "JivZTeaNxCdD"
      },
      "execution_count": null,
      "outputs": []
    },
    {
      "cell_type": "code",
      "source": [
        "MLR_full_model = sm.OLS(y_train, X_train).fit()\n",
        "\n",
        "# print the summary output\n",
        "print(MLR_full_model.summary())"
      ],
      "metadata": {
        "id": "-p7iH_WRuc0C"
      },
      "execution_count": null,
      "outputs": []
    },
    {
      "cell_type": "code",
      "source": [
        "pred_val = MLR_full_model.predict(X_test)"
      ],
      "metadata": {
        "id": "sLohgOdHj6Jt"
      },
      "execution_count": null,
      "outputs": []
    },
    {
      "cell_type": "code",
      "source": [
        "#Now, use the model with significant variabels to check some of the assumptions based on the residuals of linear regression:\n",
        "\n",
        "# 1.Linear Relationship Between Dependent and Independent Variable\n",
        "# 2.Autocorrelation\n",
        "# 3.Heteroscedasticity\n",
        "# 4.Tests of Normality"
      ],
      "metadata": {
        "id": "ljt4IU1cvbug"
      },
      "execution_count": null,
      "outputs": []
    },
    {
      "cell_type": "code",
      "source": [
        "#Heteroskedasticity\n",
        "\n",
        "#Ho: There is homoscedasticity present in the data\n",
        "\n",
        "#H1: There is a heteroscedasticity present in the data\n",
        "\n",
        "# create vector of result parmeters\n",
        "name = ['f-value','p-value']\n",
        "\n",
        "# perform Breusch-Pagan test using residuals and independent variables\n",
        "# compute residuals using 'resid'\n",
        "# 'exog' returns the independent variables in the model alng with the intercept\n",
        "test = sms.het_breuschpagan(MLR_full_model.resid, MLR_full_model.model.exog)\n",
        "\n",
        "# print the output\n",
        "# use 'lzip' to zip the column names and test results\n",
        "# use 'test[2:]' to retrieve the F-statistic and its corresponding p-value \n",
        "k =lzip(name, test[2:])\n",
        "\n"
      ],
      "metadata": {
        "id": "PNt6YVcHvb3Q"
      },
      "execution_count": null,
      "outputs": []
    },
    {
      "cell_type": "code",
      "source": [
        "# set the plot size using 'rcParams'\n",
        "# once the plot size is set using 'rcParams', it sets the size of all the forthcoming plots in the file\n",
        "# pass width and height in inches to 'figure.figsize' \n",
        "plt.rcParams['figure.figsize'] = [15,8]\n",
        "\n",
        "# plot the Q-Q plot\n",
        "# 'r' represents the regression line\n",
        "qqplot(MLR_full_model.resid, line = 'r')\n",
        "\n",
        "# set plot and axes labels\n",
        "# set text size using 'fontsize'\n",
        "plt.title('Q-Q Plot', fontsize = 15)\n",
        "plt.xlabel('Theoretical Quantiles', fontsize = 15)\n",
        "plt.ylabel('Sample Quantiles', fontsize = 15)\n",
        "\n",
        "# display the plot\n",
        "plt.show()"
      ],
      "metadata": {
        "id": "AaQlQRANvb56"
      },
      "execution_count": null,
      "outputs": []
    },
    {
      "cell_type": "code",
      "source": [
        "# perform Shapiro Wilk test using 'shapiro()' from scipy library\n",
        "# shapiro() returns a tuple having the values of test statistics and the corresponding p-value\n",
        "# 'resid' returns the residuals in the model\n",
        "# pass the residuals to 'shapiro()'\n",
        "\n",
        "#The Shapiro Wilk test is used to check the normality of the residuals. The test hypothesis is given as:\n",
        "\n",
        "#Ho: Residuals are normally distributed\n",
        "\n",
        "#H1: Residuals are not normally distributed\n",
        "\n",
        "stat, p_value = shapiro(MLR_full_model.resid)\n",
        "\n",
        "# print the test statistic and corresponding p-value \n",
        "print('Test statistic:', stat)\n",
        "print('P-Value:', p_value)\n",
        "print('--------------')\n",
        "\n",
        "if p_value < 0.05:\n",
        "  print('Residuals are not normally distributed')\n",
        "else:\n",
        "  print('Residuals are normally distributed')"
      ],
      "metadata": {
        "id": "7tCzl0E-vb7z"
      },
      "execution_count": null,
      "outputs": []
    },
    {
      "cell_type": "code",
      "source": [],
      "metadata": {
        "id": "ZhG2Gy8S2VC9"
      },
      "execution_count": null,
      "outputs": []
    },
    {
      "cell_type": "code",
      "source": [],
      "metadata": {
        "id": "yBt3jhI82VFA"
      },
      "execution_count": null,
      "outputs": []
    },
    {
      "cell_type": "code",
      "source": [
        "## 1. sklearn linear model\n"
      ],
      "metadata": {
        "id": "3tnHZj2RwgjR"
      },
      "execution_count": null,
      "outputs": []
    },
    {
      "cell_type": "code",
      "source": [
        "X = df[['total_bill','size']]\n",
        "y = df['tip']"
      ],
      "metadata": {
        "id": "MSMM9SBUa2ox"
      },
      "execution_count": null,
      "outputs": []
    },
    {
      "cell_type": "code",
      "source": [
        "### random state train test split will be same with all people using random_state=42\n",
        "X_train, X_test, y_train, y_test = train_test_split( X, y, test_size=0.2, random_state=42)\n",
        "X_train.head(3)"
      ],
      "metadata": {
        "id": "S-_43gGUbL3d"
      },
      "execution_count": null,
      "outputs": []
    },
    {
      "cell_type": "code",
      "source": [
        "# create a generalized function to calculate the RMSE values for train set\n",
        "def get_train_rmse(model):\n",
        "    \n",
        "    # For training set:\n",
        "    # train_pred: prediction made by the model on the training dataset 'X_train'\n",
        "    # y_train: actual values ofthe target variable for the train dataset\n",
        "\n",
        "    # predict the output of the target variable from the train data \n",
        "    train_pred = model.predict(X_train)\n",
        "\n",
        "    # calculate the MSE using the \"mean_squared_error\" function\n",
        "\n",
        "    # MSE for the train data\n",
        "    mse_train = mean_squared_error(y_train, train_pred)\n",
        "\n",
        "    # take the square root of the MSE to calculate the RMSE\n",
        "    # round the value upto 4 digits using 'round()'\n",
        "    rmse_train = round(np.sqrt(mse_train), 4)\n",
        "    \n",
        "    # return the training RMSE\n",
        "    return(rmse_train)"
      ],
      "metadata": {
        "id": "nSnOAAJhd-5U"
      },
      "execution_count": 219,
      "outputs": []
    },
    {
      "cell_type": "code",
      "source": [
        "# create a generalized function to calculate the RMSE values test set\n",
        "def get_test_rmse(model):\n",
        "    \n",
        "    # For testing set:\n",
        "    # test_pred: prediction made by the model on the test dataset 'X_test'\n",
        "    # y_test: actual values of the target variable for the test dataset\n",
        "\n",
        "    # predict the output of the target variable from the test data\n",
        "    test_pred = model.predict(X_test)\n",
        "\n",
        "    # MSE for the test data\n",
        "    mse_test = mean_squared_error(y_test, test_pred)\n",
        "\n",
        "    # take the square root of the MSE to calculate the RMSE\n",
        "    # round the value upto 4 digits using 'round()'\n",
        "    rmse_test = round(np.sqrt(mse_test), 4)\n",
        "\n",
        "    # return the test RMSE\n",
        "    return(rmse_test)"
      ],
      "metadata": {
        "id": "2I1TKuyE6Xm0"
      },
      "execution_count": 220,
      "outputs": []
    },
    {
      "cell_type": "code",
      "source": [
        "# define a function to calculate MAPE\n",
        "# pass the actual and predicted values as input to the function\n",
        "# return the calculated MAPE \n",
        "def mape(actual, predicted):\n",
        "    return (np.mean(np.abs((actual - predicted) / actual)) * 100)\n",
        "\n",
        "def get_test_mape(model):\n",
        "    \n",
        "    # For testing set:\n",
        "    # test_pred: prediction made by the model on the test dataset 'X_test'\n",
        "    # y_test: actual values of the target variable for the test dataset\n",
        "\n",
        "    # predict the output of the target variable from the test data\n",
        "    test_pred = model.predict(X_test)\n",
        "    \n",
        "    # calculate the mape using the \"mape()\" function created above\n",
        "    # calculate the MAPE for the test data\n",
        "    mape_test = mape(y_test, test_pred)\n",
        "\n",
        "    # return the MAPE for the test set\n",
        "    return(mape_test)"
      ],
      "metadata": {
        "id": "QEwWsi5c6Z6Q"
      },
      "execution_count": 221,
      "outputs": []
    },
    {
      "cell_type": "code",
      "source": [
        "# define a function to get R-squared and adjusted R-squared value\n",
        "def get_score(model):\n",
        "    \n",
        "    # score() returns the R-squared value\n",
        "    r_sq = model.score(X_train, y_train)\n",
        "    \n",
        "    # calculate adjusted R-squared value\n",
        "    # 'n' denotes number of observations in train set\n",
        "    # 'shape[0]' returns number of rows \n",
        "    n = X_train.shape[0]\n",
        "    \n",
        "    # 'k' denotes number of variables in train set\n",
        "    # 'shape[1]' returns number of columns\n",
        "    k = X_train.shape[1]\n",
        "    \n",
        "    # calculate adjusted R-squared using the formula\n",
        "    r_sq_adj = 1 - ((1-r_sq)*(n-1)/(n-k-1))\n",
        "    \n",
        "    # return the R-squared and adjusted R-squared value \n",
        "    return ([r_sq, r_sq_adj])"
      ],
      "metadata": {
        "id": "yMSfd3D76bng"
      },
      "execution_count": 222,
      "outputs": []
    },
    {
      "cell_type": "code",
      "source": [
        "# create an empty dataframe to store the scores for various algorithms\n",
        "score_card = pd.DataFrame(columns=['Model_Name', 'R-Squared',\n",
        "                                       'Adj. R-Squared', 'Test_RMSE', 'Test_MAPE'])\n",
        "\n",
        "# create a function to update the score card for comparision of the scores from different algorithms\n",
        "# pass the model name, model build, alpha and l1_ration as input parameters\n",
        "# if 'alpha' and/or 'l1_ratio' is not specified, the function assigns '-'\n",
        "def update_score_card(algorithm_name, model, alpha = '-', l1_ratio = '-'):\n",
        "    \n",
        "    # assign 'score_card' as global variable\n",
        "    global score_card\n",
        "\n",
        "    # append the results to the dataframe 'score_card'\n",
        "    # 'ignore_index = True' do not consider the index labels\n",
        "    score_card = score_card.append({'Model_Name': algorithm_name,\n",
        "                       'Test_MAPE': get_test_mape(model), \n",
        "                       'Test_RMSE': get_test_rmse(model), \n",
        "                       'R-Squared': get_score(model)[0], \n",
        "                       'Adj. R-Squared': get_score(model)[1]}, ignore_index = True)"
      ],
      "metadata": {
        "id": "vyYqTjXc6i8l"
      },
      "execution_count": 223,
      "outputs": []
    },
    {
      "cell_type": "code",
      "source": [
        "# define a function to plot a barplot\n",
        "# pass the model \n",
        "def plot_coefficients(model, algorithm_name):\n",
        "    # create a dataframe of variable names and their corresponding value of coefficients obtained from model\n",
        "    # 'columns' returns the column names of the dataframe 'X'\n",
        "    # 'coef_' returns the coefficient of each variable\n",
        "    df_coeff = pd.DataFrame({'Variable': X.columns, 'Coefficient': model.coef_})\n",
        "\n",
        "    # sort the dataframe in descending order\n",
        "    # 'sort_values' sorts the column based on the values\n",
        "    # 'ascending = False' sorts the values in the descending order\n",
        "    sorted_coeff = df_coeff.sort_values('Coefficient', ascending = False)\n",
        "\n",
        "    # plot a bar plot with Coefficient on the x-axis and Variable names on y-axis\n",
        "    # pass the data to the parameter, 'sorted_coeff' to plot the barplot\n",
        "    sns.barplot(x = \"Coefficient\", y = \"Variable\", data = sorted_coeff)\n",
        "    \n",
        "    # add x-axis label\n",
        "    # set the size of the text using 'fontsize'\n",
        "    plt.xlabel(\"Coefficients from {}\".format(algorithm_name), fontsize = 15)\n",
        "\n",
        "    # add y-axis label\n",
        "    # set the size of the text using 'fontsize'\n",
        "    plt.ylabel('Features', fontsize = 15)"
      ],
      "metadata": {
        "id": "HVq0HNEj6m5c"
      },
      "execution_count": 224,
      "outputs": []
    },
    {
      "cell_type": "code",
      "source": [
        "\n",
        "# 1. Linear model\n",
        "\n",
        "# initiate linear regression model\n",
        "linreg = LinearRegression()\n",
        "\n",
        "MLR_model = linreg.fit(X_train, y_train)\n",
        "\n",
        "MLR_model.score(X_train, y_train)"
      ],
      "metadata": {
        "colab": {
          "base_uri": "https://localhost:8080/"
        },
        "id": "w3Ovkx9-6pQ_",
        "outputId": "0eafe189-6fed-48a0-897b-d660cea3e1c0"
      },
      "execution_count": 225,
      "outputs": [
        {
          "output_type": "execute_result",
          "data": {
            "text/plain": [
              "0.8342476878269597"
            ]
          },
          "metadata": {},
          "execution_count": 225
        }
      ]
    },
    {
      "cell_type": "code",
      "source": [
        "\n",
        "print('RMSE on train set: ', get_train_rmse(MLR_model))\n",
        "\n",
        "\n",
        "print('RMSE on test set: ', get_test_rmse(MLR_model))\n",
        "\n",
        "difference = abs(get_test_rmse(MLR_model) - get_train_rmse(MLR_model))\n",
        "\n",
        "print('Difference between RMSE on train and test set: ', difference)"
      ],
      "metadata": {
        "colab": {
          "base_uri": "https://localhost:8080/"
        },
        "id": "KkOvmt526qzI",
        "outputId": "6fb28ee5-6265-4967-cffd-b4626ed3c008"
      },
      "execution_count": 226,
      "outputs": [
        {
          "output_type": "stream",
          "name": "stdout",
          "text": [
            "RMSE on train set:  151427.5631\n",
            "RMSE on test set:  150228.9831\n",
            "Difference between RMSE on train and test set:  1198.5799999999872\n"
          ]
        }
      ]
    },
    {
      "cell_type": "code",
      "source": [
        "\n",
        "update_score_card(algorithm_name = 'Linear Regression', model = MLR_model)\n",
        "\n",
        "score_card"
      ],
      "metadata": {
        "colab": {
          "base_uri": "https://localhost:8080/",
          "height": 81
        },
        "id": "oBtBUNC16skM",
        "outputId": "b4f0e8e4-ec39-4f71-bc91-0c41f02ae97f"
      },
      "execution_count": 227,
      "outputs": [
        {
          "output_type": "execute_result",
          "data": {
            "text/plain": [
              "          Model_Name  R-Squared  Adj. R-Squared    Test_RMSE  Test_MAPE\n",
              "0  Linear Regression   0.834248        0.834046  150228.9831  24.506288"
            ],
            "text/html": [
              "\n",
              "  <div id=\"df-8f4a46e2-aca3-4988-8656-216deb9f14f3\">\n",
              "    <div class=\"colab-df-container\">\n",
              "      <div>\n",
              "<style scoped>\n",
              "    .dataframe tbody tr th:only-of-type {\n",
              "        vertical-align: middle;\n",
              "    }\n",
              "\n",
              "    .dataframe tbody tr th {\n",
              "        vertical-align: top;\n",
              "    }\n",
              "\n",
              "    .dataframe thead th {\n",
              "        text-align: right;\n",
              "    }\n",
              "</style>\n",
              "<table border=\"1\" class=\"dataframe\">\n",
              "  <thead>\n",
              "    <tr style=\"text-align: right;\">\n",
              "      <th></th>\n",
              "      <th>Model_Name</th>\n",
              "      <th>R-Squared</th>\n",
              "      <th>Adj. R-Squared</th>\n",
              "      <th>Test_RMSE</th>\n",
              "      <th>Test_MAPE</th>\n",
              "    </tr>\n",
              "  </thead>\n",
              "  <tbody>\n",
              "    <tr>\n",
              "      <th>0</th>\n",
              "      <td>Linear Regression</td>\n",
              "      <td>0.834248</td>\n",
              "      <td>0.834046</td>\n",
              "      <td>150228.9831</td>\n",
              "      <td>24.506288</td>\n",
              "    </tr>\n",
              "  </tbody>\n",
              "</table>\n",
              "</div>\n",
              "      <button class=\"colab-df-convert\" onclick=\"convertToInteractive('df-8f4a46e2-aca3-4988-8656-216deb9f14f3')\"\n",
              "              title=\"Convert this dataframe to an interactive table.\"\n",
              "              style=\"display:none;\">\n",
              "        \n",
              "  <svg xmlns=\"http://www.w3.org/2000/svg\" height=\"24px\"viewBox=\"0 0 24 24\"\n",
              "       width=\"24px\">\n",
              "    <path d=\"M0 0h24v24H0V0z\" fill=\"none\"/>\n",
              "    <path d=\"M18.56 5.44l.94 2.06.94-2.06 2.06-.94-2.06-.94-.94-2.06-.94 2.06-2.06.94zm-11 1L8.5 8.5l.94-2.06 2.06-.94-2.06-.94L8.5 2.5l-.94 2.06-2.06.94zm10 10l.94 2.06.94-2.06 2.06-.94-2.06-.94-.94-2.06-.94 2.06-2.06.94z\"/><path d=\"M17.41 7.96l-1.37-1.37c-.4-.4-.92-.59-1.43-.59-.52 0-1.04.2-1.43.59L10.3 9.45l-7.72 7.72c-.78.78-.78 2.05 0 2.83L4 21.41c.39.39.9.59 1.41.59.51 0 1.02-.2 1.41-.59l7.78-7.78 2.81-2.81c.8-.78.8-2.07 0-2.86zM5.41 20L4 18.59l7.72-7.72 1.47 1.35L5.41 20z\"/>\n",
              "  </svg>\n",
              "      </button>\n",
              "      \n",
              "  <style>\n",
              "    .colab-df-container {\n",
              "      display:flex;\n",
              "      flex-wrap:wrap;\n",
              "      gap: 12px;\n",
              "    }\n",
              "\n",
              "    .colab-df-convert {\n",
              "      background-color: #E8F0FE;\n",
              "      border: none;\n",
              "      border-radius: 50%;\n",
              "      cursor: pointer;\n",
              "      display: none;\n",
              "      fill: #1967D2;\n",
              "      height: 32px;\n",
              "      padding: 0 0 0 0;\n",
              "      width: 32px;\n",
              "    }\n",
              "\n",
              "    .colab-df-convert:hover {\n",
              "      background-color: #E2EBFA;\n",
              "      box-shadow: 0px 1px 2px rgba(60, 64, 67, 0.3), 0px 1px 3px 1px rgba(60, 64, 67, 0.15);\n",
              "      fill: #174EA6;\n",
              "    }\n",
              "\n",
              "    [theme=dark] .colab-df-convert {\n",
              "      background-color: #3B4455;\n",
              "      fill: #D2E3FC;\n",
              "    }\n",
              "\n",
              "    [theme=dark] .colab-df-convert:hover {\n",
              "      background-color: #434B5C;\n",
              "      box-shadow: 0px 1px 3px 1px rgba(0, 0, 0, 0.15);\n",
              "      filter: drop-shadow(0px 1px 2px rgba(0, 0, 0, 0.3));\n",
              "      fill: #FFFFFF;\n",
              "    }\n",
              "  </style>\n",
              "\n",
              "      <script>\n",
              "        const buttonEl =\n",
              "          document.querySelector('#df-8f4a46e2-aca3-4988-8656-216deb9f14f3 button.colab-df-convert');\n",
              "        buttonEl.style.display =\n",
              "          google.colab.kernel.accessAllowed ? 'block' : 'none';\n",
              "\n",
              "        async function convertToInteractive(key) {\n",
              "          const element = document.querySelector('#df-8f4a46e2-aca3-4988-8656-216deb9f14f3');\n",
              "          const dataTable =\n",
              "            await google.colab.kernel.invokeFunction('convertToInteractive',\n",
              "                                                     [key], {});\n",
              "          if (!dataTable) return;\n",
              "\n",
              "          const docLinkHtml = 'Like what you see? Visit the ' +\n",
              "            '<a target=\"_blank\" href=https://colab.research.google.com/notebooks/data_table.ipynb>data table notebook</a>'\n",
              "            + ' to learn more about interactive tables.';\n",
              "          element.innerHTML = '';\n",
              "          dataTable['output_type'] = 'display_data';\n",
              "          await google.colab.output.renderOutput(dataTable, element);\n",
              "          const docLink = document.createElement('div');\n",
              "          docLink.innerHTML = docLinkHtml;\n",
              "          element.appendChild(docLink);\n",
              "        }\n",
              "      </script>\n",
              "    </div>\n",
              "  </div>\n",
              "  "
            ]
          },
          "metadata": {},
          "execution_count": 227
        }
      ]
    },
    {
      "cell_type": "code",
      "source": [
        "#Stochastic Gradient Descent\n",
        "from sklearn.linear_model import SGDRegressor"
      ],
      "metadata": {
        "id": "by39g8Ke6wll"
      },
      "execution_count": 228,
      "outputs": []
    },
    {
      "cell_type": "code",
      "source": [
        "\n",
        "ridge = Ridge(alpha = 1, max_iter = 500)\n",
        "\n",
        "\n",
        "ridge.fit(X_train, y_train)\n",
        "\n",
        "print('RMSE on test set:', get_test_rmse(ridge))"
      ],
      "metadata": {
        "colab": {
          "base_uri": "https://localhost:8080/"
        },
        "id": "KvhXTLkU7AIT",
        "outputId": "8bfa2033-5d24-4a05-a64c-6f42c1c192e6"
      },
      "execution_count": 229,
      "outputs": [
        {
          "output_type": "stream",
          "name": "stdout",
          "text": [
            "RMSE on test set: 150191.094\n"
          ]
        }
      ]
    },
    {
      "cell_type": "code",
      "source": [
        "\n",
        "update_score_card(algorithm_name='Ridge Regression (with alpha = 1)', model = ridge, alpha = 1)\n",
        "score_card"
      ],
      "metadata": {
        "colab": {
          "base_uri": "https://localhost:8080/",
          "height": 112
        },
        "id": "TGkRGABr7PMl",
        "outputId": "178cd7e7-8e11-4dc7-e01c-d068ef9cad4a"
      },
      "execution_count": 230,
      "outputs": [
        {
          "output_type": "execute_result",
          "data": {
            "text/plain": [
              "                          Model_Name  R-Squared  Adj. R-Squared    Test_RMSE  \\\n",
              "0                  Linear Regression   0.834248        0.834046  150228.9831   \n",
              "1  Ridge Regression (with alpha = 1)   0.834264        0.834062  150191.0940   \n",
              "\n",
              "   Test_MAPE  \n",
              "0  24.506288  \n",
              "1  24.475367  "
            ],
            "text/html": [
              "\n",
              "  <div id=\"df-5b068b51-df2e-4cd6-aa2f-afd7695f6bf9\">\n",
              "    <div class=\"colab-df-container\">\n",
              "      <div>\n",
              "<style scoped>\n",
              "    .dataframe tbody tr th:only-of-type {\n",
              "        vertical-align: middle;\n",
              "    }\n",
              "\n",
              "    .dataframe tbody tr th {\n",
              "        vertical-align: top;\n",
              "    }\n",
              "\n",
              "    .dataframe thead th {\n",
              "        text-align: right;\n",
              "    }\n",
              "</style>\n",
              "<table border=\"1\" class=\"dataframe\">\n",
              "  <thead>\n",
              "    <tr style=\"text-align: right;\">\n",
              "      <th></th>\n",
              "      <th>Model_Name</th>\n",
              "      <th>R-Squared</th>\n",
              "      <th>Adj. R-Squared</th>\n",
              "      <th>Test_RMSE</th>\n",
              "      <th>Test_MAPE</th>\n",
              "    </tr>\n",
              "  </thead>\n",
              "  <tbody>\n",
              "    <tr>\n",
              "      <th>0</th>\n",
              "      <td>Linear Regression</td>\n",
              "      <td>0.834248</td>\n",
              "      <td>0.834046</td>\n",
              "      <td>150228.9831</td>\n",
              "      <td>24.506288</td>\n",
              "    </tr>\n",
              "    <tr>\n",
              "      <th>1</th>\n",
              "      <td>Ridge Regression (with alpha = 1)</td>\n",
              "      <td>0.834264</td>\n",
              "      <td>0.834062</td>\n",
              "      <td>150191.0940</td>\n",
              "      <td>24.475367</td>\n",
              "    </tr>\n",
              "  </tbody>\n",
              "</table>\n",
              "</div>\n",
              "      <button class=\"colab-df-convert\" onclick=\"convertToInteractive('df-5b068b51-df2e-4cd6-aa2f-afd7695f6bf9')\"\n",
              "              title=\"Convert this dataframe to an interactive table.\"\n",
              "              style=\"display:none;\">\n",
              "        \n",
              "  <svg xmlns=\"http://www.w3.org/2000/svg\" height=\"24px\"viewBox=\"0 0 24 24\"\n",
              "       width=\"24px\">\n",
              "    <path d=\"M0 0h24v24H0V0z\" fill=\"none\"/>\n",
              "    <path d=\"M18.56 5.44l.94 2.06.94-2.06 2.06-.94-2.06-.94-.94-2.06-.94 2.06-2.06.94zm-11 1L8.5 8.5l.94-2.06 2.06-.94-2.06-.94L8.5 2.5l-.94 2.06-2.06.94zm10 10l.94 2.06.94-2.06 2.06-.94-2.06-.94-.94-2.06-.94 2.06-2.06.94z\"/><path d=\"M17.41 7.96l-1.37-1.37c-.4-.4-.92-.59-1.43-.59-.52 0-1.04.2-1.43.59L10.3 9.45l-7.72 7.72c-.78.78-.78 2.05 0 2.83L4 21.41c.39.39.9.59 1.41.59.51 0 1.02-.2 1.41-.59l7.78-7.78 2.81-2.81c.8-.78.8-2.07 0-2.86zM5.41 20L4 18.59l7.72-7.72 1.47 1.35L5.41 20z\"/>\n",
              "  </svg>\n",
              "      </button>\n",
              "      \n",
              "  <style>\n",
              "    .colab-df-container {\n",
              "      display:flex;\n",
              "      flex-wrap:wrap;\n",
              "      gap: 12px;\n",
              "    }\n",
              "\n",
              "    .colab-df-convert {\n",
              "      background-color: #E8F0FE;\n",
              "      border: none;\n",
              "      border-radius: 50%;\n",
              "      cursor: pointer;\n",
              "      display: none;\n",
              "      fill: #1967D2;\n",
              "      height: 32px;\n",
              "      padding: 0 0 0 0;\n",
              "      width: 32px;\n",
              "    }\n",
              "\n",
              "    .colab-df-convert:hover {\n",
              "      background-color: #E2EBFA;\n",
              "      box-shadow: 0px 1px 2px rgba(60, 64, 67, 0.3), 0px 1px 3px 1px rgba(60, 64, 67, 0.15);\n",
              "      fill: #174EA6;\n",
              "    }\n",
              "\n",
              "    [theme=dark] .colab-df-convert {\n",
              "      background-color: #3B4455;\n",
              "      fill: #D2E3FC;\n",
              "    }\n",
              "\n",
              "    [theme=dark] .colab-df-convert:hover {\n",
              "      background-color: #434B5C;\n",
              "      box-shadow: 0px 1px 3px 1px rgba(0, 0, 0, 0.15);\n",
              "      filter: drop-shadow(0px 1px 2px rgba(0, 0, 0, 0.3));\n",
              "      fill: #FFFFFF;\n",
              "    }\n",
              "  </style>\n",
              "\n",
              "      <script>\n",
              "        const buttonEl =\n",
              "          document.querySelector('#df-5b068b51-df2e-4cd6-aa2f-afd7695f6bf9 button.colab-df-convert');\n",
              "        buttonEl.style.display =\n",
              "          google.colab.kernel.accessAllowed ? 'block' : 'none';\n",
              "\n",
              "        async function convertToInteractive(key) {\n",
              "          const element = document.querySelector('#df-5b068b51-df2e-4cd6-aa2f-afd7695f6bf9');\n",
              "          const dataTable =\n",
              "            await google.colab.kernel.invokeFunction('convertToInteractive',\n",
              "                                                     [key], {});\n",
              "          if (!dataTable) return;\n",
              "\n",
              "          const docLinkHtml = 'Like what you see? Visit the ' +\n",
              "            '<a target=\"_blank\" href=https://colab.research.google.com/notebooks/data_table.ipynb>data table notebook</a>'\n",
              "            + ' to learn more about interactive tables.';\n",
              "          element.innerHTML = '';\n",
              "          dataTable['output_type'] = 'display_data';\n",
              "          await google.colab.output.renderOutput(dataTable, element);\n",
              "          const docLink = document.createElement('div');\n",
              "          docLink.innerHTML = docLinkHtml;\n",
              "          element.appendChild(docLink);\n",
              "        }\n",
              "      </script>\n",
              "    </div>\n",
              "  </div>\n",
              "  "
            ]
          },
          "metadata": {},
          "execution_count": 230
        }
      ]
    },
    {
      "cell_type": "code",
      "source": [
        "\n",
        "ridge = Ridge(alpha = 2, max_iter = 500)\n",
        "\n",
        "ridge.fit(X_train, y_train)\n",
        "\n",
        "print('RMSE on test set:', get_test_rmse(ridge))"
      ],
      "metadata": {
        "colab": {
          "base_uri": "https://localhost:8080/"
        },
        "id": "rKrQR25M7Q4j",
        "outputId": "dcd235a5-0361-4cd6-e0fb-68560f274bf6"
      },
      "execution_count": 231,
      "outputs": [
        {
          "output_type": "stream",
          "name": "stdout",
          "text": [
            "RMSE on test set: 150190.6546\n"
          ]
        }
      ]
    },
    {
      "cell_type": "code",
      "source": [
        "\n",
        "update_score_card(algorithm_name = 'Ridge Regression (with alpha = 2)', model = ridge, alpha = '2')\n",
        "score_card"
      ],
      "metadata": {
        "colab": {
          "base_uri": "https://localhost:8080/",
          "height": 143
        },
        "id": "r5Bk27pV7URT",
        "outputId": "e573c91e-cc34-4f4c-cfc6-212611b94561"
      },
      "execution_count": 232,
      "outputs": [
        {
          "output_type": "execute_result",
          "data": {
            "text/plain": [
              "                          Model_Name  R-Squared  Adj. R-Squared    Test_RMSE  \\\n",
              "0                  Linear Regression   0.834248        0.834046  150228.9831   \n",
              "1  Ridge Regression (with alpha = 1)   0.834264        0.834062  150191.0940   \n",
              "2  Ridge Regression (with alpha = 2)   0.834263        0.834062  150190.6546   \n",
              "\n",
              "   Test_MAPE  \n",
              "0  24.506288  \n",
              "1  24.475367  \n",
              "2  24.474341  "
            ],
            "text/html": [
              "\n",
              "  <div id=\"df-818cfc6a-bf3b-4bef-9ce4-b77687e28b5e\">\n",
              "    <div class=\"colab-df-container\">\n",
              "      <div>\n",
              "<style scoped>\n",
              "    .dataframe tbody tr th:only-of-type {\n",
              "        vertical-align: middle;\n",
              "    }\n",
              "\n",
              "    .dataframe tbody tr th {\n",
              "        vertical-align: top;\n",
              "    }\n",
              "\n",
              "    .dataframe thead th {\n",
              "        text-align: right;\n",
              "    }\n",
              "</style>\n",
              "<table border=\"1\" class=\"dataframe\">\n",
              "  <thead>\n",
              "    <tr style=\"text-align: right;\">\n",
              "      <th></th>\n",
              "      <th>Model_Name</th>\n",
              "      <th>R-Squared</th>\n",
              "      <th>Adj. R-Squared</th>\n",
              "      <th>Test_RMSE</th>\n",
              "      <th>Test_MAPE</th>\n",
              "    </tr>\n",
              "  </thead>\n",
              "  <tbody>\n",
              "    <tr>\n",
              "      <th>0</th>\n",
              "      <td>Linear Regression</td>\n",
              "      <td>0.834248</td>\n",
              "      <td>0.834046</td>\n",
              "      <td>150228.9831</td>\n",
              "      <td>24.506288</td>\n",
              "    </tr>\n",
              "    <tr>\n",
              "      <th>1</th>\n",
              "      <td>Ridge Regression (with alpha = 1)</td>\n",
              "      <td>0.834264</td>\n",
              "      <td>0.834062</td>\n",
              "      <td>150191.0940</td>\n",
              "      <td>24.475367</td>\n",
              "    </tr>\n",
              "    <tr>\n",
              "      <th>2</th>\n",
              "      <td>Ridge Regression (with alpha = 2)</td>\n",
              "      <td>0.834263</td>\n",
              "      <td>0.834062</td>\n",
              "      <td>150190.6546</td>\n",
              "      <td>24.474341</td>\n",
              "    </tr>\n",
              "  </tbody>\n",
              "</table>\n",
              "</div>\n",
              "      <button class=\"colab-df-convert\" onclick=\"convertToInteractive('df-818cfc6a-bf3b-4bef-9ce4-b77687e28b5e')\"\n",
              "              title=\"Convert this dataframe to an interactive table.\"\n",
              "              style=\"display:none;\">\n",
              "        \n",
              "  <svg xmlns=\"http://www.w3.org/2000/svg\" height=\"24px\"viewBox=\"0 0 24 24\"\n",
              "       width=\"24px\">\n",
              "    <path d=\"M0 0h24v24H0V0z\" fill=\"none\"/>\n",
              "    <path d=\"M18.56 5.44l.94 2.06.94-2.06 2.06-.94-2.06-.94-.94-2.06-.94 2.06-2.06.94zm-11 1L8.5 8.5l.94-2.06 2.06-.94-2.06-.94L8.5 2.5l-.94 2.06-2.06.94zm10 10l.94 2.06.94-2.06 2.06-.94-2.06-.94-.94-2.06-.94 2.06-2.06.94z\"/><path d=\"M17.41 7.96l-1.37-1.37c-.4-.4-.92-.59-1.43-.59-.52 0-1.04.2-1.43.59L10.3 9.45l-7.72 7.72c-.78.78-.78 2.05 0 2.83L4 21.41c.39.39.9.59 1.41.59.51 0 1.02-.2 1.41-.59l7.78-7.78 2.81-2.81c.8-.78.8-2.07 0-2.86zM5.41 20L4 18.59l7.72-7.72 1.47 1.35L5.41 20z\"/>\n",
              "  </svg>\n",
              "      </button>\n",
              "      \n",
              "  <style>\n",
              "    .colab-df-container {\n",
              "      display:flex;\n",
              "      flex-wrap:wrap;\n",
              "      gap: 12px;\n",
              "    }\n",
              "\n",
              "    .colab-df-convert {\n",
              "      background-color: #E8F0FE;\n",
              "      border: none;\n",
              "      border-radius: 50%;\n",
              "      cursor: pointer;\n",
              "      display: none;\n",
              "      fill: #1967D2;\n",
              "      height: 32px;\n",
              "      padding: 0 0 0 0;\n",
              "      width: 32px;\n",
              "    }\n",
              "\n",
              "    .colab-df-convert:hover {\n",
              "      background-color: #E2EBFA;\n",
              "      box-shadow: 0px 1px 2px rgba(60, 64, 67, 0.3), 0px 1px 3px 1px rgba(60, 64, 67, 0.15);\n",
              "      fill: #174EA6;\n",
              "    }\n",
              "\n",
              "    [theme=dark] .colab-df-convert {\n",
              "      background-color: #3B4455;\n",
              "      fill: #D2E3FC;\n",
              "    }\n",
              "\n",
              "    [theme=dark] .colab-df-convert:hover {\n",
              "      background-color: #434B5C;\n",
              "      box-shadow: 0px 1px 3px 1px rgba(0, 0, 0, 0.15);\n",
              "      filter: drop-shadow(0px 1px 2px rgba(0, 0, 0, 0.3));\n",
              "      fill: #FFFFFF;\n",
              "    }\n",
              "  </style>\n",
              "\n",
              "      <script>\n",
              "        const buttonEl =\n",
              "          document.querySelector('#df-818cfc6a-bf3b-4bef-9ce4-b77687e28b5e button.colab-df-convert');\n",
              "        buttonEl.style.display =\n",
              "          google.colab.kernel.accessAllowed ? 'block' : 'none';\n",
              "\n",
              "        async function convertToInteractive(key) {\n",
              "          const element = document.querySelector('#df-818cfc6a-bf3b-4bef-9ce4-b77687e28b5e');\n",
              "          const dataTable =\n",
              "            await google.colab.kernel.invokeFunction('convertToInteractive',\n",
              "                                                     [key], {});\n",
              "          if (!dataTable) return;\n",
              "\n",
              "          const docLinkHtml = 'Like what you see? Visit the ' +\n",
              "            '<a target=\"_blank\" href=https://colab.research.google.com/notebooks/data_table.ipynb>data table notebook</a>'\n",
              "            + ' to learn more about interactive tables.';\n",
              "          element.innerHTML = '';\n",
              "          dataTable['output_type'] = 'display_data';\n",
              "          await google.colab.output.renderOutput(dataTable, element);\n",
              "          const docLink = document.createElement('div');\n",
              "          docLink.innerHTML = docLinkHtml;\n",
              "          element.appendChild(docLink);\n",
              "        }\n",
              "      </script>\n",
              "    </div>\n",
              "  </div>\n",
              "  "
            ]
          },
          "metadata": {},
          "execution_count": 232
        }
      ]
    },
    {
      "cell_type": "code",
      "source": [
        "\n",
        "lasso = Lasso(alpha = 0.01, max_iter = 500)\n",
        "\n",
        "lasso.fit(X_train, y_train)\n",
        "\n",
        "print('RMSE on test set:', get_test_rmse(lasso))"
      ],
      "metadata": {
        "colab": {
          "base_uri": "https://localhost:8080/"
        },
        "id": "q3OOd_3_7V0g",
        "outputId": "1731ee47-b2e6-48f2-ec78-7e15726abd72"
      },
      "execution_count": 233,
      "outputs": [
        {
          "output_type": "stream",
          "name": "stdout",
          "text": [
            "RMSE on test set: 150191.5433\n"
          ]
        }
      ]
    },
    {
      "cell_type": "code",
      "source": [
        "\n",
        "update_score_card(algorithm_name = 'Lasso Regression', model = lasso, alpha = '0.01')\n",
        "\n",
        "score_card"
      ],
      "metadata": {
        "colab": {
          "base_uri": "https://localhost:8080/",
          "height": 175
        },
        "id": "3guyuAwg7b12",
        "outputId": "ae9269bb-c88b-416f-bd0b-c54627aea0f9"
      },
      "execution_count": 234,
      "outputs": [
        {
          "output_type": "execute_result",
          "data": {
            "text/plain": [
              "                          Model_Name  R-Squared  Adj. R-Squared    Test_RMSE  \\\n",
              "0                  Linear Regression   0.834248        0.834046  150228.9831   \n",
              "1  Ridge Regression (with alpha = 1)   0.834264        0.834062  150191.0940   \n",
              "2  Ridge Regression (with alpha = 2)   0.834263        0.834062  150190.6546   \n",
              "3                   Lasso Regression   0.834264        0.834062  150191.5433   \n",
              "\n",
              "   Test_MAPE  \n",
              "0  24.506288  \n",
              "1  24.475367  \n",
              "2  24.474341  \n",
              "3  24.476393  "
            ],
            "text/html": [
              "\n",
              "  <div id=\"df-7c714fde-37ba-4673-8f92-9e5657b4580b\">\n",
              "    <div class=\"colab-df-container\">\n",
              "      <div>\n",
              "<style scoped>\n",
              "    .dataframe tbody tr th:only-of-type {\n",
              "        vertical-align: middle;\n",
              "    }\n",
              "\n",
              "    .dataframe tbody tr th {\n",
              "        vertical-align: top;\n",
              "    }\n",
              "\n",
              "    .dataframe thead th {\n",
              "        text-align: right;\n",
              "    }\n",
              "</style>\n",
              "<table border=\"1\" class=\"dataframe\">\n",
              "  <thead>\n",
              "    <tr style=\"text-align: right;\">\n",
              "      <th></th>\n",
              "      <th>Model_Name</th>\n",
              "      <th>R-Squared</th>\n",
              "      <th>Adj. R-Squared</th>\n",
              "      <th>Test_RMSE</th>\n",
              "      <th>Test_MAPE</th>\n",
              "    </tr>\n",
              "  </thead>\n",
              "  <tbody>\n",
              "    <tr>\n",
              "      <th>0</th>\n",
              "      <td>Linear Regression</td>\n",
              "      <td>0.834248</td>\n",
              "      <td>0.834046</td>\n",
              "      <td>150228.9831</td>\n",
              "      <td>24.506288</td>\n",
              "    </tr>\n",
              "    <tr>\n",
              "      <th>1</th>\n",
              "      <td>Ridge Regression (with alpha = 1)</td>\n",
              "      <td>0.834264</td>\n",
              "      <td>0.834062</td>\n",
              "      <td>150191.0940</td>\n",
              "      <td>24.475367</td>\n",
              "    </tr>\n",
              "    <tr>\n",
              "      <th>2</th>\n",
              "      <td>Ridge Regression (with alpha = 2)</td>\n",
              "      <td>0.834263</td>\n",
              "      <td>0.834062</td>\n",
              "      <td>150190.6546</td>\n",
              "      <td>24.474341</td>\n",
              "    </tr>\n",
              "    <tr>\n",
              "      <th>3</th>\n",
              "      <td>Lasso Regression</td>\n",
              "      <td>0.834264</td>\n",
              "      <td>0.834062</td>\n",
              "      <td>150191.5433</td>\n",
              "      <td>24.476393</td>\n",
              "    </tr>\n",
              "  </tbody>\n",
              "</table>\n",
              "</div>\n",
              "      <button class=\"colab-df-convert\" onclick=\"convertToInteractive('df-7c714fde-37ba-4673-8f92-9e5657b4580b')\"\n",
              "              title=\"Convert this dataframe to an interactive table.\"\n",
              "              style=\"display:none;\">\n",
              "        \n",
              "  <svg xmlns=\"http://www.w3.org/2000/svg\" height=\"24px\"viewBox=\"0 0 24 24\"\n",
              "       width=\"24px\">\n",
              "    <path d=\"M0 0h24v24H0V0z\" fill=\"none\"/>\n",
              "    <path d=\"M18.56 5.44l.94 2.06.94-2.06 2.06-.94-2.06-.94-.94-2.06-.94 2.06-2.06.94zm-11 1L8.5 8.5l.94-2.06 2.06-.94-2.06-.94L8.5 2.5l-.94 2.06-2.06.94zm10 10l.94 2.06.94-2.06 2.06-.94-2.06-.94-.94-2.06-.94 2.06-2.06.94z\"/><path d=\"M17.41 7.96l-1.37-1.37c-.4-.4-.92-.59-1.43-.59-.52 0-1.04.2-1.43.59L10.3 9.45l-7.72 7.72c-.78.78-.78 2.05 0 2.83L4 21.41c.39.39.9.59 1.41.59.51 0 1.02-.2 1.41-.59l7.78-7.78 2.81-2.81c.8-.78.8-2.07 0-2.86zM5.41 20L4 18.59l7.72-7.72 1.47 1.35L5.41 20z\"/>\n",
              "  </svg>\n",
              "      </button>\n",
              "      \n",
              "  <style>\n",
              "    .colab-df-container {\n",
              "      display:flex;\n",
              "      flex-wrap:wrap;\n",
              "      gap: 12px;\n",
              "    }\n",
              "\n",
              "    .colab-df-convert {\n",
              "      background-color: #E8F0FE;\n",
              "      border: none;\n",
              "      border-radius: 50%;\n",
              "      cursor: pointer;\n",
              "      display: none;\n",
              "      fill: #1967D2;\n",
              "      height: 32px;\n",
              "      padding: 0 0 0 0;\n",
              "      width: 32px;\n",
              "    }\n",
              "\n",
              "    .colab-df-convert:hover {\n",
              "      background-color: #E2EBFA;\n",
              "      box-shadow: 0px 1px 2px rgba(60, 64, 67, 0.3), 0px 1px 3px 1px rgba(60, 64, 67, 0.15);\n",
              "      fill: #174EA6;\n",
              "    }\n",
              "\n",
              "    [theme=dark] .colab-df-convert {\n",
              "      background-color: #3B4455;\n",
              "      fill: #D2E3FC;\n",
              "    }\n",
              "\n",
              "    [theme=dark] .colab-df-convert:hover {\n",
              "      background-color: #434B5C;\n",
              "      box-shadow: 0px 1px 3px 1px rgba(0, 0, 0, 0.15);\n",
              "      filter: drop-shadow(0px 1px 2px rgba(0, 0, 0, 0.3));\n",
              "      fill: #FFFFFF;\n",
              "    }\n",
              "  </style>\n",
              "\n",
              "      <script>\n",
              "        const buttonEl =\n",
              "          document.querySelector('#df-7c714fde-37ba-4673-8f92-9e5657b4580b button.colab-df-convert');\n",
              "        buttonEl.style.display =\n",
              "          google.colab.kernel.accessAllowed ? 'block' : 'none';\n",
              "\n",
              "        async function convertToInteractive(key) {\n",
              "          const element = document.querySelector('#df-7c714fde-37ba-4673-8f92-9e5657b4580b');\n",
              "          const dataTable =\n",
              "            await google.colab.kernel.invokeFunction('convertToInteractive',\n",
              "                                                     [key], {});\n",
              "          if (!dataTable) return;\n",
              "\n",
              "          const docLinkHtml = 'Like what you see? Visit the ' +\n",
              "            '<a target=\"_blank\" href=https://colab.research.google.com/notebooks/data_table.ipynb>data table notebook</a>'\n",
              "            + ' to learn more about interactive tables.';\n",
              "          element.innerHTML = '';\n",
              "          dataTable['output_type'] = 'display_data';\n",
              "          await google.colab.output.renderOutput(dataTable, element);\n",
              "          const docLink = document.createElement('div');\n",
              "          docLink.innerHTML = docLinkHtml;\n",
              "          element.appendChild(docLink);\n",
              "        }\n",
              "      </script>\n",
              "    </div>\n",
              "  </div>\n",
              "  "
            ]
          },
          "metadata": {},
          "execution_count": 234
        }
      ]
    },
    {
      "cell_type": "code",
      "source": [
        "\n",
        "enet = ElasticNet(alpha = 0.1, l1_ratio = 0.01, max_iter = 500)\n",
        "\n",
        "enet.fit(X_train, y_train)\n",
        "\n",
        "print('RMSE on test set:', get_test_rmse(enet))"
      ],
      "metadata": {
        "colab": {
          "base_uri": "https://localhost:8080/"
        },
        "id": "JeVAUvtL7dbB",
        "outputId": "54932328-da3d-4d5d-da32-e6b8983aec5f"
      },
      "execution_count": 235,
      "outputs": [
        {
          "output_type": "stream",
          "name": "stdout",
          "text": [
            "RMSE on test set: 152386.8967\n"
          ]
        }
      ]
    },
    {
      "cell_type": "code",
      "source": [
        "\n",
        "update_score_card(algorithm_name = 'Elastic Net Regression', model = enet, alpha = '0.1', l1_ratio = '0.01')\n",
        "\n",
        "score_card"
      ],
      "metadata": {
        "colab": {
          "base_uri": "https://localhost:8080/",
          "height": 206
        },
        "id": "73GR7_zK7gTd",
        "outputId": "212b4e71-9c08-4da4-aac4-c7df02b03e6c"
      },
      "execution_count": 236,
      "outputs": [
        {
          "output_type": "execute_result",
          "data": {
            "text/plain": [
              "                          Model_Name  R-Squared  Adj. R-Squared    Test_RMSE  \\\n",
              "0                  Linear Regression   0.834248        0.834046  150228.9831   \n",
              "1  Ridge Regression (with alpha = 1)   0.834264        0.834062  150191.0940   \n",
              "2  Ridge Regression (with alpha = 2)   0.834263        0.834062  150190.6546   \n",
              "3                   Lasso Regression   0.834264        0.834062  150191.5433   \n",
              "4             Elastic Net Regression   0.828904        0.828695  152386.8967   \n",
              "\n",
              "   Test_MAPE  \n",
              "0  24.506288  \n",
              "1  24.475367  \n",
              "2  24.474341  \n",
              "3  24.476393  \n",
              "4  23.701307  "
            ],
            "text/html": [
              "\n",
              "  <div id=\"df-6d100253-8eae-4d12-940a-e6b6e7419093\">\n",
              "    <div class=\"colab-df-container\">\n",
              "      <div>\n",
              "<style scoped>\n",
              "    .dataframe tbody tr th:only-of-type {\n",
              "        vertical-align: middle;\n",
              "    }\n",
              "\n",
              "    .dataframe tbody tr th {\n",
              "        vertical-align: top;\n",
              "    }\n",
              "\n",
              "    .dataframe thead th {\n",
              "        text-align: right;\n",
              "    }\n",
              "</style>\n",
              "<table border=\"1\" class=\"dataframe\">\n",
              "  <thead>\n",
              "    <tr style=\"text-align: right;\">\n",
              "      <th></th>\n",
              "      <th>Model_Name</th>\n",
              "      <th>R-Squared</th>\n",
              "      <th>Adj. R-Squared</th>\n",
              "      <th>Test_RMSE</th>\n",
              "      <th>Test_MAPE</th>\n",
              "    </tr>\n",
              "  </thead>\n",
              "  <tbody>\n",
              "    <tr>\n",
              "      <th>0</th>\n",
              "      <td>Linear Regression</td>\n",
              "      <td>0.834248</td>\n",
              "      <td>0.834046</td>\n",
              "      <td>150228.9831</td>\n",
              "      <td>24.506288</td>\n",
              "    </tr>\n",
              "    <tr>\n",
              "      <th>1</th>\n",
              "      <td>Ridge Regression (with alpha = 1)</td>\n",
              "      <td>0.834264</td>\n",
              "      <td>0.834062</td>\n",
              "      <td>150191.0940</td>\n",
              "      <td>24.475367</td>\n",
              "    </tr>\n",
              "    <tr>\n",
              "      <th>2</th>\n",
              "      <td>Ridge Regression (with alpha = 2)</td>\n",
              "      <td>0.834263</td>\n",
              "      <td>0.834062</td>\n",
              "      <td>150190.6546</td>\n",
              "      <td>24.474341</td>\n",
              "    </tr>\n",
              "    <tr>\n",
              "      <th>3</th>\n",
              "      <td>Lasso Regression</td>\n",
              "      <td>0.834264</td>\n",
              "      <td>0.834062</td>\n",
              "      <td>150191.5433</td>\n",
              "      <td>24.476393</td>\n",
              "    </tr>\n",
              "    <tr>\n",
              "      <th>4</th>\n",
              "      <td>Elastic Net Regression</td>\n",
              "      <td>0.828904</td>\n",
              "      <td>0.828695</td>\n",
              "      <td>152386.8967</td>\n",
              "      <td>23.701307</td>\n",
              "    </tr>\n",
              "  </tbody>\n",
              "</table>\n",
              "</div>\n",
              "      <button class=\"colab-df-convert\" onclick=\"convertToInteractive('df-6d100253-8eae-4d12-940a-e6b6e7419093')\"\n",
              "              title=\"Convert this dataframe to an interactive table.\"\n",
              "              style=\"display:none;\">\n",
              "        \n",
              "  <svg xmlns=\"http://www.w3.org/2000/svg\" height=\"24px\"viewBox=\"0 0 24 24\"\n",
              "       width=\"24px\">\n",
              "    <path d=\"M0 0h24v24H0V0z\" fill=\"none\"/>\n",
              "    <path d=\"M18.56 5.44l.94 2.06.94-2.06 2.06-.94-2.06-.94-.94-2.06-.94 2.06-2.06.94zm-11 1L8.5 8.5l.94-2.06 2.06-.94-2.06-.94L8.5 2.5l-.94 2.06-2.06.94zm10 10l.94 2.06.94-2.06 2.06-.94-2.06-.94-.94-2.06-.94 2.06-2.06.94z\"/><path d=\"M17.41 7.96l-1.37-1.37c-.4-.4-.92-.59-1.43-.59-.52 0-1.04.2-1.43.59L10.3 9.45l-7.72 7.72c-.78.78-.78 2.05 0 2.83L4 21.41c.39.39.9.59 1.41.59.51 0 1.02-.2 1.41-.59l7.78-7.78 2.81-2.81c.8-.78.8-2.07 0-2.86zM5.41 20L4 18.59l7.72-7.72 1.47 1.35L5.41 20z\"/>\n",
              "  </svg>\n",
              "      </button>\n",
              "      \n",
              "  <style>\n",
              "    .colab-df-container {\n",
              "      display:flex;\n",
              "      flex-wrap:wrap;\n",
              "      gap: 12px;\n",
              "    }\n",
              "\n",
              "    .colab-df-convert {\n",
              "      background-color: #E8F0FE;\n",
              "      border: none;\n",
              "      border-radius: 50%;\n",
              "      cursor: pointer;\n",
              "      display: none;\n",
              "      fill: #1967D2;\n",
              "      height: 32px;\n",
              "      padding: 0 0 0 0;\n",
              "      width: 32px;\n",
              "    }\n",
              "\n",
              "    .colab-df-convert:hover {\n",
              "      background-color: #E2EBFA;\n",
              "      box-shadow: 0px 1px 2px rgba(60, 64, 67, 0.3), 0px 1px 3px 1px rgba(60, 64, 67, 0.15);\n",
              "      fill: #174EA6;\n",
              "    }\n",
              "\n",
              "    [theme=dark] .colab-df-convert {\n",
              "      background-color: #3B4455;\n",
              "      fill: #D2E3FC;\n",
              "    }\n",
              "\n",
              "    [theme=dark] .colab-df-convert:hover {\n",
              "      background-color: #434B5C;\n",
              "      box-shadow: 0px 1px 3px 1px rgba(0, 0, 0, 0.15);\n",
              "      filter: drop-shadow(0px 1px 2px rgba(0, 0, 0, 0.3));\n",
              "      fill: #FFFFFF;\n",
              "    }\n",
              "  </style>\n",
              "\n",
              "      <script>\n",
              "        const buttonEl =\n",
              "          document.querySelector('#df-6d100253-8eae-4d12-940a-e6b6e7419093 button.colab-df-convert');\n",
              "        buttonEl.style.display =\n",
              "          google.colab.kernel.accessAllowed ? 'block' : 'none';\n",
              "\n",
              "        async function convertToInteractive(key) {\n",
              "          const element = document.querySelector('#df-6d100253-8eae-4d12-940a-e6b6e7419093');\n",
              "          const dataTable =\n",
              "            await google.colab.kernel.invokeFunction('convertToInteractive',\n",
              "                                                     [key], {});\n",
              "          if (!dataTable) return;\n",
              "\n",
              "          const docLinkHtml = 'Like what you see? Visit the ' +\n",
              "            '<a target=\"_blank\" href=https://colab.research.google.com/notebooks/data_table.ipynb>data table notebook</a>'\n",
              "            + ' to learn more about interactive tables.';\n",
              "          element.innerHTML = '';\n",
              "          dataTable['output_type'] = 'display_data';\n",
              "          await google.colab.output.renderOutput(dataTable, element);\n",
              "          const docLink = document.createElement('div');\n",
              "          docLink.innerHTML = docLinkHtml;\n",
              "          element.appendChild(docLink);\n",
              "        }\n",
              "      </script>\n",
              "    </div>\n",
              "  </div>\n",
              "  "
            ]
          },
          "metadata": {},
          "execution_count": 236
        }
      ]
    },
    {
      "cell_type": "code",
      "source": [
        "\n",
        "tuned_paramaters = [{'alpha':[1e-15, 1e-10, 1e-8, 1e-4,1e-3, 1e-2, 0.1, 1, 5, 10, 20, 40, 60, 80, 100]}]\n",
        "\n",
        "ridge = Ridge()\n",
        "ridge_grid = GridSearchCV(estimator = ridge, \n",
        "                          param_grid = tuned_paramaters, \n",
        "                          cv = 5)\n",
        "\n",
        "ridge_grid.fit(X_train, y_train)\n",
        "\n",
        "print('Best parameters for Ridge Regression: ', ridge_grid.best_params_, '\\n')\n",
        "\n",
        "print('RMSE on test set:', get_test_rmse(ridge_grid))"
      ],
      "metadata": {
        "colab": {
          "base_uri": "https://localhost:8080/"
        },
        "id": "LUjA6MpU7h7x",
        "outputId": "f25713ae-9653-4a21-c7e5-c966c579ab22"
      },
      "execution_count": 237,
      "outputs": [
        {
          "output_type": "stream",
          "name": "stdout",
          "text": [
            "Best parameters for Ridge Regression:  {'alpha': 1} \n",
            "\n",
            "RMSE on test set: 150191.094\n"
          ]
        }
      ]
    },
    {
      "cell_type": "code",
      "source": [
        "\n",
        "update_score_card(algorithm_name = 'Ridge Regression (using GridSearchCV)', \n",
        "                  model = ridge_grid, \n",
        "                  alpha = ridge_grid.best_params_.get('alpha'))\n",
        "score_card"
      ],
      "metadata": {
        "colab": {
          "base_uri": "https://localhost:8080/",
          "height": 237
        },
        "id": "drY2nZq97kBX",
        "outputId": "1d1316fd-871e-408f-98f7-97d3db59fb83"
      },
      "execution_count": 238,
      "outputs": [
        {
          "output_type": "execute_result",
          "data": {
            "text/plain": [
              "                              Model_Name  R-Squared  Adj. R-Squared  \\\n",
              "0                      Linear Regression   0.834248        0.834046   \n",
              "1      Ridge Regression (with alpha = 1)   0.834264        0.834062   \n",
              "2      Ridge Regression (with alpha = 2)   0.834263        0.834062   \n",
              "3                       Lasso Regression   0.834264        0.834062   \n",
              "4                 Elastic Net Regression   0.828904        0.828695   \n",
              "5  Ridge Regression (using GridSearchCV)   0.834264        0.834062   \n",
              "\n",
              "     Test_RMSE  Test_MAPE  \n",
              "0  150228.9831  24.506288  \n",
              "1  150191.0940  24.475367  \n",
              "2  150190.6546  24.474341  \n",
              "3  150191.5433  24.476393  \n",
              "4  152386.8967  23.701307  \n",
              "5  150191.0940  24.475367  "
            ],
            "text/html": [
              "\n",
              "  <div id=\"df-f4b90ec2-5f2e-4fbe-ad71-b6ffdeb27a33\">\n",
              "    <div class=\"colab-df-container\">\n",
              "      <div>\n",
              "<style scoped>\n",
              "    .dataframe tbody tr th:only-of-type {\n",
              "        vertical-align: middle;\n",
              "    }\n",
              "\n",
              "    .dataframe tbody tr th {\n",
              "        vertical-align: top;\n",
              "    }\n",
              "\n",
              "    .dataframe thead th {\n",
              "        text-align: right;\n",
              "    }\n",
              "</style>\n",
              "<table border=\"1\" class=\"dataframe\">\n",
              "  <thead>\n",
              "    <tr style=\"text-align: right;\">\n",
              "      <th></th>\n",
              "      <th>Model_Name</th>\n",
              "      <th>R-Squared</th>\n",
              "      <th>Adj. R-Squared</th>\n",
              "      <th>Test_RMSE</th>\n",
              "      <th>Test_MAPE</th>\n",
              "    </tr>\n",
              "  </thead>\n",
              "  <tbody>\n",
              "    <tr>\n",
              "      <th>0</th>\n",
              "      <td>Linear Regression</td>\n",
              "      <td>0.834248</td>\n",
              "      <td>0.834046</td>\n",
              "      <td>150228.9831</td>\n",
              "      <td>24.506288</td>\n",
              "    </tr>\n",
              "    <tr>\n",
              "      <th>1</th>\n",
              "      <td>Ridge Regression (with alpha = 1)</td>\n",
              "      <td>0.834264</td>\n",
              "      <td>0.834062</td>\n",
              "      <td>150191.0940</td>\n",
              "      <td>24.475367</td>\n",
              "    </tr>\n",
              "    <tr>\n",
              "      <th>2</th>\n",
              "      <td>Ridge Regression (with alpha = 2)</td>\n",
              "      <td>0.834263</td>\n",
              "      <td>0.834062</td>\n",
              "      <td>150190.6546</td>\n",
              "      <td>24.474341</td>\n",
              "    </tr>\n",
              "    <tr>\n",
              "      <th>3</th>\n",
              "      <td>Lasso Regression</td>\n",
              "      <td>0.834264</td>\n",
              "      <td>0.834062</td>\n",
              "      <td>150191.5433</td>\n",
              "      <td>24.476393</td>\n",
              "    </tr>\n",
              "    <tr>\n",
              "      <th>4</th>\n",
              "      <td>Elastic Net Regression</td>\n",
              "      <td>0.828904</td>\n",
              "      <td>0.828695</td>\n",
              "      <td>152386.8967</td>\n",
              "      <td>23.701307</td>\n",
              "    </tr>\n",
              "    <tr>\n",
              "      <th>5</th>\n",
              "      <td>Ridge Regression (using GridSearchCV)</td>\n",
              "      <td>0.834264</td>\n",
              "      <td>0.834062</td>\n",
              "      <td>150191.0940</td>\n",
              "      <td>24.475367</td>\n",
              "    </tr>\n",
              "  </tbody>\n",
              "</table>\n",
              "</div>\n",
              "      <button class=\"colab-df-convert\" onclick=\"convertToInteractive('df-f4b90ec2-5f2e-4fbe-ad71-b6ffdeb27a33')\"\n",
              "              title=\"Convert this dataframe to an interactive table.\"\n",
              "              style=\"display:none;\">\n",
              "        \n",
              "  <svg xmlns=\"http://www.w3.org/2000/svg\" height=\"24px\"viewBox=\"0 0 24 24\"\n",
              "       width=\"24px\">\n",
              "    <path d=\"M0 0h24v24H0V0z\" fill=\"none\"/>\n",
              "    <path d=\"M18.56 5.44l.94 2.06.94-2.06 2.06-.94-2.06-.94-.94-2.06-.94 2.06-2.06.94zm-11 1L8.5 8.5l.94-2.06 2.06-.94-2.06-.94L8.5 2.5l-.94 2.06-2.06.94zm10 10l.94 2.06.94-2.06 2.06-.94-2.06-.94-.94-2.06-.94 2.06-2.06.94z\"/><path d=\"M17.41 7.96l-1.37-1.37c-.4-.4-.92-.59-1.43-.59-.52 0-1.04.2-1.43.59L10.3 9.45l-7.72 7.72c-.78.78-.78 2.05 0 2.83L4 21.41c.39.39.9.59 1.41.59.51 0 1.02-.2 1.41-.59l7.78-7.78 2.81-2.81c.8-.78.8-2.07 0-2.86zM5.41 20L4 18.59l7.72-7.72 1.47 1.35L5.41 20z\"/>\n",
              "  </svg>\n",
              "      </button>\n",
              "      \n",
              "  <style>\n",
              "    .colab-df-container {\n",
              "      display:flex;\n",
              "      flex-wrap:wrap;\n",
              "      gap: 12px;\n",
              "    }\n",
              "\n",
              "    .colab-df-convert {\n",
              "      background-color: #E8F0FE;\n",
              "      border: none;\n",
              "      border-radius: 50%;\n",
              "      cursor: pointer;\n",
              "      display: none;\n",
              "      fill: #1967D2;\n",
              "      height: 32px;\n",
              "      padding: 0 0 0 0;\n",
              "      width: 32px;\n",
              "    }\n",
              "\n",
              "    .colab-df-convert:hover {\n",
              "      background-color: #E2EBFA;\n",
              "      box-shadow: 0px 1px 2px rgba(60, 64, 67, 0.3), 0px 1px 3px 1px rgba(60, 64, 67, 0.15);\n",
              "      fill: #174EA6;\n",
              "    }\n",
              "\n",
              "    [theme=dark] .colab-df-convert {\n",
              "      background-color: #3B4455;\n",
              "      fill: #D2E3FC;\n",
              "    }\n",
              "\n",
              "    [theme=dark] .colab-df-convert:hover {\n",
              "      background-color: #434B5C;\n",
              "      box-shadow: 0px 1px 3px 1px rgba(0, 0, 0, 0.15);\n",
              "      filter: drop-shadow(0px 1px 2px rgba(0, 0, 0, 0.3));\n",
              "      fill: #FFFFFF;\n",
              "    }\n",
              "  </style>\n",
              "\n",
              "      <script>\n",
              "        const buttonEl =\n",
              "          document.querySelector('#df-f4b90ec2-5f2e-4fbe-ad71-b6ffdeb27a33 button.colab-df-convert');\n",
              "        buttonEl.style.display =\n",
              "          google.colab.kernel.accessAllowed ? 'block' : 'none';\n",
              "\n",
              "        async function convertToInteractive(key) {\n",
              "          const element = document.querySelector('#df-f4b90ec2-5f2e-4fbe-ad71-b6ffdeb27a33');\n",
              "          const dataTable =\n",
              "            await google.colab.kernel.invokeFunction('convertToInteractive',\n",
              "                                                     [key], {});\n",
              "          if (!dataTable) return;\n",
              "\n",
              "          const docLinkHtml = 'Like what you see? Visit the ' +\n",
              "            '<a target=\"_blank\" href=https://colab.research.google.com/notebooks/data_table.ipynb>data table notebook</a>'\n",
              "            + ' to learn more about interactive tables.';\n",
              "          element.innerHTML = '';\n",
              "          dataTable['output_type'] = 'display_data';\n",
              "          await google.colab.output.renderOutput(dataTable, element);\n",
              "          const docLink = document.createElement('div');\n",
              "          docLink.innerHTML = docLinkHtml;\n",
              "          element.appendChild(docLink);\n",
              "        }\n",
              "      </script>\n",
              "    </div>\n",
              "  </div>\n",
              "  "
            ]
          },
          "metadata": {},
          "execution_count": 238
        }
      ]
    },
    {
      "cell_type": "code",
      "source": [
        "\n",
        "tuned_paramaters = [{'alpha':[1e-15, 1e-10, 1e-8, 0.0001, 0.001, 0.01, 0.1, 1, 5, 10, 20]}]\n",
        "                     \n",
        "lasso = Lasso()\n",
        "\n",
        "lasso_grid = GridSearchCV(estimator = lasso, \n",
        "                          param_grid = tuned_paramaters, \n",
        "                          cv = 5)\n",
        "\n",
        "lasso_grid.fit(X_train, y_train)\n",
        "print('Best parameters for Lasso Regression: ', lasso_grid.best_params_, '\\n')\n",
        "print('RMSE on test set:', get_test_rmse(lasso_grid))"
      ],
      "metadata": {
        "colab": {
          "base_uri": "https://localhost:8080/"
        },
        "id": "BJedz9o07m2K",
        "outputId": "95fd6fd3-5a6f-4401-f5f8-cf3143a2923b"
      },
      "execution_count": 239,
      "outputs": [
        {
          "output_type": "stream",
          "name": "stdout",
          "text": [
            "Best parameters for Lasso Regression:  {'alpha': 1e-15} \n",
            "\n",
            "RMSE on test set: 150191.5431\n"
          ]
        }
      ]
    },
    {
      "cell_type": "code",
      "source": [
        "\n",
        "update_score_card(algorithm_name = 'Lasso Regression (using GridSearchCV)', \n",
        "                  model = lasso_grid, \n",
        "                  alpha = lasso_grid.best_params_.get('alpha'))\n",
        "score_card"
      ],
      "metadata": {
        "colab": {
          "base_uri": "https://localhost:8080/",
          "height": 269
        },
        "id": "RfISj7Gl7pzu",
        "outputId": "30be98dd-e45b-409b-e4b9-2eba575578cb"
      },
      "execution_count": 240,
      "outputs": [
        {
          "output_type": "execute_result",
          "data": {
            "text/plain": [
              "                              Model_Name  R-Squared  Adj. R-Squared  \\\n",
              "0                      Linear Regression   0.834248        0.834046   \n",
              "1      Ridge Regression (with alpha = 1)   0.834264        0.834062   \n",
              "2      Ridge Regression (with alpha = 2)   0.834263        0.834062   \n",
              "3                       Lasso Regression   0.834264        0.834062   \n",
              "4                 Elastic Net Regression   0.828904        0.828695   \n",
              "5  Ridge Regression (using GridSearchCV)   0.834264        0.834062   \n",
              "6  Lasso Regression (using GridSearchCV)   0.834264        0.834062   \n",
              "\n",
              "     Test_RMSE  Test_MAPE  \n",
              "0  150228.9831  24.506288  \n",
              "1  150191.0940  24.475367  \n",
              "2  150190.6546  24.474341  \n",
              "3  150191.5433  24.476393  \n",
              "4  152386.8967  23.701307  \n",
              "5  150191.0940  24.475367  \n",
              "6  150191.5431  24.476394  "
            ],
            "text/html": [
              "\n",
              "  <div id=\"df-f03a0ba7-efb9-4c4a-9553-04f48bbd6b63\">\n",
              "    <div class=\"colab-df-container\">\n",
              "      <div>\n",
              "<style scoped>\n",
              "    .dataframe tbody tr th:only-of-type {\n",
              "        vertical-align: middle;\n",
              "    }\n",
              "\n",
              "    .dataframe tbody tr th {\n",
              "        vertical-align: top;\n",
              "    }\n",
              "\n",
              "    .dataframe thead th {\n",
              "        text-align: right;\n",
              "    }\n",
              "</style>\n",
              "<table border=\"1\" class=\"dataframe\">\n",
              "  <thead>\n",
              "    <tr style=\"text-align: right;\">\n",
              "      <th></th>\n",
              "      <th>Model_Name</th>\n",
              "      <th>R-Squared</th>\n",
              "      <th>Adj. R-Squared</th>\n",
              "      <th>Test_RMSE</th>\n",
              "      <th>Test_MAPE</th>\n",
              "    </tr>\n",
              "  </thead>\n",
              "  <tbody>\n",
              "    <tr>\n",
              "      <th>0</th>\n",
              "      <td>Linear Regression</td>\n",
              "      <td>0.834248</td>\n",
              "      <td>0.834046</td>\n",
              "      <td>150228.9831</td>\n",
              "      <td>24.506288</td>\n",
              "    </tr>\n",
              "    <tr>\n",
              "      <th>1</th>\n",
              "      <td>Ridge Regression (with alpha = 1)</td>\n",
              "      <td>0.834264</td>\n",
              "      <td>0.834062</td>\n",
              "      <td>150191.0940</td>\n",
              "      <td>24.475367</td>\n",
              "    </tr>\n",
              "    <tr>\n",
              "      <th>2</th>\n",
              "      <td>Ridge Regression (with alpha = 2)</td>\n",
              "      <td>0.834263</td>\n",
              "      <td>0.834062</td>\n",
              "      <td>150190.6546</td>\n",
              "      <td>24.474341</td>\n",
              "    </tr>\n",
              "    <tr>\n",
              "      <th>3</th>\n",
              "      <td>Lasso Regression</td>\n",
              "      <td>0.834264</td>\n",
              "      <td>0.834062</td>\n",
              "      <td>150191.5433</td>\n",
              "      <td>24.476393</td>\n",
              "    </tr>\n",
              "    <tr>\n",
              "      <th>4</th>\n",
              "      <td>Elastic Net Regression</td>\n",
              "      <td>0.828904</td>\n",
              "      <td>0.828695</td>\n",
              "      <td>152386.8967</td>\n",
              "      <td>23.701307</td>\n",
              "    </tr>\n",
              "    <tr>\n",
              "      <th>5</th>\n",
              "      <td>Ridge Regression (using GridSearchCV)</td>\n",
              "      <td>0.834264</td>\n",
              "      <td>0.834062</td>\n",
              "      <td>150191.0940</td>\n",
              "      <td>24.475367</td>\n",
              "    </tr>\n",
              "    <tr>\n",
              "      <th>6</th>\n",
              "      <td>Lasso Regression (using GridSearchCV)</td>\n",
              "      <td>0.834264</td>\n",
              "      <td>0.834062</td>\n",
              "      <td>150191.5431</td>\n",
              "      <td>24.476394</td>\n",
              "    </tr>\n",
              "  </tbody>\n",
              "</table>\n",
              "</div>\n",
              "      <button class=\"colab-df-convert\" onclick=\"convertToInteractive('df-f03a0ba7-efb9-4c4a-9553-04f48bbd6b63')\"\n",
              "              title=\"Convert this dataframe to an interactive table.\"\n",
              "              style=\"display:none;\">\n",
              "        \n",
              "  <svg xmlns=\"http://www.w3.org/2000/svg\" height=\"24px\"viewBox=\"0 0 24 24\"\n",
              "       width=\"24px\">\n",
              "    <path d=\"M0 0h24v24H0V0z\" fill=\"none\"/>\n",
              "    <path d=\"M18.56 5.44l.94 2.06.94-2.06 2.06-.94-2.06-.94-.94-2.06-.94 2.06-2.06.94zm-11 1L8.5 8.5l.94-2.06 2.06-.94-2.06-.94L8.5 2.5l-.94 2.06-2.06.94zm10 10l.94 2.06.94-2.06 2.06-.94-2.06-.94-.94-2.06-.94 2.06-2.06.94z\"/><path d=\"M17.41 7.96l-1.37-1.37c-.4-.4-.92-.59-1.43-.59-.52 0-1.04.2-1.43.59L10.3 9.45l-7.72 7.72c-.78.78-.78 2.05 0 2.83L4 21.41c.39.39.9.59 1.41.59.51 0 1.02-.2 1.41-.59l7.78-7.78 2.81-2.81c.8-.78.8-2.07 0-2.86zM5.41 20L4 18.59l7.72-7.72 1.47 1.35L5.41 20z\"/>\n",
              "  </svg>\n",
              "      </button>\n",
              "      \n",
              "  <style>\n",
              "    .colab-df-container {\n",
              "      display:flex;\n",
              "      flex-wrap:wrap;\n",
              "      gap: 12px;\n",
              "    }\n",
              "\n",
              "    .colab-df-convert {\n",
              "      background-color: #E8F0FE;\n",
              "      border: none;\n",
              "      border-radius: 50%;\n",
              "      cursor: pointer;\n",
              "      display: none;\n",
              "      fill: #1967D2;\n",
              "      height: 32px;\n",
              "      padding: 0 0 0 0;\n",
              "      width: 32px;\n",
              "    }\n",
              "\n",
              "    .colab-df-convert:hover {\n",
              "      background-color: #E2EBFA;\n",
              "      box-shadow: 0px 1px 2px rgba(60, 64, 67, 0.3), 0px 1px 3px 1px rgba(60, 64, 67, 0.15);\n",
              "      fill: #174EA6;\n",
              "    }\n",
              "\n",
              "    [theme=dark] .colab-df-convert {\n",
              "      background-color: #3B4455;\n",
              "      fill: #D2E3FC;\n",
              "    }\n",
              "\n",
              "    [theme=dark] .colab-df-convert:hover {\n",
              "      background-color: #434B5C;\n",
              "      box-shadow: 0px 1px 3px 1px rgba(0, 0, 0, 0.15);\n",
              "      filter: drop-shadow(0px 1px 2px rgba(0, 0, 0, 0.3));\n",
              "      fill: #FFFFFF;\n",
              "    }\n",
              "  </style>\n",
              "\n",
              "      <script>\n",
              "        const buttonEl =\n",
              "          document.querySelector('#df-f03a0ba7-efb9-4c4a-9553-04f48bbd6b63 button.colab-df-convert');\n",
              "        buttonEl.style.display =\n",
              "          google.colab.kernel.accessAllowed ? 'block' : 'none';\n",
              "\n",
              "        async function convertToInteractive(key) {\n",
              "          const element = document.querySelector('#df-f03a0ba7-efb9-4c4a-9553-04f48bbd6b63');\n",
              "          const dataTable =\n",
              "            await google.colab.kernel.invokeFunction('convertToInteractive',\n",
              "                                                     [key], {});\n",
              "          if (!dataTable) return;\n",
              "\n",
              "          const docLinkHtml = 'Like what you see? Visit the ' +\n",
              "            '<a target=\"_blank\" href=https://colab.research.google.com/notebooks/data_table.ipynb>data table notebook</a>'\n",
              "            + ' to learn more about interactive tables.';\n",
              "          element.innerHTML = '';\n",
              "          dataTable['output_type'] = 'display_data';\n",
              "          await google.colab.output.renderOutput(dataTable, element);\n",
              "          const docLink = document.createElement('div');\n",
              "          docLink.innerHTML = docLinkHtml;\n",
              "          element.appendChild(docLink);\n",
              "        }\n",
              "      </script>\n",
              "    </div>\n",
              "  </div>\n",
              "  "
            ]
          },
          "metadata": {},
          "execution_count": 240
        }
      ]
    },
    {
      "cell_type": "code",
      "source": [
        "tuned_paramaters = [{'alpha':[0.0001, 0.001, 0.01, 0.1, 1, 5, 10, 20, 40, 60],\n",
        "                      'l1_ratio':[0.0001, 0.0002, 0.001, 0.01, 0.1, 0.2]}]\n",
        "enet = ElasticNet()\n",
        "\n",
        "enet_grid = GridSearchCV(estimator = enet, \n",
        "                          param_grid = tuned_paramaters, \n",
        "                          cv = 5)\n",
        "\n",
        "enet_grid.fit(X_train, y_train)\n",
        "\n",
        "print('Best parameters for Elastic Net Regression: ', enet_grid.best_params_, '\\n')\n",
        "print('RMSE on test set:', get_test_rmse(enet_grid))"
      ],
      "metadata": {
        "colab": {
          "base_uri": "https://localhost:8080/"
        },
        "id": "-byzqR0p7rVO",
        "outputId": "d5edc479-7d1f-4315-a27a-b86bcde43dbc"
      },
      "execution_count": 241,
      "outputs": [
        {
          "output_type": "stream",
          "name": "stdout",
          "text": [
            "Best parameters for Elastic Net Regression:  {'alpha': 0.0001, 'l1_ratio': 0.0001} \n",
            "\n",
            "RMSE on test set: 150191.0266\n"
          ]
        }
      ]
    },
    {
      "cell_type": "code",
      "source": [
        "\n",
        "update_score_card(algorithm_name = 'Elastic Net Regression (using GridSearchCV)', \n",
        "                  model = enet_grid, \n",
        "                  alpha = enet_grid.best_params_.get('alpha'), \n",
        "                  l1_ratio = enet_grid.best_params_.get('l1_ratio'))\n",
        "score_card"
      ],
      "metadata": {
        "colab": {
          "base_uri": "https://localhost:8080/",
          "height": 300
        },
        "id": "NZybzZtW7tum",
        "outputId": "4d4690e5-01f7-4e17-c640-3bfba8d018fd"
      },
      "execution_count": 242,
      "outputs": [
        {
          "output_type": "execute_result",
          "data": {
            "text/plain": [
              "                                    Model_Name  R-Squared  Adj. R-Squared  \\\n",
              "0                            Linear Regression   0.834248        0.834046   \n",
              "1            Ridge Regression (with alpha = 1)   0.834264        0.834062   \n",
              "2            Ridge Regression (with alpha = 2)   0.834263        0.834062   \n",
              "3                             Lasso Regression   0.834264        0.834062   \n",
              "4                       Elastic Net Regression   0.828904        0.828695   \n",
              "5        Ridge Regression (using GridSearchCV)   0.834264        0.834062   \n",
              "6        Lasso Regression (using GridSearchCV)   0.834264        0.834062   \n",
              "7  Elastic Net Regression (using GridSearchCV)   0.834264        0.834062   \n",
              "\n",
              "     Test_RMSE  Test_MAPE  \n",
              "0  150228.9831  24.506288  \n",
              "1  150191.0940  24.475367  \n",
              "2  150190.6546  24.474341  \n",
              "3  150191.5433  24.476393  \n",
              "4  152386.8967  23.701307  \n",
              "5  150191.0940  24.475367  \n",
              "6  150191.5431  24.476394  \n",
              "7  150191.0266  24.475102  "
            ],
            "text/html": [
              "\n",
              "  <div id=\"df-f6df03d9-94d7-4103-8ab2-c8bfb6872710\">\n",
              "    <div class=\"colab-df-container\">\n",
              "      <div>\n",
              "<style scoped>\n",
              "    .dataframe tbody tr th:only-of-type {\n",
              "        vertical-align: middle;\n",
              "    }\n",
              "\n",
              "    .dataframe tbody tr th {\n",
              "        vertical-align: top;\n",
              "    }\n",
              "\n",
              "    .dataframe thead th {\n",
              "        text-align: right;\n",
              "    }\n",
              "</style>\n",
              "<table border=\"1\" class=\"dataframe\">\n",
              "  <thead>\n",
              "    <tr style=\"text-align: right;\">\n",
              "      <th></th>\n",
              "      <th>Model_Name</th>\n",
              "      <th>R-Squared</th>\n",
              "      <th>Adj. R-Squared</th>\n",
              "      <th>Test_RMSE</th>\n",
              "      <th>Test_MAPE</th>\n",
              "    </tr>\n",
              "  </thead>\n",
              "  <tbody>\n",
              "    <tr>\n",
              "      <th>0</th>\n",
              "      <td>Linear Regression</td>\n",
              "      <td>0.834248</td>\n",
              "      <td>0.834046</td>\n",
              "      <td>150228.9831</td>\n",
              "      <td>24.506288</td>\n",
              "    </tr>\n",
              "    <tr>\n",
              "      <th>1</th>\n",
              "      <td>Ridge Regression (with alpha = 1)</td>\n",
              "      <td>0.834264</td>\n",
              "      <td>0.834062</td>\n",
              "      <td>150191.0940</td>\n",
              "      <td>24.475367</td>\n",
              "    </tr>\n",
              "    <tr>\n",
              "      <th>2</th>\n",
              "      <td>Ridge Regression (with alpha = 2)</td>\n",
              "      <td>0.834263</td>\n",
              "      <td>0.834062</td>\n",
              "      <td>150190.6546</td>\n",
              "      <td>24.474341</td>\n",
              "    </tr>\n",
              "    <tr>\n",
              "      <th>3</th>\n",
              "      <td>Lasso Regression</td>\n",
              "      <td>0.834264</td>\n",
              "      <td>0.834062</td>\n",
              "      <td>150191.5433</td>\n",
              "      <td>24.476393</td>\n",
              "    </tr>\n",
              "    <tr>\n",
              "      <th>4</th>\n",
              "      <td>Elastic Net Regression</td>\n",
              "      <td>0.828904</td>\n",
              "      <td>0.828695</td>\n",
              "      <td>152386.8967</td>\n",
              "      <td>23.701307</td>\n",
              "    </tr>\n",
              "    <tr>\n",
              "      <th>5</th>\n",
              "      <td>Ridge Regression (using GridSearchCV)</td>\n",
              "      <td>0.834264</td>\n",
              "      <td>0.834062</td>\n",
              "      <td>150191.0940</td>\n",
              "      <td>24.475367</td>\n",
              "    </tr>\n",
              "    <tr>\n",
              "      <th>6</th>\n",
              "      <td>Lasso Regression (using GridSearchCV)</td>\n",
              "      <td>0.834264</td>\n",
              "      <td>0.834062</td>\n",
              "      <td>150191.5431</td>\n",
              "      <td>24.476394</td>\n",
              "    </tr>\n",
              "    <tr>\n",
              "      <th>7</th>\n",
              "      <td>Elastic Net Regression (using GridSearchCV)</td>\n",
              "      <td>0.834264</td>\n",
              "      <td>0.834062</td>\n",
              "      <td>150191.0266</td>\n",
              "      <td>24.475102</td>\n",
              "    </tr>\n",
              "  </tbody>\n",
              "</table>\n",
              "</div>\n",
              "      <button class=\"colab-df-convert\" onclick=\"convertToInteractive('df-f6df03d9-94d7-4103-8ab2-c8bfb6872710')\"\n",
              "              title=\"Convert this dataframe to an interactive table.\"\n",
              "              style=\"display:none;\">\n",
              "        \n",
              "  <svg xmlns=\"http://www.w3.org/2000/svg\" height=\"24px\"viewBox=\"0 0 24 24\"\n",
              "       width=\"24px\">\n",
              "    <path d=\"M0 0h24v24H0V0z\" fill=\"none\"/>\n",
              "    <path d=\"M18.56 5.44l.94 2.06.94-2.06 2.06-.94-2.06-.94-.94-2.06-.94 2.06-2.06.94zm-11 1L8.5 8.5l.94-2.06 2.06-.94-2.06-.94L8.5 2.5l-.94 2.06-2.06.94zm10 10l.94 2.06.94-2.06 2.06-.94-2.06-.94-.94-2.06-.94 2.06-2.06.94z\"/><path d=\"M17.41 7.96l-1.37-1.37c-.4-.4-.92-.59-1.43-.59-.52 0-1.04.2-1.43.59L10.3 9.45l-7.72 7.72c-.78.78-.78 2.05 0 2.83L4 21.41c.39.39.9.59 1.41.59.51 0 1.02-.2 1.41-.59l7.78-7.78 2.81-2.81c.8-.78.8-2.07 0-2.86zM5.41 20L4 18.59l7.72-7.72 1.47 1.35L5.41 20z\"/>\n",
              "  </svg>\n",
              "      </button>\n",
              "      \n",
              "  <style>\n",
              "    .colab-df-container {\n",
              "      display:flex;\n",
              "      flex-wrap:wrap;\n",
              "      gap: 12px;\n",
              "    }\n",
              "\n",
              "    .colab-df-convert {\n",
              "      background-color: #E8F0FE;\n",
              "      border: none;\n",
              "      border-radius: 50%;\n",
              "      cursor: pointer;\n",
              "      display: none;\n",
              "      fill: #1967D2;\n",
              "      height: 32px;\n",
              "      padding: 0 0 0 0;\n",
              "      width: 32px;\n",
              "    }\n",
              "\n",
              "    .colab-df-convert:hover {\n",
              "      background-color: #E2EBFA;\n",
              "      box-shadow: 0px 1px 2px rgba(60, 64, 67, 0.3), 0px 1px 3px 1px rgba(60, 64, 67, 0.15);\n",
              "      fill: #174EA6;\n",
              "    }\n",
              "\n",
              "    [theme=dark] .colab-df-convert {\n",
              "      background-color: #3B4455;\n",
              "      fill: #D2E3FC;\n",
              "    }\n",
              "\n",
              "    [theme=dark] .colab-df-convert:hover {\n",
              "      background-color: #434B5C;\n",
              "      box-shadow: 0px 1px 3px 1px rgba(0, 0, 0, 0.15);\n",
              "      filter: drop-shadow(0px 1px 2px rgba(0, 0, 0, 0.3));\n",
              "      fill: #FFFFFF;\n",
              "    }\n",
              "  </style>\n",
              "\n",
              "      <script>\n",
              "        const buttonEl =\n",
              "          document.querySelector('#df-f6df03d9-94d7-4103-8ab2-c8bfb6872710 button.colab-df-convert');\n",
              "        buttonEl.style.display =\n",
              "          google.colab.kernel.accessAllowed ? 'block' : 'none';\n",
              "\n",
              "        async function convertToInteractive(key) {\n",
              "          const element = document.querySelector('#df-f6df03d9-94d7-4103-8ab2-c8bfb6872710');\n",
              "          const dataTable =\n",
              "            await google.colab.kernel.invokeFunction('convertToInteractive',\n",
              "                                                     [key], {});\n",
              "          if (!dataTable) return;\n",
              "\n",
              "          const docLinkHtml = 'Like what you see? Visit the ' +\n",
              "            '<a target=\"_blank\" href=https://colab.research.google.com/notebooks/data_table.ipynb>data table notebook</a>'\n",
              "            + ' to learn more about interactive tables.';\n",
              "          element.innerHTML = '';\n",
              "          dataTable['output_type'] = 'display_data';\n",
              "          await google.colab.output.renderOutput(dataTable, element);\n",
              "          const docLink = document.createElement('div');\n",
              "          docLink.innerHTML = docLinkHtml;\n",
              "          element.appendChild(docLink);\n",
              "        }\n",
              "      </script>\n",
              "    </div>\n",
              "  </div>\n",
              "  "
            ]
          },
          "metadata": {},
          "execution_count": 242
        }
      ]
    },
    {
      "cell_type": "code",
      "source": [],
      "metadata": {
        "id": "1Hp1MRDD8_i0"
      },
      "execution_count": 242,
      "outputs": []
    },
    {
      "cell_type": "code",
      "source": [],
      "metadata": {
        "id": "ieC7kgCW7xIn"
      },
      "execution_count": 242,
      "outputs": []
    },
    {
      "cell_type": "code",
      "source": [
        "# Support vector machine\n",
        "SVM_reg = SVR()\n",
        "SVR_model = SVM_reg.fit(X_train, y_train)\n",
        "SVR_model.score(X_train, y_train)"
      ],
      "metadata": {
        "colab": {
          "base_uri": "https://localhost:8080/"
        },
        "outputId": "e487d280-04ab-4183-b220-92ebbb05e3bf",
        "id": "f1Zon2Tk9Hv2"
      },
      "execution_count": 243,
      "outputs": [
        {
          "output_type": "execute_result",
          "data": {
            "text/plain": [
              "-0.0762212071235191"
            ]
          },
          "metadata": {},
          "execution_count": 243
        }
      ]
    },
    {
      "cell_type": "code",
      "source": [
        "\n",
        "print('RMSE on train set: ', get_train_rmse(SVR_model))\n",
        "\n",
        "\n",
        "print('RMSE on test set: ', get_test_rmse(SVR_model))\n",
        "\n",
        "difference = abs(get_test_rmse(SVR_model) - get_train_rmse(SVR_model))\n",
        "\n",
        "print('Difference between RMSE on train and test set: ', difference)"
      ],
      "metadata": {
        "colab": {
          "base_uri": "https://localhost:8080/"
        },
        "outputId": "69870724-9652-46fe-a63b-8eb0c96deb60",
        "id": "yakgXMfn9Hv2"
      },
      "execution_count": 244,
      "outputs": [
        {
          "output_type": "stream",
          "name": "stdout",
          "text": [
            "RMSE on train set:  385856.578\n",
            "RMSE on test set:  386984.8968\n",
            "Difference between RMSE on train and test set:  1128.3188000000082\n"
          ]
        }
      ]
    },
    {
      "cell_type": "code",
      "source": [
        "\n",
        "update_score_card(algorithm_name = 'SVR Regression', model = SVR_model)\n",
        "\n",
        "score_card"
      ],
      "metadata": {
        "colab": {
          "base_uri": "https://localhost:8080/",
          "height": 332
        },
        "outputId": "801538f8-664b-478e-dbbd-9de119df09ac",
        "id": "fWJjBiy09Hv2"
      },
      "execution_count": 245,
      "outputs": [
        {
          "output_type": "execute_result",
          "data": {
            "text/plain": [
              "                                    Model_Name  R-Squared  Adj. R-Squared  \\\n",
              "0                            Linear Regression   0.834248        0.834046   \n",
              "1            Ridge Regression (with alpha = 1)   0.834264        0.834062   \n",
              "2            Ridge Regression (with alpha = 2)   0.834263        0.834062   \n",
              "3                             Lasso Regression   0.834264        0.834062   \n",
              "4                       Elastic Net Regression   0.828904        0.828695   \n",
              "5        Ridge Regression (using GridSearchCV)   0.834264        0.834062   \n",
              "6        Lasso Regression (using GridSearchCV)   0.834264        0.834062   \n",
              "7  Elastic Net Regression (using GridSearchCV)   0.834264        0.834062   \n",
              "8                               SVR Regression  -0.076221       -0.077532   \n",
              "\n",
              "     Test_RMSE  Test_MAPE  \n",
              "0  150228.9831  24.506288  \n",
              "1  150191.0940  24.475367  \n",
              "2  150190.6546  24.474341  \n",
              "3  150191.5433  24.476393  \n",
              "4  152386.8967  23.701307  \n",
              "5  150191.0940  24.475367  \n",
              "6  150191.5431  24.476394  \n",
              "7  150191.0266  24.475102  \n",
              "8  386984.8968  53.159358  "
            ],
            "text/html": [
              "\n",
              "  <div id=\"df-ab300b29-5ba4-4b23-9f03-36c497fc8a25\">\n",
              "    <div class=\"colab-df-container\">\n",
              "      <div>\n",
              "<style scoped>\n",
              "    .dataframe tbody tr th:only-of-type {\n",
              "        vertical-align: middle;\n",
              "    }\n",
              "\n",
              "    .dataframe tbody tr th {\n",
              "        vertical-align: top;\n",
              "    }\n",
              "\n",
              "    .dataframe thead th {\n",
              "        text-align: right;\n",
              "    }\n",
              "</style>\n",
              "<table border=\"1\" class=\"dataframe\">\n",
              "  <thead>\n",
              "    <tr style=\"text-align: right;\">\n",
              "      <th></th>\n",
              "      <th>Model_Name</th>\n",
              "      <th>R-Squared</th>\n",
              "      <th>Adj. R-Squared</th>\n",
              "      <th>Test_RMSE</th>\n",
              "      <th>Test_MAPE</th>\n",
              "    </tr>\n",
              "  </thead>\n",
              "  <tbody>\n",
              "    <tr>\n",
              "      <th>0</th>\n",
              "      <td>Linear Regression</td>\n",
              "      <td>0.834248</td>\n",
              "      <td>0.834046</td>\n",
              "      <td>150228.9831</td>\n",
              "      <td>24.506288</td>\n",
              "    </tr>\n",
              "    <tr>\n",
              "      <th>1</th>\n",
              "      <td>Ridge Regression (with alpha = 1)</td>\n",
              "      <td>0.834264</td>\n",
              "      <td>0.834062</td>\n",
              "      <td>150191.0940</td>\n",
              "      <td>24.475367</td>\n",
              "    </tr>\n",
              "    <tr>\n",
              "      <th>2</th>\n",
              "      <td>Ridge Regression (with alpha = 2)</td>\n",
              "      <td>0.834263</td>\n",
              "      <td>0.834062</td>\n",
              "      <td>150190.6546</td>\n",
              "      <td>24.474341</td>\n",
              "    </tr>\n",
              "    <tr>\n",
              "      <th>3</th>\n",
              "      <td>Lasso Regression</td>\n",
              "      <td>0.834264</td>\n",
              "      <td>0.834062</td>\n",
              "      <td>150191.5433</td>\n",
              "      <td>24.476393</td>\n",
              "    </tr>\n",
              "    <tr>\n",
              "      <th>4</th>\n",
              "      <td>Elastic Net Regression</td>\n",
              "      <td>0.828904</td>\n",
              "      <td>0.828695</td>\n",
              "      <td>152386.8967</td>\n",
              "      <td>23.701307</td>\n",
              "    </tr>\n",
              "    <tr>\n",
              "      <th>5</th>\n",
              "      <td>Ridge Regression (using GridSearchCV)</td>\n",
              "      <td>0.834264</td>\n",
              "      <td>0.834062</td>\n",
              "      <td>150191.0940</td>\n",
              "      <td>24.475367</td>\n",
              "    </tr>\n",
              "    <tr>\n",
              "      <th>6</th>\n",
              "      <td>Lasso Regression (using GridSearchCV)</td>\n",
              "      <td>0.834264</td>\n",
              "      <td>0.834062</td>\n",
              "      <td>150191.5431</td>\n",
              "      <td>24.476394</td>\n",
              "    </tr>\n",
              "    <tr>\n",
              "      <th>7</th>\n",
              "      <td>Elastic Net Regression (using GridSearchCV)</td>\n",
              "      <td>0.834264</td>\n",
              "      <td>0.834062</td>\n",
              "      <td>150191.0266</td>\n",
              "      <td>24.475102</td>\n",
              "    </tr>\n",
              "    <tr>\n",
              "      <th>8</th>\n",
              "      <td>SVR Regression</td>\n",
              "      <td>-0.076221</td>\n",
              "      <td>-0.077532</td>\n",
              "      <td>386984.8968</td>\n",
              "      <td>53.159358</td>\n",
              "    </tr>\n",
              "  </tbody>\n",
              "</table>\n",
              "</div>\n",
              "      <button class=\"colab-df-convert\" onclick=\"convertToInteractive('df-ab300b29-5ba4-4b23-9f03-36c497fc8a25')\"\n",
              "              title=\"Convert this dataframe to an interactive table.\"\n",
              "              style=\"display:none;\">\n",
              "        \n",
              "  <svg xmlns=\"http://www.w3.org/2000/svg\" height=\"24px\"viewBox=\"0 0 24 24\"\n",
              "       width=\"24px\">\n",
              "    <path d=\"M0 0h24v24H0V0z\" fill=\"none\"/>\n",
              "    <path d=\"M18.56 5.44l.94 2.06.94-2.06 2.06-.94-2.06-.94-.94-2.06-.94 2.06-2.06.94zm-11 1L8.5 8.5l.94-2.06 2.06-.94-2.06-.94L8.5 2.5l-.94 2.06-2.06.94zm10 10l.94 2.06.94-2.06 2.06-.94-2.06-.94-.94-2.06-.94 2.06-2.06.94z\"/><path d=\"M17.41 7.96l-1.37-1.37c-.4-.4-.92-.59-1.43-.59-.52 0-1.04.2-1.43.59L10.3 9.45l-7.72 7.72c-.78.78-.78 2.05 0 2.83L4 21.41c.39.39.9.59 1.41.59.51 0 1.02-.2 1.41-.59l7.78-7.78 2.81-2.81c.8-.78.8-2.07 0-2.86zM5.41 20L4 18.59l7.72-7.72 1.47 1.35L5.41 20z\"/>\n",
              "  </svg>\n",
              "      </button>\n",
              "      \n",
              "  <style>\n",
              "    .colab-df-container {\n",
              "      display:flex;\n",
              "      flex-wrap:wrap;\n",
              "      gap: 12px;\n",
              "    }\n",
              "\n",
              "    .colab-df-convert {\n",
              "      background-color: #E8F0FE;\n",
              "      border: none;\n",
              "      border-radius: 50%;\n",
              "      cursor: pointer;\n",
              "      display: none;\n",
              "      fill: #1967D2;\n",
              "      height: 32px;\n",
              "      padding: 0 0 0 0;\n",
              "      width: 32px;\n",
              "    }\n",
              "\n",
              "    .colab-df-convert:hover {\n",
              "      background-color: #E2EBFA;\n",
              "      box-shadow: 0px 1px 2px rgba(60, 64, 67, 0.3), 0px 1px 3px 1px rgba(60, 64, 67, 0.15);\n",
              "      fill: #174EA6;\n",
              "    }\n",
              "\n",
              "    [theme=dark] .colab-df-convert {\n",
              "      background-color: #3B4455;\n",
              "      fill: #D2E3FC;\n",
              "    }\n",
              "\n",
              "    [theme=dark] .colab-df-convert:hover {\n",
              "      background-color: #434B5C;\n",
              "      box-shadow: 0px 1px 3px 1px rgba(0, 0, 0, 0.15);\n",
              "      filter: drop-shadow(0px 1px 2px rgba(0, 0, 0, 0.3));\n",
              "      fill: #FFFFFF;\n",
              "    }\n",
              "  </style>\n",
              "\n",
              "      <script>\n",
              "        const buttonEl =\n",
              "          document.querySelector('#df-ab300b29-5ba4-4b23-9f03-36c497fc8a25 button.colab-df-convert');\n",
              "        buttonEl.style.display =\n",
              "          google.colab.kernel.accessAllowed ? 'block' : 'none';\n",
              "\n",
              "        async function convertToInteractive(key) {\n",
              "          const element = document.querySelector('#df-ab300b29-5ba4-4b23-9f03-36c497fc8a25');\n",
              "          const dataTable =\n",
              "            await google.colab.kernel.invokeFunction('convertToInteractive',\n",
              "                                                     [key], {});\n",
              "          if (!dataTable) return;\n",
              "\n",
              "          const docLinkHtml = 'Like what you see? Visit the ' +\n",
              "            '<a target=\"_blank\" href=https://colab.research.google.com/notebooks/data_table.ipynb>data table notebook</a>'\n",
              "            + ' to learn more about interactive tables.';\n",
              "          element.innerHTML = '';\n",
              "          dataTable['output_type'] = 'display_data';\n",
              "          await google.colab.output.renderOutput(dataTable, element);\n",
              "          const docLink = document.createElement('div');\n",
              "          docLink.innerHTML = docLinkHtml;\n",
              "          element.appendChild(docLink);\n",
              "        }\n",
              "      </script>\n",
              "    </div>\n",
              "  </div>\n",
              "  "
            ]
          },
          "metadata": {},
          "execution_count": 245
        }
      ]
    },
    {
      "cell_type": "code",
      "source": [
        "# hyper parameter tuning"
      ],
      "metadata": {
        "id": "hS_fgNWi9agk"
      },
      "execution_count": null,
      "outputs": []
    },
    {
      "cell_type": "code",
      "source": [
        "tuned_paramaters = [{'C': [0.1, 1, 10, 100], \n",
        "              'gamma': [1, 0.1, 0.0001],\n",
        "              'kernel': ['rbf']} ]\n",
        "\n",
        "# initiate the elastic net regression model  \n",
        "svr_cv = SVR()\n",
        "\n",
        "# use GridSearchCV() to find the optimal value of alpha and l1_ratio\n",
        "# estimator: pass the elastic net regression model\n",
        "# param_grid: pass the list 'tuned_parameters'\n",
        "# cv: number of folds in k-fold i.e. here cv = 10\n",
        "svr_grid = GridSearchCV(estimator = svr_cv, \n",
        "                          param_grid = tuned_paramaters, \n",
        "                          cv = 5)\n",
        "\n",
        "# fit the model on X_train and y_train using fit()\n",
        "svr_grid.fit(X_train, y_train)\n",
        "\n",
        "# get the best parameters\n",
        "print('Best parameters for Elastic Net Regression: ', svr_grid.best_params_, '\\n')\n",
        "\n",
        "# print the RMSE for the test set using the model having optimal value of alpha and l1-ratio\n",
        "print('RMSE on test set:', get_test_rmse(svr_grid))"
      ],
      "metadata": {
        "id": "HSnhhs4m9r_b"
      },
      "execution_count": null,
      "outputs": []
    },
    {
      "cell_type": "code",
      "source": [
        "update_score_card(algorithm_name = 'SVR Regression with (using GridseachCV)', model = svr_grid)\n",
        "\n",
        "score_card"
      ],
      "metadata": {
        "id": "SO-EpHaQ-T0O"
      },
      "execution_count": null,
      "outputs": []
    },
    {
      "cell_type": "code",
      "source": [
        "# Non linear models"
      ],
      "metadata": {
        "id": "IAilVe2h_9EH"
      },
      "execution_count": null,
      "outputs": []
    },
    {
      "cell_type": "code",
      "source": [
        "# Decision Tree \n",
        "\n",
        "DT_reg = DecisionTreeRegressor()\n",
        "DT_model = DT_reg.fit(X_train, y_train)\n",
        "DT_model.score(X_train, y_train)"
      ],
      "metadata": {
        "colab": {
          "base_uri": "https://localhost:8080/"
        },
        "outputId": "fb559b6c-c8ef-4c0a-e263-52f46801bf9d",
        "id": "0xCeBUdtBn8A"
      },
      "execution_count": 246,
      "outputs": [
        {
          "output_type": "execute_result",
          "data": {
            "text/plain": [
              "0.9967363559908552"
            ]
          },
          "metadata": {},
          "execution_count": 246
        }
      ]
    },
    {
      "cell_type": "code",
      "source": [
        "\n",
        "print('RMSE on train set: ', get_train_rmse(DT_model))\n",
        "\n",
        "\n",
        "print('RMSE on test set: ', get_test_rmse(DT_model))\n",
        "\n",
        "difference = abs(get_test_rmse(DT_model) - get_train_rmse(DT_model))\n",
        "\n",
        "print('Difference between RMSE on train and test set: ', difference)"
      ],
      "metadata": {
        "colab": {
          "base_uri": "https://localhost:8080/"
        },
        "outputId": "952fc0f6-6aa7-4d13-b717-b0fafe9fea6d",
        "id": "6t4Ck-uKBn8A"
      },
      "execution_count": 247,
      "outputs": [
        {
          "output_type": "stream",
          "name": "stdout",
          "text": [
            "RMSE on train set:  21248.4143\n",
            "RMSE on test set:  124928.0022\n",
            "Difference between RMSE on train and test set:  103679.5879\n"
          ]
        }
      ]
    },
    {
      "cell_type": "code",
      "source": [
        "\n",
        "update_score_card(algorithm_name = 'Decision tree Regression', model = DT_model)\n",
        "\n",
        "score_card"
      ],
      "metadata": {
        "colab": {
          "base_uri": "https://localhost:8080/",
          "height": 363
        },
        "outputId": "a93ae884-3bdd-45df-fcda-ef52aa7e6f44",
        "id": "kPotCMyZBn8A"
      },
      "execution_count": 248,
      "outputs": [
        {
          "output_type": "execute_result",
          "data": {
            "text/plain": [
              "                                    Model_Name  R-Squared  Adj. R-Squared  \\\n",
              "0                            Linear Regression   0.834248        0.834046   \n",
              "1            Ridge Regression (with alpha = 1)   0.834264        0.834062   \n",
              "2            Ridge Regression (with alpha = 2)   0.834263        0.834062   \n",
              "3                             Lasso Regression   0.834264        0.834062   \n",
              "4                       Elastic Net Regression   0.828904        0.828695   \n",
              "5        Ridge Regression (using GridSearchCV)   0.834264        0.834062   \n",
              "6        Lasso Regression (using GridSearchCV)   0.834264        0.834062   \n",
              "7  Elastic Net Regression (using GridSearchCV)   0.834264        0.834062   \n",
              "8                               SVR Regression  -0.076221       -0.077532   \n",
              "9                     Decision tree Regression   0.996736        0.996732   \n",
              "\n",
              "     Test_RMSE  Test_MAPE  \n",
              "0  150228.9831  24.506288  \n",
              "1  150191.0940  24.475367  \n",
              "2  150190.6546  24.474341  \n",
              "3  150191.5433  24.476393  \n",
              "4  152386.8967  23.701307  \n",
              "5  150191.0940  24.475367  \n",
              "6  150191.5431  24.476394  \n",
              "7  150191.0266  24.475102  \n",
              "8  386984.8968  53.159358  \n",
              "9  124928.0022  15.307709  "
            ],
            "text/html": [
              "\n",
              "  <div id=\"df-dc033057-f4f4-404a-9fea-d0e2f6900960\">\n",
              "    <div class=\"colab-df-container\">\n",
              "      <div>\n",
              "<style scoped>\n",
              "    .dataframe tbody tr th:only-of-type {\n",
              "        vertical-align: middle;\n",
              "    }\n",
              "\n",
              "    .dataframe tbody tr th {\n",
              "        vertical-align: top;\n",
              "    }\n",
              "\n",
              "    .dataframe thead th {\n",
              "        text-align: right;\n",
              "    }\n",
              "</style>\n",
              "<table border=\"1\" class=\"dataframe\">\n",
              "  <thead>\n",
              "    <tr style=\"text-align: right;\">\n",
              "      <th></th>\n",
              "      <th>Model_Name</th>\n",
              "      <th>R-Squared</th>\n",
              "      <th>Adj. R-Squared</th>\n",
              "      <th>Test_RMSE</th>\n",
              "      <th>Test_MAPE</th>\n",
              "    </tr>\n",
              "  </thead>\n",
              "  <tbody>\n",
              "    <tr>\n",
              "      <th>0</th>\n",
              "      <td>Linear Regression</td>\n",
              "      <td>0.834248</td>\n",
              "      <td>0.834046</td>\n",
              "      <td>150228.9831</td>\n",
              "      <td>24.506288</td>\n",
              "    </tr>\n",
              "    <tr>\n",
              "      <th>1</th>\n",
              "      <td>Ridge Regression (with alpha = 1)</td>\n",
              "      <td>0.834264</td>\n",
              "      <td>0.834062</td>\n",
              "      <td>150191.0940</td>\n",
              "      <td>24.475367</td>\n",
              "    </tr>\n",
              "    <tr>\n",
              "      <th>2</th>\n",
              "      <td>Ridge Regression (with alpha = 2)</td>\n",
              "      <td>0.834263</td>\n",
              "      <td>0.834062</td>\n",
              "      <td>150190.6546</td>\n",
              "      <td>24.474341</td>\n",
              "    </tr>\n",
              "    <tr>\n",
              "      <th>3</th>\n",
              "      <td>Lasso Regression</td>\n",
              "      <td>0.834264</td>\n",
              "      <td>0.834062</td>\n",
              "      <td>150191.5433</td>\n",
              "      <td>24.476393</td>\n",
              "    </tr>\n",
              "    <tr>\n",
              "      <th>4</th>\n",
              "      <td>Elastic Net Regression</td>\n",
              "      <td>0.828904</td>\n",
              "      <td>0.828695</td>\n",
              "      <td>152386.8967</td>\n",
              "      <td>23.701307</td>\n",
              "    </tr>\n",
              "    <tr>\n",
              "      <th>5</th>\n",
              "      <td>Ridge Regression (using GridSearchCV)</td>\n",
              "      <td>0.834264</td>\n",
              "      <td>0.834062</td>\n",
              "      <td>150191.0940</td>\n",
              "      <td>24.475367</td>\n",
              "    </tr>\n",
              "    <tr>\n",
              "      <th>6</th>\n",
              "      <td>Lasso Regression (using GridSearchCV)</td>\n",
              "      <td>0.834264</td>\n",
              "      <td>0.834062</td>\n",
              "      <td>150191.5431</td>\n",
              "      <td>24.476394</td>\n",
              "    </tr>\n",
              "    <tr>\n",
              "      <th>7</th>\n",
              "      <td>Elastic Net Regression (using GridSearchCV)</td>\n",
              "      <td>0.834264</td>\n",
              "      <td>0.834062</td>\n",
              "      <td>150191.0266</td>\n",
              "      <td>24.475102</td>\n",
              "    </tr>\n",
              "    <tr>\n",
              "      <th>8</th>\n",
              "      <td>SVR Regression</td>\n",
              "      <td>-0.076221</td>\n",
              "      <td>-0.077532</td>\n",
              "      <td>386984.8968</td>\n",
              "      <td>53.159358</td>\n",
              "    </tr>\n",
              "    <tr>\n",
              "      <th>9</th>\n",
              "      <td>Decision tree Regression</td>\n",
              "      <td>0.996736</td>\n",
              "      <td>0.996732</td>\n",
              "      <td>124928.0022</td>\n",
              "      <td>15.307709</td>\n",
              "    </tr>\n",
              "  </tbody>\n",
              "</table>\n",
              "</div>\n",
              "      <button class=\"colab-df-convert\" onclick=\"convertToInteractive('df-dc033057-f4f4-404a-9fea-d0e2f6900960')\"\n",
              "              title=\"Convert this dataframe to an interactive table.\"\n",
              "              style=\"display:none;\">\n",
              "        \n",
              "  <svg xmlns=\"http://www.w3.org/2000/svg\" height=\"24px\"viewBox=\"0 0 24 24\"\n",
              "       width=\"24px\">\n",
              "    <path d=\"M0 0h24v24H0V0z\" fill=\"none\"/>\n",
              "    <path d=\"M18.56 5.44l.94 2.06.94-2.06 2.06-.94-2.06-.94-.94-2.06-.94 2.06-2.06.94zm-11 1L8.5 8.5l.94-2.06 2.06-.94-2.06-.94L8.5 2.5l-.94 2.06-2.06.94zm10 10l.94 2.06.94-2.06 2.06-.94-2.06-.94-.94-2.06-.94 2.06-2.06.94z\"/><path d=\"M17.41 7.96l-1.37-1.37c-.4-.4-.92-.59-1.43-.59-.52 0-1.04.2-1.43.59L10.3 9.45l-7.72 7.72c-.78.78-.78 2.05 0 2.83L4 21.41c.39.39.9.59 1.41.59.51 0 1.02-.2 1.41-.59l7.78-7.78 2.81-2.81c.8-.78.8-2.07 0-2.86zM5.41 20L4 18.59l7.72-7.72 1.47 1.35L5.41 20z\"/>\n",
              "  </svg>\n",
              "      </button>\n",
              "      \n",
              "  <style>\n",
              "    .colab-df-container {\n",
              "      display:flex;\n",
              "      flex-wrap:wrap;\n",
              "      gap: 12px;\n",
              "    }\n",
              "\n",
              "    .colab-df-convert {\n",
              "      background-color: #E8F0FE;\n",
              "      border: none;\n",
              "      border-radius: 50%;\n",
              "      cursor: pointer;\n",
              "      display: none;\n",
              "      fill: #1967D2;\n",
              "      height: 32px;\n",
              "      padding: 0 0 0 0;\n",
              "      width: 32px;\n",
              "    }\n",
              "\n",
              "    .colab-df-convert:hover {\n",
              "      background-color: #E2EBFA;\n",
              "      box-shadow: 0px 1px 2px rgba(60, 64, 67, 0.3), 0px 1px 3px 1px rgba(60, 64, 67, 0.15);\n",
              "      fill: #174EA6;\n",
              "    }\n",
              "\n",
              "    [theme=dark] .colab-df-convert {\n",
              "      background-color: #3B4455;\n",
              "      fill: #D2E3FC;\n",
              "    }\n",
              "\n",
              "    [theme=dark] .colab-df-convert:hover {\n",
              "      background-color: #434B5C;\n",
              "      box-shadow: 0px 1px 3px 1px rgba(0, 0, 0, 0.15);\n",
              "      filter: drop-shadow(0px 1px 2px rgba(0, 0, 0, 0.3));\n",
              "      fill: #FFFFFF;\n",
              "    }\n",
              "  </style>\n",
              "\n",
              "      <script>\n",
              "        const buttonEl =\n",
              "          document.querySelector('#df-dc033057-f4f4-404a-9fea-d0e2f6900960 button.colab-df-convert');\n",
              "        buttonEl.style.display =\n",
              "          google.colab.kernel.accessAllowed ? 'block' : 'none';\n",
              "\n",
              "        async function convertToInteractive(key) {\n",
              "          const element = document.querySelector('#df-dc033057-f4f4-404a-9fea-d0e2f6900960');\n",
              "          const dataTable =\n",
              "            await google.colab.kernel.invokeFunction('convertToInteractive',\n",
              "                                                     [key], {});\n",
              "          if (!dataTable) return;\n",
              "\n",
              "          const docLinkHtml = 'Like what you see? Visit the ' +\n",
              "            '<a target=\"_blank\" href=https://colab.research.google.com/notebooks/data_table.ipynb>data table notebook</a>'\n",
              "            + ' to learn more about interactive tables.';\n",
              "          element.innerHTML = '';\n",
              "          dataTable['output_type'] = 'display_data';\n",
              "          await google.colab.output.renderOutput(dataTable, element);\n",
              "          const docLink = document.createElement('div');\n",
              "          docLink.innerHTML = docLinkHtml;\n",
              "          element.appendChild(docLink);\n",
              "        }\n",
              "      </script>\n",
              "    </div>\n",
              "  </div>\n",
              "  "
            ]
          },
          "metadata": {},
          "execution_count": 248
        }
      ]
    },
    {
      "cell_type": "code",
      "source": [
        "tuned_paramaters = [{'criterion': ['mse'], \n",
        "                     'max_depth': range(2, 3),\n",
        "                     'max_features': [\"sqrt\", \"log2\"],\n",
        "                     'min_samples_split': range(2,5),\n",
        "                     'min_samples_leaf': range(1,5),\n",
        "                     'max_leaf_nodes': range(2, 3)}]\n",
        "\n",
        "# initiate the elastic net regression model  \n",
        "DT_cv = DecisionTreeRegressor()\n",
        "\n",
        "# use GridSearchCV() to find the optimal value of alpha and l1_ratio\n",
        "# estimator: pass the elastic net regression model\n",
        "# param_grid: pass the list 'tuned_parameters'\n",
        "DT_grid = GridSearchCV(estimator = DT_cv, \n",
        "                          param_grid = tuned_paramaters, \n",
        "                          cv = 5)\n",
        "\n",
        "# fit the model on X_train and y_train using fit()\n",
        "DT_grid.fit(X_train, y_train)\n",
        "\n",
        "# get the best parameters\n",
        "print('Best parameters for Decision tree Regression: ', DT_grid.best_params_, '\\n')\n",
        "\n",
        "# print the RMSE for the test set using the model having optimal value of alpha and l1-ratio\n",
        "print('RMSE on test set:', get_test_rmse(DT_grid))"
      ],
      "metadata": {
        "colab": {
          "base_uri": "https://localhost:8080/"
        },
        "outputId": "dd373d71-ab12-4c2f-bf9b-86875a798ec0",
        "id": "XDyqAxlIBn8B"
      },
      "execution_count": 249,
      "outputs": [
        {
          "output_type": "stream",
          "name": "stdout",
          "text": [
            "Best parameters for Decision tree Regression:  {'criterion': 'mse', 'max_depth': 2, 'max_features': 'sqrt', 'max_leaf_nodes': 2, 'min_samples_leaf': 3, 'min_samples_split': 3} \n",
            "\n",
            "RMSE on test set: 367703.0789\n"
          ]
        }
      ]
    },
    {
      "cell_type": "code",
      "source": [
        "update_score_card(algorithm_name = 'Decision tree Regression with (using GridseachCV)', model = DT_grid)\n",
        "\n",
        "score_card"
      ],
      "metadata": {
        "colab": {
          "base_uri": "https://localhost:8080/",
          "height": 394
        },
        "outputId": "8b94a193-3bf1-4b34-a41a-922ca664e0c4",
        "id": "5zyw8I_XBn8B"
      },
      "execution_count": 250,
      "outputs": [
        {
          "output_type": "execute_result",
          "data": {
            "text/plain": [
              "                                           Model_Name  R-Squared  \\\n",
              "0                                   Linear Regression   0.834248   \n",
              "1                   Ridge Regression (with alpha = 1)   0.834264   \n",
              "2                   Ridge Regression (with alpha = 2)   0.834263   \n",
              "3                                    Lasso Regression   0.834264   \n",
              "4                              Elastic Net Regression   0.828904   \n",
              "5               Ridge Regression (using GridSearchCV)   0.834264   \n",
              "6               Lasso Regression (using GridSearchCV)   0.834264   \n",
              "7         Elastic Net Regression (using GridSearchCV)   0.834264   \n",
              "8                                      SVR Regression  -0.076221   \n",
              "9                            Decision tree Regression   0.996736   \n",
              "10  Decision tree Regression with (using GridseachCV)   0.027065   \n",
              "\n",
              "    Adj. R-Squared    Test_RMSE  Test_MAPE  \n",
              "0         0.834046  150228.9831  24.506288  \n",
              "1         0.834062  150191.0940  24.475367  \n",
              "2         0.834062  150190.6546  24.474341  \n",
              "3         0.834062  150191.5433  24.476393  \n",
              "4         0.828695  152386.8967  23.701307  \n",
              "5         0.834062  150191.0940  24.475367  \n",
              "6         0.834062  150191.5431  24.476394  \n",
              "7         0.834062  150191.0266  24.475102  \n",
              "8        -0.077532  386984.8968  53.159358  \n",
              "9         0.996732  124928.0022  15.307709  \n",
              "10        0.025879  367703.0789  63.301814  "
            ],
            "text/html": [
              "\n",
              "  <div id=\"df-66a9ce88-1c6d-4cc3-9503-99cef6bdb262\">\n",
              "    <div class=\"colab-df-container\">\n",
              "      <div>\n",
              "<style scoped>\n",
              "    .dataframe tbody tr th:only-of-type {\n",
              "        vertical-align: middle;\n",
              "    }\n",
              "\n",
              "    .dataframe tbody tr th {\n",
              "        vertical-align: top;\n",
              "    }\n",
              "\n",
              "    .dataframe thead th {\n",
              "        text-align: right;\n",
              "    }\n",
              "</style>\n",
              "<table border=\"1\" class=\"dataframe\">\n",
              "  <thead>\n",
              "    <tr style=\"text-align: right;\">\n",
              "      <th></th>\n",
              "      <th>Model_Name</th>\n",
              "      <th>R-Squared</th>\n",
              "      <th>Adj. R-Squared</th>\n",
              "      <th>Test_RMSE</th>\n",
              "      <th>Test_MAPE</th>\n",
              "    </tr>\n",
              "  </thead>\n",
              "  <tbody>\n",
              "    <tr>\n",
              "      <th>0</th>\n",
              "      <td>Linear Regression</td>\n",
              "      <td>0.834248</td>\n",
              "      <td>0.834046</td>\n",
              "      <td>150228.9831</td>\n",
              "      <td>24.506288</td>\n",
              "    </tr>\n",
              "    <tr>\n",
              "      <th>1</th>\n",
              "      <td>Ridge Regression (with alpha = 1)</td>\n",
              "      <td>0.834264</td>\n",
              "      <td>0.834062</td>\n",
              "      <td>150191.0940</td>\n",
              "      <td>24.475367</td>\n",
              "    </tr>\n",
              "    <tr>\n",
              "      <th>2</th>\n",
              "      <td>Ridge Regression (with alpha = 2)</td>\n",
              "      <td>0.834263</td>\n",
              "      <td>0.834062</td>\n",
              "      <td>150190.6546</td>\n",
              "      <td>24.474341</td>\n",
              "    </tr>\n",
              "    <tr>\n",
              "      <th>3</th>\n",
              "      <td>Lasso Regression</td>\n",
              "      <td>0.834264</td>\n",
              "      <td>0.834062</td>\n",
              "      <td>150191.5433</td>\n",
              "      <td>24.476393</td>\n",
              "    </tr>\n",
              "    <tr>\n",
              "      <th>4</th>\n",
              "      <td>Elastic Net Regression</td>\n",
              "      <td>0.828904</td>\n",
              "      <td>0.828695</td>\n",
              "      <td>152386.8967</td>\n",
              "      <td>23.701307</td>\n",
              "    </tr>\n",
              "    <tr>\n",
              "      <th>5</th>\n",
              "      <td>Ridge Regression (using GridSearchCV)</td>\n",
              "      <td>0.834264</td>\n",
              "      <td>0.834062</td>\n",
              "      <td>150191.0940</td>\n",
              "      <td>24.475367</td>\n",
              "    </tr>\n",
              "    <tr>\n",
              "      <th>6</th>\n",
              "      <td>Lasso Regression (using GridSearchCV)</td>\n",
              "      <td>0.834264</td>\n",
              "      <td>0.834062</td>\n",
              "      <td>150191.5431</td>\n",
              "      <td>24.476394</td>\n",
              "    </tr>\n",
              "    <tr>\n",
              "      <th>7</th>\n",
              "      <td>Elastic Net Regression (using GridSearchCV)</td>\n",
              "      <td>0.834264</td>\n",
              "      <td>0.834062</td>\n",
              "      <td>150191.0266</td>\n",
              "      <td>24.475102</td>\n",
              "    </tr>\n",
              "    <tr>\n",
              "      <th>8</th>\n",
              "      <td>SVR Regression</td>\n",
              "      <td>-0.076221</td>\n",
              "      <td>-0.077532</td>\n",
              "      <td>386984.8968</td>\n",
              "      <td>53.159358</td>\n",
              "    </tr>\n",
              "    <tr>\n",
              "      <th>9</th>\n",
              "      <td>Decision tree Regression</td>\n",
              "      <td>0.996736</td>\n",
              "      <td>0.996732</td>\n",
              "      <td>124928.0022</td>\n",
              "      <td>15.307709</td>\n",
              "    </tr>\n",
              "    <tr>\n",
              "      <th>10</th>\n",
              "      <td>Decision tree Regression with (using GridseachCV)</td>\n",
              "      <td>0.027065</td>\n",
              "      <td>0.025879</td>\n",
              "      <td>367703.0789</td>\n",
              "      <td>63.301814</td>\n",
              "    </tr>\n",
              "  </tbody>\n",
              "</table>\n",
              "</div>\n",
              "      <button class=\"colab-df-convert\" onclick=\"convertToInteractive('df-66a9ce88-1c6d-4cc3-9503-99cef6bdb262')\"\n",
              "              title=\"Convert this dataframe to an interactive table.\"\n",
              "              style=\"display:none;\">\n",
              "        \n",
              "  <svg xmlns=\"http://www.w3.org/2000/svg\" height=\"24px\"viewBox=\"0 0 24 24\"\n",
              "       width=\"24px\">\n",
              "    <path d=\"M0 0h24v24H0V0z\" fill=\"none\"/>\n",
              "    <path d=\"M18.56 5.44l.94 2.06.94-2.06 2.06-.94-2.06-.94-.94-2.06-.94 2.06-2.06.94zm-11 1L8.5 8.5l.94-2.06 2.06-.94-2.06-.94L8.5 2.5l-.94 2.06-2.06.94zm10 10l.94 2.06.94-2.06 2.06-.94-2.06-.94-.94-2.06-.94 2.06-2.06.94z\"/><path d=\"M17.41 7.96l-1.37-1.37c-.4-.4-.92-.59-1.43-.59-.52 0-1.04.2-1.43.59L10.3 9.45l-7.72 7.72c-.78.78-.78 2.05 0 2.83L4 21.41c.39.39.9.59 1.41.59.51 0 1.02-.2 1.41-.59l7.78-7.78 2.81-2.81c.8-.78.8-2.07 0-2.86zM5.41 20L4 18.59l7.72-7.72 1.47 1.35L5.41 20z\"/>\n",
              "  </svg>\n",
              "      </button>\n",
              "      \n",
              "  <style>\n",
              "    .colab-df-container {\n",
              "      display:flex;\n",
              "      flex-wrap:wrap;\n",
              "      gap: 12px;\n",
              "    }\n",
              "\n",
              "    .colab-df-convert {\n",
              "      background-color: #E8F0FE;\n",
              "      border: none;\n",
              "      border-radius: 50%;\n",
              "      cursor: pointer;\n",
              "      display: none;\n",
              "      fill: #1967D2;\n",
              "      height: 32px;\n",
              "      padding: 0 0 0 0;\n",
              "      width: 32px;\n",
              "    }\n",
              "\n",
              "    .colab-df-convert:hover {\n",
              "      background-color: #E2EBFA;\n",
              "      box-shadow: 0px 1px 2px rgba(60, 64, 67, 0.3), 0px 1px 3px 1px rgba(60, 64, 67, 0.15);\n",
              "      fill: #174EA6;\n",
              "    }\n",
              "\n",
              "    [theme=dark] .colab-df-convert {\n",
              "      background-color: #3B4455;\n",
              "      fill: #D2E3FC;\n",
              "    }\n",
              "\n",
              "    [theme=dark] .colab-df-convert:hover {\n",
              "      background-color: #434B5C;\n",
              "      box-shadow: 0px 1px 3px 1px rgba(0, 0, 0, 0.15);\n",
              "      filter: drop-shadow(0px 1px 2px rgba(0, 0, 0, 0.3));\n",
              "      fill: #FFFFFF;\n",
              "    }\n",
              "  </style>\n",
              "\n",
              "      <script>\n",
              "        const buttonEl =\n",
              "          document.querySelector('#df-66a9ce88-1c6d-4cc3-9503-99cef6bdb262 button.colab-df-convert');\n",
              "        buttonEl.style.display =\n",
              "          google.colab.kernel.accessAllowed ? 'block' : 'none';\n",
              "\n",
              "        async function convertToInteractive(key) {\n",
              "          const element = document.querySelector('#df-66a9ce88-1c6d-4cc3-9503-99cef6bdb262');\n",
              "          const dataTable =\n",
              "            await google.colab.kernel.invokeFunction('convertToInteractive',\n",
              "                                                     [key], {});\n",
              "          if (!dataTable) return;\n",
              "\n",
              "          const docLinkHtml = 'Like what you see? Visit the ' +\n",
              "            '<a target=\"_blank\" href=https://colab.research.google.com/notebooks/data_table.ipynb>data table notebook</a>'\n",
              "            + ' to learn more about interactive tables.';\n",
              "          element.innerHTML = '';\n",
              "          dataTable['output_type'] = 'display_data';\n",
              "          await google.colab.output.renderOutput(dataTable, element);\n",
              "          const docLink = document.createElement('div');\n",
              "          docLink.innerHTML = docLinkHtml;\n",
              "          element.appendChild(docLink);\n",
              "        }\n",
              "      </script>\n",
              "    </div>\n",
              "  </div>\n",
              "  "
            ]
          },
          "metadata": {},
          "execution_count": 250
        }
      ]
    },
    {
      "cell_type": "code",
      "source": [
        "# Random forest Regressor"
      ],
      "metadata": {
        "id": "xXybBr-TDrCa"
      },
      "execution_count": 251,
      "outputs": []
    },
    {
      "cell_type": "code",
      "source": [
        "RF_reg = RandomForestRegressor()\n",
        "RF_model = RF_reg.fit(X_train, y_train)\n",
        "RF_model.score(X_train, y_train)"
      ],
      "metadata": {
        "colab": {
          "base_uri": "https://localhost:8080/"
        },
        "outputId": "9becb005-4af3-468d-c2b7-f932423511e9",
        "id": "OAwnfhS5GBZm"
      },
      "execution_count": 252,
      "outputs": [
        {
          "output_type": "execute_result",
          "data": {
            "text/plain": [
              "0.987926158767156"
            ]
          },
          "metadata": {},
          "execution_count": 252
        }
      ]
    },
    {
      "cell_type": "code",
      "source": [
        "\n",
        "print('RMSE on train set: ', get_train_rmse(RF_model))\n",
        "\n",
        "\n",
        "print('RMSE on test set: ', get_test_rmse(RF_model))\n",
        "\n",
        "difference = abs(get_test_rmse(RF_model) - get_train_rmse(RF_model))\n",
        "\n",
        "print('Difference between RMSE on train and test set: ', difference)"
      ],
      "metadata": {
        "colab": {
          "base_uri": "https://localhost:8080/"
        },
        "outputId": "9f69ecfe-ef29-4fb6-a3e9-9dbd928ee631",
        "id": "3IVYYdZsGBZm"
      },
      "execution_count": 253,
      "outputs": [
        {
          "output_type": "stream",
          "name": "stdout",
          "text": [
            "RMSE on train set:  40869.3627\n",
            "RMSE on test set:  97505.6586\n",
            "Difference between RMSE on train and test set:  56636.2959\n"
          ]
        }
      ]
    },
    {
      "cell_type": "code",
      "source": [
        "\n",
        "update_score_card(algorithm_name = 'Random forest Regression', model = RF_model)\n",
        "\n",
        "score_card"
      ],
      "metadata": {
        "colab": {
          "base_uri": "https://localhost:8080/",
          "height": 426
        },
        "outputId": "04c8987a-c7b5-46ae-dc6b-7745e442d2c8",
        "id": "6SQcVYW8GBZm"
      },
      "execution_count": 254,
      "outputs": [
        {
          "output_type": "execute_result",
          "data": {
            "text/plain": [
              "                                           Model_Name  R-Squared  \\\n",
              "0                                   Linear Regression   0.834248   \n",
              "1                   Ridge Regression (with alpha = 1)   0.834264   \n",
              "2                   Ridge Regression (with alpha = 2)   0.834263   \n",
              "3                                    Lasso Regression   0.834264   \n",
              "4                              Elastic Net Regression   0.828904   \n",
              "5               Ridge Regression (using GridSearchCV)   0.834264   \n",
              "6               Lasso Regression (using GridSearchCV)   0.834264   \n",
              "7         Elastic Net Regression (using GridSearchCV)   0.834264   \n",
              "8                                      SVR Regression  -0.076221   \n",
              "9                            Decision tree Regression   0.996736   \n",
              "10  Decision tree Regression with (using GridseachCV)   0.027065   \n",
              "11                           Random forest Regression   0.987926   \n",
              "\n",
              "    Adj. R-Squared    Test_RMSE  Test_MAPE  \n",
              "0         0.834046  150228.9831  24.506288  \n",
              "1         0.834062  150191.0940  24.475367  \n",
              "2         0.834062  150190.6546  24.474341  \n",
              "3         0.834062  150191.5433  24.476393  \n",
              "4         0.828695  152386.8967  23.701307  \n",
              "5         0.834062  150191.0940  24.475367  \n",
              "6         0.834062  150191.5431  24.476394  \n",
              "7         0.834062  150191.0266  24.475102  \n",
              "8        -0.077532  386984.8968  53.159358  \n",
              "9         0.996732  124928.0022  15.307709  \n",
              "10        0.025879  367703.0789  63.301814  \n",
              "11        0.987911   97505.6586  12.648036  "
            ],
            "text/html": [
              "\n",
              "  <div id=\"df-06fbf925-aefe-4f36-b556-d749f87b10ad\">\n",
              "    <div class=\"colab-df-container\">\n",
              "      <div>\n",
              "<style scoped>\n",
              "    .dataframe tbody tr th:only-of-type {\n",
              "        vertical-align: middle;\n",
              "    }\n",
              "\n",
              "    .dataframe tbody tr th {\n",
              "        vertical-align: top;\n",
              "    }\n",
              "\n",
              "    .dataframe thead th {\n",
              "        text-align: right;\n",
              "    }\n",
              "</style>\n",
              "<table border=\"1\" class=\"dataframe\">\n",
              "  <thead>\n",
              "    <tr style=\"text-align: right;\">\n",
              "      <th></th>\n",
              "      <th>Model_Name</th>\n",
              "      <th>R-Squared</th>\n",
              "      <th>Adj. R-Squared</th>\n",
              "      <th>Test_RMSE</th>\n",
              "      <th>Test_MAPE</th>\n",
              "    </tr>\n",
              "  </thead>\n",
              "  <tbody>\n",
              "    <tr>\n",
              "      <th>0</th>\n",
              "      <td>Linear Regression</td>\n",
              "      <td>0.834248</td>\n",
              "      <td>0.834046</td>\n",
              "      <td>150228.9831</td>\n",
              "      <td>24.506288</td>\n",
              "    </tr>\n",
              "    <tr>\n",
              "      <th>1</th>\n",
              "      <td>Ridge Regression (with alpha = 1)</td>\n",
              "      <td>0.834264</td>\n",
              "      <td>0.834062</td>\n",
              "      <td>150191.0940</td>\n",
              "      <td>24.475367</td>\n",
              "    </tr>\n",
              "    <tr>\n",
              "      <th>2</th>\n",
              "      <td>Ridge Regression (with alpha = 2)</td>\n",
              "      <td>0.834263</td>\n",
              "      <td>0.834062</td>\n",
              "      <td>150190.6546</td>\n",
              "      <td>24.474341</td>\n",
              "    </tr>\n",
              "    <tr>\n",
              "      <th>3</th>\n",
              "      <td>Lasso Regression</td>\n",
              "      <td>0.834264</td>\n",
              "      <td>0.834062</td>\n",
              "      <td>150191.5433</td>\n",
              "      <td>24.476393</td>\n",
              "    </tr>\n",
              "    <tr>\n",
              "      <th>4</th>\n",
              "      <td>Elastic Net Regression</td>\n",
              "      <td>0.828904</td>\n",
              "      <td>0.828695</td>\n",
              "      <td>152386.8967</td>\n",
              "      <td>23.701307</td>\n",
              "    </tr>\n",
              "    <tr>\n",
              "      <th>5</th>\n",
              "      <td>Ridge Regression (using GridSearchCV)</td>\n",
              "      <td>0.834264</td>\n",
              "      <td>0.834062</td>\n",
              "      <td>150191.0940</td>\n",
              "      <td>24.475367</td>\n",
              "    </tr>\n",
              "    <tr>\n",
              "      <th>6</th>\n",
              "      <td>Lasso Regression (using GridSearchCV)</td>\n",
              "      <td>0.834264</td>\n",
              "      <td>0.834062</td>\n",
              "      <td>150191.5431</td>\n",
              "      <td>24.476394</td>\n",
              "    </tr>\n",
              "    <tr>\n",
              "      <th>7</th>\n",
              "      <td>Elastic Net Regression (using GridSearchCV)</td>\n",
              "      <td>0.834264</td>\n",
              "      <td>0.834062</td>\n",
              "      <td>150191.0266</td>\n",
              "      <td>24.475102</td>\n",
              "    </tr>\n",
              "    <tr>\n",
              "      <th>8</th>\n",
              "      <td>SVR Regression</td>\n",
              "      <td>-0.076221</td>\n",
              "      <td>-0.077532</td>\n",
              "      <td>386984.8968</td>\n",
              "      <td>53.159358</td>\n",
              "    </tr>\n",
              "    <tr>\n",
              "      <th>9</th>\n",
              "      <td>Decision tree Regression</td>\n",
              "      <td>0.996736</td>\n",
              "      <td>0.996732</td>\n",
              "      <td>124928.0022</td>\n",
              "      <td>15.307709</td>\n",
              "    </tr>\n",
              "    <tr>\n",
              "      <th>10</th>\n",
              "      <td>Decision tree Regression with (using GridseachCV)</td>\n",
              "      <td>0.027065</td>\n",
              "      <td>0.025879</td>\n",
              "      <td>367703.0789</td>\n",
              "      <td>63.301814</td>\n",
              "    </tr>\n",
              "    <tr>\n",
              "      <th>11</th>\n",
              "      <td>Random forest Regression</td>\n",
              "      <td>0.987926</td>\n",
              "      <td>0.987911</td>\n",
              "      <td>97505.6586</td>\n",
              "      <td>12.648036</td>\n",
              "    </tr>\n",
              "  </tbody>\n",
              "</table>\n",
              "</div>\n",
              "      <button class=\"colab-df-convert\" onclick=\"convertToInteractive('df-06fbf925-aefe-4f36-b556-d749f87b10ad')\"\n",
              "              title=\"Convert this dataframe to an interactive table.\"\n",
              "              style=\"display:none;\">\n",
              "        \n",
              "  <svg xmlns=\"http://www.w3.org/2000/svg\" height=\"24px\"viewBox=\"0 0 24 24\"\n",
              "       width=\"24px\">\n",
              "    <path d=\"M0 0h24v24H0V0z\" fill=\"none\"/>\n",
              "    <path d=\"M18.56 5.44l.94 2.06.94-2.06 2.06-.94-2.06-.94-.94-2.06-.94 2.06-2.06.94zm-11 1L8.5 8.5l.94-2.06 2.06-.94-2.06-.94L8.5 2.5l-.94 2.06-2.06.94zm10 10l.94 2.06.94-2.06 2.06-.94-2.06-.94-.94-2.06-.94 2.06-2.06.94z\"/><path d=\"M17.41 7.96l-1.37-1.37c-.4-.4-.92-.59-1.43-.59-.52 0-1.04.2-1.43.59L10.3 9.45l-7.72 7.72c-.78.78-.78 2.05 0 2.83L4 21.41c.39.39.9.59 1.41.59.51 0 1.02-.2 1.41-.59l7.78-7.78 2.81-2.81c.8-.78.8-2.07 0-2.86zM5.41 20L4 18.59l7.72-7.72 1.47 1.35L5.41 20z\"/>\n",
              "  </svg>\n",
              "      </button>\n",
              "      \n",
              "  <style>\n",
              "    .colab-df-container {\n",
              "      display:flex;\n",
              "      flex-wrap:wrap;\n",
              "      gap: 12px;\n",
              "    }\n",
              "\n",
              "    .colab-df-convert {\n",
              "      background-color: #E8F0FE;\n",
              "      border: none;\n",
              "      border-radius: 50%;\n",
              "      cursor: pointer;\n",
              "      display: none;\n",
              "      fill: #1967D2;\n",
              "      height: 32px;\n",
              "      padding: 0 0 0 0;\n",
              "      width: 32px;\n",
              "    }\n",
              "\n",
              "    .colab-df-convert:hover {\n",
              "      background-color: #E2EBFA;\n",
              "      box-shadow: 0px 1px 2px rgba(60, 64, 67, 0.3), 0px 1px 3px 1px rgba(60, 64, 67, 0.15);\n",
              "      fill: #174EA6;\n",
              "    }\n",
              "\n",
              "    [theme=dark] .colab-df-convert {\n",
              "      background-color: #3B4455;\n",
              "      fill: #D2E3FC;\n",
              "    }\n",
              "\n",
              "    [theme=dark] .colab-df-convert:hover {\n",
              "      background-color: #434B5C;\n",
              "      box-shadow: 0px 1px 3px 1px rgba(0, 0, 0, 0.15);\n",
              "      filter: drop-shadow(0px 1px 2px rgba(0, 0, 0, 0.3));\n",
              "      fill: #FFFFFF;\n",
              "    }\n",
              "  </style>\n",
              "\n",
              "      <script>\n",
              "        const buttonEl =\n",
              "          document.querySelector('#df-06fbf925-aefe-4f36-b556-d749f87b10ad button.colab-df-convert');\n",
              "        buttonEl.style.display =\n",
              "          google.colab.kernel.accessAllowed ? 'block' : 'none';\n",
              "\n",
              "        async function convertToInteractive(key) {\n",
              "          const element = document.querySelector('#df-06fbf925-aefe-4f36-b556-d749f87b10ad');\n",
              "          const dataTable =\n",
              "            await google.colab.kernel.invokeFunction('convertToInteractive',\n",
              "                                                     [key], {});\n",
              "          if (!dataTable) return;\n",
              "\n",
              "          const docLinkHtml = 'Like what you see? Visit the ' +\n",
              "            '<a target=\"_blank\" href=https://colab.research.google.com/notebooks/data_table.ipynb>data table notebook</a>'\n",
              "            + ' to learn more about interactive tables.';\n",
              "          element.innerHTML = '';\n",
              "          dataTable['output_type'] = 'display_data';\n",
              "          await google.colab.output.renderOutput(dataTable, element);\n",
              "          const docLink = document.createElement('div');\n",
              "          docLink.innerHTML = docLinkHtml;\n",
              "          element.appendChild(docLink);\n",
              "        }\n",
              "      </script>\n",
              "    </div>\n",
              "  </div>\n",
              "  "
            ]
          },
          "metadata": {},
          "execution_count": 254
        }
      ]
    },
    {
      "cell_type": "code",
      "source": [
        "tuned_paramaters = [{'criterion': ['mse'],\n",
        "                     'n_estimators': [10, 30, ],\n",
        "                     'max_depth': [10, 15],\n",
        "                     'max_features': ['sqrt', 'log2'],\n",
        "                     'min_samples_split': [2, 5,],\n",
        "                     'min_samples_leaf': [1, 5],\n",
        "                     'max_leaf_nodes': [2, 5]}]\n",
        "\n",
        "# initiate the elastic net regression model  \n",
        "RF_cv = RandomForestRegressor()\n",
        "\n",
        "# use GridSearchCV() to find the optimal value of alpha and l1_ratio\n",
        "# estimator: pass the elastic net regression model\n",
        "# param_grid: pass the list 'tuned_parameters'\n",
        "RF_grid = GridSearchCV(estimator = RF_cv, \n",
        "                          param_grid = tuned_paramaters, \n",
        "                          cv = 5)\n",
        "\n",
        "# fit the model on X_train and y_train using fit()\n",
        "RF_grid.fit(X_train, y_train)\n",
        "\n",
        "# get the best parameters\n",
        "print('Best parameters for Decision tree Regression: ', RF_grid.best_params_, '\\n')\n",
        "\n",
        "# print the RMSE for the test set using the model having optimal value of alpha and l1-ratio\n",
        "print('RMSE on test set:', get_test_rmse(RF_grid))"
      ],
      "metadata": {
        "colab": {
          "base_uri": "https://localhost:8080/"
        },
        "outputId": "284eaeb4-25f7-4501-e04f-0a4c466e6683",
        "id": "bGAD3VhQGBZn"
      },
      "execution_count": 255,
      "outputs": [
        {
          "output_type": "stream",
          "name": "stdout",
          "text": [
            "Best parameters for Decision tree Regression:  {'criterion': 'mse', 'max_depth': 15, 'max_features': 'log2', 'max_leaf_nodes': 5, 'min_samples_leaf': 5, 'min_samples_split': 5, 'n_estimators': 30} \n",
            "\n",
            "RMSE on test set: 207910.6485\n"
          ]
        }
      ]
    },
    {
      "cell_type": "code",
      "source": [
        "update_score_card(algorithm_name = 'Random forest Regression with (using GridseachCV)', model = RF_grid)\n",
        "\n",
        "score_card"
      ],
      "metadata": {
        "colab": {
          "base_uri": "https://localhost:8080/",
          "height": 457
        },
        "outputId": "e4256912-ff62-4f84-ea4d-ea56440e4239",
        "id": "4ew8ytkaGBZn"
      },
      "execution_count": 256,
      "outputs": [
        {
          "output_type": "execute_result",
          "data": {
            "text/plain": [
              "                                           Model_Name  R-Squared  \\\n",
              "0                                   Linear Regression   0.834248   \n",
              "1                   Ridge Regression (with alpha = 1)   0.834264   \n",
              "2                   Ridge Regression (with alpha = 2)   0.834263   \n",
              "3                                    Lasso Regression   0.834264   \n",
              "4                              Elastic Net Regression   0.828904   \n",
              "5               Ridge Regression (using GridSearchCV)   0.834264   \n",
              "6               Lasso Regression (using GridSearchCV)   0.834264   \n",
              "7         Elastic Net Regression (using GridSearchCV)   0.834264   \n",
              "8                                      SVR Regression  -0.076221   \n",
              "9                            Decision tree Regression   0.996736   \n",
              "10  Decision tree Regression with (using GridseachCV)   0.027065   \n",
              "11                           Random forest Regression   0.987926   \n",
              "12  Random forest Regression with (using GridseachCV)   0.683726   \n",
              "\n",
              "    Adj. R-Squared    Test_RMSE  Test_MAPE  \n",
              "0         0.834046  150228.9831  24.506288  \n",
              "1         0.834062  150191.0940  24.475367  \n",
              "2         0.834062  150190.6546  24.474341  \n",
              "3         0.834062  150191.5433  24.476393  \n",
              "4         0.828695  152386.8967  23.701307  \n",
              "5         0.834062  150191.0940  24.475367  \n",
              "6         0.834062  150191.5431  24.476394  \n",
              "7         0.834062  150191.0266  24.475102  \n",
              "8        -0.077532  386984.8968  53.159358  \n",
              "9         0.996732  124928.0022  15.307709  \n",
              "10        0.025879  367703.0789  63.301814  \n",
              "11        0.987911   97505.6586  12.648036  \n",
              "12        0.683341  207910.6485  37.639238  "
            ],
            "text/html": [
              "\n",
              "  <div id=\"df-d4f34719-0995-4ac6-80ec-9c5bbf8649ab\">\n",
              "    <div class=\"colab-df-container\">\n",
              "      <div>\n",
              "<style scoped>\n",
              "    .dataframe tbody tr th:only-of-type {\n",
              "        vertical-align: middle;\n",
              "    }\n",
              "\n",
              "    .dataframe tbody tr th {\n",
              "        vertical-align: top;\n",
              "    }\n",
              "\n",
              "    .dataframe thead th {\n",
              "        text-align: right;\n",
              "    }\n",
              "</style>\n",
              "<table border=\"1\" class=\"dataframe\">\n",
              "  <thead>\n",
              "    <tr style=\"text-align: right;\">\n",
              "      <th></th>\n",
              "      <th>Model_Name</th>\n",
              "      <th>R-Squared</th>\n",
              "      <th>Adj. R-Squared</th>\n",
              "      <th>Test_RMSE</th>\n",
              "      <th>Test_MAPE</th>\n",
              "    </tr>\n",
              "  </thead>\n",
              "  <tbody>\n",
              "    <tr>\n",
              "      <th>0</th>\n",
              "      <td>Linear Regression</td>\n",
              "      <td>0.834248</td>\n",
              "      <td>0.834046</td>\n",
              "      <td>150228.9831</td>\n",
              "      <td>24.506288</td>\n",
              "    </tr>\n",
              "    <tr>\n",
              "      <th>1</th>\n",
              "      <td>Ridge Regression (with alpha = 1)</td>\n",
              "      <td>0.834264</td>\n",
              "      <td>0.834062</td>\n",
              "      <td>150191.0940</td>\n",
              "      <td>24.475367</td>\n",
              "    </tr>\n",
              "    <tr>\n",
              "      <th>2</th>\n",
              "      <td>Ridge Regression (with alpha = 2)</td>\n",
              "      <td>0.834263</td>\n",
              "      <td>0.834062</td>\n",
              "      <td>150190.6546</td>\n",
              "      <td>24.474341</td>\n",
              "    </tr>\n",
              "    <tr>\n",
              "      <th>3</th>\n",
              "      <td>Lasso Regression</td>\n",
              "      <td>0.834264</td>\n",
              "      <td>0.834062</td>\n",
              "      <td>150191.5433</td>\n",
              "      <td>24.476393</td>\n",
              "    </tr>\n",
              "    <tr>\n",
              "      <th>4</th>\n",
              "      <td>Elastic Net Regression</td>\n",
              "      <td>0.828904</td>\n",
              "      <td>0.828695</td>\n",
              "      <td>152386.8967</td>\n",
              "      <td>23.701307</td>\n",
              "    </tr>\n",
              "    <tr>\n",
              "      <th>5</th>\n",
              "      <td>Ridge Regression (using GridSearchCV)</td>\n",
              "      <td>0.834264</td>\n",
              "      <td>0.834062</td>\n",
              "      <td>150191.0940</td>\n",
              "      <td>24.475367</td>\n",
              "    </tr>\n",
              "    <tr>\n",
              "      <th>6</th>\n",
              "      <td>Lasso Regression (using GridSearchCV)</td>\n",
              "      <td>0.834264</td>\n",
              "      <td>0.834062</td>\n",
              "      <td>150191.5431</td>\n",
              "      <td>24.476394</td>\n",
              "    </tr>\n",
              "    <tr>\n",
              "      <th>7</th>\n",
              "      <td>Elastic Net Regression (using GridSearchCV)</td>\n",
              "      <td>0.834264</td>\n",
              "      <td>0.834062</td>\n",
              "      <td>150191.0266</td>\n",
              "      <td>24.475102</td>\n",
              "    </tr>\n",
              "    <tr>\n",
              "      <th>8</th>\n",
              "      <td>SVR Regression</td>\n",
              "      <td>-0.076221</td>\n",
              "      <td>-0.077532</td>\n",
              "      <td>386984.8968</td>\n",
              "      <td>53.159358</td>\n",
              "    </tr>\n",
              "    <tr>\n",
              "      <th>9</th>\n",
              "      <td>Decision tree Regression</td>\n",
              "      <td>0.996736</td>\n",
              "      <td>0.996732</td>\n",
              "      <td>124928.0022</td>\n",
              "      <td>15.307709</td>\n",
              "    </tr>\n",
              "    <tr>\n",
              "      <th>10</th>\n",
              "      <td>Decision tree Regression with (using GridseachCV)</td>\n",
              "      <td>0.027065</td>\n",
              "      <td>0.025879</td>\n",
              "      <td>367703.0789</td>\n",
              "      <td>63.301814</td>\n",
              "    </tr>\n",
              "    <tr>\n",
              "      <th>11</th>\n",
              "      <td>Random forest Regression</td>\n",
              "      <td>0.987926</td>\n",
              "      <td>0.987911</td>\n",
              "      <td>97505.6586</td>\n",
              "      <td>12.648036</td>\n",
              "    </tr>\n",
              "    <tr>\n",
              "      <th>12</th>\n",
              "      <td>Random forest Regression with (using GridseachCV)</td>\n",
              "      <td>0.683726</td>\n",
              "      <td>0.683341</td>\n",
              "      <td>207910.6485</td>\n",
              "      <td>37.639238</td>\n",
              "    </tr>\n",
              "  </tbody>\n",
              "</table>\n",
              "</div>\n",
              "      <button class=\"colab-df-convert\" onclick=\"convertToInteractive('df-d4f34719-0995-4ac6-80ec-9c5bbf8649ab')\"\n",
              "              title=\"Convert this dataframe to an interactive table.\"\n",
              "              style=\"display:none;\">\n",
              "        \n",
              "  <svg xmlns=\"http://www.w3.org/2000/svg\" height=\"24px\"viewBox=\"0 0 24 24\"\n",
              "       width=\"24px\">\n",
              "    <path d=\"M0 0h24v24H0V0z\" fill=\"none\"/>\n",
              "    <path d=\"M18.56 5.44l.94 2.06.94-2.06 2.06-.94-2.06-.94-.94-2.06-.94 2.06-2.06.94zm-11 1L8.5 8.5l.94-2.06 2.06-.94-2.06-.94L8.5 2.5l-.94 2.06-2.06.94zm10 10l.94 2.06.94-2.06 2.06-.94-2.06-.94-.94-2.06-.94 2.06-2.06.94z\"/><path d=\"M17.41 7.96l-1.37-1.37c-.4-.4-.92-.59-1.43-.59-.52 0-1.04.2-1.43.59L10.3 9.45l-7.72 7.72c-.78.78-.78 2.05 0 2.83L4 21.41c.39.39.9.59 1.41.59.51 0 1.02-.2 1.41-.59l7.78-7.78 2.81-2.81c.8-.78.8-2.07 0-2.86zM5.41 20L4 18.59l7.72-7.72 1.47 1.35L5.41 20z\"/>\n",
              "  </svg>\n",
              "      </button>\n",
              "      \n",
              "  <style>\n",
              "    .colab-df-container {\n",
              "      display:flex;\n",
              "      flex-wrap:wrap;\n",
              "      gap: 12px;\n",
              "    }\n",
              "\n",
              "    .colab-df-convert {\n",
              "      background-color: #E8F0FE;\n",
              "      border: none;\n",
              "      border-radius: 50%;\n",
              "      cursor: pointer;\n",
              "      display: none;\n",
              "      fill: #1967D2;\n",
              "      height: 32px;\n",
              "      padding: 0 0 0 0;\n",
              "      width: 32px;\n",
              "    }\n",
              "\n",
              "    .colab-df-convert:hover {\n",
              "      background-color: #E2EBFA;\n",
              "      box-shadow: 0px 1px 2px rgba(60, 64, 67, 0.3), 0px 1px 3px 1px rgba(60, 64, 67, 0.15);\n",
              "      fill: #174EA6;\n",
              "    }\n",
              "\n",
              "    [theme=dark] .colab-df-convert {\n",
              "      background-color: #3B4455;\n",
              "      fill: #D2E3FC;\n",
              "    }\n",
              "\n",
              "    [theme=dark] .colab-df-convert:hover {\n",
              "      background-color: #434B5C;\n",
              "      box-shadow: 0px 1px 3px 1px rgba(0, 0, 0, 0.15);\n",
              "      filter: drop-shadow(0px 1px 2px rgba(0, 0, 0, 0.3));\n",
              "      fill: #FFFFFF;\n",
              "    }\n",
              "  </style>\n",
              "\n",
              "      <script>\n",
              "        const buttonEl =\n",
              "          document.querySelector('#df-d4f34719-0995-4ac6-80ec-9c5bbf8649ab button.colab-df-convert');\n",
              "        buttonEl.style.display =\n",
              "          google.colab.kernel.accessAllowed ? 'block' : 'none';\n",
              "\n",
              "        async function convertToInteractive(key) {\n",
              "          const element = document.querySelector('#df-d4f34719-0995-4ac6-80ec-9c5bbf8649ab');\n",
              "          const dataTable =\n",
              "            await google.colab.kernel.invokeFunction('convertToInteractive',\n",
              "                                                     [key], {});\n",
              "          if (!dataTable) return;\n",
              "\n",
              "          const docLinkHtml = 'Like what you see? Visit the ' +\n",
              "            '<a target=\"_blank\" href=https://colab.research.google.com/notebooks/data_table.ipynb>data table notebook</a>'\n",
              "            + ' to learn more about interactive tables.';\n",
              "          element.innerHTML = '';\n",
              "          dataTable['output_type'] = 'display_data';\n",
              "          await google.colab.output.renderOutput(dataTable, element);\n",
              "          const docLink = document.createElement('div');\n",
              "          docLink.innerHTML = docLinkHtml;\n",
              "          element.appendChild(docLink);\n",
              "        }\n",
              "      </script>\n",
              "    </div>\n",
              "  </div>\n",
              "  "
            ]
          },
          "metadata": {},
          "execution_count": 256
        }
      ]
    },
    {
      "cell_type": "code",
      "source": [
        "# Ada boost"
      ],
      "metadata": {
        "id": "wkYpCCZgGp-E"
      },
      "execution_count": 257,
      "outputs": []
    },
    {
      "cell_type": "code",
      "source": [
        "ADA_reg = AdaBoostRegressor()\n",
        "ADA_model = ADA_reg.fit(X_train, y_train)\n",
        "ADA_model.score(X_train, y_train)"
      ],
      "metadata": {
        "colab": {
          "base_uri": "https://localhost:8080/"
        },
        "outputId": "db28f5eb-bad6-4161-e11b-519d8a293f08",
        "id": "SLi49D-eJBSI"
      },
      "execution_count": 258,
      "outputs": [
        {
          "output_type": "execute_result",
          "data": {
            "text/plain": [
              "0.7771335969848759"
            ]
          },
          "metadata": {},
          "execution_count": 258
        }
      ]
    },
    {
      "cell_type": "code",
      "source": [
        "\n",
        "print('RMSE on train set: ', get_train_rmse(ADA_model))\n",
        "\n",
        "\n",
        "print('RMSE on test set: ', get_test_rmse(ADA_model))\n",
        "\n",
        "difference = abs(get_test_rmse(ADA_model) - get_train_rmse(ADA_model))\n",
        "\n",
        "print('Difference between RMSE on train and test set: ', difference)"
      ],
      "metadata": {
        "colab": {
          "base_uri": "https://localhost:8080/"
        },
        "outputId": "81b8bc8e-1f61-4a1e-b975-020abfeaf019",
        "id": "ZPvJbTkXJBSJ"
      },
      "execution_count": 259,
      "outputs": [
        {
          "output_type": "stream",
          "name": "stdout",
          "text": [
            "RMSE on train set:  175589.0534\n",
            "RMSE on test set:  176779.0162\n",
            "Difference between RMSE on train and test set:  1189.9628000000084\n"
          ]
        }
      ]
    },
    {
      "cell_type": "code",
      "source": [
        "\n",
        "update_score_card(algorithm_name = 'Adaboost  Regression', model = ADA_model)\n",
        "\n",
        "score_card"
      ],
      "metadata": {
        "colab": {
          "base_uri": "https://localhost:8080/",
          "height": 488
        },
        "outputId": "edbc3136-32d5-414a-ecf6-5501528b494b",
        "id": "ZHks1F-EJBSJ"
      },
      "execution_count": 260,
      "outputs": [
        {
          "output_type": "execute_result",
          "data": {
            "text/plain": [
              "                                           Model_Name  R-Squared  \\\n",
              "0                                   Linear Regression   0.834248   \n",
              "1                   Ridge Regression (with alpha = 1)   0.834264   \n",
              "2                   Ridge Regression (with alpha = 2)   0.834263   \n",
              "3                                    Lasso Regression   0.834264   \n",
              "4                              Elastic Net Regression   0.828904   \n",
              "5               Ridge Regression (using GridSearchCV)   0.834264   \n",
              "6               Lasso Regression (using GridSearchCV)   0.834264   \n",
              "7         Elastic Net Regression (using GridSearchCV)   0.834264   \n",
              "8                                      SVR Regression  -0.076221   \n",
              "9                            Decision tree Regression   0.996736   \n",
              "10  Decision tree Regression with (using GridseachCV)   0.027065   \n",
              "11                           Random forest Regression   0.987926   \n",
              "12  Random forest Regression with (using GridseachCV)   0.683726   \n",
              "13                               Adaboost  Regression   0.777134   \n",
              "\n",
              "    Adj. R-Squared    Test_RMSE  Test_MAPE  \n",
              "0         0.834046  150228.9831  24.506288  \n",
              "1         0.834062  150191.0940  24.475367  \n",
              "2         0.834062  150190.6546  24.474341  \n",
              "3         0.834062  150191.5433  24.476393  \n",
              "4         0.828695  152386.8967  23.701307  \n",
              "5         0.834062  150191.0940  24.475367  \n",
              "6         0.834062  150191.5431  24.476394  \n",
              "7         0.834062  150191.0266  24.475102  \n",
              "8        -0.077532  386984.8968  53.159358  \n",
              "9         0.996732  124928.0022  15.307709  \n",
              "10        0.025879  367703.0789  63.301814  \n",
              "11        0.987911   97505.6586  12.648036  \n",
              "12        0.683341  207910.6485  37.639238  \n",
              "13        0.776862  176779.0162  31.493318  "
            ],
            "text/html": [
              "\n",
              "  <div id=\"df-e5e8db16-cb1f-4da7-a7eb-80ace7a82947\">\n",
              "    <div class=\"colab-df-container\">\n",
              "      <div>\n",
              "<style scoped>\n",
              "    .dataframe tbody tr th:only-of-type {\n",
              "        vertical-align: middle;\n",
              "    }\n",
              "\n",
              "    .dataframe tbody tr th {\n",
              "        vertical-align: top;\n",
              "    }\n",
              "\n",
              "    .dataframe thead th {\n",
              "        text-align: right;\n",
              "    }\n",
              "</style>\n",
              "<table border=\"1\" class=\"dataframe\">\n",
              "  <thead>\n",
              "    <tr style=\"text-align: right;\">\n",
              "      <th></th>\n",
              "      <th>Model_Name</th>\n",
              "      <th>R-Squared</th>\n",
              "      <th>Adj. R-Squared</th>\n",
              "      <th>Test_RMSE</th>\n",
              "      <th>Test_MAPE</th>\n",
              "    </tr>\n",
              "  </thead>\n",
              "  <tbody>\n",
              "    <tr>\n",
              "      <th>0</th>\n",
              "      <td>Linear Regression</td>\n",
              "      <td>0.834248</td>\n",
              "      <td>0.834046</td>\n",
              "      <td>150228.9831</td>\n",
              "      <td>24.506288</td>\n",
              "    </tr>\n",
              "    <tr>\n",
              "      <th>1</th>\n",
              "      <td>Ridge Regression (with alpha = 1)</td>\n",
              "      <td>0.834264</td>\n",
              "      <td>0.834062</td>\n",
              "      <td>150191.0940</td>\n",
              "      <td>24.475367</td>\n",
              "    </tr>\n",
              "    <tr>\n",
              "      <th>2</th>\n",
              "      <td>Ridge Regression (with alpha = 2)</td>\n",
              "      <td>0.834263</td>\n",
              "      <td>0.834062</td>\n",
              "      <td>150190.6546</td>\n",
              "      <td>24.474341</td>\n",
              "    </tr>\n",
              "    <tr>\n",
              "      <th>3</th>\n",
              "      <td>Lasso Regression</td>\n",
              "      <td>0.834264</td>\n",
              "      <td>0.834062</td>\n",
              "      <td>150191.5433</td>\n",
              "      <td>24.476393</td>\n",
              "    </tr>\n",
              "    <tr>\n",
              "      <th>4</th>\n",
              "      <td>Elastic Net Regression</td>\n",
              "      <td>0.828904</td>\n",
              "      <td>0.828695</td>\n",
              "      <td>152386.8967</td>\n",
              "      <td>23.701307</td>\n",
              "    </tr>\n",
              "    <tr>\n",
              "      <th>5</th>\n",
              "      <td>Ridge Regression (using GridSearchCV)</td>\n",
              "      <td>0.834264</td>\n",
              "      <td>0.834062</td>\n",
              "      <td>150191.0940</td>\n",
              "      <td>24.475367</td>\n",
              "    </tr>\n",
              "    <tr>\n",
              "      <th>6</th>\n",
              "      <td>Lasso Regression (using GridSearchCV)</td>\n",
              "      <td>0.834264</td>\n",
              "      <td>0.834062</td>\n",
              "      <td>150191.5431</td>\n",
              "      <td>24.476394</td>\n",
              "    </tr>\n",
              "    <tr>\n",
              "      <th>7</th>\n",
              "      <td>Elastic Net Regression (using GridSearchCV)</td>\n",
              "      <td>0.834264</td>\n",
              "      <td>0.834062</td>\n",
              "      <td>150191.0266</td>\n",
              "      <td>24.475102</td>\n",
              "    </tr>\n",
              "    <tr>\n",
              "      <th>8</th>\n",
              "      <td>SVR Regression</td>\n",
              "      <td>-0.076221</td>\n",
              "      <td>-0.077532</td>\n",
              "      <td>386984.8968</td>\n",
              "      <td>53.159358</td>\n",
              "    </tr>\n",
              "    <tr>\n",
              "      <th>9</th>\n",
              "      <td>Decision tree Regression</td>\n",
              "      <td>0.996736</td>\n",
              "      <td>0.996732</td>\n",
              "      <td>124928.0022</td>\n",
              "      <td>15.307709</td>\n",
              "    </tr>\n",
              "    <tr>\n",
              "      <th>10</th>\n",
              "      <td>Decision tree Regression with (using GridseachCV)</td>\n",
              "      <td>0.027065</td>\n",
              "      <td>0.025879</td>\n",
              "      <td>367703.0789</td>\n",
              "      <td>63.301814</td>\n",
              "    </tr>\n",
              "    <tr>\n",
              "      <th>11</th>\n",
              "      <td>Random forest Regression</td>\n",
              "      <td>0.987926</td>\n",
              "      <td>0.987911</td>\n",
              "      <td>97505.6586</td>\n",
              "      <td>12.648036</td>\n",
              "    </tr>\n",
              "    <tr>\n",
              "      <th>12</th>\n",
              "      <td>Random forest Regression with (using GridseachCV)</td>\n",
              "      <td>0.683726</td>\n",
              "      <td>0.683341</td>\n",
              "      <td>207910.6485</td>\n",
              "      <td>37.639238</td>\n",
              "    </tr>\n",
              "    <tr>\n",
              "      <th>13</th>\n",
              "      <td>Adaboost  Regression</td>\n",
              "      <td>0.777134</td>\n",
              "      <td>0.776862</td>\n",
              "      <td>176779.0162</td>\n",
              "      <td>31.493318</td>\n",
              "    </tr>\n",
              "  </tbody>\n",
              "</table>\n",
              "</div>\n",
              "      <button class=\"colab-df-convert\" onclick=\"convertToInteractive('df-e5e8db16-cb1f-4da7-a7eb-80ace7a82947')\"\n",
              "              title=\"Convert this dataframe to an interactive table.\"\n",
              "              style=\"display:none;\">\n",
              "        \n",
              "  <svg xmlns=\"http://www.w3.org/2000/svg\" height=\"24px\"viewBox=\"0 0 24 24\"\n",
              "       width=\"24px\">\n",
              "    <path d=\"M0 0h24v24H0V0z\" fill=\"none\"/>\n",
              "    <path d=\"M18.56 5.44l.94 2.06.94-2.06 2.06-.94-2.06-.94-.94-2.06-.94 2.06-2.06.94zm-11 1L8.5 8.5l.94-2.06 2.06-.94-2.06-.94L8.5 2.5l-.94 2.06-2.06.94zm10 10l.94 2.06.94-2.06 2.06-.94-2.06-.94-.94-2.06-.94 2.06-2.06.94z\"/><path d=\"M17.41 7.96l-1.37-1.37c-.4-.4-.92-.59-1.43-.59-.52 0-1.04.2-1.43.59L10.3 9.45l-7.72 7.72c-.78.78-.78 2.05 0 2.83L4 21.41c.39.39.9.59 1.41.59.51 0 1.02-.2 1.41-.59l7.78-7.78 2.81-2.81c.8-.78.8-2.07 0-2.86zM5.41 20L4 18.59l7.72-7.72 1.47 1.35L5.41 20z\"/>\n",
              "  </svg>\n",
              "      </button>\n",
              "      \n",
              "  <style>\n",
              "    .colab-df-container {\n",
              "      display:flex;\n",
              "      flex-wrap:wrap;\n",
              "      gap: 12px;\n",
              "    }\n",
              "\n",
              "    .colab-df-convert {\n",
              "      background-color: #E8F0FE;\n",
              "      border: none;\n",
              "      border-radius: 50%;\n",
              "      cursor: pointer;\n",
              "      display: none;\n",
              "      fill: #1967D2;\n",
              "      height: 32px;\n",
              "      padding: 0 0 0 0;\n",
              "      width: 32px;\n",
              "    }\n",
              "\n",
              "    .colab-df-convert:hover {\n",
              "      background-color: #E2EBFA;\n",
              "      box-shadow: 0px 1px 2px rgba(60, 64, 67, 0.3), 0px 1px 3px 1px rgba(60, 64, 67, 0.15);\n",
              "      fill: #174EA6;\n",
              "    }\n",
              "\n",
              "    [theme=dark] .colab-df-convert {\n",
              "      background-color: #3B4455;\n",
              "      fill: #D2E3FC;\n",
              "    }\n",
              "\n",
              "    [theme=dark] .colab-df-convert:hover {\n",
              "      background-color: #434B5C;\n",
              "      box-shadow: 0px 1px 3px 1px rgba(0, 0, 0, 0.15);\n",
              "      filter: drop-shadow(0px 1px 2px rgba(0, 0, 0, 0.3));\n",
              "      fill: #FFFFFF;\n",
              "    }\n",
              "  </style>\n",
              "\n",
              "      <script>\n",
              "        const buttonEl =\n",
              "          document.querySelector('#df-e5e8db16-cb1f-4da7-a7eb-80ace7a82947 button.colab-df-convert');\n",
              "        buttonEl.style.display =\n",
              "          google.colab.kernel.accessAllowed ? 'block' : 'none';\n",
              "\n",
              "        async function convertToInteractive(key) {\n",
              "          const element = document.querySelector('#df-e5e8db16-cb1f-4da7-a7eb-80ace7a82947');\n",
              "          const dataTable =\n",
              "            await google.colab.kernel.invokeFunction('convertToInteractive',\n",
              "                                                     [key], {});\n",
              "          if (!dataTable) return;\n",
              "\n",
              "          const docLinkHtml = 'Like what you see? Visit the ' +\n",
              "            '<a target=\"_blank\" href=https://colab.research.google.com/notebooks/data_table.ipynb>data table notebook</a>'\n",
              "            + ' to learn more about interactive tables.';\n",
              "          element.innerHTML = '';\n",
              "          dataTable['output_type'] = 'display_data';\n",
              "          await google.colab.output.renderOutput(dataTable, element);\n",
              "          const docLink = document.createElement('div');\n",
              "          docLink.innerHTML = docLinkHtml;\n",
              "          element.appendChild(docLink);\n",
              "        }\n",
              "      </script>\n",
              "    </div>\n",
              "  </div>\n",
              "  "
            ]
          },
          "metadata": {},
          "execution_count": 260
        }
      ]
    },
    {
      "cell_type": "code",
      "source": [
        "# Gradient boosting"
      ],
      "metadata": {
        "id": "wnbh-zeaJxTQ"
      },
      "execution_count": 261,
      "outputs": []
    },
    {
      "cell_type": "code",
      "source": [
        "GBR_reg = GradientBoostingRegressor()\n",
        "GBR_model = GBR_reg.fit(X_train, y_train)\n",
        "GBR_model.score(X_train, y_train)"
      ],
      "metadata": {
        "colab": {
          "base_uri": "https://localhost:8080/"
        },
        "outputId": "8e372c06-bc65-4155-ea03-3ef071622758",
        "id": "1Kc0TrlgJ7_s"
      },
      "execution_count": 262,
      "outputs": [
        {
          "output_type": "execute_result",
          "data": {
            "text/plain": [
              "0.9197526581273076"
            ]
          },
          "metadata": {},
          "execution_count": 262
        }
      ]
    },
    {
      "cell_type": "code",
      "source": [
        "\n",
        "print('RMSE on train set: ', get_train_rmse(GBR_model))\n",
        "\n",
        "\n",
        "print('RMSE on test set: ', get_test_rmse(GBR_model))\n",
        "\n",
        "difference = abs(get_test_rmse(GBR_model) - get_train_rmse(GBR_model))\n",
        "\n",
        "print('Difference between RMSE on train and test set: ', difference)"
      ],
      "metadata": {
        "colab": {
          "base_uri": "https://localhost:8080/"
        },
        "outputId": "403b4672-641e-4661-b7b4-d590d936be68",
        "id": "6C6TScGoJ7_s"
      },
      "execution_count": 263,
      "outputs": [
        {
          "output_type": "stream",
          "name": "stdout",
          "text": [
            "RMSE on train set:  105363.5666\n",
            "RMSE on test set:  105593.232\n",
            "Difference between RMSE on train and test set:  229.66539999999804\n"
          ]
        }
      ]
    },
    {
      "cell_type": "code",
      "source": [
        "\n",
        "update_score_card(algorithm_name = 'Gradient boosting  Regression', model = GBR_model)\n",
        "\n",
        "score_card"
      ],
      "metadata": {
        "colab": {
          "base_uri": "https://localhost:8080/",
          "height": 520
        },
        "outputId": "7b16cd53-e28f-4284-d974-c01ffa4e401b",
        "id": "WPFN1QvoJ7_s"
      },
      "execution_count": 264,
      "outputs": [
        {
          "output_type": "execute_result",
          "data": {
            "text/plain": [
              "                                           Model_Name  R-Squared  \\\n",
              "0                                   Linear Regression   0.834248   \n",
              "1                   Ridge Regression (with alpha = 1)   0.834264   \n",
              "2                   Ridge Regression (with alpha = 2)   0.834263   \n",
              "3                                    Lasso Regression   0.834264   \n",
              "4                              Elastic Net Regression   0.828904   \n",
              "5               Ridge Regression (using GridSearchCV)   0.834264   \n",
              "6               Lasso Regression (using GridSearchCV)   0.834264   \n",
              "7         Elastic Net Regression (using GridSearchCV)   0.834264   \n",
              "8                                      SVR Regression  -0.076221   \n",
              "9                            Decision tree Regression   0.996736   \n",
              "10  Decision tree Regression with (using GridseachCV)   0.027065   \n",
              "11                           Random forest Regression   0.987926   \n",
              "12  Random forest Regression with (using GridseachCV)   0.683726   \n",
              "13                               Adaboost  Regression   0.777134   \n",
              "14                      Gradient boosting  Regression   0.919753   \n",
              "\n",
              "    Adj. R-Squared    Test_RMSE  Test_MAPE  \n",
              "0         0.834046  150228.9831  24.506288  \n",
              "1         0.834062  150191.0940  24.475367  \n",
              "2         0.834062  150190.6546  24.474341  \n",
              "3         0.834062  150191.5433  24.476393  \n",
              "4         0.828695  152386.8967  23.701307  \n",
              "5         0.834062  150191.0940  24.475367  \n",
              "6         0.834062  150191.5431  24.476394  \n",
              "7         0.834062  150191.0266  24.475102  \n",
              "8        -0.077532  386984.8968  53.159358  \n",
              "9         0.996732  124928.0022  15.307709  \n",
              "10        0.025879  367703.0789  63.301814  \n",
              "11        0.987911   97505.6586  12.648036  \n",
              "12        0.683341  207910.6485  37.639238  \n",
              "13        0.776862  176779.0162  31.493318  \n",
              "14        0.919655  105593.2320  14.471411  "
            ],
            "text/html": [
              "\n",
              "  <div id=\"df-c32728b7-54af-4537-8ad9-a44430784544\">\n",
              "    <div class=\"colab-df-container\">\n",
              "      <div>\n",
              "<style scoped>\n",
              "    .dataframe tbody tr th:only-of-type {\n",
              "        vertical-align: middle;\n",
              "    }\n",
              "\n",
              "    .dataframe tbody tr th {\n",
              "        vertical-align: top;\n",
              "    }\n",
              "\n",
              "    .dataframe thead th {\n",
              "        text-align: right;\n",
              "    }\n",
              "</style>\n",
              "<table border=\"1\" class=\"dataframe\">\n",
              "  <thead>\n",
              "    <tr style=\"text-align: right;\">\n",
              "      <th></th>\n",
              "      <th>Model_Name</th>\n",
              "      <th>R-Squared</th>\n",
              "      <th>Adj. R-Squared</th>\n",
              "      <th>Test_RMSE</th>\n",
              "      <th>Test_MAPE</th>\n",
              "    </tr>\n",
              "  </thead>\n",
              "  <tbody>\n",
              "    <tr>\n",
              "      <th>0</th>\n",
              "      <td>Linear Regression</td>\n",
              "      <td>0.834248</td>\n",
              "      <td>0.834046</td>\n",
              "      <td>150228.9831</td>\n",
              "      <td>24.506288</td>\n",
              "    </tr>\n",
              "    <tr>\n",
              "      <th>1</th>\n",
              "      <td>Ridge Regression (with alpha = 1)</td>\n",
              "      <td>0.834264</td>\n",
              "      <td>0.834062</td>\n",
              "      <td>150191.0940</td>\n",
              "      <td>24.475367</td>\n",
              "    </tr>\n",
              "    <tr>\n",
              "      <th>2</th>\n",
              "      <td>Ridge Regression (with alpha = 2)</td>\n",
              "      <td>0.834263</td>\n",
              "      <td>0.834062</td>\n",
              "      <td>150190.6546</td>\n",
              "      <td>24.474341</td>\n",
              "    </tr>\n",
              "    <tr>\n",
              "      <th>3</th>\n",
              "      <td>Lasso Regression</td>\n",
              "      <td>0.834264</td>\n",
              "      <td>0.834062</td>\n",
              "      <td>150191.5433</td>\n",
              "      <td>24.476393</td>\n",
              "    </tr>\n",
              "    <tr>\n",
              "      <th>4</th>\n",
              "      <td>Elastic Net Regression</td>\n",
              "      <td>0.828904</td>\n",
              "      <td>0.828695</td>\n",
              "      <td>152386.8967</td>\n",
              "      <td>23.701307</td>\n",
              "    </tr>\n",
              "    <tr>\n",
              "      <th>5</th>\n",
              "      <td>Ridge Regression (using GridSearchCV)</td>\n",
              "      <td>0.834264</td>\n",
              "      <td>0.834062</td>\n",
              "      <td>150191.0940</td>\n",
              "      <td>24.475367</td>\n",
              "    </tr>\n",
              "    <tr>\n",
              "      <th>6</th>\n",
              "      <td>Lasso Regression (using GridSearchCV)</td>\n",
              "      <td>0.834264</td>\n",
              "      <td>0.834062</td>\n",
              "      <td>150191.5431</td>\n",
              "      <td>24.476394</td>\n",
              "    </tr>\n",
              "    <tr>\n",
              "      <th>7</th>\n",
              "      <td>Elastic Net Regression (using GridSearchCV)</td>\n",
              "      <td>0.834264</td>\n",
              "      <td>0.834062</td>\n",
              "      <td>150191.0266</td>\n",
              "      <td>24.475102</td>\n",
              "    </tr>\n",
              "    <tr>\n",
              "      <th>8</th>\n",
              "      <td>SVR Regression</td>\n",
              "      <td>-0.076221</td>\n",
              "      <td>-0.077532</td>\n",
              "      <td>386984.8968</td>\n",
              "      <td>53.159358</td>\n",
              "    </tr>\n",
              "    <tr>\n",
              "      <th>9</th>\n",
              "      <td>Decision tree Regression</td>\n",
              "      <td>0.996736</td>\n",
              "      <td>0.996732</td>\n",
              "      <td>124928.0022</td>\n",
              "      <td>15.307709</td>\n",
              "    </tr>\n",
              "    <tr>\n",
              "      <th>10</th>\n",
              "      <td>Decision tree Regression with (using GridseachCV)</td>\n",
              "      <td>0.027065</td>\n",
              "      <td>0.025879</td>\n",
              "      <td>367703.0789</td>\n",
              "      <td>63.301814</td>\n",
              "    </tr>\n",
              "    <tr>\n",
              "      <th>11</th>\n",
              "      <td>Random forest Regression</td>\n",
              "      <td>0.987926</td>\n",
              "      <td>0.987911</td>\n",
              "      <td>97505.6586</td>\n",
              "      <td>12.648036</td>\n",
              "    </tr>\n",
              "    <tr>\n",
              "      <th>12</th>\n",
              "      <td>Random forest Regression with (using GridseachCV)</td>\n",
              "      <td>0.683726</td>\n",
              "      <td>0.683341</td>\n",
              "      <td>207910.6485</td>\n",
              "      <td>37.639238</td>\n",
              "    </tr>\n",
              "    <tr>\n",
              "      <th>13</th>\n",
              "      <td>Adaboost  Regression</td>\n",
              "      <td>0.777134</td>\n",
              "      <td>0.776862</td>\n",
              "      <td>176779.0162</td>\n",
              "      <td>31.493318</td>\n",
              "    </tr>\n",
              "    <tr>\n",
              "      <th>14</th>\n",
              "      <td>Gradient boosting  Regression</td>\n",
              "      <td>0.919753</td>\n",
              "      <td>0.919655</td>\n",
              "      <td>105593.2320</td>\n",
              "      <td>14.471411</td>\n",
              "    </tr>\n",
              "  </tbody>\n",
              "</table>\n",
              "</div>\n",
              "      <button class=\"colab-df-convert\" onclick=\"convertToInteractive('df-c32728b7-54af-4537-8ad9-a44430784544')\"\n",
              "              title=\"Convert this dataframe to an interactive table.\"\n",
              "              style=\"display:none;\">\n",
              "        \n",
              "  <svg xmlns=\"http://www.w3.org/2000/svg\" height=\"24px\"viewBox=\"0 0 24 24\"\n",
              "       width=\"24px\">\n",
              "    <path d=\"M0 0h24v24H0V0z\" fill=\"none\"/>\n",
              "    <path d=\"M18.56 5.44l.94 2.06.94-2.06 2.06-.94-2.06-.94-.94-2.06-.94 2.06-2.06.94zm-11 1L8.5 8.5l.94-2.06 2.06-.94-2.06-.94L8.5 2.5l-.94 2.06-2.06.94zm10 10l.94 2.06.94-2.06 2.06-.94-2.06-.94-.94-2.06-.94 2.06-2.06.94z\"/><path d=\"M17.41 7.96l-1.37-1.37c-.4-.4-.92-.59-1.43-.59-.52 0-1.04.2-1.43.59L10.3 9.45l-7.72 7.72c-.78.78-.78 2.05 0 2.83L4 21.41c.39.39.9.59 1.41.59.51 0 1.02-.2 1.41-.59l7.78-7.78 2.81-2.81c.8-.78.8-2.07 0-2.86zM5.41 20L4 18.59l7.72-7.72 1.47 1.35L5.41 20z\"/>\n",
              "  </svg>\n",
              "      </button>\n",
              "      \n",
              "  <style>\n",
              "    .colab-df-container {\n",
              "      display:flex;\n",
              "      flex-wrap:wrap;\n",
              "      gap: 12px;\n",
              "    }\n",
              "\n",
              "    .colab-df-convert {\n",
              "      background-color: #E8F0FE;\n",
              "      border: none;\n",
              "      border-radius: 50%;\n",
              "      cursor: pointer;\n",
              "      display: none;\n",
              "      fill: #1967D2;\n",
              "      height: 32px;\n",
              "      padding: 0 0 0 0;\n",
              "      width: 32px;\n",
              "    }\n",
              "\n",
              "    .colab-df-convert:hover {\n",
              "      background-color: #E2EBFA;\n",
              "      box-shadow: 0px 1px 2px rgba(60, 64, 67, 0.3), 0px 1px 3px 1px rgba(60, 64, 67, 0.15);\n",
              "      fill: #174EA6;\n",
              "    }\n",
              "\n",
              "    [theme=dark] .colab-df-convert {\n",
              "      background-color: #3B4455;\n",
              "      fill: #D2E3FC;\n",
              "    }\n",
              "\n",
              "    [theme=dark] .colab-df-convert:hover {\n",
              "      background-color: #434B5C;\n",
              "      box-shadow: 0px 1px 3px 1px rgba(0, 0, 0, 0.15);\n",
              "      filter: drop-shadow(0px 1px 2px rgba(0, 0, 0, 0.3));\n",
              "      fill: #FFFFFF;\n",
              "    }\n",
              "  </style>\n",
              "\n",
              "      <script>\n",
              "        const buttonEl =\n",
              "          document.querySelector('#df-c32728b7-54af-4537-8ad9-a44430784544 button.colab-df-convert');\n",
              "        buttonEl.style.display =\n",
              "          google.colab.kernel.accessAllowed ? 'block' : 'none';\n",
              "\n",
              "        async function convertToInteractive(key) {\n",
              "          const element = document.querySelector('#df-c32728b7-54af-4537-8ad9-a44430784544');\n",
              "          const dataTable =\n",
              "            await google.colab.kernel.invokeFunction('convertToInteractive',\n",
              "                                                     [key], {});\n",
              "          if (!dataTable) return;\n",
              "\n",
              "          const docLinkHtml = 'Like what you see? Visit the ' +\n",
              "            '<a target=\"_blank\" href=https://colab.research.google.com/notebooks/data_table.ipynb>data table notebook</a>'\n",
              "            + ' to learn more about interactive tables.';\n",
              "          element.innerHTML = '';\n",
              "          dataTable['output_type'] = 'display_data';\n",
              "          await google.colab.output.renderOutput(dataTable, element);\n",
              "          const docLink = document.createElement('div');\n",
              "          docLink.innerHTML = docLinkHtml;\n",
              "          element.appendChild(docLink);\n",
              "        }\n",
              "      </script>\n",
              "    </div>\n",
              "  </div>\n",
              "  "
            ]
          },
          "metadata": {},
          "execution_count": 264
        }
      ]
    },
    {
      "cell_type": "code",
      "source": [
        "# XGBOOST regression"
      ],
      "metadata": {
        "id": "PuaM_TbbKfA9"
      },
      "execution_count": 265,
      "outputs": []
    },
    {
      "cell_type": "code",
      "source": [
        "XGB_reg = XGBRegressor()\n",
        "XGB_model = XGB_reg.fit(X_train, y_train)\n",
        "XGB_model.score(X_train, y_train)"
      ],
      "metadata": {
        "colab": {
          "base_uri": "https://localhost:8080/"
        },
        "outputId": "035b03e2-3764-4bb4-b205-879515c5670f",
        "id": "pO3O94b1KkDq"
      },
      "execution_count": 266,
      "outputs": [
        {
          "output_type": "stream",
          "name": "stdout",
          "text": [
            "[14:41:17] WARNING: /workspace/src/objective/regression_obj.cu:152: reg:linear is now deprecated in favor of reg:squarederror.\n"
          ]
        },
        {
          "output_type": "execute_result",
          "data": {
            "text/plain": [
              "0.9192129333962877"
            ]
          },
          "metadata": {},
          "execution_count": 266
        }
      ]
    },
    {
      "cell_type": "code",
      "source": [
        "\n",
        "print('RMSE on train set: ', get_train_rmse(XGB_model))\n",
        "\n",
        "\n",
        "print('RMSE on test set: ', get_test_rmse(XGB_model))\n",
        "\n",
        "difference = abs(get_test_rmse(XGB_model) - get_train_rmse(XGB_model))\n",
        "\n",
        "print('Difference between RMSE on train and test set: ', difference)"
      ],
      "metadata": {
        "colab": {
          "base_uri": "https://localhost:8080/"
        },
        "outputId": "22083476-e88a-426d-e601-0c6ad86168e8",
        "id": "KaH7vvQUKkDq"
      },
      "execution_count": 267,
      "outputs": [
        {
          "output_type": "stream",
          "name": "stdout",
          "text": [
            "RMSE on train set:  105717.2981\n",
            "RMSE on test set:  106037.5968\n",
            "Difference between RMSE on train and test set:  320.29869999999937\n"
          ]
        }
      ]
    },
    {
      "cell_type": "code",
      "source": [
        "\n",
        "update_score_card(algorithm_name = 'XG boosting  Regression', model = XGB_model)\n",
        "score_card"
      ],
      "metadata": {
        "colab": {
          "base_uri": "https://localhost:8080/",
          "height": 551
        },
        "outputId": "26021cf3-ad18-4e25-9c4e-d71f0470908c",
        "id": "D2LCJqVFKkDr"
      },
      "execution_count": 268,
      "outputs": [
        {
          "output_type": "execute_result",
          "data": {
            "text/plain": [
              "                                           Model_Name  R-Squared  \\\n",
              "0                                   Linear Regression   0.834248   \n",
              "1                   Ridge Regression (with alpha = 1)   0.834264   \n",
              "2                   Ridge Regression (with alpha = 2)   0.834263   \n",
              "3                                    Lasso Regression   0.834264   \n",
              "4                              Elastic Net Regression   0.828904   \n",
              "5               Ridge Regression (using GridSearchCV)   0.834264   \n",
              "6               Lasso Regression (using GridSearchCV)   0.834264   \n",
              "7         Elastic Net Regression (using GridSearchCV)   0.834264   \n",
              "8                                      SVR Regression  -0.076221   \n",
              "9                            Decision tree Regression   0.996736   \n",
              "10  Decision tree Regression with (using GridseachCV)   0.027065   \n",
              "11                           Random forest Regression   0.987926   \n",
              "12  Random forest Regression with (using GridseachCV)   0.683726   \n",
              "13                               Adaboost  Regression   0.777134   \n",
              "14                      Gradient boosting  Regression   0.919753   \n",
              "15                            XG boosting  Regression   0.919213   \n",
              "\n",
              "    Adj. R-Squared    Test_RMSE  Test_MAPE  \n",
              "0         0.834046  150228.9831  24.506288  \n",
              "1         0.834062  150191.0940  24.475367  \n",
              "2         0.834062  150190.6546  24.474341  \n",
              "3         0.834062  150191.5433  24.476393  \n",
              "4         0.828695  152386.8967  23.701307  \n",
              "5         0.834062  150191.0940  24.475367  \n",
              "6         0.834062  150191.5431  24.476394  \n",
              "7         0.834062  150191.0266  24.475102  \n",
              "8        -0.077532  386984.8968  53.159358  \n",
              "9         0.996732  124928.0022  15.307709  \n",
              "10        0.025879  367703.0789  63.301814  \n",
              "11        0.987911   97505.6586  12.648036  \n",
              "12        0.683341  207910.6485  37.639238  \n",
              "13        0.776862  176779.0162  31.493318  \n",
              "14        0.919655  105593.2320  14.471411  \n",
              "15        0.919115  106037.5968  14.446401  "
            ],
            "text/html": [
              "\n",
              "  <div id=\"df-70b2b0b9-decf-4dea-bb40-350e0d59002a\">\n",
              "    <div class=\"colab-df-container\">\n",
              "      <div>\n",
              "<style scoped>\n",
              "    .dataframe tbody tr th:only-of-type {\n",
              "        vertical-align: middle;\n",
              "    }\n",
              "\n",
              "    .dataframe tbody tr th {\n",
              "        vertical-align: top;\n",
              "    }\n",
              "\n",
              "    .dataframe thead th {\n",
              "        text-align: right;\n",
              "    }\n",
              "</style>\n",
              "<table border=\"1\" class=\"dataframe\">\n",
              "  <thead>\n",
              "    <tr style=\"text-align: right;\">\n",
              "      <th></th>\n",
              "      <th>Model_Name</th>\n",
              "      <th>R-Squared</th>\n",
              "      <th>Adj. R-Squared</th>\n",
              "      <th>Test_RMSE</th>\n",
              "      <th>Test_MAPE</th>\n",
              "    </tr>\n",
              "  </thead>\n",
              "  <tbody>\n",
              "    <tr>\n",
              "      <th>0</th>\n",
              "      <td>Linear Regression</td>\n",
              "      <td>0.834248</td>\n",
              "      <td>0.834046</td>\n",
              "      <td>150228.9831</td>\n",
              "      <td>24.506288</td>\n",
              "    </tr>\n",
              "    <tr>\n",
              "      <th>1</th>\n",
              "      <td>Ridge Regression (with alpha = 1)</td>\n",
              "      <td>0.834264</td>\n",
              "      <td>0.834062</td>\n",
              "      <td>150191.0940</td>\n",
              "      <td>24.475367</td>\n",
              "    </tr>\n",
              "    <tr>\n",
              "      <th>2</th>\n",
              "      <td>Ridge Regression (with alpha = 2)</td>\n",
              "      <td>0.834263</td>\n",
              "      <td>0.834062</td>\n",
              "      <td>150190.6546</td>\n",
              "      <td>24.474341</td>\n",
              "    </tr>\n",
              "    <tr>\n",
              "      <th>3</th>\n",
              "      <td>Lasso Regression</td>\n",
              "      <td>0.834264</td>\n",
              "      <td>0.834062</td>\n",
              "      <td>150191.5433</td>\n",
              "      <td>24.476393</td>\n",
              "    </tr>\n",
              "    <tr>\n",
              "      <th>4</th>\n",
              "      <td>Elastic Net Regression</td>\n",
              "      <td>0.828904</td>\n",
              "      <td>0.828695</td>\n",
              "      <td>152386.8967</td>\n",
              "      <td>23.701307</td>\n",
              "    </tr>\n",
              "    <tr>\n",
              "      <th>5</th>\n",
              "      <td>Ridge Regression (using GridSearchCV)</td>\n",
              "      <td>0.834264</td>\n",
              "      <td>0.834062</td>\n",
              "      <td>150191.0940</td>\n",
              "      <td>24.475367</td>\n",
              "    </tr>\n",
              "    <tr>\n",
              "      <th>6</th>\n",
              "      <td>Lasso Regression (using GridSearchCV)</td>\n",
              "      <td>0.834264</td>\n",
              "      <td>0.834062</td>\n",
              "      <td>150191.5431</td>\n",
              "      <td>24.476394</td>\n",
              "    </tr>\n",
              "    <tr>\n",
              "      <th>7</th>\n",
              "      <td>Elastic Net Regression (using GridSearchCV)</td>\n",
              "      <td>0.834264</td>\n",
              "      <td>0.834062</td>\n",
              "      <td>150191.0266</td>\n",
              "      <td>24.475102</td>\n",
              "    </tr>\n",
              "    <tr>\n",
              "      <th>8</th>\n",
              "      <td>SVR Regression</td>\n",
              "      <td>-0.076221</td>\n",
              "      <td>-0.077532</td>\n",
              "      <td>386984.8968</td>\n",
              "      <td>53.159358</td>\n",
              "    </tr>\n",
              "    <tr>\n",
              "      <th>9</th>\n",
              "      <td>Decision tree Regression</td>\n",
              "      <td>0.996736</td>\n",
              "      <td>0.996732</td>\n",
              "      <td>124928.0022</td>\n",
              "      <td>15.307709</td>\n",
              "    </tr>\n",
              "    <tr>\n",
              "      <th>10</th>\n",
              "      <td>Decision tree Regression with (using GridseachCV)</td>\n",
              "      <td>0.027065</td>\n",
              "      <td>0.025879</td>\n",
              "      <td>367703.0789</td>\n",
              "      <td>63.301814</td>\n",
              "    </tr>\n",
              "    <tr>\n",
              "      <th>11</th>\n",
              "      <td>Random forest Regression</td>\n",
              "      <td>0.987926</td>\n",
              "      <td>0.987911</td>\n",
              "      <td>97505.6586</td>\n",
              "      <td>12.648036</td>\n",
              "    </tr>\n",
              "    <tr>\n",
              "      <th>12</th>\n",
              "      <td>Random forest Regression with (using GridseachCV)</td>\n",
              "      <td>0.683726</td>\n",
              "      <td>0.683341</td>\n",
              "      <td>207910.6485</td>\n",
              "      <td>37.639238</td>\n",
              "    </tr>\n",
              "    <tr>\n",
              "      <th>13</th>\n",
              "      <td>Adaboost  Regression</td>\n",
              "      <td>0.777134</td>\n",
              "      <td>0.776862</td>\n",
              "      <td>176779.0162</td>\n",
              "      <td>31.493318</td>\n",
              "    </tr>\n",
              "    <tr>\n",
              "      <th>14</th>\n",
              "      <td>Gradient boosting  Regression</td>\n",
              "      <td>0.919753</td>\n",
              "      <td>0.919655</td>\n",
              "      <td>105593.2320</td>\n",
              "      <td>14.471411</td>\n",
              "    </tr>\n",
              "    <tr>\n",
              "      <th>15</th>\n",
              "      <td>XG boosting  Regression</td>\n",
              "      <td>0.919213</td>\n",
              "      <td>0.919115</td>\n",
              "      <td>106037.5968</td>\n",
              "      <td>14.446401</td>\n",
              "    </tr>\n",
              "  </tbody>\n",
              "</table>\n",
              "</div>\n",
              "      <button class=\"colab-df-convert\" onclick=\"convertToInteractive('df-70b2b0b9-decf-4dea-bb40-350e0d59002a')\"\n",
              "              title=\"Convert this dataframe to an interactive table.\"\n",
              "              style=\"display:none;\">\n",
              "        \n",
              "  <svg xmlns=\"http://www.w3.org/2000/svg\" height=\"24px\"viewBox=\"0 0 24 24\"\n",
              "       width=\"24px\">\n",
              "    <path d=\"M0 0h24v24H0V0z\" fill=\"none\"/>\n",
              "    <path d=\"M18.56 5.44l.94 2.06.94-2.06 2.06-.94-2.06-.94-.94-2.06-.94 2.06-2.06.94zm-11 1L8.5 8.5l.94-2.06 2.06-.94-2.06-.94L8.5 2.5l-.94 2.06-2.06.94zm10 10l.94 2.06.94-2.06 2.06-.94-2.06-.94-.94-2.06-.94 2.06-2.06.94z\"/><path d=\"M17.41 7.96l-1.37-1.37c-.4-.4-.92-.59-1.43-.59-.52 0-1.04.2-1.43.59L10.3 9.45l-7.72 7.72c-.78.78-.78 2.05 0 2.83L4 21.41c.39.39.9.59 1.41.59.51 0 1.02-.2 1.41-.59l7.78-7.78 2.81-2.81c.8-.78.8-2.07 0-2.86zM5.41 20L4 18.59l7.72-7.72 1.47 1.35L5.41 20z\"/>\n",
              "  </svg>\n",
              "      </button>\n",
              "      \n",
              "  <style>\n",
              "    .colab-df-container {\n",
              "      display:flex;\n",
              "      flex-wrap:wrap;\n",
              "      gap: 12px;\n",
              "    }\n",
              "\n",
              "    .colab-df-convert {\n",
              "      background-color: #E8F0FE;\n",
              "      border: none;\n",
              "      border-radius: 50%;\n",
              "      cursor: pointer;\n",
              "      display: none;\n",
              "      fill: #1967D2;\n",
              "      height: 32px;\n",
              "      padding: 0 0 0 0;\n",
              "      width: 32px;\n",
              "    }\n",
              "\n",
              "    .colab-df-convert:hover {\n",
              "      background-color: #E2EBFA;\n",
              "      box-shadow: 0px 1px 2px rgba(60, 64, 67, 0.3), 0px 1px 3px 1px rgba(60, 64, 67, 0.15);\n",
              "      fill: #174EA6;\n",
              "    }\n",
              "\n",
              "    [theme=dark] .colab-df-convert {\n",
              "      background-color: #3B4455;\n",
              "      fill: #D2E3FC;\n",
              "    }\n",
              "\n",
              "    [theme=dark] .colab-df-convert:hover {\n",
              "      background-color: #434B5C;\n",
              "      box-shadow: 0px 1px 3px 1px rgba(0, 0, 0, 0.15);\n",
              "      filter: drop-shadow(0px 1px 2px rgba(0, 0, 0, 0.3));\n",
              "      fill: #FFFFFF;\n",
              "    }\n",
              "  </style>\n",
              "\n",
              "      <script>\n",
              "        const buttonEl =\n",
              "          document.querySelector('#df-70b2b0b9-decf-4dea-bb40-350e0d59002a button.colab-df-convert');\n",
              "        buttonEl.style.display =\n",
              "          google.colab.kernel.accessAllowed ? 'block' : 'none';\n",
              "\n",
              "        async function convertToInteractive(key) {\n",
              "          const element = document.querySelector('#df-70b2b0b9-decf-4dea-bb40-350e0d59002a');\n",
              "          const dataTable =\n",
              "            await google.colab.kernel.invokeFunction('convertToInteractive',\n",
              "                                                     [key], {});\n",
              "          if (!dataTable) return;\n",
              "\n",
              "          const docLinkHtml = 'Like what you see? Visit the ' +\n",
              "            '<a target=\"_blank\" href=https://colab.research.google.com/notebooks/data_table.ipynb>data table notebook</a>'\n",
              "            + ' to learn more about interactive tables.';\n",
              "          element.innerHTML = '';\n",
              "          dataTable['output_type'] = 'display_data';\n",
              "          await google.colab.output.renderOutput(dataTable, element);\n",
              "          const docLink = document.createElement('div');\n",
              "          docLink.innerHTML = docLinkHtml;\n",
              "          element.appendChild(docLink);\n",
              "        }\n",
              "      </script>\n",
              "    </div>\n",
              "  </div>\n",
              "  "
            ]
          },
          "metadata": {},
          "execution_count": 268
        }
      ]
    },
    {
      "cell_type": "code",
      "source": [
        "#ExtraTreesRegressor"
      ],
      "metadata": {
        "id": "K2YBLm3oLPWy"
      },
      "execution_count": 269,
      "outputs": []
    },
    {
      "cell_type": "code",
      "source": [
        "EXTRA_reg = ExtraTreesRegressor()\n",
        "EXTRA_model = EXTRA_reg.fit(X_train, y_train)\n",
        "EXTRA_model.score(X_train, y_train)"
      ],
      "metadata": {
        "colab": {
          "base_uri": "https://localhost:8080/"
        },
        "outputId": "a529b156-eac8-44ab-febe-0dec6962c36f",
        "id": "QvW4ZPwuLaQt"
      },
      "execution_count": 270,
      "outputs": [
        {
          "output_type": "execute_result",
          "data": {
            "text/plain": [
              "0.9967344352419958"
            ]
          },
          "metadata": {},
          "execution_count": 270
        }
      ]
    },
    {
      "cell_type": "code",
      "source": [
        "\n",
        "print('RMSE on train set: ', get_train_rmse(EXTRA_model))\n",
        "\n",
        "\n",
        "print('RMSE on test set: ', get_test_rmse(EXTRA_model))\n",
        "\n",
        "difference = abs(get_test_rmse(EXTRA_model) - get_train_rmse(EXTRA_model))\n",
        "\n",
        "print('Difference between RMSE on train and test set: ', difference)"
      ],
      "metadata": {
        "colab": {
          "base_uri": "https://localhost:8080/"
        },
        "outputId": "73005d0e-7c3d-4f7a-af20-e68d95fe6f6a",
        "id": "VtJdSBU5LaQt"
      },
      "execution_count": 271,
      "outputs": [
        {
          "output_type": "stream",
          "name": "stdout",
          "text": [
            "RMSE on train set:  21254.6661\n",
            "RMSE on test set:  102967.2624\n",
            "Difference between RMSE on train and test set:  81712.5963\n"
          ]
        }
      ]
    },
    {
      "cell_type": "code",
      "source": [
        "\n",
        "update_score_card(algorithm_name = 'EXtraBoosting Regression', model = EXTRA_model)\n",
        "\n",
        "score_card"
      ],
      "metadata": {
        "colab": {
          "base_uri": "https://localhost:8080/",
          "height": 582
        },
        "outputId": "1868d75b-0977-450e-b44d-469aff3da2c7",
        "id": "xw55qFamLaQt"
      },
      "execution_count": 272,
      "outputs": [
        {
          "output_type": "execute_result",
          "data": {
            "text/plain": [
              "                                           Model_Name  R-Squared  \\\n",
              "0                                   Linear Regression   0.834248   \n",
              "1                   Ridge Regression (with alpha = 1)   0.834264   \n",
              "2                   Ridge Regression (with alpha = 2)   0.834263   \n",
              "3                                    Lasso Regression   0.834264   \n",
              "4                              Elastic Net Regression   0.828904   \n",
              "5               Ridge Regression (using GridSearchCV)   0.834264   \n",
              "6               Lasso Regression (using GridSearchCV)   0.834264   \n",
              "7         Elastic Net Regression (using GridSearchCV)   0.834264   \n",
              "8                                      SVR Regression  -0.076221   \n",
              "9                            Decision tree Regression   0.996736   \n",
              "10  Decision tree Regression with (using GridseachCV)   0.027065   \n",
              "11                           Random forest Regression   0.987926   \n",
              "12  Random forest Regression with (using GridseachCV)   0.683726   \n",
              "13                               Adaboost  Regression   0.777134   \n",
              "14                      Gradient boosting  Regression   0.919753   \n",
              "15                            XG boosting  Regression   0.919213   \n",
              "16                           EXtraBoosting Regression   0.996734   \n",
              "\n",
              "    Adj. R-Squared    Test_RMSE  Test_MAPE  \n",
              "0         0.834046  150228.9831  24.506288  \n",
              "1         0.834062  150191.0940  24.475367  \n",
              "2         0.834062  150190.6546  24.474341  \n",
              "3         0.834062  150191.5433  24.476393  \n",
              "4         0.828695  152386.8967  23.701307  \n",
              "5         0.834062  150191.0940  24.475367  \n",
              "6         0.834062  150191.5431  24.476394  \n",
              "7         0.834062  150191.0266  24.475102  \n",
              "8        -0.077532  386984.8968  53.159358  \n",
              "9         0.996732  124928.0022  15.307709  \n",
              "10        0.025879  367703.0789  63.301814  \n",
              "11        0.987911   97505.6586  12.648036  \n",
              "12        0.683341  207910.6485  37.639238  \n",
              "13        0.776862  176779.0162  31.493318  \n",
              "14        0.919655  105593.2320  14.471411  \n",
              "15        0.919115  106037.5968  14.446401  \n",
              "16        0.996730  102967.2624  13.499118  "
            ],
            "text/html": [
              "\n",
              "  <div id=\"df-e210439d-d14e-49aa-9ffc-62a2f28a235e\">\n",
              "    <div class=\"colab-df-container\">\n",
              "      <div>\n",
              "<style scoped>\n",
              "    .dataframe tbody tr th:only-of-type {\n",
              "        vertical-align: middle;\n",
              "    }\n",
              "\n",
              "    .dataframe tbody tr th {\n",
              "        vertical-align: top;\n",
              "    }\n",
              "\n",
              "    .dataframe thead th {\n",
              "        text-align: right;\n",
              "    }\n",
              "</style>\n",
              "<table border=\"1\" class=\"dataframe\">\n",
              "  <thead>\n",
              "    <tr style=\"text-align: right;\">\n",
              "      <th></th>\n",
              "      <th>Model_Name</th>\n",
              "      <th>R-Squared</th>\n",
              "      <th>Adj. R-Squared</th>\n",
              "      <th>Test_RMSE</th>\n",
              "      <th>Test_MAPE</th>\n",
              "    </tr>\n",
              "  </thead>\n",
              "  <tbody>\n",
              "    <tr>\n",
              "      <th>0</th>\n",
              "      <td>Linear Regression</td>\n",
              "      <td>0.834248</td>\n",
              "      <td>0.834046</td>\n",
              "      <td>150228.9831</td>\n",
              "      <td>24.506288</td>\n",
              "    </tr>\n",
              "    <tr>\n",
              "      <th>1</th>\n",
              "      <td>Ridge Regression (with alpha = 1)</td>\n",
              "      <td>0.834264</td>\n",
              "      <td>0.834062</td>\n",
              "      <td>150191.0940</td>\n",
              "      <td>24.475367</td>\n",
              "    </tr>\n",
              "    <tr>\n",
              "      <th>2</th>\n",
              "      <td>Ridge Regression (with alpha = 2)</td>\n",
              "      <td>0.834263</td>\n",
              "      <td>0.834062</td>\n",
              "      <td>150190.6546</td>\n",
              "      <td>24.474341</td>\n",
              "    </tr>\n",
              "    <tr>\n",
              "      <th>3</th>\n",
              "      <td>Lasso Regression</td>\n",
              "      <td>0.834264</td>\n",
              "      <td>0.834062</td>\n",
              "      <td>150191.5433</td>\n",
              "      <td>24.476393</td>\n",
              "    </tr>\n",
              "    <tr>\n",
              "      <th>4</th>\n",
              "      <td>Elastic Net Regression</td>\n",
              "      <td>0.828904</td>\n",
              "      <td>0.828695</td>\n",
              "      <td>152386.8967</td>\n",
              "      <td>23.701307</td>\n",
              "    </tr>\n",
              "    <tr>\n",
              "      <th>5</th>\n",
              "      <td>Ridge Regression (using GridSearchCV)</td>\n",
              "      <td>0.834264</td>\n",
              "      <td>0.834062</td>\n",
              "      <td>150191.0940</td>\n",
              "      <td>24.475367</td>\n",
              "    </tr>\n",
              "    <tr>\n",
              "      <th>6</th>\n",
              "      <td>Lasso Regression (using GridSearchCV)</td>\n",
              "      <td>0.834264</td>\n",
              "      <td>0.834062</td>\n",
              "      <td>150191.5431</td>\n",
              "      <td>24.476394</td>\n",
              "    </tr>\n",
              "    <tr>\n",
              "      <th>7</th>\n",
              "      <td>Elastic Net Regression (using GridSearchCV)</td>\n",
              "      <td>0.834264</td>\n",
              "      <td>0.834062</td>\n",
              "      <td>150191.0266</td>\n",
              "      <td>24.475102</td>\n",
              "    </tr>\n",
              "    <tr>\n",
              "      <th>8</th>\n",
              "      <td>SVR Regression</td>\n",
              "      <td>-0.076221</td>\n",
              "      <td>-0.077532</td>\n",
              "      <td>386984.8968</td>\n",
              "      <td>53.159358</td>\n",
              "    </tr>\n",
              "    <tr>\n",
              "      <th>9</th>\n",
              "      <td>Decision tree Regression</td>\n",
              "      <td>0.996736</td>\n",
              "      <td>0.996732</td>\n",
              "      <td>124928.0022</td>\n",
              "      <td>15.307709</td>\n",
              "    </tr>\n",
              "    <tr>\n",
              "      <th>10</th>\n",
              "      <td>Decision tree Regression with (using GridseachCV)</td>\n",
              "      <td>0.027065</td>\n",
              "      <td>0.025879</td>\n",
              "      <td>367703.0789</td>\n",
              "      <td>63.301814</td>\n",
              "    </tr>\n",
              "    <tr>\n",
              "      <th>11</th>\n",
              "      <td>Random forest Regression</td>\n",
              "      <td>0.987926</td>\n",
              "      <td>0.987911</td>\n",
              "      <td>97505.6586</td>\n",
              "      <td>12.648036</td>\n",
              "    </tr>\n",
              "    <tr>\n",
              "      <th>12</th>\n",
              "      <td>Random forest Regression with (using GridseachCV)</td>\n",
              "      <td>0.683726</td>\n",
              "      <td>0.683341</td>\n",
              "      <td>207910.6485</td>\n",
              "      <td>37.639238</td>\n",
              "    </tr>\n",
              "    <tr>\n",
              "      <th>13</th>\n",
              "      <td>Adaboost  Regression</td>\n",
              "      <td>0.777134</td>\n",
              "      <td>0.776862</td>\n",
              "      <td>176779.0162</td>\n",
              "      <td>31.493318</td>\n",
              "    </tr>\n",
              "    <tr>\n",
              "      <th>14</th>\n",
              "      <td>Gradient boosting  Regression</td>\n",
              "      <td>0.919753</td>\n",
              "      <td>0.919655</td>\n",
              "      <td>105593.2320</td>\n",
              "      <td>14.471411</td>\n",
              "    </tr>\n",
              "    <tr>\n",
              "      <th>15</th>\n",
              "      <td>XG boosting  Regression</td>\n",
              "      <td>0.919213</td>\n",
              "      <td>0.919115</td>\n",
              "      <td>106037.5968</td>\n",
              "      <td>14.446401</td>\n",
              "    </tr>\n",
              "    <tr>\n",
              "      <th>16</th>\n",
              "      <td>EXtraBoosting Regression</td>\n",
              "      <td>0.996734</td>\n",
              "      <td>0.996730</td>\n",
              "      <td>102967.2624</td>\n",
              "      <td>13.499118</td>\n",
              "    </tr>\n",
              "  </tbody>\n",
              "</table>\n",
              "</div>\n",
              "      <button class=\"colab-df-convert\" onclick=\"convertToInteractive('df-e210439d-d14e-49aa-9ffc-62a2f28a235e')\"\n",
              "              title=\"Convert this dataframe to an interactive table.\"\n",
              "              style=\"display:none;\">\n",
              "        \n",
              "  <svg xmlns=\"http://www.w3.org/2000/svg\" height=\"24px\"viewBox=\"0 0 24 24\"\n",
              "       width=\"24px\">\n",
              "    <path d=\"M0 0h24v24H0V0z\" fill=\"none\"/>\n",
              "    <path d=\"M18.56 5.44l.94 2.06.94-2.06 2.06-.94-2.06-.94-.94-2.06-.94 2.06-2.06.94zm-11 1L8.5 8.5l.94-2.06 2.06-.94-2.06-.94L8.5 2.5l-.94 2.06-2.06.94zm10 10l.94 2.06.94-2.06 2.06-.94-2.06-.94-.94-2.06-.94 2.06-2.06.94z\"/><path d=\"M17.41 7.96l-1.37-1.37c-.4-.4-.92-.59-1.43-.59-.52 0-1.04.2-1.43.59L10.3 9.45l-7.72 7.72c-.78.78-.78 2.05 0 2.83L4 21.41c.39.39.9.59 1.41.59.51 0 1.02-.2 1.41-.59l7.78-7.78 2.81-2.81c.8-.78.8-2.07 0-2.86zM5.41 20L4 18.59l7.72-7.72 1.47 1.35L5.41 20z\"/>\n",
              "  </svg>\n",
              "      </button>\n",
              "      \n",
              "  <style>\n",
              "    .colab-df-container {\n",
              "      display:flex;\n",
              "      flex-wrap:wrap;\n",
              "      gap: 12px;\n",
              "    }\n",
              "\n",
              "    .colab-df-convert {\n",
              "      background-color: #E8F0FE;\n",
              "      border: none;\n",
              "      border-radius: 50%;\n",
              "      cursor: pointer;\n",
              "      display: none;\n",
              "      fill: #1967D2;\n",
              "      height: 32px;\n",
              "      padding: 0 0 0 0;\n",
              "      width: 32px;\n",
              "    }\n",
              "\n",
              "    .colab-df-convert:hover {\n",
              "      background-color: #E2EBFA;\n",
              "      box-shadow: 0px 1px 2px rgba(60, 64, 67, 0.3), 0px 1px 3px 1px rgba(60, 64, 67, 0.15);\n",
              "      fill: #174EA6;\n",
              "    }\n",
              "\n",
              "    [theme=dark] .colab-df-convert {\n",
              "      background-color: #3B4455;\n",
              "      fill: #D2E3FC;\n",
              "    }\n",
              "\n",
              "    [theme=dark] .colab-df-convert:hover {\n",
              "      background-color: #434B5C;\n",
              "      box-shadow: 0px 1px 3px 1px rgba(0, 0, 0, 0.15);\n",
              "      filter: drop-shadow(0px 1px 2px rgba(0, 0, 0, 0.3));\n",
              "      fill: #FFFFFF;\n",
              "    }\n",
              "  </style>\n",
              "\n",
              "      <script>\n",
              "        const buttonEl =\n",
              "          document.querySelector('#df-e210439d-d14e-49aa-9ffc-62a2f28a235e button.colab-df-convert');\n",
              "        buttonEl.style.display =\n",
              "          google.colab.kernel.accessAllowed ? 'block' : 'none';\n",
              "\n",
              "        async function convertToInteractive(key) {\n",
              "          const element = document.querySelector('#df-e210439d-d14e-49aa-9ffc-62a2f28a235e');\n",
              "          const dataTable =\n",
              "            await google.colab.kernel.invokeFunction('convertToInteractive',\n",
              "                                                     [key], {});\n",
              "          if (!dataTable) return;\n",
              "\n",
              "          const docLinkHtml = 'Like what you see? Visit the ' +\n",
              "            '<a target=\"_blank\" href=https://colab.research.google.com/notebooks/data_table.ipynb>data table notebook</a>'\n",
              "            + ' to learn more about interactive tables.';\n",
              "          element.innerHTML = '';\n",
              "          dataTable['output_type'] = 'display_data';\n",
              "          await google.colab.output.renderOutput(dataTable, element);\n",
              "          const docLink = document.createElement('div');\n",
              "          docLink.innerHTML = docLinkHtml;\n",
              "          element.appendChild(docLink);\n",
              "        }\n",
              "      </script>\n",
              "    </div>\n",
              "  </div>\n",
              "  "
            ]
          },
          "metadata": {},
          "execution_count": 272
        }
      ]
    },
    {
      "cell_type": "code",
      "source": [
        "### for voting Regressor\n",
        "r1= LinearRegression()\n",
        "r2= Ridge()\n",
        "r3= RandomForestRegressor() \n",
        "VR_reg=VotingRegressor([('Linear_Regression', r1), ('Ridge', r2), ('Random_Forest_Regressor', r3)])\n",
        "VR_model = VR_reg.fit(X_train, y_train)\n",
        "VR_model.score(X_train, y_train)"
      ],
      "metadata": {
        "colab": {
          "base_uri": "https://localhost:8080/"
        },
        "id": "A5K0p0AWNBF4",
        "outputId": "64c8b913-c1c8-4a27-ac70-9d930ce40341"
      },
      "execution_count": 273,
      "outputs": [
        {
          "output_type": "execute_result",
          "data": {
            "text/plain": [
              "0.9148321224721675"
            ]
          },
          "metadata": {},
          "execution_count": 273
        }
      ]
    },
    {
      "cell_type": "code",
      "source": [
        "\n",
        "print('RMSE on train set: ', get_train_rmse(VR_model))\n",
        "\n",
        "\n",
        "print('RMSE on test set: ', get_test_rmse(VR_model))\n",
        "\n",
        "difference = abs(get_test_rmse(VR_model) - get_train_rmse(VR_model))\n",
        "\n",
        "print('Difference between RMSE on train and test set: ', difference)"
      ],
      "metadata": {
        "colab": {
          "base_uri": "https://localhost:8080/"
        },
        "id": "suZXwkSBNMt0",
        "outputId": "39d910e0-41e9-44bc-b8f8-cdb6786e6422"
      },
      "execution_count": 274,
      "outputs": [
        {
          "output_type": "stream",
          "name": "stdout",
          "text": [
            "RMSE on train set:  108545.806\n",
            "RMSE on test set:  121019.431\n",
            "Difference between RMSE on train and test set:  12473.625\n"
          ]
        }
      ]
    },
    {
      "cell_type": "code",
      "source": [
        "update_score_card(algorithm_name = 'Voting Regression', model = VR_model)\n",
        "\n",
        "score_card"
      ],
      "metadata": {
        "colab": {
          "base_uri": "https://localhost:8080/",
          "height": 614
        },
        "id": "MzJBlr7cNSwU",
        "outputId": "5572e586-77a0-41d0-9b53-8c5a051d13a9"
      },
      "execution_count": 275,
      "outputs": [
        {
          "output_type": "execute_result",
          "data": {
            "text/plain": [
              "                                           Model_Name  R-Squared  \\\n",
              "0                                   Linear Regression   0.834248   \n",
              "1                   Ridge Regression (with alpha = 1)   0.834264   \n",
              "2                   Ridge Regression (with alpha = 2)   0.834263   \n",
              "3                                    Lasso Regression   0.834264   \n",
              "4                              Elastic Net Regression   0.828904   \n",
              "5               Ridge Regression (using GridSearchCV)   0.834264   \n",
              "6               Lasso Regression (using GridSearchCV)   0.834264   \n",
              "7         Elastic Net Regression (using GridSearchCV)   0.834264   \n",
              "8                                      SVR Regression  -0.076221   \n",
              "9                            Decision tree Regression   0.996736   \n",
              "10  Decision tree Regression with (using GridseachCV)   0.027065   \n",
              "11                           Random forest Regression   0.987926   \n",
              "12  Random forest Regression with (using GridseachCV)   0.683726   \n",
              "13                               Adaboost  Regression   0.777134   \n",
              "14                      Gradient boosting  Regression   0.919753   \n",
              "15                            XG boosting  Regression   0.919213   \n",
              "16                           EXtraBoosting Regression   0.996734   \n",
              "17                                  Voting Regression   0.914832   \n",
              "\n",
              "    Adj. R-Squared    Test_RMSE  Test_MAPE  \n",
              "0         0.834046  150228.9831  24.506288  \n",
              "1         0.834062  150191.0940  24.475367  \n",
              "2         0.834062  150190.6546  24.474341  \n",
              "3         0.834062  150191.5433  24.476393  \n",
              "4         0.828695  152386.8967  23.701307  \n",
              "5         0.834062  150191.0940  24.475367  \n",
              "6         0.834062  150191.5431  24.476394  \n",
              "7         0.834062  150191.0266  24.475102  \n",
              "8        -0.077532  386984.8968  53.159358  \n",
              "9         0.996732  124928.0022  15.307709  \n",
              "10        0.025879  367703.0789  63.301814  \n",
              "11        0.987911   97505.6586  12.648036  \n",
              "12        0.683341  207910.6485  37.639238  \n",
              "13        0.776862  176779.0162  31.493318  \n",
              "14        0.919655  105593.2320  14.471411  \n",
              "15        0.919115  106037.5968  14.446401  \n",
              "16        0.996730  102967.2624  13.499118  \n",
              "17        0.914728  121019.4310  18.946798  "
            ],
            "text/html": [
              "\n",
              "  <div id=\"df-dfc91ef4-859f-4168-a9fa-80e2c63a8f72\">\n",
              "    <div class=\"colab-df-container\">\n",
              "      <div>\n",
              "<style scoped>\n",
              "    .dataframe tbody tr th:only-of-type {\n",
              "        vertical-align: middle;\n",
              "    }\n",
              "\n",
              "    .dataframe tbody tr th {\n",
              "        vertical-align: top;\n",
              "    }\n",
              "\n",
              "    .dataframe thead th {\n",
              "        text-align: right;\n",
              "    }\n",
              "</style>\n",
              "<table border=\"1\" class=\"dataframe\">\n",
              "  <thead>\n",
              "    <tr style=\"text-align: right;\">\n",
              "      <th></th>\n",
              "      <th>Model_Name</th>\n",
              "      <th>R-Squared</th>\n",
              "      <th>Adj. R-Squared</th>\n",
              "      <th>Test_RMSE</th>\n",
              "      <th>Test_MAPE</th>\n",
              "    </tr>\n",
              "  </thead>\n",
              "  <tbody>\n",
              "    <tr>\n",
              "      <th>0</th>\n",
              "      <td>Linear Regression</td>\n",
              "      <td>0.834248</td>\n",
              "      <td>0.834046</td>\n",
              "      <td>150228.9831</td>\n",
              "      <td>24.506288</td>\n",
              "    </tr>\n",
              "    <tr>\n",
              "      <th>1</th>\n",
              "      <td>Ridge Regression (with alpha = 1)</td>\n",
              "      <td>0.834264</td>\n",
              "      <td>0.834062</td>\n",
              "      <td>150191.0940</td>\n",
              "      <td>24.475367</td>\n",
              "    </tr>\n",
              "    <tr>\n",
              "      <th>2</th>\n",
              "      <td>Ridge Regression (with alpha = 2)</td>\n",
              "      <td>0.834263</td>\n",
              "      <td>0.834062</td>\n",
              "      <td>150190.6546</td>\n",
              "      <td>24.474341</td>\n",
              "    </tr>\n",
              "    <tr>\n",
              "      <th>3</th>\n",
              "      <td>Lasso Regression</td>\n",
              "      <td>0.834264</td>\n",
              "      <td>0.834062</td>\n",
              "      <td>150191.5433</td>\n",
              "      <td>24.476393</td>\n",
              "    </tr>\n",
              "    <tr>\n",
              "      <th>4</th>\n",
              "      <td>Elastic Net Regression</td>\n",
              "      <td>0.828904</td>\n",
              "      <td>0.828695</td>\n",
              "      <td>152386.8967</td>\n",
              "      <td>23.701307</td>\n",
              "    </tr>\n",
              "    <tr>\n",
              "      <th>5</th>\n",
              "      <td>Ridge Regression (using GridSearchCV)</td>\n",
              "      <td>0.834264</td>\n",
              "      <td>0.834062</td>\n",
              "      <td>150191.0940</td>\n",
              "      <td>24.475367</td>\n",
              "    </tr>\n",
              "    <tr>\n",
              "      <th>6</th>\n",
              "      <td>Lasso Regression (using GridSearchCV)</td>\n",
              "      <td>0.834264</td>\n",
              "      <td>0.834062</td>\n",
              "      <td>150191.5431</td>\n",
              "      <td>24.476394</td>\n",
              "    </tr>\n",
              "    <tr>\n",
              "      <th>7</th>\n",
              "      <td>Elastic Net Regression (using GridSearchCV)</td>\n",
              "      <td>0.834264</td>\n",
              "      <td>0.834062</td>\n",
              "      <td>150191.0266</td>\n",
              "      <td>24.475102</td>\n",
              "    </tr>\n",
              "    <tr>\n",
              "      <th>8</th>\n",
              "      <td>SVR Regression</td>\n",
              "      <td>-0.076221</td>\n",
              "      <td>-0.077532</td>\n",
              "      <td>386984.8968</td>\n",
              "      <td>53.159358</td>\n",
              "    </tr>\n",
              "    <tr>\n",
              "      <th>9</th>\n",
              "      <td>Decision tree Regression</td>\n",
              "      <td>0.996736</td>\n",
              "      <td>0.996732</td>\n",
              "      <td>124928.0022</td>\n",
              "      <td>15.307709</td>\n",
              "    </tr>\n",
              "    <tr>\n",
              "      <th>10</th>\n",
              "      <td>Decision tree Regression with (using GridseachCV)</td>\n",
              "      <td>0.027065</td>\n",
              "      <td>0.025879</td>\n",
              "      <td>367703.0789</td>\n",
              "      <td>63.301814</td>\n",
              "    </tr>\n",
              "    <tr>\n",
              "      <th>11</th>\n",
              "      <td>Random forest Regression</td>\n",
              "      <td>0.987926</td>\n",
              "      <td>0.987911</td>\n",
              "      <td>97505.6586</td>\n",
              "      <td>12.648036</td>\n",
              "    </tr>\n",
              "    <tr>\n",
              "      <th>12</th>\n",
              "      <td>Random forest Regression with (using GridseachCV)</td>\n",
              "      <td>0.683726</td>\n",
              "      <td>0.683341</td>\n",
              "      <td>207910.6485</td>\n",
              "      <td>37.639238</td>\n",
              "    </tr>\n",
              "    <tr>\n",
              "      <th>13</th>\n",
              "      <td>Adaboost  Regression</td>\n",
              "      <td>0.777134</td>\n",
              "      <td>0.776862</td>\n",
              "      <td>176779.0162</td>\n",
              "      <td>31.493318</td>\n",
              "    </tr>\n",
              "    <tr>\n",
              "      <th>14</th>\n",
              "      <td>Gradient boosting  Regression</td>\n",
              "      <td>0.919753</td>\n",
              "      <td>0.919655</td>\n",
              "      <td>105593.2320</td>\n",
              "      <td>14.471411</td>\n",
              "    </tr>\n",
              "    <tr>\n",
              "      <th>15</th>\n",
              "      <td>XG boosting  Regression</td>\n",
              "      <td>0.919213</td>\n",
              "      <td>0.919115</td>\n",
              "      <td>106037.5968</td>\n",
              "      <td>14.446401</td>\n",
              "    </tr>\n",
              "    <tr>\n",
              "      <th>16</th>\n",
              "      <td>EXtraBoosting Regression</td>\n",
              "      <td>0.996734</td>\n",
              "      <td>0.996730</td>\n",
              "      <td>102967.2624</td>\n",
              "      <td>13.499118</td>\n",
              "    </tr>\n",
              "    <tr>\n",
              "      <th>17</th>\n",
              "      <td>Voting Regression</td>\n",
              "      <td>0.914832</td>\n",
              "      <td>0.914728</td>\n",
              "      <td>121019.4310</td>\n",
              "      <td>18.946798</td>\n",
              "    </tr>\n",
              "  </tbody>\n",
              "</table>\n",
              "</div>\n",
              "      <button class=\"colab-df-convert\" onclick=\"convertToInteractive('df-dfc91ef4-859f-4168-a9fa-80e2c63a8f72')\"\n",
              "              title=\"Convert this dataframe to an interactive table.\"\n",
              "              style=\"display:none;\">\n",
              "        \n",
              "  <svg xmlns=\"http://www.w3.org/2000/svg\" height=\"24px\"viewBox=\"0 0 24 24\"\n",
              "       width=\"24px\">\n",
              "    <path d=\"M0 0h24v24H0V0z\" fill=\"none\"/>\n",
              "    <path d=\"M18.56 5.44l.94 2.06.94-2.06 2.06-.94-2.06-.94-.94-2.06-.94 2.06-2.06.94zm-11 1L8.5 8.5l.94-2.06 2.06-.94-2.06-.94L8.5 2.5l-.94 2.06-2.06.94zm10 10l.94 2.06.94-2.06 2.06-.94-2.06-.94-.94-2.06-.94 2.06-2.06.94z\"/><path d=\"M17.41 7.96l-1.37-1.37c-.4-.4-.92-.59-1.43-.59-.52 0-1.04.2-1.43.59L10.3 9.45l-7.72 7.72c-.78.78-.78 2.05 0 2.83L4 21.41c.39.39.9.59 1.41.59.51 0 1.02-.2 1.41-.59l7.78-7.78 2.81-2.81c.8-.78.8-2.07 0-2.86zM5.41 20L4 18.59l7.72-7.72 1.47 1.35L5.41 20z\"/>\n",
              "  </svg>\n",
              "      </button>\n",
              "      \n",
              "  <style>\n",
              "    .colab-df-container {\n",
              "      display:flex;\n",
              "      flex-wrap:wrap;\n",
              "      gap: 12px;\n",
              "    }\n",
              "\n",
              "    .colab-df-convert {\n",
              "      background-color: #E8F0FE;\n",
              "      border: none;\n",
              "      border-radius: 50%;\n",
              "      cursor: pointer;\n",
              "      display: none;\n",
              "      fill: #1967D2;\n",
              "      height: 32px;\n",
              "      padding: 0 0 0 0;\n",
              "      width: 32px;\n",
              "    }\n",
              "\n",
              "    .colab-df-convert:hover {\n",
              "      background-color: #E2EBFA;\n",
              "      box-shadow: 0px 1px 2px rgba(60, 64, 67, 0.3), 0px 1px 3px 1px rgba(60, 64, 67, 0.15);\n",
              "      fill: #174EA6;\n",
              "    }\n",
              "\n",
              "    [theme=dark] .colab-df-convert {\n",
              "      background-color: #3B4455;\n",
              "      fill: #D2E3FC;\n",
              "    }\n",
              "\n",
              "    [theme=dark] .colab-df-convert:hover {\n",
              "      background-color: #434B5C;\n",
              "      box-shadow: 0px 1px 3px 1px rgba(0, 0, 0, 0.15);\n",
              "      filter: drop-shadow(0px 1px 2px rgba(0, 0, 0, 0.3));\n",
              "      fill: #FFFFFF;\n",
              "    }\n",
              "  </style>\n",
              "\n",
              "      <script>\n",
              "        const buttonEl =\n",
              "          document.querySelector('#df-dfc91ef4-859f-4168-a9fa-80e2c63a8f72 button.colab-df-convert');\n",
              "        buttonEl.style.display =\n",
              "          google.colab.kernel.accessAllowed ? 'block' : 'none';\n",
              "\n",
              "        async function convertToInteractive(key) {\n",
              "          const element = document.querySelector('#df-dfc91ef4-859f-4168-a9fa-80e2c63a8f72');\n",
              "          const dataTable =\n",
              "            await google.colab.kernel.invokeFunction('convertToInteractive',\n",
              "                                                     [key], {});\n",
              "          if (!dataTable) return;\n",
              "\n",
              "          const docLinkHtml = 'Like what you see? Visit the ' +\n",
              "            '<a target=\"_blank\" href=https://colab.research.google.com/notebooks/data_table.ipynb>data table notebook</a>'\n",
              "            + ' to learn more about interactive tables.';\n",
              "          element.innerHTML = '';\n",
              "          dataTable['output_type'] = 'display_data';\n",
              "          await google.colab.output.renderOutput(dataTable, element);\n",
              "          const docLink = document.createElement('div');\n",
              "          docLink.innerHTML = docLinkHtml;\n",
              "          element.appendChild(docLink);\n",
              "        }\n",
              "      </script>\n",
              "    </div>\n",
              "  </div>\n",
              "  "
            ]
          },
          "metadata": {},
          "execution_count": 275
        }
      ]
    },
    {
      "cell_type": "code",
      "source": [
        "\n",
        "score_card = score_card.sort_values('Test_RMSE').reset_index(drop = True)\n",
        "score_card.style.highlight_min(color = 'red', subset = 'Test_RMSE')"
      ],
      "metadata": {
        "colab": {
          "base_uri": "https://localhost:8080/",
          "height": 614
        },
        "id": "Etxlr8-sLl7u",
        "outputId": "4a271d81-15c0-4ee5-d33a-4891cc798125"
      },
      "execution_count": 276,
      "outputs": [
        {
          "output_type": "execute_result",
          "data": {
            "text/plain": [
              "<pandas.io.formats.style.Styler at 0x7fca713587c0>"
            ],
            "text/html": [
              "<style type=\"text/css\">\n",
              "#T_20caf_row0_col3 {\n",
              "  background-color: red;\n",
              "}\n",
              "</style>\n",
              "<table id=\"T_20caf_\" class=\"dataframe\">\n",
              "  <thead>\n",
              "    <tr>\n",
              "      <th class=\"blank level0\" >&nbsp;</th>\n",
              "      <th class=\"col_heading level0 col0\" >Model_Name</th>\n",
              "      <th class=\"col_heading level0 col1\" >R-Squared</th>\n",
              "      <th class=\"col_heading level0 col2\" >Adj. R-Squared</th>\n",
              "      <th class=\"col_heading level0 col3\" >Test_RMSE</th>\n",
              "      <th class=\"col_heading level0 col4\" >Test_MAPE</th>\n",
              "    </tr>\n",
              "  </thead>\n",
              "  <tbody>\n",
              "    <tr>\n",
              "      <th id=\"T_20caf_level0_row0\" class=\"row_heading level0 row0\" >0</th>\n",
              "      <td id=\"T_20caf_row0_col0\" class=\"data row0 col0\" >Random forest Regression</td>\n",
              "      <td id=\"T_20caf_row0_col1\" class=\"data row0 col1\" >0.987926</td>\n",
              "      <td id=\"T_20caf_row0_col2\" class=\"data row0 col2\" >0.987911</td>\n",
              "      <td id=\"T_20caf_row0_col3\" class=\"data row0 col3\" >97505.658600</td>\n",
              "      <td id=\"T_20caf_row0_col4\" class=\"data row0 col4\" >12.648036</td>\n",
              "    </tr>\n",
              "    <tr>\n",
              "      <th id=\"T_20caf_level0_row1\" class=\"row_heading level0 row1\" >1</th>\n",
              "      <td id=\"T_20caf_row1_col0\" class=\"data row1 col0\" >EXtraBoosting Regression</td>\n",
              "      <td id=\"T_20caf_row1_col1\" class=\"data row1 col1\" >0.996734</td>\n",
              "      <td id=\"T_20caf_row1_col2\" class=\"data row1 col2\" >0.996730</td>\n",
              "      <td id=\"T_20caf_row1_col3\" class=\"data row1 col3\" >102967.262400</td>\n",
              "      <td id=\"T_20caf_row1_col4\" class=\"data row1 col4\" >13.499118</td>\n",
              "    </tr>\n",
              "    <tr>\n",
              "      <th id=\"T_20caf_level0_row2\" class=\"row_heading level0 row2\" >2</th>\n",
              "      <td id=\"T_20caf_row2_col0\" class=\"data row2 col0\" >Gradient boosting  Regression</td>\n",
              "      <td id=\"T_20caf_row2_col1\" class=\"data row2 col1\" >0.919753</td>\n",
              "      <td id=\"T_20caf_row2_col2\" class=\"data row2 col2\" >0.919655</td>\n",
              "      <td id=\"T_20caf_row2_col3\" class=\"data row2 col3\" >105593.232000</td>\n",
              "      <td id=\"T_20caf_row2_col4\" class=\"data row2 col4\" >14.471411</td>\n",
              "    </tr>\n",
              "    <tr>\n",
              "      <th id=\"T_20caf_level0_row3\" class=\"row_heading level0 row3\" >3</th>\n",
              "      <td id=\"T_20caf_row3_col0\" class=\"data row3 col0\" >XG boosting  Regression</td>\n",
              "      <td id=\"T_20caf_row3_col1\" class=\"data row3 col1\" >0.919213</td>\n",
              "      <td id=\"T_20caf_row3_col2\" class=\"data row3 col2\" >0.919115</td>\n",
              "      <td id=\"T_20caf_row3_col3\" class=\"data row3 col3\" >106037.596800</td>\n",
              "      <td id=\"T_20caf_row3_col4\" class=\"data row3 col4\" >14.446401</td>\n",
              "    </tr>\n",
              "    <tr>\n",
              "      <th id=\"T_20caf_level0_row4\" class=\"row_heading level0 row4\" >4</th>\n",
              "      <td id=\"T_20caf_row4_col0\" class=\"data row4 col0\" >Voting Regression</td>\n",
              "      <td id=\"T_20caf_row4_col1\" class=\"data row4 col1\" >0.914832</td>\n",
              "      <td id=\"T_20caf_row4_col2\" class=\"data row4 col2\" >0.914728</td>\n",
              "      <td id=\"T_20caf_row4_col3\" class=\"data row4 col3\" >121019.431000</td>\n",
              "      <td id=\"T_20caf_row4_col4\" class=\"data row4 col4\" >18.946798</td>\n",
              "    </tr>\n",
              "    <tr>\n",
              "      <th id=\"T_20caf_level0_row5\" class=\"row_heading level0 row5\" >5</th>\n",
              "      <td id=\"T_20caf_row5_col0\" class=\"data row5 col0\" >Decision tree Regression</td>\n",
              "      <td id=\"T_20caf_row5_col1\" class=\"data row5 col1\" >0.996736</td>\n",
              "      <td id=\"T_20caf_row5_col2\" class=\"data row5 col2\" >0.996732</td>\n",
              "      <td id=\"T_20caf_row5_col3\" class=\"data row5 col3\" >124928.002200</td>\n",
              "      <td id=\"T_20caf_row5_col4\" class=\"data row5 col4\" >15.307709</td>\n",
              "    </tr>\n",
              "    <tr>\n",
              "      <th id=\"T_20caf_level0_row6\" class=\"row_heading level0 row6\" >6</th>\n",
              "      <td id=\"T_20caf_row6_col0\" class=\"data row6 col0\" >Ridge Regression (with alpha = 2)</td>\n",
              "      <td id=\"T_20caf_row6_col1\" class=\"data row6 col1\" >0.834263</td>\n",
              "      <td id=\"T_20caf_row6_col2\" class=\"data row6 col2\" >0.834062</td>\n",
              "      <td id=\"T_20caf_row6_col3\" class=\"data row6 col3\" >150190.654600</td>\n",
              "      <td id=\"T_20caf_row6_col4\" class=\"data row6 col4\" >24.474341</td>\n",
              "    </tr>\n",
              "    <tr>\n",
              "      <th id=\"T_20caf_level0_row7\" class=\"row_heading level0 row7\" >7</th>\n",
              "      <td id=\"T_20caf_row7_col0\" class=\"data row7 col0\" >Elastic Net Regression (using GridSearchCV)</td>\n",
              "      <td id=\"T_20caf_row7_col1\" class=\"data row7 col1\" >0.834264</td>\n",
              "      <td id=\"T_20caf_row7_col2\" class=\"data row7 col2\" >0.834062</td>\n",
              "      <td id=\"T_20caf_row7_col3\" class=\"data row7 col3\" >150191.026600</td>\n",
              "      <td id=\"T_20caf_row7_col4\" class=\"data row7 col4\" >24.475102</td>\n",
              "    </tr>\n",
              "    <tr>\n",
              "      <th id=\"T_20caf_level0_row8\" class=\"row_heading level0 row8\" >8</th>\n",
              "      <td id=\"T_20caf_row8_col0\" class=\"data row8 col0\" >Ridge Regression (with alpha = 1)</td>\n",
              "      <td id=\"T_20caf_row8_col1\" class=\"data row8 col1\" >0.834264</td>\n",
              "      <td id=\"T_20caf_row8_col2\" class=\"data row8 col2\" >0.834062</td>\n",
              "      <td id=\"T_20caf_row8_col3\" class=\"data row8 col3\" >150191.094000</td>\n",
              "      <td id=\"T_20caf_row8_col4\" class=\"data row8 col4\" >24.475367</td>\n",
              "    </tr>\n",
              "    <tr>\n",
              "      <th id=\"T_20caf_level0_row9\" class=\"row_heading level0 row9\" >9</th>\n",
              "      <td id=\"T_20caf_row9_col0\" class=\"data row9 col0\" >Ridge Regression (using GridSearchCV)</td>\n",
              "      <td id=\"T_20caf_row9_col1\" class=\"data row9 col1\" >0.834264</td>\n",
              "      <td id=\"T_20caf_row9_col2\" class=\"data row9 col2\" >0.834062</td>\n",
              "      <td id=\"T_20caf_row9_col3\" class=\"data row9 col3\" >150191.094000</td>\n",
              "      <td id=\"T_20caf_row9_col4\" class=\"data row9 col4\" >24.475367</td>\n",
              "    </tr>\n",
              "    <tr>\n",
              "      <th id=\"T_20caf_level0_row10\" class=\"row_heading level0 row10\" >10</th>\n",
              "      <td id=\"T_20caf_row10_col0\" class=\"data row10 col0\" >Lasso Regression (using GridSearchCV)</td>\n",
              "      <td id=\"T_20caf_row10_col1\" class=\"data row10 col1\" >0.834264</td>\n",
              "      <td id=\"T_20caf_row10_col2\" class=\"data row10 col2\" >0.834062</td>\n",
              "      <td id=\"T_20caf_row10_col3\" class=\"data row10 col3\" >150191.543100</td>\n",
              "      <td id=\"T_20caf_row10_col4\" class=\"data row10 col4\" >24.476394</td>\n",
              "    </tr>\n",
              "    <tr>\n",
              "      <th id=\"T_20caf_level0_row11\" class=\"row_heading level0 row11\" >11</th>\n",
              "      <td id=\"T_20caf_row11_col0\" class=\"data row11 col0\" >Lasso Regression</td>\n",
              "      <td id=\"T_20caf_row11_col1\" class=\"data row11 col1\" >0.834264</td>\n",
              "      <td id=\"T_20caf_row11_col2\" class=\"data row11 col2\" >0.834062</td>\n",
              "      <td id=\"T_20caf_row11_col3\" class=\"data row11 col3\" >150191.543300</td>\n",
              "      <td id=\"T_20caf_row11_col4\" class=\"data row11 col4\" >24.476393</td>\n",
              "    </tr>\n",
              "    <tr>\n",
              "      <th id=\"T_20caf_level0_row12\" class=\"row_heading level0 row12\" >12</th>\n",
              "      <td id=\"T_20caf_row12_col0\" class=\"data row12 col0\" >Linear Regression</td>\n",
              "      <td id=\"T_20caf_row12_col1\" class=\"data row12 col1\" >0.834248</td>\n",
              "      <td id=\"T_20caf_row12_col2\" class=\"data row12 col2\" >0.834046</td>\n",
              "      <td id=\"T_20caf_row12_col3\" class=\"data row12 col3\" >150228.983100</td>\n",
              "      <td id=\"T_20caf_row12_col4\" class=\"data row12 col4\" >24.506288</td>\n",
              "    </tr>\n",
              "    <tr>\n",
              "      <th id=\"T_20caf_level0_row13\" class=\"row_heading level0 row13\" >13</th>\n",
              "      <td id=\"T_20caf_row13_col0\" class=\"data row13 col0\" >Elastic Net Regression</td>\n",
              "      <td id=\"T_20caf_row13_col1\" class=\"data row13 col1\" >0.828904</td>\n",
              "      <td id=\"T_20caf_row13_col2\" class=\"data row13 col2\" >0.828695</td>\n",
              "      <td id=\"T_20caf_row13_col3\" class=\"data row13 col3\" >152386.896700</td>\n",
              "      <td id=\"T_20caf_row13_col4\" class=\"data row13 col4\" >23.701307</td>\n",
              "    </tr>\n",
              "    <tr>\n",
              "      <th id=\"T_20caf_level0_row14\" class=\"row_heading level0 row14\" >14</th>\n",
              "      <td id=\"T_20caf_row14_col0\" class=\"data row14 col0\" >Adaboost  Regression</td>\n",
              "      <td id=\"T_20caf_row14_col1\" class=\"data row14 col1\" >0.777134</td>\n",
              "      <td id=\"T_20caf_row14_col2\" class=\"data row14 col2\" >0.776862</td>\n",
              "      <td id=\"T_20caf_row14_col3\" class=\"data row14 col3\" >176779.016200</td>\n",
              "      <td id=\"T_20caf_row14_col4\" class=\"data row14 col4\" >31.493318</td>\n",
              "    </tr>\n",
              "    <tr>\n",
              "      <th id=\"T_20caf_level0_row15\" class=\"row_heading level0 row15\" >15</th>\n",
              "      <td id=\"T_20caf_row15_col0\" class=\"data row15 col0\" >Random forest Regression with (using GridseachCV)</td>\n",
              "      <td id=\"T_20caf_row15_col1\" class=\"data row15 col1\" >0.683726</td>\n",
              "      <td id=\"T_20caf_row15_col2\" class=\"data row15 col2\" >0.683341</td>\n",
              "      <td id=\"T_20caf_row15_col3\" class=\"data row15 col3\" >207910.648500</td>\n",
              "      <td id=\"T_20caf_row15_col4\" class=\"data row15 col4\" >37.639238</td>\n",
              "    </tr>\n",
              "    <tr>\n",
              "      <th id=\"T_20caf_level0_row16\" class=\"row_heading level0 row16\" >16</th>\n",
              "      <td id=\"T_20caf_row16_col0\" class=\"data row16 col0\" >Decision tree Regression with (using GridseachCV)</td>\n",
              "      <td id=\"T_20caf_row16_col1\" class=\"data row16 col1\" >0.027065</td>\n",
              "      <td id=\"T_20caf_row16_col2\" class=\"data row16 col2\" >0.025879</td>\n",
              "      <td id=\"T_20caf_row16_col3\" class=\"data row16 col3\" >367703.078900</td>\n",
              "      <td id=\"T_20caf_row16_col4\" class=\"data row16 col4\" >63.301814</td>\n",
              "    </tr>\n",
              "    <tr>\n",
              "      <th id=\"T_20caf_level0_row17\" class=\"row_heading level0 row17\" >17</th>\n",
              "      <td id=\"T_20caf_row17_col0\" class=\"data row17 col0\" >SVR Regression</td>\n",
              "      <td id=\"T_20caf_row17_col1\" class=\"data row17 col1\" >-0.076221</td>\n",
              "      <td id=\"T_20caf_row17_col2\" class=\"data row17 col2\" >-0.077532</td>\n",
              "      <td id=\"T_20caf_row17_col3\" class=\"data row17 col3\" >386984.896800</td>\n",
              "      <td id=\"T_20caf_row17_col4\" class=\"data row17 col4\" >53.159358</td>\n",
              "    </tr>\n",
              "  </tbody>\n",
              "</table>\n"
            ]
          },
          "metadata": {},
          "execution_count": 276
        }
      ]
    },
    {
      "cell_type": "code",
      "source": [
        "import pickle"
      ],
      "metadata": {
        "id": "t2IJJUDALuVk"
      },
      "execution_count": 277,
      "outputs": []
    },
    {
      "cell_type": "code",
      "source": [
        "pickle.dump(pipe,open('scalar.pkl','wb'))"
      ],
      "metadata": {
        "id": "5bR3abhOVrx4"
      },
      "execution_count": 278,
      "outputs": []
    },
    {
      "cell_type": "code",
      "source": [
        "pickle.dump(RF_model,open('model.pkl','wb'))"
      ],
      "metadata": {
        "id": "QIKdro6jiMRm"
      },
      "execution_count": 279,
      "outputs": []
    },
    {
      "cell_type": "code",
      "source": [],
      "metadata": {
        "colab": {
          "base_uri": "https://localhost:8080/"
        },
        "id": "nkP--FlDiZwI",
        "outputId": "32bb7120-1ac6-4184-8ee7-6605e65249da"
      },
      "execution_count": 281,
      "outputs": [
        {
          "output_type": "execute_result",
          "data": {
            "text/plain": [
              "Pipeline(steps=[('columntransformer-1',\n",
              "                 ColumnTransformer(remainder='passthrough',\n",
              "                                   transformers=[('onehot',\n",
              "                                                  OneHotEncoder(handle_unknown='ignore',\n",
              "                                                                sparse=False),\n",
              "                                                  [2, 3, 4])])),\n",
              "                ('columntransformer-2',\n",
              "                 ColumnTransformer(transformers=[('scale', StandardScaler(),\n",
              "                                                  slice(1, 20, None))]))])"
            ]
          },
          "metadata": {},
          "execution_count": 281
        }
      ]
    },
    {
      "cell_type": "code",
      "source": [],
      "metadata": {
        "id": "ZPhr4uBuidcs"
      },
      "execution_count": null,
      "outputs": []
    }
  ]
}